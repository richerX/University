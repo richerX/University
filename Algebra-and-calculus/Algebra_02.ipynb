{
 "cells": [
  {
   "cell_type": "markdown",
   "metadata": {},
   "source": [
    "# Практическое занятие 2\n",
    "# Алгебра"
   ]
  },
  {
   "cell_type": "markdown",
   "metadata": {},
   "source": [
    "## Матрицы. Подстановки. Формулы Крамера для решения СЛАУ.\n",
    "https://docs.sympy.org/latest/tutorial/matrices.html"
   ]
  },
  {
   "cell_type": "code",
   "execution_count": 1,
   "metadata": {},
   "outputs": [],
   "source": [
    "#https://www.sympy.org/en/index.html\n",
    "# sympy - модуль для символьных преобразований\n",
    "from sympy import *"
   ]
  },
  {
   "cell_type": "markdown",
   "metadata": {},
   "source": [
    "### Задание 1\n",
    "Решить по формулам Крамера СЛАУ \n",
    "\\begin{align*}\n",
    "\\left\\{\\begin{matrix} 2 x_{1} +  x_{3}  = -8\n",
    "\\\\- 4 x_{1} + 5 x_{2}  = 20\n",
    "\\\\- 6 x_{2} + x_{3}  = 2\n",
    "\\end{matrix}\\right.\n",
    " \\end{align*}\n",
    "Проверить правильность найденного решения подстановкой (в математическом смысле! subs не нужно использовать). "
   ]
  },
  {
   "cell_type": "code",
   "execution_count": 2,
   "metadata": {},
   "outputs": [
    {
     "name": "stdout",
     "output_type": "stream",
     "text": [
      "3\n"
     ]
    },
    {
     "data": {
      "text/latex": [
       "$\\displaystyle \\left[\\begin{matrix}-5\\\\0\\\\2\\end{matrix}\\right]$"
      ],
      "text/plain": [
       "Matrix([\n",
       "[-5],\n",
       "[ 0],\n",
       "[ 2]])"
      ]
     },
     "metadata": {},
     "output_type": "display_data"
    },
    {
     "data": {
      "text/latex": [
       "$\\displaystyle \\left[\\begin{matrix}0\\\\0\\\\0\\end{matrix}\\right]$"
      ],
      "text/plain": [
       "Matrix([\n",
       "[0],\n",
       "[0],\n",
       "[0]])"
      ]
     },
     "metadata": {},
     "output_type": "display_data"
    }
   ],
   "source": [
    "A = Matrix([[2, 0, 1], [-4, 5, 0], [0, 6, 1]])\n",
    "b = Matrix([-8, 20, 2])\n",
    "X = Matrix([0, 0, 0])\n",
    "for i in range(A.shape[0]):\n",
    "    Ai = A.copy()\n",
    "    Ai.col_del(i)\n",
    "    X[i] = Ai.col_insert(i, b).det()/A.det()\n",
    "display(X, A*X - b)  "
   ]
  },
  {
   "cell_type": "markdown",
   "metadata": {},
   "source": [
    "### Задание 2\n",
    "Решить по формулам Крамера СЛАУ с параметром\n",
    "\\begin{align*}\n",
    "\\left\\{\\begin{matrix} a x_{1} + 2 x_{2}  = -7\n",
    "\\\\- 4 x_{1} + 5 x_{2} + 3 x_{3} = 9\n",
    "\\\\ 3 x_{1} + x_{3}  = 2\n",
    "\\end{matrix}\\right.\n",
    " \\end{align*}\n",
    "Проверить правильность найденного решения подстановкой.\n",
    "\n",
    "Составить матрицу $S$, столбцы которой являются решениями данной СЛАУ при $a = -1, 0, 3$.\n",
    "\n",
    "#### Указание. \n",
    "Оформить решение по формулам Крамера в виде функции.\n",
    "\n",
    "Параметр $a$ описать как символ.\n",
    "\n",
    "Использовать подстановки subs для построения матриц данной СЛАУ при $a = -1, 0, 3$ на основе матрицы с параметром.\n",
    "\n",
    "Воспользоваться simplify для того, чтобы упростить выражение при проверке."
   ]
  },
  {
   "cell_type": "code",
   "execution_count": 14,
   "metadata": {},
   "outputs": [
    {
     "data": {
      "text/latex": [
       "$\\displaystyle \\left[\\begin{matrix}- \\frac{41}{21} & - \\frac{41}{26} & -1\\\\- \\frac{94}{21} & - \\frac{7}{2} & -2\\\\\\frac{55}{7} & \\frac{175}{26} & 5\\end{matrix}\\right]$"
      ],
      "text/plain": [
       "Matrix([\n",
       "[-41/21, -41/26, -1],\n",
       "[-94/21,   -7/2, -2],\n",
       "[  55/7, 175/26,  5]])"
      ]
     },
     "metadata": {},
     "output_type": "display_data"
    }
   ],
   "source": [
    "def cramer(a_num):\n",
    "    a = Symbol(\"a\")\n",
    "    A = Matrix([[a, 2, 0], [-4, 5, 3], [3, 0, 1]])\n",
    "    b = Matrix([-7, 9, 2])\n",
    "    X = Matrix([0, 0, 0])\n",
    "    A = A.subs([(a, a_num)])\n",
    "    for i in range(A.shape[0]):\n",
    "        Ai = A.copy()\n",
    "        Ai.col_del(i)\n",
    "        X[i] = Ai.col_insert(i, b).det()/A.det()\n",
    "    return X\n",
    "    \n",
    "S = Matrix([[0, 0, 0], [0, 0, 0], [0, 0, 0]])\n",
    "elems = [-1, 0, 3]\n",
    "for i in range(3):\n",
    "    S[i] = cramer(elems[i])\n",
    "display(simplify(S))"
   ]
  },
  {
   "cell_type": "markdown",
   "metadata": {},
   "source": [
    "### Задание 3.\n",
    "Решить по формулам Крамера СЛАУ с параметрами\n",
    "\\begin{align*}\n",
    "\\left\\{\\begin{matrix} x_{1} + a_{12} x_{2}  = b_1\n",
    "\\\\ x_{1} + a_{22} x_{2}  = b_2\n",
    "\\end{matrix}\\right.\n",
    "\\end{align*}\n",
    "Проверить правильность найденного решения подстановкой.\n",
    "\n",
    "Найти такие наборы параметров, для которых полученное решение неприменимо (подсказка - из-за деления на ноль).\n",
    "\n",
    "Показать, что для этих наборов определитель матрицы левой части равен нулю, использовать подстановки subs."
   ]
  },
  {
   "cell_type": "code",
   "execution_count": 11,
   "metadata": {},
   "outputs": [
    {
     "data": {
      "text/latex": [
       "$\\displaystyle \\left[\\begin{matrix}\\frac{- a_{12} b_{2} + a_{21} b_{1}}{- a_{12} + a_{21}}\\\\\\frac{- b_{1} + b_{2}}{- a_{12} + a_{21}}\\end{matrix}\\right]$"
      ],
      "text/plain": [
       "Matrix([\n",
       "[(-a12*b2 + a21*b1)/(-a12 + a21)],\n",
       "[        (-b1 + b2)/(-a12 + a21)]])"
      ]
     },
     "metadata": {},
     "output_type": "display_data"
    },
    {
     "data": {
      "text/latex": [
       "$\\displaystyle \\left[\\begin{matrix}0\\\\0\\end{matrix}\\right]$"
      ],
      "text/plain": [
       "Matrix([\n",
       "[0],\n",
       "[0]])"
      ]
     },
     "metadata": {},
     "output_type": "display_data"
    },
    {
     "name": "stdout",
     "output_type": "stream",
     "text": [
      "Если a12=a21, решений нет\n"
     ]
    },
    {
     "data": {
      "text/latex": [
       "$\\displaystyle 0$"
      ],
      "text/plain": [
       "0"
      ]
     },
     "metadata": {},
     "output_type": "display_data"
    }
   ],
   "source": [
    "a1, b1, a2, b2 = symbols(\"a12 b1 a21 b2\")\n",
    "A = Matrix([[1, a1], [1, a2]])\n",
    "b = Matrix([b1, b2])\n",
    "X = Matrix([0, 0])\n",
    "for i in range(A.shape[0]):\n",
    "    Ai = A.copy()\n",
    "    Ai.col_del(i)\n",
    "    X[i] = Ai.col_insert(i, b).det()/A.det()\n",
    "display(X, simplify(A*X - b))\n",
    "print(f\"Если {a1}={a2}, решений нет\")\n",
    "\n",
    "display(A.subs([(a1, a1), (a2, a1)]).det())"
   ]
  },
  {
   "cell_type": "markdown",
   "metadata": {},
   "source": [
    "### Задание 4.\n",
    "Дана матрица \n",
    "\\begin{align*}\n",
    "M =\n",
    "\\left(\\begin{matrix} \n",
    "p & 1 & 0 \\\\\n",
    "1 & q & 1 \\\\\n",
    "0 & 1 & r\n",
    "\\end{matrix}\\right)\n",
    "\\end{align*}\n",
    "Вычислить определитель этой матрицы.\n",
    "Найти целочисленные наборы параметров $p$, $q$, $r$, для которых определитель $M$ равен нулю. Рассматривать целые числа до 12 (НЕ включительно). Использовать подстановки subs в заранее вычисленный определитель.\n",
    "\n",
    "Из найденных наборов как столбцов составить матрицу."
   ]
  },
  {
   "cell_type": "code",
   "execution_count": 43,
   "metadata": {},
   "outputs": [
    {
     "name": "stdout",
     "output_type": "stream",
     "text": [
      "p = 0, q = 0, r = 0\n",
      "p = 0, q = 1, r = 0\n",
      "p = 0, q = 2, r = 0\n",
      "p = 0, q = 3, r = 0\n",
      "p = 0, q = 4, r = 0\n",
      "p = 0, q = 5, r = 0\n",
      "p = 0, q = 6, r = 0\n",
      "p = 0, q = 7, r = 0\n",
      "p = 0, q = 8, r = 0\n",
      "p = 0, q = 9, r = 0\n",
      "p = 0, q = 10, r = 0\n",
      "p = 0, q = 11, r = 0\n",
      "p = 1, q = 2, r = 1\n",
      "p = 2, q = 1, r = 2\n"
     ]
    }
   ],
   "source": [
    "p, q, r = symbols(\"p q r\")\n",
    "M = Matrix([[p, 1, 0], [1, q, 1], [0, 1, r]])\n",
    "determinant = M.det()\n",
    "for p_sub in range(12):\n",
    "    for q_sub in range(12):\n",
    "        for r_sub in range(12):\n",
    "            current_determinant = determinant.subs([(p, p_sub), (q, q_sub), (r, r_sub)])\n",
    "            if current_determinant == 0:\n",
    "                print(f\"p = {p_sub}, q = {q_sub}, r = {r_sub}\")"
   ]
  },
  {
   "cell_type": "markdown",
   "metadata": {},
   "source": [
    "### Индивидуальное задание.\n",
    "В данной матрице выполнить заданные подстановки,\n",
    "результат каждой подстановки выводить в виде отдельной матрицы."
   ]
  },
  {
   "cell_type": "markdown",
   "metadata": {},
   "source": [
    "# Номер варианта - 36"
   ]
  },
  {
   "cell_type": "code",
   "execution_count": 6,
   "metadata": {},
   "outputs": [
    {
     "data": {
      "text/latex": [
       "$\\displaystyle \\left[\\begin{matrix}1 & -2 & -7 & 3 & 5\\\\6 & 0 & 0 & 8 & 7\\\\10 & 9 & 1 & 0 & 0\\\\9 & 7 & 7 & -3 & 2\\end{matrix}\\right]$"
      ],
      "text/plain": [
       "Matrix([\n",
       "[ 1, -2, -7,  3, 5],\n",
       "[ 6,  0,  0,  8, 7],\n",
       "[10,  9,  1,  0, 0],\n",
       "[ 9,  7,  7, -3, 2]])"
      ]
     },
     "metadata": {},
     "output_type": "display_data"
    },
    {
     "data": {
      "text/latex": [
       "$\\displaystyle \\left[\\begin{matrix}1 & -2 & -7 & 3 & 5\\\\10 & 0 & 0 & 6 & 7\\\\10 & 8 & 1 & 0 & 0\\\\9 & 7 & 8 & -3 & 2\\end{matrix}\\right]$"
      ],
      "text/plain": [
       "Matrix([\n",
       "[ 1, -2, -7,  3, 5],\n",
       "[10,  0,  0,  6, 7],\n",
       "[10,  8,  1,  0, 0],\n",
       "[ 9,  7,  8, -3, 2]])"
      ]
     },
     "metadata": {},
     "output_type": "display_data"
    },
    {
     "data": {
      "text/latex": [
       "$\\displaystyle \\left[\\begin{matrix}1 & -2 & -7 & 3 & 5\\\\8 & 0 & 0 & 8 & 7\\\\9 & 7 & 1 & 0 & 0\\\\9 & 7 & 6 & -3 & 2\\end{matrix}\\right]$"
      ],
      "text/plain": [
       "Matrix([\n",
       "[1, -2, -7,  3, 5],\n",
       "[8,  0,  0,  8, 7],\n",
       "[9,  7,  1,  0, 0],\n",
       "[9,  7,  6, -3, 2]])"
      ]
     },
     "metadata": {},
     "output_type": "display_data"
    },
    {
     "data": {
      "text/latex": [
       "$\\displaystyle \\left[\\begin{matrix}1 & -2 & -7 & 3 & 5\\\\10 & 0 & 0 & 10 & 7\\\\6 & 8 & 1 & 0 & 0\\\\9 & 7 & 7 & -3 & 2\\end{matrix}\\right]$"
      ],
      "text/plain": [
       "Matrix([\n",
       "[ 1, -2, -7,  3, 5],\n",
       "[10,  0,  0, 10, 7],\n",
       "[ 6,  8,  1,  0, 0],\n",
       "[ 9,  7,  7, -3, 2]])"
      ]
     },
     "metadata": {},
     "output_type": "display_data"
    }
   ],
   "source": [
    "u1, u2, u3, u4, u5 = symbols(\"u1 u2 u3 u4 u5\")\n",
    "matrix = Matrix([[1, -2, -7, 3, 5], [u5, 0, 0, u2, 7], [u1, u4, 1, 0, 0], [9, 7, u3, -3, 2]])\n",
    "display(matrix.subs([(u1, 10), (u2, 8), (u3, 7), (u4, 9), (u5, 6)]))\n",
    "display(matrix.subs([(u1, 10), (u2, 6), (u3, 8), (u4, 8), (u5, 10)]))\n",
    "display(matrix.subs([(u1, 9), (u2, 8), (u3, 6), (u4, 7), (u5, 8)]))\n",
    "display(matrix.subs([(u1, 6), (u2, 10), (u3, 7), (u4, 8), (u5, 10)]))"
   ]
  },
  {
   "cell_type": "code",
   "execution_count": null,
   "metadata": {},
   "outputs": [],
   "source": []
  }
 ],
 "metadata": {
  "kernelspec": {
   "display_name": "Python 3",
   "language": "python",
   "name": "python3"
  },
  "language_info": {
   "codemirror_mode": {
    "name": "ipython",
    "version": 3
   },
   "file_extension": ".py",
   "mimetype": "text/x-python",
   "name": "python",
   "nbconvert_exporter": "python",
   "pygments_lexer": "ipython3",
   "version": "3.8.1"
  }
 },
 "nbformat": 4,
 "nbformat_minor": 4
}
