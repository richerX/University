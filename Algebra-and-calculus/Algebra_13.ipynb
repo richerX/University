{
 "cells": [
  {
   "cell_type": "code",
   "execution_count": null,
   "metadata": {},
   "outputs": [],
   "source": [
    "import sympy\n",
    "from sympy import Eq, S, latex, plot_implicit, Matrix, symbols, simplify, expand, collect, solve, solveset\n",
    "from sympy import pi as Pi\n",
    "from sympy import cos as Cos\n",
    "from sympy import sin as Sin\n",
    "from sympy import sqrt\n",
    "import matplotlib.pyplot as plt\n",
    "%matplotlib inline"
   ]
  },
  {
   "cell_type": "markdown",
   "metadata": {},
   "source": [
    "# Занятие 13\n",
    "# Алгебра\n",
    "### Задание 1.\n",
    "Составить матрицу квадратичной формы $7x^2+10\\sqrt{3}xy-3y^2−20z^2$, проверить, что она определяет именно заданное уравнение. Найти и вывести на экран собственные числа и собственные векторы матрицы квадратичной формы. "
   ]
  },
  {
   "cell_type": "code",
   "execution_count": 7,
   "metadata": {},
   "outputs": [
    {
     "data": {
      "text/latex": [
       "$\\displaystyle \\left[\\begin{matrix}x\\\\y\\\\z\\end{matrix}\\right]$"
      ],
      "text/plain": [
       "Matrix([\n",
       "[x],\n",
       "[y],\n",
       "[z]])"
      ]
     },
     "metadata": {},
     "output_type": "display_data"
    },
    {
     "data": {
      "text/latex": [
       "$\\displaystyle \\left[\\begin{matrix}7 x^{2} + 10 \\sqrt{3} x y - 3 y^{2} - 20 z^{2}\\end{matrix}\\right]$"
      ],
      "text/plain": [
       "Matrix([[7*x**2 + 10*sqrt(3)*x*y - 3*y**2 - 20*z**2]])"
      ]
     },
     "metadata": {},
     "output_type": "display_data"
    },
    {
     "data": {
      "text/latex": [
       "$\\displaystyle 0$"
      ],
      "text/plain": [
       "0"
      ]
     },
     "metadata": {},
     "output_type": "display_data"
    },
    {
     "name": "stdout",
     "output_type": "stream",
     "text": [
      "собственное число -20 кратность 1 собственный вектор\n"
     ]
    },
    {
     "data": {
      "text/latex": [
       "$\\displaystyle \\left[\\begin{matrix}0\\\\0\\\\1\\end{matrix}\\right]$"
      ],
      "text/plain": [
       "Matrix([\n",
       "[0],\n",
       "[0],\n",
       "[1]])"
      ]
     },
     "metadata": {},
     "output_type": "display_data"
    },
    {
     "name": "stdout",
     "output_type": "stream",
     "text": [
      "собственное число -8 кратность 1 собственный вектор\n"
     ]
    },
    {
     "data": {
      "text/latex": [
       "$\\displaystyle \\left[\\begin{matrix}- \\frac{\\sqrt{3}}{3}\\\\1\\\\0\\end{matrix}\\right]$"
      ],
      "text/plain": [
       "Matrix([\n",
       "[-sqrt(3)/3],\n",
       "[         1],\n",
       "[         0]])"
      ]
     },
     "metadata": {},
     "output_type": "display_data"
    },
    {
     "name": "stdout",
     "output_type": "stream",
     "text": [
      "собственное число 12 кратность 1 собственный вектор\n"
     ]
    },
    {
     "data": {
      "text/latex": [
       "$\\displaystyle \\left[\\begin{matrix}\\sqrt{3}\\\\1\\\\0\\end{matrix}\\right]$"
      ],
      "text/plain": [
       "Matrix([\n",
       "[sqrt(3)],\n",
       "[      1],\n",
       "[      0]])"
      ]
     },
     "metadata": {},
     "output_type": "display_data"
    },
    {
     "data": {
      "text/latex": [
       "$\\displaystyle \\left[\\begin{matrix}0 & - \\frac{1}{2} & \\frac{\\sqrt{3}}{2}\\\\0 & \\frac{\\sqrt{3}}{2} & \\frac{1}{2}\\\\1 & 0 & 0\\end{matrix}\\right]$"
      ],
      "text/plain": [
       "Matrix([\n",
       "[0,      -1/2, sqrt(3)/2],\n",
       "[0, sqrt(3)/2,       1/2],\n",
       "[1,         0,         0]])"
      ]
     },
     "metadata": {},
     "output_type": "display_data"
    }
   ],
   "source": [
    "from sympy.abc import x, y, z\n",
    "\n",
    "u = 7*x**2 - 3*y**2 - 20*z**2 + 10*sqrt(3)*x*y\n",
    "A = Matrix([[7, 5*sqrt(3), 0], [5*sqrt(3), -3, 0], [0, 0, -20]])\n",
    "X = Matrix([x, y, z])\n",
    "res = simplify(expand(X.T*A*X))\n",
    "display(X, res, res[0] - u)\n",
    "\n",
    "ev = A.eigenvects()#собственные векторы матрицы $A$\n",
    "P = Matrix([])\n",
    "for item in ev:\n",
    "    degree = item[1]\n",
    "    print('собственное число', item[0], 'кратность', degree, 'собственный вектор')\n",
    "    for i in range(degree): # это на случай кратных собственных чисел\n",
    "        e_i = item[2][i]\n",
    "        display(e_i)\n",
    "        P = P.row_join(e_i.normalized()) # нормируем собственные векторы матрицы $A$\n",
    "display(P)"
   ]
  },
  {
   "cell_type": "markdown",
   "metadata": {},
   "source": [
    "### Задание 2.\n",
    "Привести квадратичную форму Примера 1 к каноническому виду с помощью перехода к новому базису из собственных векторов."
   ]
  },
  {
   "cell_type": "code",
   "execution_count": 12,
   "metadata": {},
   "outputs": [
    {
     "data": {
      "text/latex": [
       "$\\displaystyle \\left[\\begin{matrix}7 & 5 \\sqrt{3} & 0\\\\5 \\sqrt{3} & -3 & 0\\\\0 & 0 & -20\\end{matrix}\\right]$"
      ],
      "text/plain": [
       "Matrix([\n",
       "[        7, 5*sqrt(3),   0],\n",
       "[5*sqrt(3),        -3,   0],\n",
       "[        0,         0, -20]])"
      ]
     },
     "metadata": {},
     "output_type": "display_data"
    },
    {
     "data": {
      "text/latex": [
       "$\\displaystyle \\left[\\begin{matrix}0 & - \\frac{\\sqrt{3}}{3} & \\sqrt{3}\\\\0 & 1 & 1\\\\1 & 0 & 0\\end{matrix}\\right]$"
      ],
      "text/plain": [
       "Matrix([\n",
       "[0, -sqrt(3)/3, sqrt(3)],\n",
       "[0,          1,       1],\n",
       "[1,          0,       0]])"
      ]
     },
     "metadata": {},
     "output_type": "display_data"
    },
    {
     "data": {
      "text/latex": [
       "$\\displaystyle \\left[\\begin{matrix}-20 & 0 & 0\\\\0 & -8 & 0\\\\0 & 0 & 12\\end{matrix}\\right]$"
      ],
      "text/plain": [
       "Matrix([\n",
       "[-20,  0,  0],\n",
       "[  0, -8,  0],\n",
       "[  0,  0, 12]])"
      ]
     },
     "metadata": {},
     "output_type": "display_data"
    }
   ],
   "source": [
    "A = Matrix([[7, 5*sqrt(3), 0], [5*sqrt(3), -3, 0], [0, 0, -20]])\n",
    "P = Matrix([vector[2][0].transpose() for vector in A.eigenvects()]).transpose()\n",
    "A_new = P**(-1)*A*P\n",
    "display(A, P, A_new)"
   ]
  },
  {
   "cell_type": "markdown",
   "metadata": {},
   "source": [
    "### Задание 3.\n",
    "Определить тип кривой второго порядка, заданной уравнением\n",
    "$$\n",
    "97x^2 - 144xy + 97y^2 + 482x - 532y = 3452\n",
    "$$\n",
    "Построить в одной координатной плоскости график заданного уравнения и канонического уравнения соответствующей кривой, каноническое уравнение сделать названием графика. "
   ]
  },
  {
   "cell_type": "code",
   "execution_count": 59,
   "metadata": {},
   "outputs": [
    {
     "data": {
      "image/png": "[encoded data removed]",
      "text/plain": [
       "<Figure size 432x288 with 1 Axes>"
      ]
     },
     "metadata": {
      "needs_background": "light"
     },
     "output_type": "display_data"
    }
   ],
   "source": [
    "from sympy.abc import x, y, z, X, Y, Z\n",
    "\n",
    "# Вводим данные\n",
    "A3 = Matrix([[97, -72, 241], [-72, 97, -266], [241, -266, -3452]])\n",
    "X3 = Matrix([x, y, 1])\n",
    "# display(A3, X3)\n",
    "\n",
    "# Выводим уравнение, чтобы проверить, что данные введены правильно\n",
    "eq3 = Eq(simplify(expand(X3.transpose()*A3*X3))[0], 0)\n",
    "# display(eq3)\n",
    "\n",
    "# Состовляем матрицу поворота\n",
    "alpha = sympy.acot((A3[0, 0] - A3[1, 1])/(2*A3[0, 1]))/2\n",
    "P = Matrix([[Cos(alpha), -Sin(alpha), 0], [Sin(alpha), Cos(alpha), 0], [0, 0, 1]])\n",
    "# display(P)\n",
    "\n",
    "# Поворот\n",
    "A3 = simplify(expand((P.transpose()*A3*P)))\n",
    "# display(A3)\n",
    "\n",
    "# Матрица после поворота\n",
    "X3 = Matrix((X, Y, 1))\n",
    "simplify(expand((X3.T*A3*X3)[0]))\n",
    "\n",
    "# Перенос начала координат\n",
    "X3_new = Matrix((X - A3[0, 2]/A3[0, 0], Y - A3[1, 2]/A3[1, 1], 1))\n",
    "eq3_new = simplify(expand(X3_new.T*A3*X3_new))[0]\n",
    "# display(X3_new, eq3_new)\n",
    "\n",
    "# Переносим свободынй член в правую часть\n",
    "free = eq3_new.subs({X: 0, Y: 0})\n",
    "eq3_last = eq3_new/(-free) + 1\n",
    "Eq(eq3_last, 1)\n",
    "\n",
    "# Замена переменных для графика\n",
    "eq3_last_xy = Eq(eq3_last.subs({X: x, Y: y}), 1)\n",
    "# display(eq3_last_xy)\n",
    "\n",
    "# График\n",
    "p = plot_implicit(eq3, line_color='g', aspect_ratio=(1, 1), xlabel='$x$', ylabel='$y$', \n",
    "                  title=latex(eq3_last_xy, mode='inline') + '\\n', adaptive=False, show=False,\n",
    "                  x_var = (x, -15, 15), y_var = (y, -15, 15))\n",
    "p.extend(plot_implicit(eq3_last_xy, line_color='m', aspect_ratio=(1, 1), adaptive=False, show=False, x_var = (x, -15, 15), y_var = (y, -15, 15)))\n",
    "p.show()"
   ]
  },
  {
   "cell_type": "markdown",
   "metadata": {},
   "source": [
    "### Задание 4.\n",
    "Определить тип кривой второго порядка, заданной уравнением\n",
    "$$\n",
    "x^2+2xy+y^2-4x+4y=4\n",
    "$$\n",
    "Построить в одной координатной плоскости график заданного уравнения и канонического уравнения соответствующей кривой, каноническое уравнение сделать названием графика. \n",
    "\n",
    "Указание: каноническое уравнение параболы $y^2 = 2px$ или $x^2 = 2py$; для того, чтобы выразить $x$ или $y$ можно воспользоваться solve или solveset."
   ]
  },
  {
   "cell_type": "code",
   "execution_count": 91,
   "metadata": {},
   "outputs": [
    {
     "data": {
      "image/png": "[encoded data removed]",
      "text/plain": [
       "<Figure size 432x288 with 1 Axes>"
      ]
     },
     "metadata": {
      "needs_background": "light"
     },
     "output_type": "display_data"
    }
   ],
   "source": [
    "from sympy.abc import x, y, z, X, Y, Z\n",
    "\n",
    "# Вводим данные\n",
    "A3 = Matrix([[1, 1, -2], [1, 1, 2], [-2, 2, -4]])\n",
    "X3 = Matrix([x, y, 1])\n",
    "# display(A3, X3)\n",
    "\n",
    "# Выводим уравнение, чтобы проверить, что данные введены правильно\n",
    "eq3 = Eq(simplify(expand(X3.transpose()*A3*X3))[0], 0)\n",
    "# display(eq3)\n",
    "\n",
    "# Состовляем матрицу поворота\n",
    "alpha = sympy.acot((A3[0, 0] - A3[1, 1])/(2*A3[0, 1]))/2\n",
    "P = Matrix([[Cos(alpha), -Sin(alpha), 0], [Sin(alpha), Cos(alpha), 0], [0, 0, 1]])\n",
    "# display(P)\n",
    "\n",
    "# Поворот\n",
    "A3 = simplify(expand((P.transpose()*A3*P)))\n",
    "# display(A3)\n",
    "\n",
    "# Матрица после поворота\n",
    "X3 = Matrix((X, Y, 1))\n",
    "simplify(expand((X3.T*A3*X3)[0]))\n",
    "\n",
    "# Перенос начала координат\n",
    "X3_new = Matrix((X - A3[0, 2]/A3[0, 0], Y, 1))\n",
    "eq3_new = simplify(expand(X3_new.T*A3*X3_new))[0]\n",
    "# display(X3_new, eq3_new)\n",
    "\n",
    "# Переносим свободынй член в правую часть\n",
    "free = eq3_new.subs({X: 0, Y: 0})\n",
    "eq3_last = eq3_new/(-free) + 1\n",
    "Eq(eq3_last, 1)\n",
    "\n",
    "# Замена переменных для графика\n",
    "eq3_last_xy = Eq(eq3_last.subs({X: x, Y: y}), 1)\n",
    "# display(eq3_last_xy)\n",
    "\n",
    "# График\n",
    "xlim = (x, -10, 10)\n",
    "ylim = (y, -10, 5)\n",
    "p = plot_implicit(eq3, line_color='g', aspect_ratio=(1, 1), xlabel='$x$', ylabel='$y$', \n",
    "                  title=latex(eq3_last_xy, mode='inline') + '\\n', adaptive=False, show=False,\n",
    "                  x_var = xlim, y_var = ylim)\n",
    "p.extend(plot_implicit(eq3_last_xy, line_color='m', aspect_ratio=(1, 1), adaptive=False, show=False, x_var = xlim, y_var = ylim))\n",
    "p.show()"
   ]
  },
  {
   "cell_type": "markdown",
   "metadata": {},
   "source": [
    "###  Индивидуальное задание\n",
    "Составить матрицу квадратичной формы и привести ее к каноническому виду с помощью перехода к новому базису из собственных векторов. Векторы выводить на экран не нужно. Вывести на экран матрицу в исходном виде и канонической форме, а также саму квадратичную форму в каноническом виде."
   ]
  },
  {
   "cell_type": "markdown",
   "metadata": {},
   "source": [
    "Вариант N36\n",
    "\n",
    "$$Q = 9879 x^{2} - 80 \\sqrt{6} x y + 2984 \\sqrt{6} x z - 5725 y^{2} + 960 y z - 7279 z^{2}$$"
   ]
  },
  {
   "cell_type": "code",
   "execution_count": 66,
   "metadata": {},
   "outputs": [
    {
     "data": {
      "text/latex": [
       "$\\displaystyle \\left[\\begin{matrix}9879 & - 40 \\sqrt{6} & 1492 \\sqrt{6}\\\\- 40 \\sqrt{6} & -5725 & 480\\\\1492 \\sqrt{6} & 480 & -7279\\end{matrix}\\right]$"
      ],
      "text/plain": [
       "Matrix([\n",
       "[        9879, -40*sqrt(6), 1492*sqrt(6)],\n",
       "[ -40*sqrt(6),       -5725,          480],\n",
       "[1492*sqrt(6),         480,        -7279]])"
      ]
     },
     "metadata": {},
     "output_type": "display_data"
    },
    {
     "data": {
      "text/latex": [
       "$\\displaystyle \\left[\\begin{matrix}- \\frac{\\sqrt{6}}{12} & - \\frac{\\sqrt{6}}{12} & 2 \\sqrt{6}\\\\- \\frac{5}{24} & 5 & 0\\\\1 & 1 & 1\\end{matrix}\\right]$"
      ],
      "text/plain": [
       "Matrix([\n",
       "[-sqrt(6)/12, -sqrt(6)/12, 2*sqrt(6)],\n",
       "[      -5/24,           5,         0],\n",
       "[          1,           1,         1]])"
      ]
     },
     "metadata": {},
     "output_type": "display_data"
    },
    {
     "data": {
      "text/latex": [
       "$\\displaystyle \\left[\\begin{matrix}-8125 & 0 & 0\\\\0 & -5625 & 0\\\\0 & 0 & 10625\\end{matrix}\\right]$"
      ],
      "text/plain": [
       "Matrix([\n",
       "[-8125,     0,     0],\n",
       "[    0, -5625,     0],\n",
       "[    0,     0, 10625]])"
      ]
     },
     "metadata": {},
     "output_type": "display_data"
    }
   ],
   "source": [
    "A = Matrix([[9879, -40*sqrt(6), 1492*sqrt(6)], [-40*sqrt(6), -5725, 480], [1492*sqrt(6), 480, -7279]])\n",
    "P = Matrix([vector[2][0].transpose() for vector in A.eigenvects()]).transpose()\n",
    "A_new = P**(-1)*A*P\n",
    "display(A, P, A_new)"
   ]
  },
  {
   "cell_type": "code",
   "execution_count": null,
   "metadata": {},
   "outputs": [],
   "source": []
  }
 ],
 "metadata": {
  "kernelspec": {
   "display_name": "Python 3",
   "language": "python",
   "name": "python3"
  },
  "language_info": {
   "codemirror_mode": {
    "name": "ipython",
    "version": 3
   },
   "file_extension": ".py",
   "mimetype": "text/x-python",
   "name": "python",
   "nbconvert_exporter": "python",
   "pygments_lexer": "ipython3",
   "version": "3.8.1"
  }
 },
 "nbformat": 4,
 "nbformat_minor": 4
}
