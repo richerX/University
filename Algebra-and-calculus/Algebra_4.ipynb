{
  "cells": [
    {
      "cell_type": "code",
      "execution_count": null,
      "metadata": {
        "id": "-oiW7YJtvpQX"
      },
      "outputs": [],
      "source": [
        "import sympy\n",
        "from sympy import Eq, S, Matrix, symbols, Symbol, simplify, expand, collect, solve, solveset, zeros, ones\n",
        "from sympy import pi as Pi\n",
        "from sympy import cos as Cos\n",
        "from sympy import sin as Sin\n",
        "from sympy import sqrt\n",
        "from sympy.plotting.plot import plot3d\n",
        "import matplotlib.pyplot as plt\n",
        "%matplotlib inline"
      ]
    },
    {
      "cell_type": "markdown",
      "metadata": {
        "id": "CDPO7u1YvpQY"
      },
      "source": [
        "# Занятие 17\n",
        "# Алгебра\n",
        "## Поверхности второго порядка\n",
        "### Задание 1.\n",
        "Составить в матричном виде двумя способами уравнение поверхности второго порядка $4x^2-24xy+8\\sqrt3 xz-7y^2+10\\sqrt3 yz+3z^2-4 = 0$. Привести уравнение поверхности второго порядка к каноническому виду с помощью перехода к новому базису. Вывести на экран каноническое уравнение."
      ]
    },
    {
      "cell_type": "markdown",
      "metadata": {
        "id": "QdFcv1gxvpQZ"
      },
      "source": [
        "------------- Классная работа -------------       \n",
        "Записать уравнение поверхности второго порядка $x^2-2y^2-z^2+2xy+4xz+6x-8y+4z-12=0$ в матричном виде двумя способами.\n",
        "Вначале построим матрицу $A$ квадратичной формы, входящей в уравнение, и вектор $b$: $$\n",
        "A=\\left(\\begin{matrix}1&1&2\\\\1&-2&0\\\\2&0&-1\\end{matrix}\\right),\\quad b=\\left(\\begin{matrix}3&-4&2\\end{matrix}\\right) $$ Проверим, что эта\n",
        "матрица задает нашу поверхность второго порядка, для этого вычислим $$ X^TAX+2bX+c,\\quad\n",
        "X=\\left(\\begin{matrix}x\\\\y\\\\z\\end{matrix}\\right), \\quad c=-12 $$\n",
        "\n",
        "$\\displaystyle \\left[\\begin{matrix}1 & 1 & 2\\\\1 & -2 & 0\\\\2 & 0 & -1\\end{matrix}\\right]$\n",
        "$\\displaystyle \\left[\\begin{matrix}x \\left(x + y + 2 z\\right) + y \\left(x - 2 y\\right) + z \\left(2 x - z\\right)\\end{matrix}\\right]$\n",
        "$\\displaystyle \\left[\\begin{matrix}3 x - 4 y + 2 z\\end{matrix}\\right]$\n",
        "$\\displaystyle x^{2} + 2 x y + 4 x z + 6 x - 2 y^{2} - 8 y - z^{2} + 4 z - 12 = 0$\n",
        "\n",
        "Теперь составим расширенную матрицу $A_1$ и проверим, что получилось то же самое уравнение:\n",
        "$\\displaystyle \\left[\\begin{matrix}1 & 1 & 2 & 3\\\\1 & -2 & 0 & -4\\\\2 & 0 & -1 & 2\\\\3 & -4 & 2 & -12\\end{matrix}\\right]$\n",
        "$\\displaystyle x^{2} + 2 x y + 4 x z + 6 x - 2 y^{2} - 8 y - z^{2} + 4 z - 12 = 0$\n"
      ]
    },
    {
      "cell_type": "code",
      "execution_count": null,
      "metadata": {
        "id": "fCmhmO8gvpQZ",
        "outputId": "7235e0b5-5f5f-460f-f97f-71c77e090e6c"
      },
      "outputs": [
        {
          "data": {
            "text/plain": [
              "'Вид матрицы 1'"
            ]
          },
          "metadata": {},
          "output_type": "display_data"
        },
        {
          "data": {
            "text/latex": [
              "$\\displaystyle \\left[\\begin{matrix}4 & -12 & 4 \\sqrt{3}\\\\-12 & -7 & 5 \\sqrt{3}\\\\4 \\sqrt{3} & 5 \\sqrt{3} & 3\\end{matrix}\\right]$"
            ],
            "text/plain": [
              "Matrix([\n",
              "[        4,       -12, 4*sqrt(3)],\n",
              "[      -12,        -7, 5*sqrt(3)],\n",
              "[4*sqrt(3), 5*sqrt(3),         3]])"
            ]
          },
          "metadata": {},
          "output_type": "display_data"
        },
        {
          "data": {
            "text/plain": [
              "'Вид матрицы 2'"
            ]
          },
          "metadata": {},
          "output_type": "display_data"
        },
        {
          "data": {
            "text/latex": [
              "$\\displaystyle \\left[\\begin{matrix}4 & -12 & 4 \\sqrt{3} & 0\\\\-12 & -7 & 5 \\sqrt{3} & 0\\\\4 \\sqrt{3} & 5 \\sqrt{3} & 3 & 0\\\\0 & 0 & 0 & -4\\end{matrix}\\right]$"
            ],
            "text/plain": [
              "Matrix([\n",
              "[        4,       -12, 4*sqrt(3),  0],\n",
              "[      -12,        -7, 5*sqrt(3),  0],\n",
              "[4*sqrt(3), 5*sqrt(3),         3,  0],\n",
              "[        0,         0,         0, -4]])"
            ]
          },
          "metadata": {},
          "output_type": "display_data"
        },
        {
          "data": {
            "text/plain": [
              "'Каноничсекое уравнение'"
            ]
          },
          "metadata": {},
          "output_type": "display_data"
        },
        {
          "data": {
            "text/latex": [
              "$\\displaystyle - 20 x_{1}^{2} + 8 y_{1}^{2} + 12 z_{1}^{2} - 4 = 0$"
            ],
            "text/plain": [
              "Eq(-20*x1**2 + 8*y1**2 + 12*z1**2 - 4, 0)"
            ]
          },
          "metadata": {},
          "output_type": "display_data"
        }
      ],
      "source": [
        "x, y, z = symbols('x y z')\n",
        "A = Matrix(((4, -12, 4*sqrt(3)), (-12, -7, 5*sqrt(3)), (4*sqrt(3), 5*sqrt(3), 3)))\n",
        "A1 = Matrix(((4, -12, 4*sqrt(3), 0), (-12, -7, 5*sqrt(3), 0), (4*sqrt(3), 5*sqrt(3), 3, 0), (0, 0, 0, -4)))\n",
        "display(\"Вид матрицы 1\", A, \"Вид матрицы 2\", A1)\n",
        "\n",
        "# Создание и нормализация собственных векторов\n",
        "X = Matrix((x, y, z))\n",
        "P = Matrix([])\n",
        "for item in A.eigenvects():\n",
        "    for i in range(item[1]):\n",
        "        P = P.row_join(item[2][i].normalized())\n",
        "\n",
        "# Каноничсекое уравнение\n",
        "canonic_matrix = P.T*A*P\n",
        "x1, y1, z1 = symbols('x1 y1 z1')\n",
        "X_new = Matrix((x1, y1, z1))\n",
        "canonic_eq = simplify(expand(X_new.T*canonic_matrix*X_new))[0]\n",
        "display(\"Каноничсекое уравнение\", Eq(canonic_eq - 4, 0))"
      ]
    },
    {
      "cell_type": "markdown",
      "metadata": {
        "id": "VqK1J147vpQa"
      },
      "source": [
        "### Задание 2.\n",
        "Привести уравнение поверхности второго порядка $24 x^{2} - 4 \\sqrt{2} x y - 4 \\sqrt{2} x z + 18 y^{2} + 12 y z + 18 z^{2} - 4 = 0$ к каноническому виду. Построить график."
      ]
    },
    {
      "cell_type": "code",
      "execution_count": null,
      "metadata": {
        "id": "h7Ard7NhvpQa"
      },
      "outputs": [],
      "source": [
        "# Создание и нормализация собственных векторов\n",
        "x, y, z = symbols('x y z')\n",
        "A = Matrix(((24, -2*sqrt(2), -2*sqrt(2)), (-2*sqrt(2), 18, 6), (-2*sqrt(2), 6, 18)))\n",
        "X = Matrix((x, y, z))\n",
        "P = Matrix([])\n",
        "for item in A.eigenvects():\n",
        "    for i in range(item[1]):\n",
        "        P = P.row_join(item[2][i].normalized())\n",
        "\n",
        "# Каноничсекое уравнение\n",
        "canonic_matrix = P.T*A*P\n",
        "x1, y1, z1 = symbols('x1 y1 z1')\n",
        "X_new = Matrix((x1, y1, z1))\n",
        "canonic_eq = simplify(expand(X_new.T*canonic_matrix*X_new))[0]\n",
        "display(\"Каноничсекое уравнение\", Eq(canonic_eq - 4, 0))\n",
        "\n",
        "# График\n",
        "canonic_eq2 = Eq(canonic_eq/4, 1)\n",
        "plot3d(*solve(canonic_eq2, z1), (x1, -1, 1), (y1, -1, 1))"
      ]
    },
    {
      "cell_type": "markdown",
      "metadata": {
        "id": "8A3EWx86vpQb"
      },
      "source": [
        "### Задание 3.\n",
        "Привести уравнение поверхности второго порядка $x^2 + y^2 + 2x - 4y + 2z + 1 = 0$ к каноническому виду. Построить график."
      ]
    },
    {
      "cell_type": "code",
      "execution_count": null,
      "metadata": {
        "id": "oo9pHuDbvpQb"
      },
      "outputs": [],
      "source": [
        "# Создание и нормализация собственных векторов\n",
        "x, y, z = symbols('x y z')\n",
        "A = Matrix(((1, 0, 0), (0, 1, 0), (0, 0, 0)))\n",
        "X = Matrix((x, y, z))\n",
        "P = Matrix([])\n",
        "for item in A.eigenvects():\n",
        "    for i in range(item[1]):\n",
        "        P = P.row_join(item[2][i].normalized())\n",
        "\n",
        "# Каноничсекое уравнение\n",
        "canonic_matrix = P.T*A*P\n",
        "x1, y1, z1 = symbols('x1 y1 z1')\n",
        "X_new = Matrix((x1, y1, z1))\n",
        "canonic_eq = simplify(expand(X_new.T*canonic_matrix*X_new))[0]\n",
        "display(\"Каноничсекое уравнение\", Eq(canonic_eq + 1, 0))\n",
        "\n",
        "# Пересчитаем вектор коэффициентов линейной формы\n",
        "b = Matrix((1, 0, 0))\n",
        "b_new = P.T*b\n",
        "u_new = canonic_eq + 2*(b_new.T*X_new)[0]\n",
        "\n",
        "# Пересчитаем свободный член\n",
        "c_new = -5\n",
        "c_new -= b_new[2]**2/(canonic_matrix[2, 2])\n",
        "display(\"Свободный член\", c_new)\n",
        "\n",
        "# Получис новое уравнение\n",
        "b_last = b_new\n",
        "b_last[2] = 0\n",
        "x2, y2, z2 = symbols('x2 y2 z2')\n",
        "X4_last = Matrix((x2, y2, z2))\n",
        "eq4 = Eq((X4_last.T*canonic_matrix*X4_last)[0] + 2*(b_last.T*X4_last)[0] + c_new, 0)\n",
        "display(\"Новое уравнение\", eq4)\n",
        "\n",
        "# Решим уравнение и нарисуем график\n",
        "Z = solve(eq4, z2**2)\n",
        "y3 = Symbol('y3')\n",
        "eq4 = Eq(z2**2, simplify(expand(Z[0].subs(y2, y3 - 5**S.Half))))\n",
        "Y = solve(eq4, y3)\n",
        "plot3d(*Y, (x2, -1, 1), (z2, -3, 3))"
      ]
    },
    {
      "cell_type": "markdown",
      "metadata": {
        "id": "udnFxYtbvpQb"
      },
      "source": [
        "### Индивидуальное задание.\n",
        "Привести уравнение поверхности второго порядка к каноническому виду. Построить график."
      ]
    },
    {
      "cell_type": "code",
      "execution_count": null,
      "metadata": {
        "id": "qUSENWtFvpQb"
      },
      "outputs": [],
      "source": [
        "# Создание и нормализация собственных векторов\n",
        "x, y, z = symbols('x y z')\n",
        "\n",
        "A = Matrix(((25, 5*sqrt(3), 0), (5*sqrt(3), 35, 0), (0, 0, 60)))\n",
        "\n",
        "# 25x**2 + 10sqrt(3)xy + 35y**2+60z**2\n",
        "\n",
        "X = Matrix((x, y, z))\n",
        "P = Matrix([])\n",
        "for item in A.eigenvects():\n",
        "    for i in range(item[1]):\n",
        "        P = P.row_join(item[2][i].normalized())\n",
        "\n",
        "# Каноничсекое уравнение\n",
        "canonic_matrix = P.T*A*P\n",
        "x1, y1, z1 = symbols('x1 y1 z1')\n",
        "X_new = Matrix((x1, y1, z1))\n",
        "canonic_eq = simplify(expand(X_new.T*canonic_matrix*X_new))[0]\n",
        "display(\"Каноничсекое уравнение\", Eq(canonic_eq, 0))\n",
        "\n",
        "# График\n",
        "canonic_eq2 = Eq(canonic_eq/4, 1)\n",
        "plot3d(*solve(canonic_eq2, z1), (x1, -1, 1), (y1, -1, 1))"
      ]
    },
    {
      "cell_type": "code",
      "execution_count": null,
      "metadata": {
        "id": "cXl3F6DivpQc"
      },
      "outputs": [],
      "source": []
    }
  ],
  "metadata": {
    "kernelspec": {
      "display_name": "Python 3",
      "language": "python",
      "name": "python3"
    },
    "language_info": {
      "codemirror_mode": {
        "name": "ipython",
        "version": 3
      },
      "file_extension": ".py",
      "mimetype": "text/x-python",
      "name": "python",
      "nbconvert_exporter": "python",
      "pygments_lexer": "ipython3",
      "version": "3.8.1"
    },
    "colab": {
      "provenance": []
    }
  },
  "nbformat": 4,
  "nbformat_minor": 0
}