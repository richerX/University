{
  "cells": [
    {
      "cell_type": "markdown",
      "metadata": {
        "id": "wzyhBzjzv0Vb"
      },
      "source": [
        "## Практическое занятие 2\n",
        "## Математический анализ\n",
        "## Графики в Sympy\n",
        "https://docs.sympy.org/latest/tutorial/intro.html"
      ]
    },
    {
      "cell_type": "code",
      "execution_count": null,
      "metadata": {
        "id": "eUkU1KQav0Vd"
      },
      "outputs": [],
      "source": [
        "# Вначале для простоты будем подключать модуль sympy целиком\n",
        "from sympy import *\n",
        "# А это уже магия!\n",
        "%matplotlib inline"
      ]
    },
    {
      "cell_type": "markdown",
      "metadata": {
        "id": "GOBU2FuOv0Vd"
      },
      "source": [
        "### Задание 1\n",
        "Построить графики $tg(x)$ и $ctg(x)$ на отрезке $[-2\\pi,2\\pi]$, задать предел по вертикальной оси (-5, 5). Вертикальные асимптоты при это изобразятся автоматически."
      ]
    },
    {
      "cell_type": "code",
      "execution_count": null,
      "metadata": {
        "id": "bMVBI99iv0Ve"
      },
      "outputs": [],
      "source": [
        "x = Symbol(\"x\")\n",
        "plot(tan(x), cot(x), (x, -2*pi, 2*pi), ylim=(-5, 5))"
      ]
    },
    {
      "cell_type": "markdown",
      "metadata": {
        "id": "W15EBhvav0Ve"
      },
      "source": [
        "### Задание 2\n",
        "Построить на отрезке $[-2\\pi,2\\pi]$ график $tg(x)$ зеленым цветом, а график $ctg(x)$ красным, задать предел по вертикальной оси (-5, 5). "
      ]
    },
    {
      "cell_type": "code",
      "execution_count": null,
      "metadata": {
        "id": "LMUiUCVzv0Vf"
      },
      "outputs": [],
      "source": [
        "x = Symbol(\"x\")\n",
        "interval = (x, -pi/2, pi/2)\n",
        "p = plot(tan(x), interval, ylim=(-5, 5), line_color='green', show=False)\n",
        "p.append(plot(cot(x), interval, ylim=(-5, 5), line_color='red', show=False)[0])\n",
        "p.show()"
      ]
    },
    {
      "cell_type": "markdown",
      "metadata": {
        "id": "Mpbbzei1v0Vf"
      },
      "source": [
        "### Задание 3\n",
        "Построить график $ctg(x)$ на интервале $(-2\\pi, 5\\pi)$ без асимптот.\n",
        "#### Указание. \n",
        "График разбить на части, исключив точки разрыва. При построении tuple с именем переменной и интервалом ее значений от точки разрыва отступить на 0.01, т.е. использовать $(x,\\ \\pi + 0.01,\\ 2\\pi - 0.01)$ вместо $(x,\\ \\pi,\\ 2\\pi)$.\n",
        "\n",
        "Для удобства пользуйтесь циклом for, чтобы создать tuple, состоящий из tuple, содержащих выражение для функции и tuple из имени переменной, левого и правого конца интервала (см. Пример 4 Занятия 2).\n",
        "\n",
        "Не забудьте об ylim=(-5, 5)!"
      ]
    },
    {
      "cell_type": "code",
      "execution_count": null,
      "metadata": {
        "id": "kfiOHE90v0Vf"
      },
      "outputs": [],
      "source": [
        "x = Symbol(\"x\")\n",
        "func_to_plot = tuple((cot(x), (x, i * pi + 0.01, (i + 1) * pi - 0.01)) for i in range(-2, 6))\n",
        "plot(*func_to_plot, ylim=(-5, 5))"
      ]
    },
    {
      "cell_type": "markdown",
      "metadata": {
        "id": "klV5GfKXv0Vf"
      },
      "source": [
        "### Задание 4\n",
        "Построить графики логарифма по основанию 2, 10, $1/2$ и натурального логарифма в одной плоскости, каждый график отдельным цветом ('red', 'green', 'black', 'pink'). Отобразить название графика \"Логарифмы по основанию 2, 10, $1/2$ и $e$\", подписать горизонтальную ось $\\phi$, вертикальную ось $\\log_a\\phi$. \n",
        "Включить легенду, в ней все функции подписать своими формулами, например, натуральный логарифм $\\ln \\phi$, десятичный $\\lg \\phi$.\n",
        "\n",
        "#### Указание.\n",
        "Можно составить подходящий словарь, list или tuple и использовать его в plot.\n",
        "Вначале можно построить только координатную плоскость с надписью графика и подписями осей, а также legend=True, а затем в цикле добавлять с помощью append графики логарифмов разных цветов."
      ]
    },
    {
      "cell_type": "code",
      "execution_count": null,
      "metadata": {
        "id": "csSBdqMev0Vg"
      },
      "outputs": [],
      "source": [
        "x = Symbol(\"x\")\n",
        "horizontal_interval = (x, 0, 100)\n",
        "vertical_interval = (-7, 7)\n",
        "p = plot(title='Графики логарифмов\\n', xlabel='$\\phi$', ylabel='$\\log_a\\phi$', ylim=vertical_interval, legend=True)\n",
        "p.append(plot(log(x, 2),   horizontal_interval, line_color='red',   show=False, label='$\\log_2\\phi$')[0])\n",
        "p.append(plot(log(x, 10),  horizontal_interval, line_color='green', show=False, label='$\\log_{10}\\phi$')[0])\n",
        "p.append(plot(log(x, 1/2), horizontal_interval, line_color='black', show=False, label='$\\log_{1/2}\\phi$')[0])\n",
        "p.append(plot(log(x),      horizontal_interval, line_color='pink',  show=False, label='$\\ln \\phi$')[0])\n",
        "p.show()"
      ]
    },
    {
      "cell_type": "markdown",
      "metadata": {
        "id": "vRYcTjrxv0Vg"
      },
      "source": [
        "## График неявно заданной функции\n",
        "### Задание 5\n",
        "Изобразить на графике гиперболу, заданную своим каноническим уравнением\n",
        "$$\n",
        "\\frac{x^2}{a^2}-\\frac{y^2}{b^2}=1,\n",
        "$$\n",
        "при $a=3$, $b=5$. Масштаб по осям одинаковый, рекомендуемый интервал (-10, 10)."
      ]
    },
    {
      "cell_type": "code",
      "execution_count": null,
      "metadata": {
        "id": "62gbxG49v0Vg"
      },
      "outputs": [],
      "source": [
        "x, y = symbols('x y')\n",
        "a, b = 3, 5\n",
        "plot_implicit(Eq(x**2 / a**2 - y**2 / b**2, 1), \n",
        "              (x, -10, 10), \n",
        "              (y, -10, 10), \n",
        "              aspect_ratio=(1, 1),\n",
        "              title=r'Гипербола ${\\frac{x^2}{3^2}} - {\\frac{y^2}{5^2}} = 1$' + \"\\n\", \n",
        "              xlabel='$x$', \n",
        "              ylabel='$y$')"
      ]
    },
    {
      "cell_type": "markdown",
      "metadata": {
        "id": "H8H0VYzMv0Vh"
      },
      "source": [
        "### Индивидуальное задание\n",
        "Построить график параметрически заданной функции \n",
        "с соответствующими уравнениям подписями к осям. \n",
        "В легенде отразить уравнения функции в строчку."
      ]
    },
    {
      "cell_type": "markdown",
      "metadata": {
        "id": "3CtiLgluv0Vh"
      },
      "source": [
        "Номер варината - 36"
      ]
    },
    {
      "cell_type": "code",
      "execution_count": null,
      "metadata": {
        "id": "LXZc1bJ6v0Vh"
      },
      "outputs": [],
      "source": [
        "t = Symbol(\"t\")\n",
        "plot_parametric(3*t**2/(t**2+1), 3*t**3/(t**2+1), (t, -100, 100), \n",
        "                aspect_ratio=(1, 1/5), \n",
        "                axis_center=(0, 0),\n",
        "                xlim=(0, 5), \n",
        "                ylim=(-10, 10),\n",
        "                xlabel='$\\delta$', ylabel='$\\mu(\\delta)$', \n",
        "                legend=True, \n",
        "                label=r'$x = {\\frac{3*\\delta^2}{\\delta^2+1}},\\ y = {\\frac{3*\\delta^3}{\\delta^2+1}}$')"
      ]
    },
    {
      "cell_type": "code",
      "execution_count": null,
      "metadata": {
        "id": "Z3-3RdMvv0Vh"
      },
      "outputs": [],
      "source": []
    }
  ],
  "metadata": {
    "kernelspec": {
      "display_name": "Python 3",
      "language": "python",
      "name": "python3"
    },
    "language_info": {
      "codemirror_mode": {
        "name": "ipython",
        "version": 3
      },
      "file_extension": ".py",
      "mimetype": "text/x-python",
      "name": "python",
      "nbconvert_exporter": "python",
      "pygments_lexer": "ipython3",
      "version": "3.8.1"
    },
    "colab": {
      "provenance": []
    }
  },
  "nbformat": 4,
  "nbformat_minor": 0
}