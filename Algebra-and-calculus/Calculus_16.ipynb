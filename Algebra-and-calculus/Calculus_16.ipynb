{
  "cells": [
    {
      "cell_type": "code",
      "execution_count": null,
      "metadata": {
        "id": "8el4nYcwwNIp"
      },
      "outputs": [],
      "source": [
        "import sympy\n",
        "from sympy import S, solve, Matrix, diff, plot, simplify, factor\n",
        "from sympy import log as Log\n",
        "from sympy import sin as Sin\n",
        "from sympy import cos as Cos\n",
        "from sympy.plotting import plot3d\n",
        "from sympy.geometry import Point\n",
        "%matplotlib inline"
      ]
    },
    {
      "cell_type": "markdown",
      "metadata": {
        "id": "GCUw0qdowNIq"
      },
      "source": [
        "## Занятие 16\n",
        "## Математический анализ\n",
        "## Градиент функции нескольких переменных, производная по направлению, касательная плоскость.\n",
        "\n",
        "    \n",
        "### Задание 1\n",
        "Найти градиент функции $z=x^2-xy-2y^2$ в произвольной точке и в точке М(1,2). Вычислить производную  в направлении, составляющем с положительным направлением оси ОХ угол 60 градусов, в точке М(1,2). "
      ]
    },
    {
      "cell_type": "code",
      "execution_count": null,
      "metadata": {
        "id": "eitrsYzMwNIr",
        "outputId": "74269da7-6015-4e33-d49b-d64d5fdb2ceb"
      },
      "outputs": [
        {
          "data": {
            "text/plain": [
              "'ГРАДИЕНТ'"
            ]
          },
          "metadata": {},
          "output_type": "display_data"
        },
        {
          "data": {
            "text/latex": [
              "$\\displaystyle \\left[\\begin{matrix}2 x - y\\\\- x - 4 y\\end{matrix}\\right]$"
            ],
            "text/plain": [
              "Matrix([\n",
              "[ 2*x - y],\n",
              "[-x - 4*y]])"
            ]
          },
          "metadata": {},
          "output_type": "display_data"
        },
        {
          "data": {
            "text/plain": [
              "'ГРАДИЕНТ В ТОЧКЕ'"
            ]
          },
          "metadata": {},
          "output_type": "display_data"
        },
        {
          "data": {
            "text/latex": [
              "$\\displaystyle \\left[\\begin{matrix}-1\\\\-4\\end{matrix}\\right]$"
            ],
            "text/plain": [
              "Matrix([\n",
              "[-1],\n",
              "[-4]])"
            ]
          },
          "metadata": {},
          "output_type": "display_data"
        },
        {
          "data": {
            "text/plain": [
              "'ПРОИЗВОДНАЯ ПО НАПРАВЛЕНИЮ'"
            ]
          },
          "metadata": {},
          "output_type": "display_data"
        },
        {
          "data": {
            "text/latex": [
              "$\\displaystyle - 2 \\sqrt{3} - \\frac{1}{2}$"
            ],
            "text/plain": [
              "-2*sqrt(3) - 1/2"
            ]
          },
          "metadata": {},
          "output_type": "display_data"
        }
      ],
      "source": [
        "from sympy.abc import x, y\n",
        "\n",
        "def f(x, y):\n",
        "    return x**2-x*y-2*y**2\n",
        "\n",
        "def grad_f(f, *var):\n",
        "    return Matrix([f(*var).diff(variable) for variable in var])\n",
        "\n",
        "def grad_f_point(f, var_dict):\n",
        "    return grad_f(f, *var_dict.keys()).subs(var_dict)\n",
        "\n",
        "display(\"ГРАДИЕНТ\", grad_f(f, x, y))\n",
        "display(\"ГРАДИЕНТ В ТОЧКЕ\", grad_f_point(f, {x: 0, y: 1}))\n",
        "display(\"ПРОИЗВОДНАЯ ПО НАПРАВЛЕНИЮ\", grad_f_point(f, {x: 0, y: 1}).dot(Matrix((S(1)/2, S(sympy.sqrt(3)/2)))))\n",
        "# (1/2, sqrt(3)/2) - единичный вектор в направлении 60 градусов от полож. направления оси ОХ"
      ]
    },
    {
      "cell_type": "markdown",
      "metadata": {
        "id": "XYr5U6xIwNIs"
      },
      "source": [
        "###  Задание 2.\n",
        "Поверхность задана уравнением $z = \\frac{x^2}{2} - y^2$. Составить уравнение касательной плоскости и нормали в точке $М(2, -1, 1)$. Изобразить на графике."
      ]
    },
    {
      "cell_type": "code",
      "execution_count": null,
      "metadata": {
        "id": "Rh6dZuOrwNIs"
      },
      "outputs": [],
      "source": [
        "from sympy.abc import z\n",
        "\n",
        "\n",
        "f = x**2/2 - y**2\n",
        "M = Point(2, -1, 1)\n",
        "dictM = {x: M.x, y: M.y, z: M.z}\n",
        "\n",
        "fdx = f.diff(x).subs(dictM)\n",
        "fdy = f.diff(y).subs(dictM)\n",
        "\n",
        "planeM = sympy.Eq(z - M.z, fdx*(x - M.x) + fdy*(y - M.y))\n",
        "display(\"УРАВНЕНИЕ КАСАТЕЛЬНОЙ ПЛОСКОСТИ\", planeM)\n",
        "\n",
        "norm_line = sympy.Eq(sympy.Eq((x - M.x)/fdx, (y - M.y)/fdy, evaluate=False), (z - M.z)/(-1), evaluate=False)\n",
        "display(\"УРАВНЕНИЕ НОРМАЛИ\", norm_line)\n",
        "\n",
        "plane = solve(planeM, z)[0]\n",
        "display(\"УРАВНЕНИЕ ПЛОСКОСТИ\", planeM)\n",
        "\n",
        "plot3d(plane, f, (x, -100, 100), (y, -1000, 1000))"
      ]
    },
    {
      "cell_type": "markdown",
      "metadata": {
        "id": "4V-6mWbNwNIt"
      },
      "source": [
        "###  Задание 3.\n",
        "Поверхность задана уравнением $3xyz - z^3 = a^3$. Составить уравнение касательной плоскости и нормали к поверхности в точке $x = 0$, $y = a$. "
      ]
    },
    {
      "cell_type": "code",
      "execution_count": null,
      "metadata": {
        "id": "mDLj8yTgwNIt"
      },
      "outputs": [],
      "source": [
        "from sympy.abc import a, z\n",
        "\n",
        "F = 3*x*y*z-z**3 - a**3\n",
        "M = Point(0, a, -a)\n",
        "dictM = {x: M.x, y: M.y, z: M.z}\n",
        "\n",
        "Fdx = f.diff(x).subs(dictM)\n",
        "Fdy = f.diff(y).subs(dictM)\n",
        "Fdz = f.diff(z).subs(dictM)\n",
        "\n",
        "planeM = sympy.Eq(Fdx*(x - M.x) + Fdy*(y - M.y) + Fdz*(z - M.z), 0)\n",
        "display(\"УРАВНЕНИЕ КАСАТЕЛЬНОЙ ПЛОСКОСТИ\", planeM)\n",
        "\n",
        "norm_line = sympy.Eq(sympy.Eq((x - M.x)/Fdx,(y - M.y)/Fdy, evaluate=False), (z - M.z)/Fdz, evaluate=False)\n",
        "display(\"УРАВНЕНИЕ НОРМАЛИ\", norm_line)\n",
        "\n",
        "plane1 = list(solve(F, z))[0]\n",
        "plane2 = list(solve(F, z))[1]\n",
        "plane3 = M.z - 1/Fdz*(Fdx*(x - M.x) + Fdy*(y - M.y)) #это выразили z из уравнения касательной плоскости\n",
        "display(\"УРАВНЕНИЯ ПЛОСКОСТЕЙ\", plane1, plane2, plane3)\n",
        "\n",
        "# ПОДСТАВЛЯЮ A = 1, ИНАЧЕ НЕ РИСУЕТ\n",
        "F = 3*x*y*z-z**3 - 1\n",
        "M = Point(0, 1, -1)\n",
        "plane1 = list(solve(F, z))[0]\n",
        "plane2 = list(solve(F, z))[1]\n",
        "plane3 = M.z - 1/Fdz*(Fdx*(x - M.x) + Fdy*(y - M.y)) #это выразили z из уравнения касательной плоскости\n",
        "plot3d(plane1, plane2, (x, -10, 10), (y, -1000, 1000))"
      ]
    },
    {
      "cell_type": "markdown",
      "metadata": {
        "id": "ceSX1TDbwNIt"
      },
      "source": [
        "### Индивидуальное задание.\n",
        "Поверхность задана уравнением $x^2+y^2+z^2=2Rz$. Составить уравнение касательной плоскости и нормали в точке $(R\\cos\\alpha,R\\sin\\alpha,R)$.  Изобразить на графике при $R=1$, $\\alpha=\\pi/6$."
      ]
    },
    {
      "cell_type": "code",
      "execution_count": null,
      "metadata": {
        "id": "0IhXlkQSwNIt"
      },
      "outputs": [],
      "source": [
        "from sympy.abc import R, z, a\n",
        "\n",
        "F = x**2+y**2+z**2-2*R*z\n",
        "M = Point(R*Cos(a), R*Sin(a), R)\n",
        "dictM = {x: M.x, y: M.y, z: M.z}\n",
        "\n",
        "Fdx = f.diff(x).subs(dictM)\n",
        "Fdy = f.diff(y).subs(dictM)\n",
        "Fdz = f.diff(z).subs(dictM)\n",
        "\n",
        "planeM = sympy.Eq(Fdx*(x - M.x) + Fdy*(y - M.y) + Fdz*(z - M.z), 0)\n",
        "display(\"УРАВНЕНИЕ КАСАТЕЛЬНОЙ ПЛОСКОСТИ\", planeM)\n",
        "\n",
        "norm_line = sympy.Eq(sympy.Eq((x - M.x)/Fdx,(y - M.y)/Fdy, evaluate=False), (z - M.z)/Fdz, evaluate=False)\n",
        "display(\"УРАВНЕНИЕ НОРМАЛИ\", norm_line)\n",
        "\n",
        "plane1 = list(solve(F, z))[0]\n",
        "plane2 = list(solve(F, z))[1]\n",
        "plane3 = M.z - 1/Fdz*(Fdx*(x - M.x) + Fdy*(y - M.y)) #это выразили z из уравнения касательной плоскости\n",
        "display(\"УРАВНЕНИЯ ПЛОСКОСТЕЙ\", plane1, plane2, plane3)\n",
        "print()\n",
        "print()\n",
        "print()\n",
        "\n",
        "# ----------------------   ДАЛЬШЕ R = 1, a = PI/6   ----------------------\n",
        "F = x**2+y**2+z**2-2*z\n",
        "M = Point(Cos(sympy.pi/6), Sin(sympy.pi/6), 1)\n",
        "dictM = {x: M.x, y: M.y, z: M.z}\n",
        "\n",
        "Fdx = f.diff(x).subs(dictM)\n",
        "Fdy = f.diff(y).subs(dictM)\n",
        "Fdz = f.diff(z).subs(dictM)\n",
        "\n",
        "planeM = sympy.Eq(Fdx*(x - M.x) + Fdy*(y - M.y) + Fdz*(z - M.z), 0)\n",
        "display(\"УРАВНЕНИЕ КАСАТЕЛЬНОЙ ПЛОСКОСТИ\", planeM)\n",
        "\n",
        "norm_line = sympy.Eq(sympy.Eq((x - M.x)/Fdx,(y - M.y)/Fdy, evaluate=False), (z - M.z)/Fdz, evaluate=False)\n",
        "display(\"УРАВНЕНИЕ НОРМАЛИ\", norm_line)\n",
        "\n",
        "plane1 = list(solve(F, z))[0]\n",
        "plane2 = list(solve(F, z))[1]\n",
        "plane3 = M.z - 1/Fdz*(Fdx*(x - M.x) + Fdy*(y - M.y)) #это выразили z из уравнения касательной плоскости\n",
        "display(\"УРАВНЕНИЯ ПЛОСКОСТЕЙ\", plane1, plane2, plane3)\n",
        "\n",
        "plot3d(plane1, plane2, (x, -1, 1), (y, -20, 20))"
      ]
    },
    {
      "cell_type": "code",
      "execution_count": null,
      "metadata": {
        "id": "l6m9Z-CLwNIu"
      },
      "outputs": [],
      "source": []
    }
  ],
  "metadata": {
    "kernelspec": {
      "display_name": "Python 3",
      "language": "python",
      "name": "python3"
    },
    "language_info": {
      "codemirror_mode": {
        "name": "ipython",
        "version": 3
      },
      "file_extension": ".py",
      "mimetype": "text/x-python",
      "name": "python",
      "nbconvert_exporter": "python",
      "pygments_lexer": "ipython3",
      "version": "3.8.1"
    },
    "colab": {
      "provenance": []
    }
  },
  "nbformat": 4,
  "nbformat_minor": 0
}