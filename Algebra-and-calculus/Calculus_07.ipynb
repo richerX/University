{
  "cells": [
    {
      "cell_type": "markdown",
      "metadata": {
        "id": "LWhYo7RuwVS-"
      },
      "source": [
        "## Занятие 7\n",
        "## Математический анализ\n",
        "## Исследование функции с sympy.calculus.util и sympy.calculus.singularities"
      ]
    },
    {
      "cell_type": "code",
      "execution_count": null,
      "metadata": {
        "id": "L2tDY0NFwVS_"
      },
      "outputs": [],
      "source": [
        "import sympy\n",
        "from sympy import S, Interval, plot\n",
        "from sympy import sin as Sin\n",
        "from sympy import cos as Cos\n",
        "from sympy import exp as Exp\n",
        "from sympy import log as Log\n",
        "from sympy import pi as Pi\n",
        "from sympy.calculus.util import continuous_domain, function_range, periodicity, stationary_points, maximum, minimum, AccumBounds\n",
        "from sympy.calculus.singularities import singularities, is_increasing, is_decreasing, is_monotonic\n",
        "from sympy.calculus.singularities import is_strictly_increasing, is_strictly_decreasing\n",
        "%matplotlib inline"
      ]
    },
    {
      "cell_type": "markdown",
      "metadata": {
        "id": "RBLpQgpRwVTA"
      },
      "source": [
        "## Схема анализа функции.\n",
        "1. Область определения\n",
        "\n",
        "sympy.calculus.util.continuous_domain(f, symbol, domain)\n",
        "\n",
        "f - выражение, описывающее функцию, \n",
        "\n",
        "symbol - переменная, от которой зависит исследуемая функция,\n",
        "\n",
        "domain - область значений переменной, на которой рассматривается функция,\n",
        "\n",
        "если функция рассматривается на всей вещественной прямой, то domain=S.Reals\n",
        "\n",
        "Сингулярные точки (точки, в которых функция не существует) находятся с помощью\n",
        "\n",
        "sympy.calculus.singularities.singularities(f, symbol, domain=None)\n",
        "\n",
        "2. Область значений\n",
        "\n",
        "sympy.calculus.util.function_range(f, symbol, domain)\n",
        "\n",
        "3. Периодичность\n",
        "\n",
        "sympy.calculus.util.periodicity(f, symbol, check=False)\n",
        "\n",
        "4. Стационарные точки \n",
        "\n",
        "sympy.calculus.util.stationary_points(f, symbol, domain=Reals)\n",
        "\n",
        "5. Точки экстремума\n",
        "\n",
        "sympy.calculus.util.maximum(f, symbol, domain=Reals)\n",
        "\n",
        "sympy.calculus.util.minimum(f, symbol, domain=Reals)\n",
        "\n",
        "6. Монотонность\n",
        "\n",
        "sympy.calculus.singularities.is_decreasing(f, interval=Reals, symbol=None)\n",
        "\n",
        "sympy.calculus.singularities.is_increasing(f, interval=Reals, symbol=None)\n",
        "\n",
        "sympy.calculus.singularities.is_monotonic(f, interval=Reals, symbol=None)\n",
        "\n",
        "sympy.calculus.singularities.is_strictly_decreasing(f, interval=Reals, symbol=None)\n",
        "\n",
        "sympy.calculus.singularities.is_strictly_increasing(f, interval=Reals, symbol=None)\n",
        "\n",
        "7. Минимальное и максимальное значение функции на интервале \n",
        "\n",
        "sympy.calculus.util.AccumulationBounds(min, max)\n",
        "\n",
        "Свойства: delta, max, min, mid\n",
        "\n",
        "### Задание 1.  \n",
        "Исследовать функцию по п.1 - 5 на области определения и по п. 1 - 7 на одном периоде, построить график.\n",
        "$$\n",
        "f(x) = e^{\\sin(x)}.\n",
        "$$\n",
        "###### 1. Область определения"
      ]
    },
    {
      "cell_type": "code",
      "execution_count": null,
      "metadata": {
        "id": "Yqu-uBjfwVTB",
        "outputId": "ca17acfa-ea94-4cdd-8d55-a2b3fa985684"
      },
      "outputs": [
        {
          "data": {
            "text/latex": [
              "$\\displaystyle \\mathbb{R}$"
            ],
            "text/plain": [
              "Reals"
            ]
          },
          "execution_count": 7,
          "metadata": {},
          "output_type": "execute_result"
        }
      ],
      "source": [
        "from sympy.abc import x\n",
        "f = sympy.E ** Sin(x)\n",
        "D = continuous_domain(f, x, S.Reals)\n",
        "D"
      ]
    },
    {
      "cell_type": "markdown",
      "metadata": {
        "id": "918VJ5QBwVTC"
      },
      "source": [
        "Сингулярные точки (точки, где функция не определена)"
      ]
    },
    {
      "cell_type": "code",
      "execution_count": null,
      "metadata": {
        "id": "PYILdVFuwVTC",
        "outputId": "508573a9-4ad8-4d6d-ec45-f369fe690e28"
      },
      "outputs": [
        {
          "data": {
            "text/latex": [
              "$\\displaystyle \\emptyset$"
            ],
            "text/plain": [
              "EmptySet"
            ]
          },
          "execution_count": 8,
          "metadata": {},
          "output_type": "execute_result"
        }
      ],
      "source": [
        "singularities(f, x)"
      ]
    },
    {
      "cell_type": "markdown",
      "metadata": {
        "id": "QdyAGwn-wVTC"
      },
      "source": [
        "###### 2. Область значений"
      ]
    },
    {
      "cell_type": "code",
      "execution_count": null,
      "metadata": {
        "id": "T3-wWrGFwVTC",
        "outputId": "a295a543-a82a-4c4e-ee92-64f7604e91bd"
      },
      "outputs": [
        {
          "data": {
            "text/latex": [
              "$\\displaystyle \\left[e^{-1}, e\\right]$"
            ],
            "text/plain": [
              "Interval(exp(-1), E)"
            ]
          },
          "execution_count": 9,
          "metadata": {},
          "output_type": "execute_result"
        }
      ],
      "source": [
        "function_range(f, x, S.Reals)"
      ]
    },
    {
      "cell_type": "markdown",
      "metadata": {
        "id": "A8BC77WWwVTD"
      },
      "source": [
        "###### 3. Периодичность"
      ]
    },
    {
      "cell_type": "code",
      "execution_count": null,
      "metadata": {
        "id": "W5qG-oThwVTD",
        "outputId": "703134a6-64c5-44f7-88dc-689834dc6df3"
      },
      "outputs": [
        {
          "data": {
            "text/latex": [
              "$\\displaystyle 2 \\pi$"
            ],
            "text/plain": [
              "2*pi"
            ]
          },
          "execution_count": 10,
          "metadata": {},
          "output_type": "execute_result"
        }
      ],
      "source": [
        "periodicity(f, x, check=False)"
      ]
    },
    {
      "cell_type": "markdown",
      "metadata": {
        "id": "r2iDZFf3wVTD"
      },
      "source": [
        "###### 4. Стационарные точки"
      ]
    },
    {
      "cell_type": "code",
      "execution_count": null,
      "metadata": {
        "id": "PDvHtgqGwVTD",
        "outputId": "8bb9a205-50b6-41ba-9ce3-54ec4e70437b"
      },
      "outputs": [
        {
          "data": {
            "text/latex": [
              "$\\displaystyle \\left\\{2 n \\pi + \\frac{\\pi}{2}\\; |\\; n \\in \\mathbb{Z}\\right\\} \\cup \\left\\{2 n \\pi + \\frac{3 \\pi}{2}\\; |\\; n \\in \\mathbb{Z}\\right\\}$"
            ],
            "text/plain": [
              "Union(ImageSet(Lambda(_n, 2*_n*pi + pi/2), Integers), ImageSet(Lambda(_n, 2*_n*pi + 3*pi/2), Integers))"
            ]
          },
          "execution_count": 12,
          "metadata": {},
          "output_type": "execute_result"
        }
      ],
      "source": [
        "stationary_points(f, x)"
      ]
    },
    {
      "cell_type": "markdown",
      "metadata": {
        "id": "lWuDEh5awVTD"
      },
      "source": [
        "###### 5. Максимальное и минимальное значения функции"
      ]
    },
    {
      "cell_type": "code",
      "execution_count": null,
      "metadata": {
        "id": "TPIZ8_AcwVTE",
        "outputId": "fdee972d-0729-4174-9afa-9a64cdf18294"
      },
      "outputs": [
        {
          "data": {
            "text/latex": [
              "$\\displaystyle e$"
            ],
            "text/plain": [
              "E"
            ]
          },
          "metadata": {},
          "output_type": "display_data"
        },
        {
          "data": {
            "text/latex": [
              "$\\displaystyle e^{-1}$"
            ],
            "text/plain": [
              "exp(-1)"
            ]
          },
          "metadata": {},
          "output_type": "display_data"
        }
      ],
      "source": [
        "display(maximum(f, x), minimum(f, x))"
      ]
    },
    {
      "cell_type": "markdown",
      "metadata": {
        "id": "iMK9GLyswVTE"
      },
      "source": [
        "##### Исследование периодической функции на одном периоде.\n",
        "Найти пересечение с периодом области определения, множества сингулярных точек и стационарных точек.\n",
        "###### 1. Область определения"
      ]
    },
    {
      "cell_type": "code",
      "execution_count": null,
      "metadata": {
        "id": "qFcwP6jnwVTE",
        "outputId": "b6e3d9aa-3b88-492e-beba-28a8214a8265"
      },
      "outputs": [
        {
          "data": {
            "text/latex": [
              "$\\displaystyle \\left[\\frac{\\pi}{2}, \\frac{5 \\pi}{2}\\right]$"
            ],
            "text/plain": [
              "Interval(pi/2, 5*pi/2)"
            ]
          },
          "execution_count": 15,
          "metadata": {},
          "output_type": "execute_result"
        }
      ],
      "source": [
        "period_pi = Interval(Pi/2, 5*Pi/2)\n",
        "continuous_domain(f, x, period_pi)"
      ]
    },
    {
      "cell_type": "markdown",
      "metadata": {
        "id": "HjsCR2vhwVTE"
      },
      "source": [
        "Сингулярные точки (точки, где функция не определена)"
      ]
    },
    {
      "cell_type": "code",
      "execution_count": null,
      "metadata": {
        "id": "t1f9deHawVTE",
        "outputId": "c1c96b54-31fb-4b16-c548-822e8e4c69c6"
      },
      "outputs": [
        {
          "data": {
            "text/latex": [
              "$\\displaystyle \\emptyset$"
            ],
            "text/plain": [
              "EmptySet"
            ]
          },
          "execution_count": 17,
          "metadata": {},
          "output_type": "execute_result"
        }
      ],
      "source": [
        "singularities(f, x, period_pi)"
      ]
    },
    {
      "cell_type": "markdown",
      "metadata": {
        "id": "kL2QNV7lwVTE"
      },
      "source": [
        "###### 2. Область значений"
      ]
    },
    {
      "cell_type": "code",
      "execution_count": null,
      "metadata": {
        "id": "oe7Xko_ywVTF",
        "outputId": "f366b735-1783-4962-ced6-ac121a7628e2"
      },
      "outputs": [
        {
          "data": {
            "text/latex": [
              "$\\displaystyle \\left[e^{-1}, e\\right]$"
            ],
            "text/plain": [
              "Interval(exp(-1), E)"
            ]
          },
          "execution_count": 18,
          "metadata": {},
          "output_type": "execute_result"
        }
      ],
      "source": [
        "function_range(f, x, period_pi)"
      ]
    },
    {
      "cell_type": "markdown",
      "metadata": {
        "id": "Ozfm74AZwVTF"
      },
      "source": [
        "###### 4. Стационарные точки "
      ]
    },
    {
      "cell_type": "code",
      "execution_count": null,
      "metadata": {
        "id": "Fr6a-F13wVTF",
        "outputId": "0baad8cf-465e-41c4-e75f-f8ab03b0d000"
      },
      "outputs": [
        {
          "data": {
            "text/latex": [
              "$\\displaystyle \\left\\{\\frac{\\pi}{2}, \\frac{3 \\pi}{2}, \\frac{5 \\pi}{2}\\right\\}$"
            ],
            "text/plain": [
              "FiniteSet(pi/2, 3*pi/2, 5*pi/2)"
            ]
          },
          "execution_count": 23,
          "metadata": {},
          "output_type": "execute_result"
        }
      ],
      "source": [
        "stationary_points(f, x, period_pi)"
      ]
    },
    {
      "cell_type": "markdown",
      "metadata": {
        "id": "Vp8LefnBwVTF"
      },
      "source": [
        "###### 5. Максимальное и минимальное значения функции"
      ]
    },
    {
      "cell_type": "code",
      "execution_count": null,
      "metadata": {
        "id": "N2LZw5BuwVTG",
        "outputId": "cbd708a0-4fbc-47b4-c4c8-bd0052a7c09f"
      },
      "outputs": [
        {
          "data": {
            "text/latex": [
              "$\\displaystyle e$"
            ],
            "text/plain": [
              "E"
            ]
          },
          "metadata": {},
          "output_type": "display_data"
        },
        {
          "data": {
            "text/latex": [
              "$\\displaystyle e^{-1}$"
            ],
            "text/plain": [
              "exp(-1)"
            ]
          },
          "metadata": {},
          "output_type": "display_data"
        }
      ],
      "source": [
        "display(maximum(f, x, period_pi), minimum(f, x, period_pi))"
      ]
    },
    {
      "cell_type": "markdown",
      "metadata": {
        "id": "dLXvXiXSwVTG"
      },
      "source": [
        "###### 6. Монотонность\n",
        "Исследовать на периоде открытые интервалы (Interval.open), на которые период разбивают стационарные точки."
      ]
    },
    {
      "cell_type": "code",
      "execution_count": null,
      "metadata": {
        "id": "mq6w25bUwVTG",
        "outputId": "df485db0-5331-43bd-e894-2ab788739b56"
      },
      "outputs": [
        {
          "data": {
            "text/latex": [
              "$\\displaystyle \\left(\\frac{\\pi}{2}, \\frac{3 \\pi}{2}\\right)$"
            ],
            "text/plain": [
              "Interval.open(pi/2, 3*pi/2)"
            ]
          },
          "metadata": {},
          "output_type": "display_data"
        },
        {
          "name": "stdout",
          "output_type": "stream",
          "text": [
            "True None None None None\n"
          ]
        },
        {
          "data": {
            "text/latex": [
              "$\\displaystyle \\left(\\frac{3 \\pi}{2}, \\frac{5 \\pi}{2}\\right)$"
            ],
            "text/plain": [
              "Interval.open(3*pi/2, 5*pi/2)"
            ]
          },
          "metadata": {},
          "output_type": "display_data"
        },
        {
          "name": "stdout",
          "output_type": "stream",
          "text": [
            "True None None None None\n"
          ]
        }
      ],
      "source": [
        "intervals = [Interval.open(Pi/2, 3*Pi/2), Interval.open(3*Pi/2, 5*Pi/2)]\n",
        "for interval in intervals:\n",
        "    display(interval)\n",
        "    print(is_monotonic(f, interval=interval), \n",
        "           is_decreasing(f, interval=interval), \n",
        "           is_increasing(f, interval=interval), \n",
        "           is_strictly_decreasing(f, interval=interval), \n",
        "           is_strictly_increasing(f, interval=interval))"
      ]
    },
    {
      "cell_type": "markdown",
      "metadata": {
        "id": "L_Fk6zHwwVTG"
      },
      "source": [
        "###### 7. Минимальное и максимальное значение функции на интервале \n",
        "Найти максимальное и минимальное значение функции на каждом из интервалов монотонности в пределах одного периода"
      ]
    },
    {
      "cell_type": "code",
      "execution_count": null,
      "metadata": {
        "id": "6CS34oOYwVTH",
        "outputId": "87701bb1-637d-459f-887e-caae06b2af90"
      },
      "outputs": [
        {
          "data": {
            "text/latex": [
              "$\\displaystyle \\left(\\frac{\\pi}{2}, \\frac{3 \\pi}{2}\\right)$"
            ],
            "text/plain": [
              "Interval.open(pi/2, 3*pi/2)"
            ]
          },
          "metadata": {},
          "output_type": "display_data"
        },
        {
          "data": {
            "text/latex": [
              "$\\displaystyle \\left\\langle e^{-1}, e\\right\\rangle$"
            ],
            "text/plain": [
              "AccumBounds(exp(-1), E)"
            ]
          },
          "metadata": {},
          "output_type": "display_data"
        },
        {
          "data": {
            "text/latex": [
              "$\\displaystyle e$"
            ],
            "text/plain": [
              "E"
            ]
          },
          "metadata": {},
          "output_type": "display_data"
        },
        {
          "data": {
            "text/latex": [
              "$\\displaystyle e^{-1}$"
            ],
            "text/plain": [
              "exp(-1)"
            ]
          },
          "metadata": {},
          "output_type": "display_data"
        },
        {
          "data": {
            "text/latex": [
              "$\\displaystyle e - e^{-1}$"
            ],
            "text/plain": [
              "E - exp(-1)"
            ]
          },
          "metadata": {},
          "output_type": "display_data"
        },
        {
          "data": {
            "text/latex": [
              "$\\displaystyle \\frac{1}{2 e} + \\frac{e}{2}$"
            ],
            "text/plain": [
              "exp(-1)/2 + E/2"
            ]
          },
          "metadata": {},
          "output_type": "display_data"
        },
        {
          "name": "stdout",
          "output_type": "stream",
          "text": [
            "--------\n"
          ]
        },
        {
          "data": {
            "text/latex": [
              "$\\displaystyle \\left(\\frac{3 \\pi}{2}, \\frac{5 \\pi}{2}\\right)$"
            ],
            "text/plain": [
              "Interval.open(3*pi/2, 5*pi/2)"
            ]
          },
          "metadata": {},
          "output_type": "display_data"
        },
        {
          "data": {
            "text/latex": [
              "$\\displaystyle \\left\\langle e^{-1}, e\\right\\rangle$"
            ],
            "text/plain": [
              "AccumBounds(exp(-1), E)"
            ]
          },
          "metadata": {},
          "output_type": "display_data"
        },
        {
          "data": {
            "text/latex": [
              "$\\displaystyle e$"
            ],
            "text/plain": [
              "E"
            ]
          },
          "metadata": {},
          "output_type": "display_data"
        },
        {
          "data": {
            "text/latex": [
              "$\\displaystyle e^{-1}$"
            ],
            "text/plain": [
              "exp(-1)"
            ]
          },
          "metadata": {},
          "output_type": "display_data"
        },
        {
          "data": {
            "text/latex": [
              "$\\displaystyle e - e^{-1}$"
            ],
            "text/plain": [
              "E - exp(-1)"
            ]
          },
          "metadata": {},
          "output_type": "display_data"
        },
        {
          "data": {
            "text/latex": [
              "$\\displaystyle \\frac{1}{2 e} + \\frac{e}{2}$"
            ],
            "text/plain": [
              "exp(-1)/2 + E/2"
            ]
          },
          "metadata": {},
          "output_type": "display_data"
        },
        {
          "name": "stdout",
          "output_type": "stream",
          "text": [
            "--------\n"
          ]
        }
      ],
      "source": [
        "for left, right in [[Pi/2, 3*Pi/2], [3*Pi/2, 5*Pi/2]]:\n",
        "    display(Interval.open(left, right))\n",
        "    f_AccB = f.subs(x, AccumBounds(left, right))\n",
        "    display(f_AccB, f_AccB.max, f_AccB.min, f_AccB.delta, f_AccB.mid)\n",
        "    print(\"--------\")"
      ]
    },
    {
      "cell_type": "markdown",
      "metadata": {
        "id": "E00HOcgUwVTH"
      },
      "source": [
        "###### График функции на одном периоде."
      ]
    },
    {
      "cell_type": "code",
      "execution_count": null,
      "metadata": {
        "id": "1JfNk566wVTH"
      },
      "outputs": [],
      "source": [
        "plot((f, (x, Pi/2, 5*Pi/2)))"
      ]
    },
    {
      "cell_type": "markdown",
      "metadata": {
        "id": "tr1BgWmhwVTH"
      },
      "source": [
        "### Задание 2.  \n",
        "Исследовать функцию по п.1 - 5 на области определения и по п. 1 - 7  на одном периоде, построить график.\n",
        "$$\n",
        "f(x) = \\frac{1}{\\sin(x) + \\cos(x)}.\n",
        "$$\n",
        "###### 1. Область определения"
      ]
    },
    {
      "cell_type": "code",
      "execution_count": null,
      "metadata": {
        "id": "U17sbXZcwVTI",
        "outputId": "eeca35e7-6b29-4dd1-ccc1-a3f7e01405f4"
      },
      "outputs": [
        {
          "data": {
            "text/latex": [
              "$\\displaystyle \\mathbb{R} \\setminus \\left(\\left\\{2 n \\pi + \\frac{3 \\pi}{4}\\; |\\; n \\in \\mathbb{Z}\\right\\} \\cup \\left\\{2 n \\pi + \\frac{7 \\pi}{4}\\; |\\; n \\in \\mathbb{Z}\\right\\}\\right)$"
            ],
            "text/plain": [
              "Complement(Reals, Union(ImageSet(Lambda(_n, 2*_n*pi + 3*pi/4), Integers), ImageSet(Lambda(_n, 2*_n*pi + 7*pi/4), Integers)))"
            ]
          },
          "execution_count": 3,
          "metadata": {},
          "output_type": "execute_result"
        }
      ],
      "source": [
        "from sympy.abc import x\n",
        "f = 1 / (Sin(x) + Cos(x))\n",
        "D = continuous_domain(f, x, S.Reals)\n",
        "D"
      ]
    },
    {
      "cell_type": "markdown",
      "metadata": {
        "id": "r_LE3fYIwVTI"
      },
      "source": [
        "Сингулярные точки (точки, где функция не определена)"
      ]
    },
    {
      "cell_type": "code",
      "execution_count": null,
      "metadata": {
        "id": "s_cI1DnRwVTI",
        "outputId": "266eef15-f392-4ab8-fd8d-b954e186bbb1"
      },
      "outputs": [
        {
          "data": {
            "text/latex": [
              "$\\displaystyle \\left\\{2 n \\pi + \\frac{3 \\pi}{4}\\; |\\; n \\in \\mathbb{Z}\\right\\} \\cup \\left\\{2 n \\pi + \\frac{7 \\pi}{4}\\; |\\; n \\in \\mathbb{Z}\\right\\}$"
            ],
            "text/plain": [
              "Union(ImageSet(Lambda(_n, 2*_n*pi + 3*pi/4), Integers), ImageSet(Lambda(_n, 2*_n*pi + 7*pi/4), Integers))"
            ]
          },
          "execution_count": 5,
          "metadata": {},
          "output_type": "execute_result"
        }
      ],
      "source": [
        "singularities(f, x)"
      ]
    },
    {
      "cell_type": "markdown",
      "metadata": {
        "id": "yOqk4M0lwVTI"
      },
      "source": [
        "###### 2. Область значений"
      ]
    },
    {
      "cell_type": "code",
      "execution_count": null,
      "metadata": {
        "id": "TQQZcxNGwVTI",
        "outputId": "c0acc94a-2c29-43ad-8158-725820ccf516"
      },
      "outputs": [
        {
          "data": {
            "text/latex": [
              "$\\displaystyle \\left(-\\infty, - \\frac{\\sqrt{2}}{2}\\right] \\cup \\left[\\frac{\\sqrt{2}}{2}, \\infty\\right)$"
            ],
            "text/plain": [
              "Union(Interval(-oo, -sqrt(2)/2), Interval(sqrt(2)/2, oo))"
            ]
          },
          "execution_count": 6,
          "metadata": {},
          "output_type": "execute_result"
        }
      ],
      "source": [
        "function_range(f, x, S.Reals)"
      ]
    },
    {
      "cell_type": "markdown",
      "metadata": {
        "id": "zepb-PFbwVTJ"
      },
      "source": [
        "###### 3. Периодичность"
      ]
    },
    {
      "cell_type": "code",
      "execution_count": null,
      "metadata": {
        "id": "mo3SzBFowVTJ",
        "outputId": "fe88c334-2914-4b58-90d1-a732fdf51989"
      },
      "outputs": [
        {
          "data": {
            "text/latex": [
              "$\\displaystyle 2 \\pi$"
            ],
            "text/plain": [
              "2*pi"
            ]
          },
          "execution_count": 7,
          "metadata": {},
          "output_type": "execute_result"
        }
      ],
      "source": [
        "periodicity(f, x, check=False)"
      ]
    },
    {
      "cell_type": "markdown",
      "metadata": {
        "id": "HcdVWh5ywVTJ"
      },
      "source": [
        "###### 4. Стационарные точки"
      ]
    },
    {
      "cell_type": "code",
      "execution_count": null,
      "metadata": {
        "id": "8Ii4MDmKwVTJ",
        "outputId": "b631cd40-3d66-4120-98be-56dfef22aaa8"
      },
      "outputs": [
        {
          "data": {
            "text/latex": [
              "$\\displaystyle \\left(\\left\\{2 n \\pi + \\frac{5 \\pi}{4}\\; |\\; n \\in \\mathbb{Z}\\right\\} \\setminus \\left(\\left\\{2 n \\pi + \\frac{3 \\pi}{4}\\; |\\; n \\in \\mathbb{Z}\\right\\} \\cup \\left\\{2 n \\pi + \\frac{7 \\pi}{4}\\; |\\; n \\in \\mathbb{Z}\\right\\}\\right)\\right) \\cup \\left(\\left\\{2 n \\pi + \\frac{\\pi}{4}\\; |\\; n \\in \\mathbb{Z}\\right\\} \\setminus \\left(\\left\\{2 n \\pi + \\frac{3 \\pi}{4}\\; |\\; n \\in \\mathbb{Z}\\right\\} \\cup \\left\\{2 n \\pi + \\frac{7 \\pi}{4}\\; |\\; n \\in \\mathbb{Z}\\right\\}\\right)\\right)$"
            ],
            "text/plain": [
              "Union(Complement(ImageSet(Lambda(_n, 2*_n*pi + 5*pi/4), Integers), Union(ImageSet(Lambda(_n, 2*_n*pi + 3*pi/4), Integers), ImageSet(Lambda(_n, 2*_n*pi + 7*pi/4), Integers))), Complement(ImageSet(Lambda(_n, 2*_n*pi + pi/4), Integers), Union(ImageSet(Lambda(_n, 2*_n*pi + 3*pi/4), Integers), ImageSet(Lambda(_n, 2*_n*pi + 7*pi/4), Integers))))"
            ]
          },
          "execution_count": 9,
          "metadata": {},
          "output_type": "execute_result"
        }
      ],
      "source": [
        "stationary_points(f, x)"
      ]
    },
    {
      "cell_type": "markdown",
      "metadata": {
        "id": "ZFz3tOW_wVTJ"
      },
      "source": [
        "###### 5. Максимальное и минимальное значения функции"
      ]
    },
    {
      "cell_type": "code",
      "execution_count": null,
      "metadata": {
        "id": "FEp0tED7wVTJ",
        "outputId": "2e4cb668-84c4-485b-b585-17996abc2f51"
      },
      "outputs": [
        {
          "data": {
            "text/latex": [
              "$\\displaystyle \\infty$"
            ],
            "text/plain": [
              "oo"
            ]
          },
          "metadata": {},
          "output_type": "display_data"
        },
        {
          "data": {
            "text/latex": [
              "$\\displaystyle -\\infty$"
            ],
            "text/plain": [
              "-oo"
            ]
          },
          "metadata": {},
          "output_type": "display_data"
        }
      ],
      "source": [
        "display(maximum(f, x), minimum(f, x))"
      ]
    },
    {
      "cell_type": "markdown",
      "metadata": {
        "id": "XDxHsSi9wVTJ"
      },
      "source": [
        "##### Исследование периодической функции на одном периоде.\n",
        "Найти пересечение с периодом области определения, множества сингулярных точек и стационарных точек.\n",
        "###### 1. Область определения"
      ]
    },
    {
      "cell_type": "code",
      "execution_count": null,
      "metadata": {
        "id": "9M94Ce6mwVTK",
        "outputId": "17afd814-de6a-4310-84fd-2a759281901e"
      },
      "outputs": [
        {
          "data": {
            "text/latex": [
              "$\\displaystyle \\left[\\frac{\\pi}{4}, \\frac{3 \\pi}{4}\\right) \\cup \\left(\\frac{3 \\pi}{4}, \\frac{7 \\pi}{4}\\right) \\cup \\left(\\frac{7 \\pi}{4}, \\frac{9 \\pi}{4}\\right]$"
            ],
            "text/plain": [
              "Union(Interval.Ropen(pi/4, 3*pi/4), Interval.open(3*pi/4, 7*pi/4), Interval.Lopen(7*pi/4, 9*pi/4))"
            ]
          },
          "execution_count": 25,
          "metadata": {},
          "output_type": "execute_result"
        }
      ],
      "source": [
        "period_pi = Interval(Pi / 4, 9 * Pi / 4)\n",
        "continuous_domain(f, x, period_pi)"
      ]
    },
    {
      "cell_type": "markdown",
      "metadata": {
        "id": "csiG4LYYwVTK"
      },
      "source": [
        "Сингулярные точки (точки, где функция не определена)"
      ]
    },
    {
      "cell_type": "code",
      "execution_count": null,
      "metadata": {
        "id": "0OR12UaJwVTK",
        "outputId": "38dcceed-f14d-4236-a4a5-eafcdd418130"
      },
      "outputs": [
        {
          "data": {
            "text/latex": [
              "$\\displaystyle \\left\\{\\frac{3 \\pi}{4}, \\frac{7 \\pi}{4}\\right\\}$"
            ],
            "text/plain": [
              "FiniteSet(3*pi/4, 7*pi/4)"
            ]
          },
          "execution_count": 26,
          "metadata": {},
          "output_type": "execute_result"
        }
      ],
      "source": [
        "singularities(f, x, period_pi)"
      ]
    },
    {
      "cell_type": "markdown",
      "metadata": {
        "id": "GB7-M_vUwVTK"
      },
      "source": [
        "###### 2. Область значений"
      ]
    },
    {
      "cell_type": "code",
      "execution_count": null,
      "metadata": {
        "id": "kDxI9fe5wVTK",
        "outputId": "f1a2e4d2-cd98-4348-aa64-096a0e162f7d"
      },
      "outputs": [
        {
          "data": {
            "text/latex": [
              "$\\displaystyle \\left(-\\infty, - \\frac{\\sqrt{2}}{2}\\right] \\cup \\left[\\frac{\\sqrt{2}}{2}, \\infty\\right)$"
            ],
            "text/plain": [
              "Union(Interval(-oo, -sqrt(2)/2), Interval(sqrt(2)/2, oo))"
            ]
          },
          "execution_count": 27,
          "metadata": {},
          "output_type": "execute_result"
        }
      ],
      "source": [
        "function_range(f, x, period_pi)"
      ]
    },
    {
      "cell_type": "markdown",
      "metadata": {
        "id": "rN7m8H0DwVTK"
      },
      "source": [
        "###### 4. Стационарные точки"
      ]
    },
    {
      "cell_type": "code",
      "execution_count": null,
      "metadata": {
        "id": "4Bv_Kk0lwVTL",
        "outputId": "a5190230-07fb-45d9-ca1d-f123ee27adfc"
      },
      "outputs": [
        {
          "data": {
            "text/latex": [
              "$\\displaystyle \\left\\{\\frac{\\pi}{4}, \\frac{5 \\pi}{4}, \\frac{9 \\pi}{4}\\right\\}$"
            ],
            "text/plain": [
              "FiniteSet(pi/4, 5*pi/4, 9*pi/4)"
            ]
          },
          "execution_count": 28,
          "metadata": {},
          "output_type": "execute_result"
        }
      ],
      "source": [
        "stationary_points(f, x, period_pi)"
      ]
    },
    {
      "cell_type": "markdown",
      "metadata": {
        "id": "z_lPTfLqwVTL"
      },
      "source": [
        "###### 5. Максимальное и минимальное значения функции"
      ]
    },
    {
      "cell_type": "code",
      "execution_count": null,
      "metadata": {
        "id": "EqfQwDl5wVTL",
        "outputId": "3ad26a41-7a4a-4144-85d8-d32a13e73fac"
      },
      "outputs": [
        {
          "data": {
            "text/latex": [
              "$\\displaystyle \\infty$"
            ],
            "text/plain": [
              "oo"
            ]
          },
          "metadata": {},
          "output_type": "display_data"
        },
        {
          "data": {
            "text/latex": [
              "$\\displaystyle -\\infty$"
            ],
            "text/plain": [
              "-oo"
            ]
          },
          "metadata": {},
          "output_type": "display_data"
        }
      ],
      "source": [
        "display(maximum(f, x, period_pi), minimum(f, x, period_pi))"
      ]
    },
    {
      "cell_type": "markdown",
      "metadata": {
        "id": "RHwY3D0iwVTL"
      },
      "source": [
        "###### 6. Монотонность"
      ]
    },
    {
      "cell_type": "code",
      "execution_count": null,
      "metadata": {
        "id": "tY4ixK8YwVTL",
        "outputId": "be80bcb3-ec31-4048-8ca5-284b44878f54"
      },
      "outputs": [
        {
          "data": {
            "text/latex": [
              "$\\displaystyle \\left(\\frac{3 \\pi}{4}, \\frac{5 \\pi}{4}\\right)$"
            ],
            "text/plain": [
              "Interval.open(3*pi/4, 5*pi/4)"
            ]
          },
          "metadata": {},
          "output_type": "display_data"
        },
        {
          "name": "stdout",
          "output_type": "stream",
          "text": [
            "True False True False True\n"
          ]
        },
        {
          "data": {
            "text/latex": [
              "$\\displaystyle \\left(\\frac{5 \\pi}{4}, \\frac{7 \\pi}{4}\\right)$"
            ],
            "text/plain": [
              "Interval.open(5*pi/4, 7*pi/4)"
            ]
          },
          "metadata": {},
          "output_type": "display_data"
        },
        {
          "name": "stdout",
          "output_type": "stream",
          "text": [
            "True True False True False\n"
          ]
        },
        {
          "data": {
            "text/latex": [
              "$\\displaystyle \\left(\\frac{7 \\pi}{4}, \\frac{9 \\pi}{4}\\right)$"
            ],
            "text/plain": [
              "Interval.open(7*pi/4, 9*pi/4)"
            ]
          },
          "metadata": {},
          "output_type": "display_data"
        },
        {
          "name": "stdout",
          "output_type": "stream",
          "text": [
            "True False False False False\n"
          ]
        }
      ],
      "source": [
        "intervals = [Interval.open(k*Pi/4, (k + 2)*Pi/4) for k in range(3, 9, 2)]\n",
        "for interval in intervals:\n",
        "    display(interval)\n",
        "    print(is_monotonic(f, interval=interval),\n",
        "    is_decreasing(f, interval=interval), is_increasing(f, interval=interval),\n",
        "    is_strictly_decreasing(f, interval=interval), is_strictly_increasing(f, interval=interval))\n"
      ]
    },
    {
      "cell_type": "markdown",
      "metadata": {
        "id": "c2DunZ9mwVTL"
      },
      "source": [
        "###### 7. Минимальное и максимальное значение функции на периоде"
      ]
    },
    {
      "cell_type": "code",
      "execution_count": null,
      "metadata": {
        "id": "A24cAq4KwVTL",
        "outputId": "95310775-e553-40f4-c4a9-e5330a38f51d"
      },
      "outputs": [
        {
          "data": {
            "text/latex": [
              "$\\displaystyle \\left(\\frac{3 \\pi}{4}, \\frac{5 \\pi}{4}\\right)$"
            ],
            "text/plain": [
              "Interval.open(3*pi/4, 5*pi/4)"
            ]
          },
          "metadata": {},
          "output_type": "display_data"
        },
        {
          "data": {
            "text/latex": [
              "$\\displaystyle \\left\\langle -\\infty, \\frac{1}{-1 - \\frac{\\sqrt{2}}{2}}\\right\\rangle$"
            ],
            "text/plain": [
              "AccumBounds(-oo, 1/(-1 - sqrt(2)/2))"
            ]
          },
          "metadata": {},
          "output_type": "display_data"
        },
        {
          "data": {
            "text/latex": [
              "$\\displaystyle \\frac{1}{-1 - \\frac{\\sqrt{2}}{2}}$"
            ],
            "text/plain": [
              "1/(-1 - sqrt(2)/2)"
            ]
          },
          "metadata": {},
          "output_type": "display_data"
        },
        {
          "data": {
            "text/latex": [
              "$\\displaystyle -\\infty$"
            ],
            "text/plain": [
              "-oo"
            ]
          },
          "metadata": {},
          "output_type": "display_data"
        },
        {
          "data": {
            "text/latex": [
              "$\\displaystyle \\infty$"
            ],
            "text/plain": [
              "oo"
            ]
          },
          "metadata": {},
          "output_type": "display_data"
        },
        {
          "data": {
            "text/latex": [
              "$\\displaystyle -\\infty$"
            ],
            "text/plain": [
              "-oo"
            ]
          },
          "metadata": {},
          "output_type": "display_data"
        },
        {
          "name": "stdout",
          "output_type": "stream",
          "text": [
            "-----------\n"
          ]
        },
        {
          "data": {
            "text/latex": [
              "$\\displaystyle \\left(\\frac{5 \\pi}{4}, \\frac{7 \\pi}{4}\\right)$"
            ],
            "text/plain": [
              "Interval.open(5*pi/4, 7*pi/4)"
            ]
          },
          "metadata": {},
          "output_type": "display_data"
        },
        {
          "data": {
            "text/latex": [
              "$\\displaystyle \\left\\langle -\\infty, \\frac{1}{-1 - \\frac{\\sqrt{2}}{2}}\\right\\rangle$"
            ],
            "text/plain": [
              "AccumBounds(-oo, 1/(-1 - sqrt(2)/2))"
            ]
          },
          "metadata": {},
          "output_type": "display_data"
        },
        {
          "data": {
            "text/latex": [
              "$\\displaystyle \\frac{1}{-1 - \\frac{\\sqrt{2}}{2}}$"
            ],
            "text/plain": [
              "1/(-1 - sqrt(2)/2)"
            ]
          },
          "metadata": {},
          "output_type": "display_data"
        },
        {
          "data": {
            "text/latex": [
              "$\\displaystyle -\\infty$"
            ],
            "text/plain": [
              "-oo"
            ]
          },
          "metadata": {},
          "output_type": "display_data"
        },
        {
          "data": {
            "text/latex": [
              "$\\displaystyle \\infty$"
            ],
            "text/plain": [
              "oo"
            ]
          },
          "metadata": {},
          "output_type": "display_data"
        },
        {
          "data": {
            "text/latex": [
              "$\\displaystyle -\\infty$"
            ],
            "text/plain": [
              "-oo"
            ]
          },
          "metadata": {},
          "output_type": "display_data"
        },
        {
          "name": "stdout",
          "output_type": "stream",
          "text": [
            "-----------\n"
          ]
        },
        {
          "data": {
            "text/latex": [
              "$\\displaystyle \\left(\\frac{7 \\pi}{4}, \\frac{9 \\pi}{4}\\right)$"
            ],
            "text/plain": [
              "Interval.open(7*pi/4, 9*pi/4)"
            ]
          },
          "metadata": {},
          "output_type": "display_data"
        },
        {
          "data": {
            "text/latex": [
              "$\\displaystyle \\left\\langle \\frac{1}{\\frac{\\sqrt{2}}{2} + 1}, \\infty\\right\\rangle$"
            ],
            "text/plain": [
              "AccumBounds(1/(sqrt(2)/2 + 1), oo)"
            ]
          },
          "metadata": {},
          "output_type": "display_data"
        },
        {
          "data": {
            "text/latex": [
              "$\\displaystyle \\infty$"
            ],
            "text/plain": [
              "oo"
            ]
          },
          "metadata": {},
          "output_type": "display_data"
        },
        {
          "data": {
            "text/latex": [
              "$\\displaystyle \\frac{1}{\\frac{\\sqrt{2}}{2} + 1}$"
            ],
            "text/plain": [
              "1/(sqrt(2)/2 + 1)"
            ]
          },
          "metadata": {},
          "output_type": "display_data"
        },
        {
          "data": {
            "text/latex": [
              "$\\displaystyle \\infty$"
            ],
            "text/plain": [
              "oo"
            ]
          },
          "metadata": {},
          "output_type": "display_data"
        },
        {
          "data": {
            "text/latex": [
              "$\\displaystyle \\infty$"
            ],
            "text/plain": [
              "oo"
            ]
          },
          "metadata": {},
          "output_type": "display_data"
        },
        {
          "name": "stdout",
          "output_type": "stream",
          "text": [
            "-----------\n"
          ]
        }
      ],
      "source": [
        "intervals = [[k*Pi/4, (k + 2)*Pi/4] for k in range(3, 9, 2)]\n",
        "for left, right in intervals:\n",
        "    display(Interval.open(left, right))\n",
        "    f_AccB = f.subs(x, AccumBounds(left, right))\n",
        "    display(f_AccB, f_AccB.max, f_AccB.min, f_AccB.delta, f_AccB.mid)\n",
        "    print(\"-----------\")"
      ]
    },
    {
      "cell_type": "markdown",
      "metadata": {
        "id": "So2nlnAtwVTM"
      },
      "source": [
        "###### График"
      ]
    },
    {
      "cell_type": "code",
      "execution_count": null,
      "metadata": {
        "id": "fdArJpM-wVTM"
      },
      "outputs": [],
      "source": [
        "plot((f, (x, 3*Pi/4+0.01, 7*Pi/4-0.01)), (f, (x, 7*Pi/4+0.01, 11*Pi/4-0.01)))"
      ]
    },
    {
      "cell_type": "markdown",
      "metadata": {
        "id": "ma8LFIxuwVTM"
      },
      "source": [
        "### Индивидуальное задание.  \n",
        "Исследовать функцию $f(x)$, найти минимальное и максимальное значение на каком-нибудь конечном интервале, не содержащем точек разрыва, построить график.\n",
        "###### 1. Область определения"
      ]
    },
    {
      "cell_type": "markdown",
      "metadata": {
        "id": "1FSYir3MwVTM"
      },
      "source": [
        "Вариант 36\n",
        "\n",
        "$f(x) = 4 x^{2} \\sqrt{2 - x^{2}}$"
      ]
    },
    {
      "cell_type": "code",
      "execution_count": null,
      "metadata": {
        "id": "y-FM7uWawVTM",
        "outputId": "0ccbb326-2be9-41db-8b71-0f76ec3e7de6"
      },
      "outputs": [
        {
          "data": {
            "text/latex": [
              "$\\displaystyle \\left[-1, 1\\right]$"
            ],
            "text/plain": [
              "Interval(-1, 1)"
            ]
          },
          "execution_count": 51,
          "metadata": {},
          "output_type": "execute_result"
        }
      ],
      "source": [
        "from sympy.abc import x\n",
        "f = 4*x*x*(2-x*x)**(1/2)\n",
        "period_pi = Interval(-1, 1)\n",
        "continuous_domain(f, x, period_pi)"
      ]
    },
    {
      "cell_type": "markdown",
      "metadata": {
        "id": "U-9sG4b5wVTM"
      },
      "source": [
        "Сингулярные точки (точки, где функция не определена)"
      ]
    },
    {
      "cell_type": "code",
      "execution_count": null,
      "metadata": {
        "id": "iTAKijU3wVTM",
        "outputId": "016fbea1-a54c-460f-8110-0e7cd9e7d9c3"
      },
      "outputs": [
        {
          "data": {
            "text/latex": [
              "$\\displaystyle \\emptyset$"
            ],
            "text/plain": [
              "EmptySet"
            ]
          },
          "execution_count": 52,
          "metadata": {},
          "output_type": "execute_result"
        }
      ],
      "source": [
        "singularities(f, x, period_pi)"
      ]
    },
    {
      "cell_type": "markdown",
      "metadata": {
        "id": "4kcBYBObwVTN"
      },
      "source": [
        "###### 2. Область значений"
      ]
    },
    {
      "cell_type": "code",
      "execution_count": null,
      "metadata": {
        "id": "KYfMaXBIwVTN"
      },
      "outputs": [],
      "source": [
        "function_range(f, x, period_pi)"
      ]
    },
    {
      "cell_type": "markdown",
      "metadata": {
        "id": "Kjt2jBoJwVTN"
      },
      "source": [
        "###### 3. Периодичность"
      ]
    },
    {
      "cell_type": "code",
      "execution_count": null,
      "metadata": {
        "id": "96anrdAjwVTN"
      },
      "outputs": [],
      "source": [
        "periodicity(f, x, check=False)"
      ]
    },
    {
      "cell_type": "markdown",
      "metadata": {
        "id": "AFlwHVLPwVTO"
      },
      "source": [
        "###### 4. Стационарные точки"
      ]
    },
    {
      "cell_type": "code",
      "execution_count": null,
      "metadata": {
        "id": "JopgYIUXwVTO",
        "outputId": "8178a56d-52a2-437b-8e63-0b35a53eaf1e"
      },
      "outputs": [
        {
          "data": {
            "text/latex": [
              "$\\displaystyle \\left\\{x \\mid x \\in \\left[-1, 1\\right] \\wedge - \\frac{4.0 x^{3}}{\\left(2 - x^{2}\\right)^{0.5}} + 8 x \\left(2 - x^{2}\\right)^{0.5} = 0 \\right\\}$"
            ],
            "text/plain": [
              "ConditionSet(x, Eq(-4.0*x**3*(2 - x**2)**(-0.5) + 8*x*(2 - x**2)**0.5, 0), Interval(-1, 1))"
            ]
          },
          "execution_count": 57,
          "metadata": {},
          "output_type": "execute_result"
        }
      ],
      "source": [
        "stationary_points(f, x, period_pi)"
      ]
    },
    {
      "cell_type": "markdown",
      "metadata": {
        "id": "hkYfstYOwVTO"
      },
      "source": [
        "###### 5. Максимальное и минимальное значения функции"
      ]
    },
    {
      "cell_type": "code",
      "execution_count": null,
      "metadata": {
        "id": "cu8ZO98NwVTO"
      },
      "outputs": [],
      "source": [
        "display(maximum(f, x, period_pi), minimum(f, x, period_pi))"
      ]
    },
    {
      "cell_type": "markdown",
      "metadata": {
        "id": "K4q4OHdawVTO"
      },
      "source": [
        "###### 6. Монотонность  "
      ]
    },
    {
      "cell_type": "code",
      "execution_count": null,
      "metadata": {
        "id": "0iw_M54NwVTO",
        "outputId": "5127c6e0-5ca2-4fa2-c7eb-274a7079234f"
      },
      "outputs": [
        {
          "data": {
            "text/latex": [
              "$\\displaystyle \\left[-1, 1\\right]$"
            ],
            "text/plain": [
              "Interval(-1, 1)"
            ]
          },
          "metadata": {},
          "output_type": "display_data"
        },
        {
          "name": "stdout",
          "output_type": "stream",
          "text": [
            "False None None None None\n"
          ]
        }
      ],
      "source": [
        "intervals = [period_pi]\n",
        "for interval in intervals:\n",
        "    display(interval)\n",
        "    print(is_monotonic(f, interval=interval),\n",
        "    is_decreasing(f, interval=interval), is_increasing(f, interval=interval),\n",
        "    is_strictly_decreasing(f, interval=interval), is_strictly_increasing(f, interval=interval))\n"
      ]
    },
    {
      "cell_type": "markdown",
      "metadata": {
        "id": "GemZ7VxqwVTO"
      },
      "source": [
        "###### 7. Минимальное и максимальное значение функции на интервале "
      ]
    },
    {
      "cell_type": "code",
      "execution_count": null,
      "metadata": {
        "id": "RYEI83C4wVTP"
      },
      "outputs": [],
      "source": [
        "intervals = [[-1, 1]]\n",
        "for left, right in intervals:\n",
        "    display(Interval.open(left, right))\n",
        "    f_AccB = f.subs(x, AccumBounds(left, right))\n",
        "    display(f_AccB, f_AccB.max, f_AccB.min, f_AccB.delta, f_AccB.mid)\n",
        "    print(\"-----------\")"
      ]
    },
    {
      "cell_type": "markdown",
      "metadata": {
        "id": "ih_TmlCqwVTP"
      },
      "source": [
        "###### График"
      ]
    },
    {
      "cell_type": "code",
      "execution_count": null,
      "metadata": {
        "id": "Kg1s484HwVTP"
      },
      "outputs": [],
      "source": [
        "plot((f, (x, -1, 1)))"
      ]
    },
    {
      "cell_type": "code",
      "execution_count": null,
      "metadata": {
        "id": "qFF4iywawVTP"
      },
      "outputs": [],
      "source": []
    }
  ],
  "metadata": {
    "kernelspec": {
      "display_name": "Python 3",
      "language": "python",
      "name": "python3"
    },
    "language_info": {
      "codemirror_mode": {
        "name": "ipython",
        "version": 3
      },
      "file_extension": ".py",
      "mimetype": "text/x-python",
      "name": "python",
      "nbconvert_exporter": "python",
      "pygments_lexer": "ipython3",
      "version": "3.8.1"
    },
    "colab": {
      "provenance": []
    }
  },
  "nbformat": 4,
  "nbformat_minor": 0
}