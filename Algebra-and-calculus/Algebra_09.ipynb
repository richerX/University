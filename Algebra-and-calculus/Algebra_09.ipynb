{
  "cells": [
    {
      "cell_type": "code",
      "execution_count": null,
      "metadata": {
        "id": "Cd1NM92UvT7Z"
      },
      "outputs": [],
      "source": [
        "import sympy\n",
        "from sympy import  Point, Line, Segment, Polygon, RegularPolygon\n",
        "from sympy import sin as Sin\n",
        "from sympy import cos as Cos\n",
        "from sympy import pi as Pi\n",
        "import matplotlib.pyplot as plt"
      ]
    },
    {
      "cell_type": "markdown",
      "metadata": {
        "id": "I41fKEi2vT7a"
      },
      "source": [
        "# Занятие 9\n",
        "# Алгебра\n",
        "##  Geometry: многоугольники на плоскости, принадлежность точки многоугольнику.\n",
        "### Задание 1.\n",
        "Построить равнобедренный треугольник АВС (АВ = ВС) с вершиной В в начале координат, так что биссектриса ВD образует угол 45 градусов с положительным направлением оси ОХ и 30 градусов со стороной АВ, точка А расположена между осью OY и лучом ВD,  длина АС равна 3. \n",
        "\n",
        "У полученного треугольника вывести на экран длины сторон.\n",
        "\n",
        "Указание: напротив угла 30 градусов в прямоугольном треугольнике лежит катет, равный половине гипотенузы, в равнобедренном треугольнике биссектриса, проведенная к основанию, является медианой и высотой. Координаты точки равны произведению длины отрезка, соединяющего точку с началом координат и косинуса (синуса) угла, образованного этим отрезком и положительным направлением горизонтальной оси."
      ]
    },
    {
      "cell_type": "code",
      "execution_count": null,
      "metadata": {
        "id": "0v6zx-GzvT7b"
      },
      "outputs": [],
      "source": [
        "A = Point(Sin(Pi/12) * 3, -Sin(5*Pi/12) * 3)\n",
        "B = Point(0, 0)\n",
        "C = Point(Sin(5*Pi/12) * 3, -Sin(Pi/12) * 3)\n",
        "Points = [A, B, C]\n",
        "polygon = Polygon(*Points)\n",
        "\n",
        "ax = plt.gca()\n",
        "ax.set_aspect('equal')\n",
        "vertices = polygon.vertices\n",
        "points_x = [item.x for item in vertices] + [vertices[0].x]\n",
        "points_y = [item.y for item in vertices] + [vertices[0].y]\n",
        "ax.plot(points_x, points_y, \"black\")\n",
        "\n",
        "ax.annotate(\"A\", xy=(points_x[0] + 0.02, points_y[0] + 0.3), xycoords='data')\n",
        "ax.annotate(\"B\", xy=(points_x[1] + 0.2, points_y[1] - 0.3), xycoords='data')\n",
        "ax.annotate(\"C\", xy=(points_x[2] - 0.35, points_y[2] - 0.1), xycoords='data')\n",
        "\n",
        "ax.annotate(str(sympy.simplify(A.distance(B))), xy=(points_x[0] + 1.2, points_y[0] + 0.9), xycoords='data')\n",
        "ax.annotate(str(sympy.simplify(A.distance(C))), xy=(points_x[1] + 0.2, points_y[1] - 1.5), xycoords='data')\n",
        "ax.annotate(str(sympy.simplify(B.distance(C))), xy=(points_x[2] - 1.5, points_y[2] + 0.5), xycoords='data')"
      ]
    },
    {
      "cell_type": "markdown",
      "metadata": {
        "id": "enui1OSsvT7c"
      },
      "source": [
        "### Задание 2.\n",
        "Построить четырехугольник ABCD, где точки A, B и C из Примера 1, а точка D - центр ABC. Найти площадь, периметр и центр ABCD.\n",
        "Изобразить ABC и ABCD на графике. Выпуклый ли многоугольник?"
      ]
    },
    {
      "cell_type": "code",
      "execution_count": null,
      "metadata": {
        "id": "EPcgA0UdvT7d"
      },
      "outputs": [],
      "source": [
        "# Вводим переменные\n",
        "A = Point(Sin(Pi/12) * 3, -Sin(5*Pi/12) * 3)\n",
        "B = Point(0, 0)\n",
        "C = Point(Sin(5*Pi/12) * 3, -Sin(Pi/12) * 3)\n",
        "D = Polygon(A, B, C).centroid\n",
        "\n",
        "# Создаем график\n",
        "ax = plt.gca()\n",
        "ax.set_aspect('equal')\n",
        "\n",
        "# Рисуем треугольник\n",
        "polygon = Polygon(A, B, C)\n",
        "vertices = polygon.vertices\n",
        "points_x = [item.x for item in vertices] + [vertices[0].x]\n",
        "points_y = [item.y for item in vertices] + [vertices[0].y]\n",
        "ax.plot(points_x, points_y, \"black\")\n",
        "\n",
        "# Рисуем четырехугольник\n",
        "polygon = Polygon(A, B, C, D)\n",
        "vertices = polygon.vertices\n",
        "points_x = [item.x for item in vertices] + [vertices[0].x]\n",
        "points_y = [item.y for item in vertices] + [vertices[0].y]\n",
        "ax.plot(points_x, points_y, \"black\")\n",
        "\n",
        "# Подписи\n",
        "ax.annotate(\"A\", xy=(points_x[0] - 0.05, points_y[0] + 0.5), xycoords='data')\n",
        "ax.annotate(\"B\", xy=(points_x[1] + 0.2, points_y[1] - 0.3), xycoords='data')\n",
        "ax.annotate(\"C\", xy=(points_x[2] - 0.6, points_y[2] - 0.03), xycoords='data')\n",
        "ax.annotate(\"D\", xy=(points_x[3] - 0.15, points_y[3] + 0.05), xycoords='data')\n",
        "\n",
        "print(f\"Area = {sympy.simplify(polygon.area)}\")\n",
        "print(f\"Perimetr = {sympy.simplify(polygon.perimeter)}\")\n",
        "print(f\"Centr = {sympy.simplify(polygon.centroid)}\")"
      ]
    },
    {
      "cell_type": "markdown",
      "metadata": {
        "id": "e83KjgygvT7d"
      },
      "source": [
        "### Задание 3\n",
        "Постоить ромб ALCD с точками A, C и D из Заданий 1 и 2. Найти общую часть треугольника BLC и ромба и вывести на экран в виде имен точек, отрезков и т.п., изобразить на графике  треугольник зеленым, ромб - фиолетовым. \n",
        "\n",
        "Указание: диагонали ромба пересекаются в серединах; имя точки искать в словаре имен."
      ]
    },
    {
      "cell_type": "code",
      "execution_count": null,
      "metadata": {
        "id": "zsQ0Wz7IvT7d"
      },
      "outputs": [],
      "source": [
        "# Вводим переменные\n",
        "A = Point(Sin(Pi/12) * 3, -Sin(5*Pi/12) * 3)\n",
        "B = Point(0, 0)\n",
        "C = Point(Sin(5*Pi/12) * 3, -Sin(Pi/12) * 3)\n",
        "D = Polygon(A, B, C).centroid\n",
        "L = C + (A - D)\n",
        "polygon = Polygon(A, L, C, D)\n",
        "\n",
        "# Создаем график\n",
        "ax = plt.gca()\n",
        "ax.set_aspect('equal')\n",
        "\n",
        "# Рисуем фигуру\n",
        "polygon = Polygon(A, L, C, D)\n",
        "vertices = polygon.vertices\n",
        "points_x = [item.x for item in vertices] + [vertices[0].x]\n",
        "points_y = [item.y for item in vertices] + [vertices[0].y]\n",
        "ax.plot(points_x, points_y, \"purple\")\n",
        "\n",
        "# Рисуем фигуру\n",
        "polygon = Polygon(B, L, C)\n",
        "vertices = polygon.vertices\n",
        "points_x = [item.x for item in vertices] + [vertices[0].x]\n",
        "points_y = [item.y for item in vertices] + [vertices[0].y]\n",
        "ax.plot(points_x, points_y, \"green\")\n",
        "\n",
        "# Подписи\n",
        "polygon = Polygon(A, B, C, D, L)\n",
        "vertices = polygon.vertices\n",
        "points_x = [item.x for item in vertices] + [vertices[0].x]\n",
        "points_y = [item.y for item in vertices] + [vertices[0].y]\n",
        "ax.annotate(\"A\", xy=(points_x[0] - 0.2, points_y[0]), xycoords='data')\n",
        "ax.annotate(\"B\", xy=(points_x[1] - 0.05, points_y[1] - 0.25), xycoords='data')\n",
        "ax.annotate(\"C\", xy=(points_x[2] - 0.03, points_y[2] + 0.1), xycoords='data')\n",
        "ax.annotate(\"D\", xy=(points_x[3] - 0.05, points_y[3] + 0.1), xycoords='data')\n",
        "ax.annotate(\"L\", xy=(points_x[4] - 0.25, points_y[4] + 0.05), xycoords='data')\n",
        "\n",
        "# Общие точки и прочее\n",
        "print(f\"Общие точки: B, C, D, L\")\n",
        "print(f\"Общие отрезки: CL\")\n",
        "\n",
        "polygon1 = Polygon(A, L, C, D)\n",
        "polygon2 = Polygon(B, L, C)\n",
        "print(polygon1.intersection(polygon2))"
      ]
    },
    {
      "cell_type": "markdown",
      "metadata": {
        "id": "1zFngs9UvT7e"
      },
      "source": [
        "### Индивидуальное задание\n",
        "\n",
        "Построить на одном графике правильный треугольник, шестиугольник и восьмиугольник с радиусом описанной окружности $R$, центром в точке O.\n",
        "\n",
        "Повернуть треугольник на $\\alpha$ градусов, изобразить старый и новый треугольники на одном графике.\n",
        "\n",
        "Найти общую область правильного шестиугольника и его копии, повернутой на угол $\\beta$ градусов."
      ]
    },
    {
      "cell_type": "markdown",
      "metadata": {
        "id": "sHCcdiNZvT7e"
      },
      "source": [
        "\n",
        "Вариант N 36\n",
        "\n",
        "$R = 7$, $\\alpha = 135$, $\\beta = 45$, O(-6, -8)."
      ]
    },
    {
      "cell_type": "code",
      "execution_count": null,
      "metadata": {
        "id": "85dMxUsYvT7e"
      },
      "outputs": [],
      "source": [
        "def draw_polygon(polygon, color):\n",
        "    ax = plt.gca()\n",
        "    ax.set_aspect('equal')\n",
        "    vertices = polygon.vertices\n",
        "    points_x = [item.x for item in vertices] + [vertices[0].x]\n",
        "    points_y = [item.y for item in vertices] + [vertices[0].y]\n",
        "    ax.plot(points_x, points_y, color)\n",
        "\n",
        "\n",
        "center = Point(-6, -8)\n",
        "draw_polygon(RegularPolygon(center, 7, 3), \"orange\")\n",
        "draw_polygon(RegularPolygon(center, 7, 6), \"purple\")\n",
        "draw_polygon(RegularPolygon(center, 7, 8), \"black\")"
      ]
    },
    {
      "cell_type": "code",
      "execution_count": null,
      "metadata": {
        "id": "EKWHaerLvT7e"
      },
      "outputs": [],
      "source": [
        "def draw_polygon(polygon, color):\n",
        "    ax = plt.gca()\n",
        "    ax.set_aspect('equal')\n",
        "    vertices = polygon.vertices\n",
        "    points_x = [item.x for item in vertices] + [vertices[0].x]\n",
        "    points_y = [item.y for item in vertices] + [vertices[0].y]\n",
        "    ax.plot(points_x, points_y, color)\n",
        "    for i, x_coord in enumerate(points_x[:-1]):\n",
        "        ax.annotate('A' + str(i + 1),xy=(x_coord + 0.1, points_y[i] + 0.1), xycoords='data')\n",
        "\n",
        "\n",
        "center = Point(-6, -8)\n",
        "draw_polygon(RegularPolygon(center, 7, 3), \"orange\")\n",
        "draw_polygon(RegularPolygon(center, 7, 3).rotate(3*sympy.pi/4, center), \"black\")"
      ]
    },
    {
      "cell_type": "code",
      "execution_count": null,
      "metadata": {
        "id": "Gi-BhnWZvT7f"
      },
      "outputs": [],
      "source": [
        "def draw_polygon(polygon, color):\n",
        "    ax = plt.gca()\n",
        "    ax.set_aspect('equal')\n",
        "    vertices = polygon.vertices\n",
        "    points_x = [item.x for item in vertices] + [vertices[0].x]\n",
        "    points_y = [item.y for item in vertices] + [vertices[0].y]\n",
        "    ax.plot(points_x, points_y, color)\n",
        "\n",
        "\n",
        "center = Point(-6, -8)\n",
        "polygon1 = RegularPolygon(center, 7, 6)\n",
        "polygon2 = RegularPolygon(center, 7, 6).rotate(sympy.pi/4, center)\n",
        "draw_polygon(polygon1, \"purple\")\n",
        "draw_polygon(polygon2, \"black\")\n",
        "\n",
        "# Оранжевое - это пересечение\n",
        "points = polygon1.intersection(polygon2)\n",
        "polygon3 = Polygon(points[0], points[10], points[4], points[11], points[5], points[6], points[1], points[8], points[3], points[9], points[2], points[7])\n",
        "draw_polygon(polygon3, \"orange\")"
      ]
    },
    {
      "cell_type": "code",
      "execution_count": null,
      "metadata": {
        "id": "vGTY4tGkvT7f"
      },
      "outputs": [],
      "source": []
    }
  ],
  "metadata": {
    "kernelspec": {
      "display_name": "Python 3",
      "language": "python",
      "name": "python3"
    },
    "language_info": {
      "codemirror_mode": {
        "name": "ipython",
        "version": 3
      },
      "file_extension": ".py",
      "mimetype": "text/x-python",
      "name": "python",
      "nbconvert_exporter": "python",
      "pygments_lexer": "ipython3",
      "version": "3.8.1"
    },
    "colab": {
      "provenance": []
    }
  },
  "nbformat": 4,
  "nbformat_minor": 0
}