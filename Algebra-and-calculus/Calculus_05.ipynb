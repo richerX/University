{
  "cells": [
    {
      "cell_type": "markdown",
      "metadata": {
        "id": "QEZo3gRqw0eu"
      },
      "source": [
        "## Практическое занятие 5\n",
        "## Математический анализ\n",
        "## Численное решение нелинейных уравнений: nsolve\n",
        "https://docs.sympy.org/latest/modules/solvers/solvers.html?highlight=nsolve#sympy.solvers.solvers.nsolve\n",
        "\n",
        "#### Уравнение в форме $f(x)=0$"
      ]
    },
    {
      "cell_type": "code",
      "execution_count": null,
      "metadata": {
        "id": "BsfBL-D1w0ev"
      },
      "outputs": [],
      "source": [
        "import numpy as np\n",
        "import sympy\n",
        "from sympy import nsolve\n",
        "import matplotlib.pyplot as plt\n",
        "%matplotlib inline"
      ]
    },
    {
      "cell_type": "markdown",
      "metadata": {
        "id": "tx16Dkn1w0ew"
      },
      "source": [
        "### Задача 1\n",
        "Решить уравнение $𝑥^4−e^x=0$ при $-2 \\le x \\le 2$, построить график левой части, отметить точки пересечения с осью ОХ."
      ]
    },
    {
      "cell_type": "code",
      "execution_count": null,
      "metadata": {
        "id": "m_jLLT6dw0ew"
      },
      "outputs": [],
      "source": [
        "import matplotlib.pyplot as plt\n",
        "import numpy as np\n",
        "from sympy.abc import x\n",
        "\n",
        "# Построение графика\n",
        "X = np.linspace(-2, 2, 100)  # 100 - гладкость графика\n",
        "plt.plot(X, X ** 4 - np.e ** X)\n",
        "\n",
        "# Визуальные настройки\n",
        "ax = plt.gca()\n",
        "ax.spines['right'].set_color('none')\n",
        "ax.spines['top'].set_color('none')\n",
        "ax.spines['left'].set_position(('data', 0))\n",
        "ax.spines['bottom'].set_position(('data', 0))\n",
        "plt.xlim(-2, 2)\n",
        "plt.ylim(-2, 2)\n",
        "\n",
        "# Точки пересечения с осью OX\n",
        "root1 = sympy.nsolve(x ** 4 - np.e ** x, x, -0.8)\n",
        "root2 = sympy.nsolve(x ** 4 - np.e ** x, x, 1.4)\n",
        "plt.scatter([root1, root2], [0, 0])"
      ]
    },
    {
      "cell_type": "markdown",
      "metadata": {
        "id": "EjqrDqrlw0ex"
      },
      "source": [
        "### Задача 2.\n",
        "Решить уравнение $\\sin^2(2x)=\\ln x$ при $0< x \\le 3$. Построить графики левой и правой части, отметить точку пересечения графиков."
      ]
    },
    {
      "cell_type": "code",
      "execution_count": null,
      "metadata": {
        "id": "CBCwTencw0ex"
      },
      "outputs": [],
      "source": [
        "import matplotlib.pyplot as plt\n",
        "import numpy as np\n",
        "from sympy.abc import x\n",
        "\n",
        "# Построение графика\n",
        "X = np.linspace(0.0000001, 3, 100)  # 100 - гладкость графика\n",
        "plt.plot(X, np.sin(2 * X) ** 2)\n",
        "plt.plot(X, np.log(X))\n",
        "\n",
        "# Визуальные настройки\n",
        "ax = plt.gca()\n",
        "ax.spines['right'].set_color('none')\n",
        "ax.spines['top'].set_color('none')\n",
        "ax.spines['left'].set_position(('data', 0))\n",
        "ax.spines['bottom'].set_position(('data', 0))\n",
        "plt.xlim(0, 3)\n",
        "plt.ylim(-2, 2)\n",
        "\n",
        "# Точки пересечения графиков\n",
        "point1_x = sympy.nsolve(sympy.sin(2 * x) ** 2 - sympy.log(x), x, 1)\n",
        "point2_x = sympy.nsolve(sympy.sin(2 * x) ** 2 - sympy.log(x), x, 2)\n",
        "point1_y = sympy.sin(2 * point1_x) ** 2\n",
        "point2_y = sympy.sin(2 * point2_x) ** 2\n",
        "plt.scatter([point1_x, point2_x], [point1_y, point2_y])"
      ]
    },
    {
      "cell_type": "markdown",
      "metadata": {
        "id": "_lgcWU_Uw0ey"
      },
      "source": [
        "### Задача 3.\n",
        "Решить уравнение $\\sin^2(2x^2-7x+6)=3/4$ на $[3, 4]$. Построить графики левой и правой части, отметить точки пересечения графиков."
      ]
    },
    {
      "cell_type": "code",
      "execution_count": null,
      "metadata": {
        "id": "T80FCiTrw0ey"
      },
      "outputs": [],
      "source": [
        "import matplotlib.pyplot as plt\n",
        "import numpy as np\n",
        "from sympy.abc import x\n",
        "\n",
        "# Построение графика\n",
        "X = np.linspace(3, 4, 100)  # 100 - гладкость графика\n",
        "plt.plot(X, np.sin(2 * X * X - 7 * X + 6) ** 2)\n",
        "plt.plot(X, 0.75 + X * 0)\n",
        "\n",
        "# Визуальные настройки\n",
        "ax = plt.gca()\n",
        "ax.spines['right'].set_color('none')\n",
        "ax.spines['top'].set_color('none')\n",
        "ax.spines['bottom'].set_position(('data', 0))\n",
        "plt.xlim(3, 4)\n",
        "plt.ylim(0, 1)\n",
        "\n",
        "# Точки пересечения графиков\n",
        "points_x, points_y = [], []\n",
        "for precise_root in [2, 3, 3.5, 3.7]:\n",
        "    point_x = sympy.nsolve(sympy.sin(2 * x * x - 7 * x + 6) ** 2 - 0.75, x, precise_root)\n",
        "    point_y = 0.75\n",
        "    points_x.append(point_x)\n",
        "    points_y.append(point_y)\n",
        "print(points_x)\n",
        "plt.scatter(points_x, points_y)"
      ]
    },
    {
      "cell_type": "markdown",
      "metadata": {
        "id": "hzWgk6X9w0ey"
      },
      "source": [
        "### Задача 4.\n",
        "Решить уравнение ${\\rm tg}^4(2x^2+1)-10=0$ на интервале $[0, 0.2]$ методом дихотомии. График строить не нужно."
      ]
    },
    {
      "cell_type": "code",
      "execution_count": null,
      "metadata": {
        "id": "Es9N9IDfw0ey",
        "outputId": "5609b4de-8a11-4fbb-9030-b42756696a7a"
      },
      "outputs": [
        {
          "name": "stdout",
          "output_type": "stream",
          "text": [
            "0.171066377483446\n"
          ]
        },
        {
          "data": {
            "text/plain": [
              "[-2, -1, 0, 1, 2, -pi/2, -pi/4, pi/4, pi/2]"
            ]
          },
          "execution_count": 133,
          "metadata": {},
          "output_type": "execute_result"
        }
      ],
      "source": [
        "# Вычисление корня\n",
        "equation = sympy.Eq(sympy.tan(2 * x * x + 1) ** 4 - 10, 0)\n",
        "root = sympy.nsolve(equation, x, [0, 0.2], solver='bisect', verify=False)\n",
        "print(root)"
      ]
    },
    {
      "cell_type": "markdown",
      "metadata": {
        "id": "E8Mn6ejuw0ez"
      },
      "source": [
        "### Задача 5.\n",
        "Решить систему уравнений \n",
        "$$\n",
        "\\left\\{\\begin{matrix}\n",
        "(x - 1)^2 + (y - 2)^2 + (z + 3)^2 = 25\\\\\n",
        "x + y + z = 0\\\\\n",
        "-2x + 3y - z = 7\n",
        "\\end{matrix}\\right.\n",
        "$$\n",
        "начальное приближение (0, 0, 0).\n",
        "Проверить подстановкой."
      ]
    },
    {
      "cell_type": "code",
      "execution_count": null,
      "metadata": {
        "id": "tSWo8RGDw0ez",
        "outputId": "f3082160-1920-4c09-f3fd-e6129ed9a5dd"
      },
      "outputs": [
        {
          "name": "stdout",
          "output_type": "stream",
          "text": [
            "Matrix([[-2.08606699924184], [1.22848325018954], [0.857583749052298]])\n",
            "True\n",
            "False\n",
            "True\n"
          ]
        }
      ],
      "source": [
        "from sympy.abc import x, y, z\n",
        "\n",
        "# Подсчёт корня\n",
        "eq1 = sympy.Eq((x - 1)**2 + (y - 2)**2 + (z + 3) ** 2, 25)\n",
        "eq2 = sympy.Eq(x + y + z, 0)\n",
        "eq3 = sympy.Eq(-2*x+3*y-z, 7)\n",
        "root = sympy.nsolve((eq1, eq2, eq3), (x, y, z), (0, 0, 0))\n",
        "print(root)\n",
        "\n",
        "# Подстановка корня в систему уравнений\n",
        "x0, y0, z0 = root\n",
        "print((x0 - 1)**2 + (y0 - 2)**2 + (z0 + 3) ** 2 == 25)\n",
        "print(x0 + y0 + z0 == 0)  # wolfram -> -0.0000000000000002\n",
        "print(-2*x0+3*y0-z0 == 7)"
      ]
    },
    {
      "cell_type": "markdown",
      "metadata": {
        "id": "UlgzcPW7w0ez"
      },
      "source": [
        "### Индивидуальное задание\n",
        "Построить графики функций $f(x)$ и $g(x)$, уточнить координаты точек пересечения, решая численно соответствующее уравнение. На  графике отметить и подписать буквами $А_1$, $A_2$, ... точки пересечения графиков.  "
      ]
    },
    {
      "cell_type": "markdown",
      "metadata": {
        "id": "vRUjXs3Kw0ez"
      },
      "source": [
        "N36\n",
        "\\begin{align*}\n",
        " f(x) = \\frac{x^{2}}{9} + \\frac{11 x}{9} + \\frac{73}{9}\\\\\n",
        " g(x) = \\frac{5 x^{2}}{9} + \\frac{19 x}{9} + \\frac{41}{9}\n",
        "\\end{align*}"
      ]
    },
    {
      "cell_type": "code",
      "execution_count": null,
      "metadata": {
        "id": "rlZu-h2bw0ez"
      },
      "outputs": [],
      "source": [
        "import matplotlib.pyplot as plt\n",
        "import numpy as np\n",
        "from sympy.abc import x\n",
        "\n",
        "# Построение графика\n",
        "X = np.linspace(-10, 10, 1000)  # 100 - гладкость графика\n",
        "plt.plot(X, X**2/9 + 11*X/9 + 73/9)\n",
        "plt.plot(X, 5*X**2/9 + 19*X/9 + 41/9)\n",
        "\n",
        "# Визуальные настройки\n",
        "ax = plt.gca()\n",
        "ax.spines['right'].set_color('none')\n",
        "ax.spines['top'].set_color('none')\n",
        "ax.spines['left'].set_position(('data', 0))\n",
        "ax.spines['bottom'].set_position(('data', 0))\n",
        "plt.xlim(-6, 4)\n",
        "plt.ylim(0, 15)\n",
        "\n",
        "# Точки пересечения графиков\n",
        "points_x, points_y = [], []\n",
        "for precise_root in [-4, 2]:\n",
        "    point_x = sympy.nsolve(x**2/9 + 11*x/9 + 73/9 - 5*x**2/9 - 19*x/9 - 41/9 , x, precise_root)\n",
        "    point_y = point_x**2/9 + 11*point_x/9 + 73/9\n",
        "    points_x.append(point_x)\n",
        "    points_y.append(point_y)\n",
        "plt.scatter(points_x, points_y)\n",
        "\n",
        "ax.annotate('A1', xy=(points_x[0], points_y[0]), xycoords='data', xytext=(points_x[0] - 0.1, points_y[0] + 0.6), textcoords='data')\n",
        "ax.annotate('A2', xy=(points_x[1], points_y[1]), xycoords='data', xytext=(points_x[1] - 0.4, points_y[1] + 0.4), textcoords='data')"
      ]
    }
  ],
  "metadata": {
    "kernelspec": {
      "display_name": "Python 3",
      "language": "python",
      "name": "python3"
    },
    "language_info": {
      "codemirror_mode": {
        "name": "ipython",
        "version": 3
      },
      "file_extension": ".py",
      "mimetype": "text/x-python",
      "name": "python",
      "nbconvert_exporter": "python",
      "pygments_lexer": "ipython3",
      "version": "3.8.1"
    },
    "colab": {
      "provenance": []
    }
  },
  "nbformat": 4,
  "nbformat_minor": 0
}