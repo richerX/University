{
 "cells": [
  {
   "cell_type": "markdown",
   "metadata": {},
   "source": [
    "# Занятие 3\n",
    "# Алгебра\n",
    "## Решение систем линейных алгебраических уравнений (СЛАУ)"
   ]
  },
  {
   "cell_type": "markdown",
   "metadata": {},
   "source": [
    "https://docs.sympy.org/latest/modules/solvers/solveset.html#sympy.solvers.solveset.linsolve"
   ]
  },
  {
   "cell_type": "code",
   "execution_count": 1,
   "metadata": {},
   "outputs": [],
   "source": [
    "import sympy\n",
    "from sympy import linsolve, Matrix, S, Symbol, symbols, Eq, linear_eq_to_matrix, simplify"
   ]
  },
  {
   "cell_type": "markdown",
   "metadata": {},
   "source": [
    "### Задание 1.\n",
    "Решить СЛАУ, представив их тремя различными способами (расширенная матрица, список уравнений, матричный вид)\n",
    "$$\n",
    "a)\\ \\left\\{\n",
    "\\begin{matrix}\n",
    "-x+5y-3z=8\\\\\n",
    "4x-y+5z=-1\\\\\n",
    "3x+4y+5z=10\n",
    "\\end{matrix}\n",
    "\\right., \\quad \n",
    "b)\\ \\left\\{\n",
    "\\begin{matrix}\n",
    "-x+5y-3z=8\\\\\n",
    "4x-y+5z=-1\\\\\n",
    "3x+4y+2z=7\n",
    "\\end{matrix}\n",
    "\\right., \\quad \n",
    "c)\\ \\left\\{\n",
    "\\begin{matrix}\n",
    "-x+5y-3z=8\\\\\n",
    "4x-y+5z=-1\\\\\n",
    "3x+4y+2z=5\n",
    "\\end{matrix}\n",
    "\\right.\n",
    "$$"
   ]
  },
  {
   "cell_type": "code",
   "execution_count": 2,
   "metadata": {},
   "outputs": [
    {
     "data": {
      "text/latex": [
       "$\\displaystyle \\left\\{\\left( -1, \\  2, \\  1\\right)\\right\\}$"
      ],
      "text/plain": [
       "FiniteSet((-1, 2, 1))"
      ]
     },
     "metadata": {},
     "output_type": "display_data"
    },
    {
     "data": {
      "text/latex": [
       "$\\displaystyle \\left\\{\\left( \\frac{3}{19} - \\frac{22 z}{19}, \\  \\frac{7 z}{19} + \\frac{31}{19}, \\  z\\right)\\right\\}$"
      ],
      "text/plain": [
       "FiniteSet((3/19 - 22*z/19, 7*z/19 + 31/19, z))"
      ]
     },
     "metadata": {},
     "output_type": "display_data"
    },
    {
     "data": {
      "text/latex": [
       "$\\displaystyle \\emptyset$"
      ],
      "text/plain": [
       "EmptySet"
      ]
     },
     "metadata": {},
     "output_type": "display_data"
    }
   ],
   "source": [
    "matrix = Matrix([[-1, 5, -3, 8], [4, -1, 5, -1], [3, 4, 5, 10]])\n",
    "display(linsolve(matrix))\n",
    "\n",
    "x, y, z = symbols('x y z')\n",
    "System_eq = [- 1*x + 5*y - 3*z - 8, 4*x - 1*y + 5*z + 1, 3*x + 4*y + 2*z - 7]\n",
    "display(linsolve(System_eq, x, y, z))\n",
    "\n",
    "matrix = Matrix([[-1, 5, -3], [4, -1, 5], [3, 4, 2]])\n",
    "answers = Matrix([8, -1, 5])\n",
    "display(linsolve((matrix, answers)))"
   ]
  },
  {
   "cell_type": "markdown",
   "metadata": {},
   "source": [
    "### Задание 2.\n",
    "\n",
    "Решить СЛАУ с параметром $a$, представив их списком уравнений, а затем приведя к матричному виду с помощью linear_eq_to_matrix\n",
    "$$\n",
    "a)\\ \\left\\{\n",
    "\\begin{matrix}\n",
    "ax+5y-3z=8\\\\\n",
    "4x-y+5z=-1\\\\\n",
    "3x+4y+5z=10\n",
    "\\end{matrix}\n",
    "\\right., \\quad \n",
    "b)\\ \\left\\{\n",
    "\\begin{matrix}\n",
    "(a-1)x+5y-3z=8\\\\\n",
    "(4+a)x-y+5z=-1\\\\\n",
    "(3+2a)x+4y+2z=7\n",
    "\\end{matrix}\n",
    "\\right., \\quad \n",
    "c) \\left\\{\n",
    "\\begin{matrix}\n",
    "-x+5y-3z=8a\\\\\n",
    "4x-y+5z=-a\\\\\n",
    "3x+4y+2z=5a\n",
    "\\end{matrix}\n",
    "\\right.\n",
    "$$\n",
    "Решить СЛАУ а) при $a=-82/25$, b) при $a=-19/6$, $-3.17$ и $-3.167$, c) при $a=1$.\n",
    "\n",
    "Проанализировать результаты. Для каждого случая (кроме случая несовместной СЛАУ) провести проверку подстановкой.\n",
    "\n",
    "При подстановке дробей пользоваться конструкцией вида $S(num)/den$, например,\n",
    "$S(2)/3$"
   ]
  },
  {
   "cell_type": "code",
   "execution_count": 24,
   "metadata": {},
   "outputs": [
    {
     "data": {
      "text/plain": [
       "'FIRST EQUATION'"
      ]
     },
     "metadata": {},
     "output_type": "display_data"
    },
    {
     "data": {
      "text/latex": [
       "$\\displaystyle \\emptyset$"
      ],
      "text/plain": [
       "EmptySet"
      ]
     },
     "metadata": {},
     "output_type": "display_data"
    },
    {
     "data": {
      "text/plain": [
       "'SECOND EQUATION'"
      ]
     },
     "metadata": {},
     "output_type": "display_data"
    },
    {
     "data": {
      "text/latex": [
       "$\\displaystyle \\left\\{\\left( \\frac{6 \\tau_{0}}{5} - \\frac{111}{55}, \\  \\tau_{0}, \\  \\frac{3}{22}\\right)\\right\\}$"
      ],
      "text/plain": [
       "FiniteSet((6*tau0/5 - 111/55, tau0, 3/22))"
      ]
     },
     "metadata": {},
     "output_type": "display_data"
    },
    {
     "data": {
      "text/latex": [
       "$\\displaystyle \\emptyset$"
      ],
      "text/plain": [
       "EmptySet"
      ]
     },
     "metadata": {},
     "output_type": "display_data"
    },
    {
     "data": {
      "text/latex": [
       "$\\displaystyle \\emptyset$"
      ],
      "text/plain": [
       "EmptySet"
      ]
     },
     "metadata": {},
     "output_type": "display_data"
    },
    {
     "data": {
      "text/plain": [
       "'THIRD EQUATION'"
      ]
     },
     "metadata": {},
     "output_type": "display_data"
    },
    {
     "data": {
      "text/latex": [
       "$\\displaystyle \\emptyset$"
      ],
      "text/plain": [
       "EmptySet"
      ]
     },
     "metadata": {},
     "output_type": "display_data"
    }
   ],
   "source": [
    "a = Symbol('a')\n",
    "eqns = [Eq(a*x + 5*y - 3*z, 8), Eq(4*x - y + 5*z, -1), Eq(3*x + 4*y + 5*z, 10)]\n",
    "A, b = linear_eq_to_matrix(eqns, [x, y, z])\n",
    "subst = S(-82)/25\n",
    "display(\"FIRST EQUATION\")\n",
    "display(linsolve((A.subs(a, subst), b.subs(a, subst))))\n",
    "\n",
    "a = Symbol('a')\n",
    "eqns = [Eq((a-1)*x + 5*y - 3*z, 8), Eq((4+a)*x - y + 5*z, -1), Eq((3+2*a)*x + 4*y + 2*z, 7)]\n",
    "A, b = linear_eq_to_matrix(eqns, [x, y, z])\n",
    "subst1 = S(-19)/6\n",
    "subst2 = -3.17\n",
    "subst3 = -3.167\n",
    "display(\"SECOND EQUATION\")\n",
    "display(linsolve((A.subs(a, subst1), b.subs(a, subst1))))\n",
    "display(linsolve((A.subs(a, subst2), b.subs(a, subst2))))\n",
    "display(linsolve((A.subs(a, subst3), b.subs(a, subst3))))\n",
    "\n",
    "a = Symbol('a')\n",
    "eqns = [Eq(-x + 5*y - 3*z, 8*a), Eq(4*x - y + 5*z, -a), Eq(3*x + 4*y + 2*z, 5*a)]\n",
    "A, b = linear_eq_to_matrix(eqns, [x, y, z])\n",
    "subst = -1\n",
    "display(\"THIRD EQUATION\")\n",
    "display(linsolve((A.subs(a, subst), b.subs(a, subst))))"
   ]
  },
  {
   "cell_type": "markdown",
   "metadata": {},
   "source": [
    "### Задание 3\n",
    "В расширенной матрице СЛАУ из Задания 1 а) \n",
    "\n",
    "1) выделить матрицу левой части\n",
    "\n",
    "2) выделить столбец правой части\n",
    "\n",
    "3) транспонировать матрицу, полученную в 1)\n",
    "\n",
    "4) получить расширенную матрицу из матрицы 3) и столбца 2)\n",
    "\n",
    "5) создать на основе лямбда-функции матрицу $3\\times 4$ из расположенных в шахматном порядке чисел 1 и $-1$."
   ]
  },
  {
   "cell_type": "code",
   "execution_count": 74,
   "metadata": {},
   "outputs": [
    {
     "data": {
      "text/plain": [
       "'Матрица левой части'"
      ]
     },
     "metadata": {},
     "output_type": "display_data"
    },
    {
     "data": {
      "text/latex": [
       "$\\displaystyle \\left[\\begin{matrix}-1 & 5 & -3\\\\4 & -1 & 5\\\\3 & 4 & 5\\end{matrix}\\right]$"
      ],
      "text/plain": [
       "Matrix([\n",
       "[-1,  5, -3],\n",
       "[ 4, -1,  5],\n",
       "[ 3,  4,  5]])"
      ]
     },
     "metadata": {},
     "output_type": "display_data"
    },
    {
     "data": {
      "text/plain": [
       "'Столбец правой части'"
      ]
     },
     "metadata": {},
     "output_type": "display_data"
    },
    {
     "data": {
      "text/latex": [
       "$\\displaystyle \\left[\\begin{matrix}8\\\\-1\\\\10\\end{matrix}\\right]$"
      ],
      "text/plain": [
       "Matrix([\n",
       "[ 8],\n",
       "[-1],\n",
       "[10]])"
      ]
     },
     "metadata": {},
     "output_type": "display_data"
    },
    {
     "data": {
      "text/plain": [
       "'Транспонированная левая часть'"
      ]
     },
     "metadata": {},
     "output_type": "display_data"
    },
    {
     "data": {
      "text/latex": [
       "$\\displaystyle \\left[\\begin{matrix}-1 & 4 & 3\\\\5 & -1 & 4\\\\-3 & 5 & 5\\end{matrix}\\right]$"
      ],
      "text/plain": [
       "Matrix([\n",
       "[-1,  4, 3],\n",
       "[ 5, -1, 4],\n",
       "[-3,  5, 5]])"
      ]
     },
     "metadata": {},
     "output_type": "display_data"
    },
    {
     "data": {
      "text/plain": [
       "'Расширенная матрица'"
      ]
     },
     "metadata": {},
     "output_type": "display_data"
    },
    {
     "data": {
      "text/latex": [
       "$\\displaystyle \\left[\\begin{matrix}-1 & 4 & 3 & 8\\\\5 & -1 & 4 & -1\\\\-3 & 5 & 5 & 10\\end{matrix}\\right]$"
      ],
      "text/plain": [
       "Matrix([\n",
       "[-1,  4, 3,  8],\n",
       "[ 5, -1, 4, -1],\n",
       "[-3,  5, 5, 10]])"
      ]
     },
     "metadata": {},
     "output_type": "display_data"
    },
    {
     "data": {
      "text/plain": [
       "'Шахматная доска'"
      ]
     },
     "metadata": {},
     "output_type": "display_data"
    },
    {
     "data": {
      "text/latex": [
       "$\\displaystyle \\left[\\begin{matrix}1 & -1 & 1 & -1\\\\-1 & 1 & -1 & 1\\\\1 & -1 & 1 & -1\\end{matrix}\\right]$"
      ],
      "text/plain": [
       "Matrix([\n",
       "[ 1, -1,  1, -1],\n",
       "[-1,  1, -1,  1],\n",
       "[ 1, -1,  1, -1]])"
      ]
     },
     "metadata": {},
     "output_type": "display_data"
    }
   ],
   "source": [
    "matrix = Matrix([[-1, 5, -3, 8], [4, -1, 5, -1], [3, 4, 5, 10]])\n",
    "\n",
    "# 1) выделить матрицу левой части\n",
    "A = matrix.extract([0, 1, 2], [0, 1, 2])\n",
    "display(\"Матрица левой части\")\n",
    "display(A)\n",
    "\n",
    "# 2) выделить столбец правой части\n",
    "b = matrix.extract([0, 1, 2], [3])\n",
    "display(\"Столбец правой части\")\n",
    "display(b)\n",
    "\n",
    "# 3) транспонировать матрицу, полученную в 1)\n",
    "A = A.transpose()\n",
    "display(\"Транспонированная левая часть\")\n",
    "display(A)\n",
    "\n",
    "# 4) получить расширенную матрицу из матрицы 3) и столбца 2)\n",
    "new_matrix = A.row_join(b)\n",
    "display(\"Расширенная матрица\")\n",
    "display(new_matrix)\n",
    "\n",
    "# 5) создать на основе лямбда-функции матрицу 3х4 из расположенных в шахматном порядке чисел 1 и -1.\n",
    "chess = Matrix(3, 4, lambda i, j: 1 - (i + j) % 2 * 2)\n",
    "display(\"Шахматная доска\")\n",
    "display(chess)"
   ]
  },
  {
   "cell_type": "markdown",
   "metadata": {},
   "source": [
    "### Индивидуальное задание.\n",
    "Решить СЛАУ c параметром тремя способами. Вначале составить список уравнений и решить вторым способом, затем список уравнений преобразовать в матричный вид и решить третьим способом. Затем составить из матрицы левой части и столбца правой расширенную матрицу СЛАУ и решить первым способом. После этого провести проверку подстановкой.\n",
    "\n",
    "Затем отдельно рассмотреть значение параметра, при котором решение СЛАУ нельзя получить по общей формуле, полученной ранее.\n",
    "Найти решение СЛАУ при этом значении параметра первым или третьим способом, используя подстановку subs."
   ]
  },
  {
   "cell_type": "markdown",
   "metadata": {},
   "source": [
    "# Номер варианта - 36"
   ]
  },
  {
   "cell_type": "code",
   "execution_count": 86,
   "metadata": {},
   "outputs": [
    {
     "data": {
      "text/latex": [
       "$\\displaystyle \\left\\{\\left( - \\frac{91}{5 c + 30}, \\  - \\frac{439 c + 1269}{2340 c + 14040}, \\  \\frac{229 c + 3831}{260 \\left(c + 6\\right)}, \\  \\frac{2831 c - 12771}{2340 \\left(c + 6\\right)}\\right)\\right\\}$"
      ],
      "text/plain": [
       "FiniteSet((-91/(5*c + 30), -(439*c + 1269)/(2340*c + 14040), (229*c + 3831)/(260*(c + 6)), (2831*c - 12771)/(2340*(c + 6))))"
      ]
     },
     "metadata": {},
     "output_type": "display_data"
    },
    {
     "data": {
      "text/latex": [
       "$\\displaystyle \\left\\{\\left( - \\frac{91}{5 c + 30}, \\  - \\frac{439 c + 1269}{2340 c + 14040}, \\  \\frac{229 c + 3831}{260 \\left(c + 6\\right)}, \\  \\frac{2831 c - 12771}{2340 \\left(c + 6\\right)}\\right)\\right\\}$"
      ],
      "text/plain": [
       "FiniteSet((-91/(5*c + 30), -(439*c + 1269)/(2340*c + 14040), (229*c + 3831)/(260*(c + 6)), (2831*c - 12771)/(2340*(c + 6))))"
      ]
     },
     "metadata": {},
     "output_type": "display_data"
    },
    {
     "data": {
      "text/latex": [
       "$\\displaystyle \\left\\{\\left( - \\frac{91}{5 c + 30}, \\  - \\frac{439 c + 1269}{2340 c + 14040}, \\  \\frac{229 c + 3831}{260 \\left(c + 6\\right)}, \\  \\frac{2831 c - 12771}{2340 \\left(c + 6\\right)}\\right)\\right\\}$"
      ],
      "text/plain": [
       "FiniteSet((-91/(5*c + 30), -(439*c + 1269)/(2340*c + 14040), (229*c + 3831)/(260*(c + 6)), (2831*c - 12771)/(2340*(c + 6))))"
      ]
     },
     "metadata": {},
     "output_type": "display_data"
    },
    {
     "data": {
      "text/plain": [
       "True"
      ]
     },
     "metadata": {},
     "output_type": "display_data"
    },
    {
     "data": {
      "text/latex": [
       "$\\displaystyle \\emptyset$"
      ],
      "text/plain": [
       "EmptySet"
      ]
     },
     "metadata": {},
     "output_type": "display_data"
    },
    {
     "data": {
      "text/latex": [
       "$\\displaystyle 0$"
      ],
      "text/plain": [
       "0"
      ]
     },
     "metadata": {},
     "output_type": "display_data"
    }
   ],
   "source": [
    "c = Symbol('c')\n",
    "\n",
    "# Вначале составить список уравнений и решить вторым способом\n",
    "x, y, z, t = symbols('x y z t')\n",
    "System_eq = [5*y - 3*z - 2*t + 6, c*x + 9*y + 9*t + 9, -3*x - 7*y - 4*z + t + 1, -30*x + 85*y - 24*z + 29*t + 2]\n",
    "solve2 = linsolve(System_eq, x, y, z, t)\n",
    "display(solve2)\n",
    "\n",
    "# затем список уравнений преобразовать в матричный вид и решить третьим способом\n",
    "A, b = linear_eq_to_matrix(System_eq, [x, y, z, t])\n",
    "solve3 = linsolve((A, b))\n",
    "display(solve3)\n",
    "\n",
    "# Затем составить из матрицы левой части и столбца правой расширенную матрицу СЛАУ и решить первым способом\n",
    "A_with_B = A.row_join(b)\n",
    "solve1 = linsolve(A_with_B)\n",
    "display(solve1)\n",
    "\n",
    "# После этого провести проверку подстановкой.\n",
    "display(solve1.subs(c, 0) == solve2.subs(c, 0) == solve3.subs(c, 0))\n",
    "\n",
    "# Затем отдельно рассмотреть значение параметра, при котором решение СЛАУ нельзя получить по общей формуле, полученной ранее.\n",
    "# Найти решение СЛАУ при этом значении параметра первым или третьим способом, используя подстановку subs.\n",
    "# c = -6\n",
    "display(linsolve(A_with_B.subs(c, -6)))\n",
    "\n",
    "# Определитель левой части равен нулю, решенйи нет.\n",
    "display(A.subs(c, -6).det())"
   ]
  },
  {
   "cell_type": "code",
   "execution_count": null,
   "metadata": {},
   "outputs": [],
   "source": []
  }
 ],
 "metadata": {
  "kernelspec": {
   "display_name": "Python 3",
   "language": "python",
   "name": "python3"
  },
  "language_info": {
   "codemirror_mode": {
    "name": "ipython",
    "version": 3
   },
   "file_extension": ".py",
   "mimetype": "text/x-python",
   "name": "python",
   "nbconvert_exporter": "python",
   "pygments_lexer": "ipython3",
   "version": "3.8.1"
  }
 },
 "nbformat": 4,
 "nbformat_minor": 4
}
