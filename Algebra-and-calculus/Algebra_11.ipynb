{
 "cells": [
  {
   "cell_type": "code",
   "execution_count": 2,
   "metadata": {},
   "outputs": [],
   "source": [
    "import sympy\n",
    "from sympy import  Matrix, symbols\n",
    "from sympy import sin as Sin\n",
    "from sympy import cos as Cos\n",
    "from sympy import pi as Pi\n",
    "from sympy.vector import CoordSys3D, Vector, matrix_to_vector, AxisOrienter, express"
   ]
  },
  {
   "cell_type": "markdown",
   "metadata": {},
   "source": [
    "# Занятие 11\n",
    "# Алгебра\n",
    "## Векторы\n",
    "### Задание 1.\n",
    "Задать систему координат с именем '1'. \n",
    "Найти скалярное и векторное произведение векторов $a(-\\cos(\\pi/4), \\sin(\\pi/3), 1)$ и $b(2, -1, 3)$."
   ]
  },
  {
   "cell_type": "code",
   "execution_count": 3,
   "metadata": {},
   "outputs": [
    {
     "data": {
      "text/latex": [
       "$\\displaystyle - \\sqrt{2} - \\frac{\\sqrt{3}}{2} + 3$"
      ],
      "text/plain": [
       "-sqrt(2) - sqrt(3)/2 + 3"
      ]
     },
     "metadata": {},
     "output_type": "display_data"
    },
    {
     "data": {
      "text/latex": [
       "$\\displaystyle (1 + \\frac{3 \\sqrt{3}}{2})\\mathbf{\\hat{i}_{1}} + (2 + \\frac{3 \\sqrt{2}}{2})\\mathbf{\\hat{j}_{1}} + (- \\sqrt{3} + \\frac{\\sqrt{2}}{2})\\mathbf{\\hat{k}_{1}}$"
      ],
      "text/plain": [
       "(1 + 3*sqrt(3)/2)*1.i + (2 + 3*sqrt(2)/2)*1.j + (-sqrt(3) + sqrt(2)/2)*1.k"
      ]
     },
     "metadata": {},
     "output_type": "display_data"
    },
    {
     "data": {
      "text/latex": [
       "$\\displaystyle (- \\frac{3 \\sqrt{3}}{2} - 1)\\mathbf{\\hat{i}_{1}} + (- \\frac{3 \\sqrt{2}}{2} - 2)\\mathbf{\\hat{j}_{1}} + (- \\frac{\\sqrt{2}}{2} + \\sqrt{3})\\mathbf{\\hat{k}_{1}}$"
      ],
      "text/plain": [
       "(-3*sqrt(3)/2 - 1)*1.i + (-3*sqrt(2)/2 - 2)*1.j + (-sqrt(2)/2 + sqrt(3))*1.k"
      ]
     },
     "metadata": {},
     "output_type": "display_data"
    }
   ],
   "source": [
    "N = CoordSys3D('1')\n",
    "a = -Cos(Pi/4)*N.i + Sin(Pi/3)*N.j + 1*N.k\n",
    "b = 2*N.i - 1*N.j + 3*N.k\n",
    "display(a.dot(b), a.cross(b), b.cross(a))"
   ]
  },
  {
   "cell_type": "markdown",
   "metadata": {},
   "source": [
    "### Задание 2\n",
    "Ввести безымянную систему координат M.\n",
    "Вычислить $((v + u)\\cdot(v - u)) + (((2v + u)\\times(v - 3u))\\cdot(2v - 3u)) - ((3v - 2u)\\cdot((5v - u)\\times(- u)))$, $u(a, -b, a + b)$, $v(b, 2b - a, 1)$. Скалярное произведение обозначено $\\cdot$, векторное $\\times$.\n",
    "Использовать  & и ^, скобки расставить как в условии, поскольку приоритет у & и ^ ниже, чем у + и -. Упростить полученное выражение."
   ]
  },
  {
   "cell_type": "code",
   "execution_count": 4,
   "metadata": {},
   "outputs": [
    {
     "data": {
      "text/latex": [
       "$\\displaystyle - a^{2} - 6 a b + 3 b^{2} + 1$"
      ],
      "text/plain": [
       "-a**2 - 6*a*b + 3*b**2 + 1"
      ]
     },
     "metadata": {},
     "output_type": "display_data"
    }
   ],
   "source": [
    "a, b = symbols(\"a b\")\n",
    "M = CoordSys3D('')\n",
    "u = a*M.i - b*M.j + (a+b)*M.k\n",
    "v = b*M.i + (2*b-a)*M.j + 1*M.k\n",
    "\n",
    "answer = ((v + u) & (v - u)) + (((2*v + u) ^ (v - 3*u)) & (2*v - 3*u)) - ((3*v - 2*u) & ((5*v - u) ^ (- u)))\n",
    "# display(answer)\n",
    "display(sympy.simplify(answer))"
   ]
  },
  {
   "cell_type": "markdown",
   "metadata": {},
   "source": [
    "### Задание 3\n",
    "Упростить вектор $g(-2p^2 + 5pq - 3q^2, \\cos(q) + 2\\sin(q - \\pi/2), \\sin^2(p) - \\cos^2(p))$.\n",
    "Вывести на экран координаты упрощенного вектора, его длину и проекции на координатные оси"
   ]
  },
  {
   "cell_type": "code",
   "execution_count": 5,
   "metadata": {},
   "outputs": [
    {
     "data": {
      "text/latex": [
       "$\\displaystyle (- 2 p^{2} + 5 p q - 3 q^{2})\\mathbf{\\hat{i}_{}} + (- \\cos{\\left(q \\right)})\\mathbf{\\hat{j}_{}} + (- \\cos{\\left(2 p \\right)})\\mathbf{\\hat{k}_{}}$"
      ],
      "text/plain": [
       "(-2*p**2 + 5*p*q - 3*q**2)*.i + (-cos(q))*.j + (-cos(2*p))*.k"
      ]
     },
     "metadata": {},
     "output_type": "display_data"
    },
    {
     "data": {
      "text/latex": [
       "$\\displaystyle (- \\left(p - q\\right) \\left(2 p - 3 q\\right))\\mathbf{\\hat{i}_{}} + (- \\cos{\\left(q \\right)})\\mathbf{\\hat{j}_{}} + (- \\cos{\\left(2 p \\right)})\\mathbf{\\hat{k}_{}}$"
      ],
      "text/plain": [
       "(-(p - q)*(2*p - 3*q))*.i + (-cos(q))*.j + (-cos(2*p))*.k"
      ]
     },
     "metadata": {},
     "output_type": "display_data"
    },
    {
     "data": {
      "text/latex": [
       "$\\displaystyle \\sqrt{\\left(\\sin^{2}{\\left(p \\right)} - \\cos^{2}{\\left(p \\right)}\\right)^{2} + \\left(- 2 p^{2} + 5 p q - 3 q^{2}\\right)^{2} + \\cos^{2}{\\left(q \\right)}}$"
      ],
      "text/plain": [
       "sqrt((sin(p)**2 - cos(p)**2)**2 + (-2*p**2 + 5*p*q - 3*q**2)**2 + cos(q)**2)"
      ]
     },
     "metadata": {},
     "output_type": "display_data"
    },
    {
     "name": "stdout",
     "output_type": "stream",
     "text": [
      "\n",
      "\n",
      "ПРОЕКЦИИ\n"
     ]
    },
    {
     "data": {
      "text/latex": [
       "$\\displaystyle (- 2 p^{2} + 5 p q - 3 q^{2})\\mathbf{\\hat{i}_{}}$"
      ],
      "text/plain": [
       "(-2*p**2 + 5*p*q - 3*q**2)*.i"
      ]
     },
     "metadata": {},
     "output_type": "display_data"
    },
    {
     "data": {
      "text/latex": [
       "$\\displaystyle (- \\cos{\\left(q \\right)})\\mathbf{\\hat{j}_{}}$"
      ],
      "text/plain": [
       "(-cos(q))*.j"
      ]
     },
     "metadata": {},
     "output_type": "display_data"
    },
    {
     "data": {
      "text/latex": [
       "$\\displaystyle (\\sin^{2}{\\left(p \\right)} - \\cos^{2}{\\left(p \\right)})\\mathbf{\\hat{k}_{}}$"
      ],
      "text/plain": [
       "(sin(p)**2 - cos(p)**2)*.k"
      ]
     },
     "metadata": {},
     "output_type": "display_data"
    }
   ],
   "source": [
    "p, q = symbols(\"p q\")\n",
    "M = CoordSys3D('')\n",
    "g = (-2*p*p + 5*p*q - 3*q*q)*M.i + (Cos(q) + 2*Sin(q - Pi/2))*M.j +(Sin(p)*Sin(p) - Cos(p)*Cos(p))*M.k\n",
    "display(g.factor().trigsimp())\n",
    "display(g.magnitude())\n",
    "print()\n",
    "print()\n",
    "print(\"ПРОЕКЦИИ\")\n",
    "display(M.i.projection(g), M.j.projection(g), M.k.projection(g))"
   ]
  },
  {
   "cell_type": "markdown",
   "metadata": {},
   "source": [
    "### Задание  4\n",
    "Преобразовать матрицу $\\left(\\begin{matrix}-a\\\\ b\\\\ a + b\\end{matrix}\\right)$ в вектор в системе координат из Заданий 1 и 2."
   ]
  },
  {
   "cell_type": "code",
   "execution_count": 21,
   "metadata": {},
   "outputs": [
    {
     "data": {
      "text/latex": [
       "$\\displaystyle - \\mathbf{\\hat{i}_{1}} + (2)\\mathbf{\\hat{j}_{1}} + (5)\\mathbf{\\hat{k}_{1}}$"
      ],
      "text/plain": [
       "(-1)*1.i + 2*1.j + 5*1.k"
      ]
     },
     "metadata": {},
     "output_type": "display_data"
    },
    {
     "data": {
      "text/latex": [
       "$\\displaystyle - \\mathbf{\\hat{i}_{}} + (2)\\mathbf{\\hat{j}_{}} + (5)\\mathbf{\\hat{k}_{}}$"
      ],
      "text/plain": [
       "(-1)*.i + 2*.j + 5*.k"
      ]
     },
     "metadata": {},
     "output_type": "display_data"
    }
   ],
   "source": [
    "a, b = symbols(\"a b\")\n",
    "N = CoordSys3D('1')\n",
    "M = CoordSys3D('')\n",
    "\n",
    "v = Matrix([-1, 2, 5])\n",
    "display(matrix_to_vector(v, N), matrix_to_vector(v, M))"
   ]
  },
  {
   "cell_type": "markdown",
   "metadata": {},
   "source": [
    "### Задание 5.\n",
    "Ввести новую систему координат S5, которая получается поворотом системы координат M из Задания 2 на угол $\\pi/4$ относительно оси $j$ по часовой стрелке.\n",
    "Определить вектор b5 на основе матрицы из Задания 4 в соответствии с системой координат M, затем получить представление в матричном виде вектора b5_S5 в системе координат S5.  Вывести на экран матрицу поворота, вектор b5 в системе координат M  и S5."
   ]
  },
  {
   "cell_type": "code",
   "execution_count": 34,
   "metadata": {},
   "outputs": [
    {
     "data": {
      "text/latex": [
       "$\\displaystyle \\left[\\begin{matrix}\\frac{\\sqrt{2}}{2} & 0 & \\frac{\\sqrt{2}}{2}\\\\0 & 1 & 0\\\\- \\frac{\\sqrt{2}}{2} & 0 & \\frac{\\sqrt{2}}{2}\\end{matrix}\\right]$"
      ],
      "text/plain": [
       "Matrix([\n",
       "[ sqrt(2)/2, 0, sqrt(2)/2],\n",
       "[         0, 1,         0],\n",
       "[-sqrt(2)/2, 0, sqrt(2)/2]])"
      ]
     },
     "metadata": {},
     "output_type": "display_data"
    },
    {
     "data": {
      "text/latex": [
       "$\\displaystyle - \\mathbf{\\hat{i}_{}} + (2)\\mathbf{\\hat{j}_{}} + (5)\\mathbf{\\hat{k}_{}}$"
      ],
      "text/plain": [
       "(-1)*.i + 2*.j + 5*.k"
      ]
     },
     "metadata": {},
     "output_type": "display_data"
    },
    {
     "data": {
      "text/latex": [
       "$\\displaystyle \\left[\\begin{matrix}- 3 \\sqrt{2}\\\\2\\\\2 \\sqrt{2}\\end{matrix}\\right]$"
      ],
      "text/plain": [
       "Matrix([\n",
       "[-3*sqrt(2)],\n",
       "[         2],\n",
       "[ 2*sqrt(2)]])"
      ]
     },
     "metadata": {},
     "output_type": "display_data"
    }
   ],
   "source": [
    "M = CoordSys3D('')\n",
    "v = Matrix([-1, 2, 5])\n",
    "b = matrix_to_vector(v, M)\n",
    "\n",
    "S5 = M.orient_new_axis('S5', Pi/4, M.j)\n",
    "b5 = b.to_matrix(S5)\n",
    "R_matr = M.rotation_matrix(S5)\n",
    "display(R_matr, b, b5)"
   ]
  },
  {
   "cell_type": "markdown",
   "metadata": {},
   "source": [
    "### Задание 6.\n",
    "Повернуть систему координат  M  из Задания 2 на $\\pi/4$ по часовой стрелке относительно оси, определяемой вектором $(1, -1, 0)$. Выразить вектор b5 в новой системе координат."
   ]
  },
  {
   "cell_type": "code",
   "execution_count": 35,
   "metadata": {},
   "outputs": [
    {
     "data": {
      "text/latex": [
       "$\\displaystyle \\left[\\begin{matrix}\\frac{\\sqrt{2}}{4} + 1\\\\\\frac{\\sqrt{2}}{4} + 4\\\\- \\frac{1}{2} + \\frac{5 \\sqrt{2}}{2}\\end{matrix}\\right]$"
      ],
      "text/plain": [
       "Matrix([\n",
       "[     sqrt(2)/4 + 1],\n",
       "[     sqrt(2)/4 + 4],\n",
       "[-1/2 + 5*sqrt(2)/2]])"
      ]
     },
     "metadata": {},
     "output_type": "display_data"
    }
   ],
   "source": [
    "M = CoordSys3D('')\n",
    "v = Matrix([-1, 2, 5])\n",
    "b = matrix_to_vector(v, M)\n",
    "\n",
    "S5 = M.orient_new_axis('S5', Pi/4, M.i - M.j)\n",
    "display(b.to_matrix(S5))"
   ]
  },
  {
   "cell_type": "markdown",
   "metadata": {},
   "source": [
    "### Индивидуальное задание.\n",
    "Ввести безымянную систему координат XYZ, задать в ней векторы $v_1$ и $v_2$. Построить новую систему координат XYZ1 с именем '1' поворотом  XYZ на $\\alpha$ против часовой стрелки относительно оси, определяемой вектором $v_3$, выразить векторы $v_1$ и $v_2$ в новой системе координат. Найти скалярное и векторное произведение векторов в новой и старой системе координат. Выразить вектор, равный векторному произведению $v_1$ и $v_2$ в старой системе координат через новую систему координат, сравнить с векторным произведением $v_1$ и $v_2$, выраженных в новой системе координат."
   ]
  },
  {
   "cell_type": "markdown",
   "metadata": {},
   "source": [
    "Вариант N 36\n",
    "\n",
    "$v_1 = (4)\\mathbf{\\hat{i}_{}} + (-5)\\mathbf{\\hat{j}_{}} + (5)\\mathbf{\\hat{k}_{}}$, $v_2 = (-6)\\mathbf{\\hat{i}_{}} + (6)\\mathbf{\\hat{j}_{}} + (-4)\\mathbf{\\hat{k}_{}}$, Name = 6, угол поворота $\\pi / 3$, ось $(-3)\\mathbf{\\hat{i}_{}} + (-8)\\mathbf{\\hat{j}_{}}$"
   ]
  },
  {
   "cell_type": "code",
   "execution_count": 48,
   "metadata": {},
   "outputs": [
    {
     "data": {
      "text/latex": [
       "$\\displaystyle -74$"
      ],
      "text/plain": [
       "-74"
      ]
     },
     "metadata": {},
     "output_type": "display_data"
    },
    {
     "data": {
      "text/latex": [
       "$\\displaystyle (-10)\\mathbf{\\hat{i}_{}} + (-14)\\mathbf{\\hat{j}_{}} + (-6)\\mathbf{\\hat{k}_{}}$"
      ],
      "text/plain": [
       "(-10)*.i + (-14)*.j + (-6)*.k"
      ]
     },
     "metadata": {},
     "output_type": "display_data"
    },
    {
     "data": {
      "text/latex": [
       "$\\displaystyle (10)\\mathbf{\\hat{i}_{}} + (14)\\mathbf{\\hat{j}_{}} + (6)\\mathbf{\\hat{k}_{}}$"
      ],
      "text/plain": [
       "10*.i + 14*.j + 6*.k"
      ]
     },
     "metadata": {},
     "output_type": "display_data"
    },
    {
     "name": "stdout",
     "output_type": "stream",
     "text": [
      "\n",
      "-------------\n",
      "\n"
     ]
    },
    {
     "data": {
      "text/latex": [
       "$\\displaystyle -74$"
      ],
      "text/plain": [
       "-74"
      ]
     },
     "metadata": {},
     "output_type": "display_data"
    },
    {
     "data": {
      "text/latex": [
       "$\\displaystyle \\left[\\begin{matrix}- \\frac{578}{73} + \\frac{24 \\sqrt{219}}{73}\\\\- \\frac{1079}{73} - \\frac{9 \\sqrt{219}}{73}\\\\- \\frac{19 \\sqrt{219}}{73} - 3\\end{matrix}\\right]$"
      ],
      "text/plain": [
       "Matrix([\n",
       "[-578/73 + 24*sqrt(219)/73],\n",
       "[-1079/73 - 9*sqrt(219)/73],\n",
       "[     -19*sqrt(219)/73 - 3]])"
      ]
     },
     "metadata": {},
     "output_type": "display_data"
    },
    {
     "data": {
      "text/latex": [
       "$\\displaystyle \\left[\\begin{matrix}\\frac{578}{73} - \\frac{24 \\sqrt{219}}{73}\\\\\\frac{9 \\sqrt{219}}{73} + \\frac{1079}{73}\\\\3 + \\frac{19 \\sqrt{219}}{73}\\end{matrix}\\right]$"
      ],
      "text/plain": [
       "Matrix([\n",
       "[578/73 - 24*sqrt(219)/73],\n",
       "[9*sqrt(219)/73 + 1079/73],\n",
       "[     3 + 19*sqrt(219)/73]])"
      ]
     },
     "metadata": {},
     "output_type": "display_data"
    },
    {
     "name": "stdout",
     "output_type": "stream",
     "text": [
      "\n",
      "-------------\n",
      "\n"
     ]
    },
    {
     "data": {
      "text/latex": [
       "$\\displaystyle \\left[\\begin{matrix}- \\frac{578}{73} + \\frac{24 \\sqrt{219}}{73}\\\\- \\frac{1079}{73} - \\frac{9 \\sqrt{219}}{73}\\\\- \\frac{19 \\sqrt{219}}{73} - 3\\end{matrix}\\right]$"
      ],
      "text/plain": [
       "Matrix([\n",
       "[-578/73 + 24*sqrt(219)/73],\n",
       "[-1079/73 - 9*sqrt(219)/73],\n",
       "[     -19*sqrt(219)/73 - 3]])"
      ]
     },
     "metadata": {},
     "output_type": "display_data"
    },
    {
     "data": {
      "text/latex": [
       "$\\displaystyle \\left[\\begin{matrix}- \\frac{578}{73} + \\frac{24 \\sqrt{219}}{73}\\\\- \\frac{1079}{73} - \\frac{9 \\sqrt{219}}{73}\\\\- \\frac{19 \\sqrt{219}}{73} - 3\\end{matrix}\\right]$"
      ],
      "text/plain": [
       "Matrix([\n",
       "[-578/73 + 24*sqrt(219)/73],\n",
       "[-1079/73 - 9*sqrt(219)/73],\n",
       "[     -19*sqrt(219)/73 - 3]])"
      ]
     },
     "metadata": {},
     "output_type": "display_data"
    }
   ],
   "source": [
    "# Найти скалярное и векторное произведение векторов в старой системе координат.\n",
    "XYZ = CoordSys3D('')\n",
    "v1 = matrix_to_vector(Matrix([4, -5, 5]), XYZ)\n",
    "v2 = matrix_to_vector(Matrix([-6, 6, -4]), XYZ)\n",
    "rotate_vector = matrix_to_vector(Matrix([-3, -8, 0]), XYZ)\n",
    "display(v1.dot(v2), v1.cross(v2), v2.cross(v1))\n",
    "print()\n",
    "print(\"-------------\")\n",
    "print()\n",
    "\n",
    "# Найти скалярное и векторное произведение векторов в новой системе координат.\n",
    "XYZ1 = XYZ.orient_new_axis('1', -Pi/3, rotate_vector)\n",
    "v3 = v1.to_matrix(XYZ1)\n",
    "v4 = v2.to_matrix(XYZ1)\n",
    "display(sympy.simplify(v3.dot(v4)), sympy.simplify(v3.cross(v4)), sympy.simplify(v4.cross(v3)))\n",
    "print()\n",
    "print(\"-------------\")\n",
    "print()\n",
    "\n",
    "# Выразить вектор, равный векторному произведению v1 и v2 в старой системе координат через новую систему координат, \n",
    "# сравнить с векторным произведением v1 и v2, выраженных в новой системе координат.\n",
    "v5 = v1.cross(v2).to_matrix(XYZ1)\n",
    "v6 = v3.cross(v4)\n",
    "display(sympy.simplify(v5), sympy.simplify(v6))"
   ]
  },
  {
   "cell_type": "code",
   "execution_count": null,
   "metadata": {},
   "outputs": [],
   "source": []
  }
 ],
 "metadata": {
  "kernelspec": {
   "display_name": "Python 3",
   "language": "python",
   "name": "python3"
  },
  "language_info": {
   "codemirror_mode": {
    "name": "ipython",
    "version": 3
   },
   "file_extension": ".py",
   "mimetype": "text/x-python",
   "name": "python",
   "nbconvert_exporter": "python",
   "pygments_lexer": "ipython3",
   "version": "3.8.1"
  }
 },
 "nbformat": 4,
 "nbformat_minor": 4
}
