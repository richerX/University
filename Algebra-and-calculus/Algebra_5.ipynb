{
 "cells": [
  {
   "cell_type": "code",
   "execution_count": 4,
   "metadata": {},
   "outputs": [],
   "source": [
    "import sympy\n",
    "from sympy import Matrix, S, Symbol, symbols, I, zeros, eye, simplify, expand, expand_complex, Eq\n",
    "import numpy as np\n",
    "from numpy import random"
   ]
  },
  {
   "cell_type": "markdown",
   "metadata": {},
   "source": [
    "# Занятие 18\n",
    "# Алгебра\n",
    "## Матричные разложения: Холецкого, LDL, LU, QR. Жорданова форма."
   ]
  },
  {
   "cell_type": "markdown",
   "metadata": {},
   "source": [
    "### Задание 1.\n",
    "Построить разложение Холецкого матриц\n",
    "$$\n",
    "M1=\\left(\n",
    "\\begin{matrix}\n",
    "1&-3&0\\\\\n",
    "-3&-2&10\\\\\n",
    "0&10&7\n",
    "\\end{matrix}\n",
    "\\right)\n",
    "\\quad\n",
    "M2=\\left(\n",
    "\\begin{matrix}\n",
    "18&1 - 2I& -2\\\\\n",
    "1 + 2I&4&-3I\\\\\n",
    "-2&3I&5\n",
    "\\end{matrix}\n",
    "\\right)\n",
    "$$\n",
    "\n",
    "Проверить положительную определенность эрмитовой матрицы."
   ]
  },
  {
   "cell_type": "code",
   "execution_count": 25,
   "metadata": {},
   "outputs": [
    {
     "name": "stdout",
     "output_type": "stream",
     "text": [
      "A = L * L.T\n",
      "\n",
      "\n",
      "МАТРИЦА 1\n"
     ]
    },
    {
     "data": {
      "text/latex": [
       "$\\displaystyle \\left[\\begin{matrix}1 & 0 & 0\\\\-3 & \\sqrt{11} i & 0\\\\0 & - \\frac{10 \\sqrt{11} i}{11} & \\frac{\\sqrt{1947}}{11}\\end{matrix}\\right]$"
      ],
      "text/plain": [
       "Matrix([\n",
       "[ 1,                 0,             0],\n",
       "[-3,        sqrt(11)*I,             0],\n",
       "[ 0, -10*sqrt(11)*I/11, sqrt(1947)/11]])"
      ]
     },
     "metadata": {},
     "output_type": "display_data"
    },
    {
     "data": {
      "text/latex": [
       "$\\displaystyle \\left[\\begin{matrix}1 & -3 & 0\\\\0 & \\sqrt{11} i & - \\frac{10 \\sqrt{11} i}{11}\\\\0 & 0 & \\frac{\\sqrt{1947}}{11}\\end{matrix}\\right]$"
      ],
      "text/plain": [
       "Matrix([\n",
       "[1,         -3,                 0],\n",
       "[0, sqrt(11)*I, -10*sqrt(11)*I/11],\n",
       "[0,          0,     sqrt(1947)/11]])"
      ]
     },
     "metadata": {},
     "output_type": "display_data"
    },
    {
     "name": "stdout",
     "output_type": "stream",
     "text": [
      "\n",
      "\n",
      "МАТРИЦА 2\n",
      "Положительная определенна =  True\n"
     ]
    },
    {
     "data": {
      "text/latex": [
       "$\\displaystyle \\left[\\begin{matrix}3 \\sqrt{2} & 0 & 0\\\\\\frac{\\sqrt{2} \\left(1 + 2 i\\right)}{6} & \\frac{\\sqrt{134}}{6} & 0\\\\- \\frac{\\sqrt{2}}{3} & \\frac{\\sqrt{134} \\left(1 + 25 i\\right)}{201} & \\frac{\\sqrt{12127}}{67}\\end{matrix}\\right]$"
      ],
      "text/plain": [
       "Matrix([\n",
       "[          3*sqrt(2),                        0,              0],\n",
       "[sqrt(2)*(1 + 2*I)/6,              sqrt(134)/6,              0],\n",
       "[         -sqrt(2)/3, sqrt(134)*(1 + 25*I)/201, sqrt(12127)/67]])"
      ]
     },
     "metadata": {},
     "output_type": "display_data"
    },
    {
     "data": {
      "text/latex": [
       "$\\displaystyle \\left[\\begin{matrix}3 \\sqrt{2} & \\frac{\\sqrt{2} \\left(1 + 2 i\\right)}{6} & - \\frac{\\sqrt{2}}{3}\\\\0 & \\frac{\\sqrt{134}}{6} & \\frac{\\sqrt{134} \\left(1 + 25 i\\right)}{201}\\\\0 & 0 & \\frac{\\sqrt{12127}}{67}\\end{matrix}\\right]$"
      ],
      "text/plain": [
       "Matrix([\n",
       "[3*sqrt(2), sqrt(2)*(1 + 2*I)/6,               -sqrt(2)/3],\n",
       "[        0,         sqrt(134)/6, sqrt(134)*(1 + 25*I)/201],\n",
       "[        0,                   0,           sqrt(12127)/67]])"
      ]
     },
     "metadata": {},
     "output_type": "display_data"
    }
   ],
   "source": [
    "A = Matrix([[1, -3, 0], [-3, -2, 10], [0,10, 7]])\n",
    "B = Matrix([[18, 1 - 2*I, -2], [1+2*I, 4, -3*I], [-2, 3*I, 5]])\n",
    "LA = A.cholesky(hermitian=False)\n",
    "LB = B.cholesky()\n",
    "\n",
    "print(\"A = L * L.T\")\n",
    "print()\n",
    "print()\n",
    "\n",
    "print(\"МАТРИЦА 1\")\n",
    "display(LA)\n",
    "display(LA.T)\n",
    "print()\n",
    "print()\n",
    "\n",
    "print(\"МАТРИЦА 2\")\n",
    "print('Положительная определенна = ', B.is_positive_definite)\n",
    "display(simplify(expand(LB)))\n",
    "display(simplify(expand(LB.T)))"
   ]
  },
  {
   "cell_type": "markdown",
   "metadata": {},
   "source": [
    "### Задание 2.\n",
    "Построить  LDL разложение для матриц Задания 1. Проверку положительной определенности для эрмитовой матрицы НЕ делать."
   ]
  },
  {
   "cell_type": "code",
   "execution_count": 30,
   "metadata": {},
   "outputs": [
    {
     "name": "stdout",
     "output_type": "stream",
     "text": [
      "A = L * D * L.T\n",
      "\n",
      "\n",
      "МАТРИЦА 1\n"
     ]
    },
    {
     "data": {
      "text/latex": [
       "$\\displaystyle \\left[\\begin{matrix}1 & 0 & 0\\\\\\frac{3}{2} & 1 & 0\\\\\\frac{5}{2} & 1 & 1\\end{matrix}\\right]$"
      ],
      "text/plain": [
       "Matrix([\n",
       "[  1, 0, 0],\n",
       "[3/2, 1, 0],\n",
       "[5/2, 1, 1]])"
      ]
     },
     "metadata": {},
     "output_type": "display_data"
    },
    {
     "data": {
      "text/latex": [
       "$\\displaystyle \\left[\\begin{matrix}2 & 0 & 0\\\\0 & - \\frac{13}{2} & 0\\\\0 & 0 & 0\\end{matrix}\\right]$"
      ],
      "text/plain": [
       "Matrix([\n",
       "[2,     0, 0],\n",
       "[0, -13/2, 0],\n",
       "[0,     0, 0]])"
      ]
     },
     "metadata": {},
     "output_type": "display_data"
    },
    {
     "data": {
      "text/latex": [
       "$\\displaystyle \\left[\\begin{matrix}1 & \\frac{3}{2} & \\frac{5}{2}\\\\0 & 1 & 1\\\\0 & 0 & 1\\end{matrix}\\right]$"
      ],
      "text/plain": [
       "Matrix([\n",
       "[1, 3/2, 5/2],\n",
       "[0,   1,   1],\n",
       "[0,   0,   1]])"
      ]
     },
     "metadata": {},
     "output_type": "display_data"
    },
    {
     "name": "stdout",
     "output_type": "stream",
     "text": [
      "\n",
      "\n",
      "МАТРИЦА 2\n"
     ]
    },
    {
     "data": {
      "text/latex": [
       "$\\displaystyle \\left[\\begin{matrix}1 & 0 & 0\\\\\\frac{1}{4} - \\frac{i}{12} & 1 & 0\\\\\\frac{5}{12} & - \\frac{3}{14} + \\frac{i}{2} & 1\\end{matrix}\\right]$"
      ],
      "text/plain": [
       "Matrix([\n",
       "[         1,           0, 0],\n",
       "[1/4 - I/12,           1, 0],\n",
       "[      5/12, -3/14 + I/2, 1]])"
      ]
     },
     "metadata": {},
     "output_type": "display_data"
    },
    {
     "data": {
      "text/latex": [
       "$\\displaystyle \\left[\\begin{matrix}12 & 0 & 0\\\\0 & \\frac{7}{6} & 0\\\\0 & 0 & \\frac{25}{7}\\end{matrix}\\right]$"
      ],
      "text/plain": [
       "Matrix([\n",
       "[12,   0,    0],\n",
       "[ 0, 7/6,    0],\n",
       "[ 0,   0, 25/7]])"
      ]
     },
     "metadata": {},
     "output_type": "display_data"
    },
    {
     "data": {
      "text/latex": [
       "$\\displaystyle \\left[\\begin{matrix}1 & \\frac{1}{4} - \\frac{i}{12} & \\frac{5}{12}\\\\0 & 1 & - \\frac{3}{14} + \\frac{i}{2}\\\\0 & 0 & 1\\end{matrix}\\right]$"
      ],
      "text/plain": [
       "Matrix([\n",
       "[1, 1/4 - I/12,        5/12],\n",
       "[0,          1, -3/14 + I/2],\n",
       "[0,          0,           1]])"
      ]
     },
     "metadata": {},
     "output_type": "display_data"
    }
   ],
   "source": [
    "A = Matrix([[2, 3, 5], [3, -2, 1], [5, 1, 6]])\n",
    "B = Matrix([[12, 3 + I, 5], [3 - I, 2, 1 - I], [5, 1 + I, 6]])\n",
    "LA, DA = A.LDLdecomposition(hermitian=False)\n",
    "LB, DB = B.LDLdecomposition()\n",
    "\n",
    "print(\"A = L * D * L.T\")\n",
    "print()\n",
    "print()\n",
    "\n",
    "print(\"МАТРИЦА 1\")\n",
    "display(LA)\n",
    "display(DA)\n",
    "display(LA.T)\n",
    "print()\n",
    "print()\n",
    "\n",
    "print(\"МАТРИЦА 2\")\n",
    "display(simplify(expand(LB)))\n",
    "display(simplify(expand(DB)))\n",
    "display(simplify(expand(LB.T)))"
   ]
  },
  {
   "cell_type": "markdown",
   "metadata": {},
   "source": [
    "### Задание  3.\n",
    "Построить  LU разложение для матрицы \n",
    "$$\n",
    "V=\\left(\n",
    "\\begin{matrix}\n",
    "5&-2 - I&3 - 4I&1 + 4I\\\\\n",
    "1 - I&-2&5 - I&2 - I\\\\\n",
    "5&6 + I&0&5 \n",
    "\\end{matrix}\n",
    "\\right)\n",
    "$$"
   ]
  },
  {
   "cell_type": "code",
   "execution_count": 53,
   "metadata": {},
   "outputs": [
    {
     "name": "stdout",
     "output_type": "stream",
     "text": [
      "A = P^(-1) * L * U\n",
      "\n",
      "\n"
     ]
    },
    {
     "data": {
      "text/latex": [
       "$\\displaystyle \\left[\\begin{matrix}1 & 0 & 0\\\\0 & 0 & 1\\\\0 & 1 & 0\\end{matrix}\\right]$"
      ],
      "text/plain": [
       "Matrix([\n",
       "[1, 0, 0],\n",
       "[0, 0, 1],\n",
       "[0, 1, 0]])"
      ]
     },
     "metadata": {},
     "output_type": "display_data"
    },
    {
     "data": {
      "text/latex": [
       "$\\displaystyle \\left[\\begin{matrix}1 & 0 & 0\\\\1 & 1 & 0\\\\\\frac{1}{5} - \\frac{i}{5} & - \\frac{29}{170} + \\frac{3 i}{170} & 1\\end{matrix}\\right]$"
      ],
      "text/plain": [
       "Matrix([\n",
       "[        1,                 0, 0],\n",
       "[        1,                 1, 0],\n",
       "[1/5 - I/5, -29/170 + 3*I/170, 1]])"
      ]
     },
     "metadata": {},
     "output_type": "display_data"
    },
    {
     "data": {
      "text/latex": [
       "$\\displaystyle \\left[\\begin{matrix}5 & -2 - i & 3 - 4 i & 1 + 4 i\\\\0 & 8 + 2 i & -3 + 4 i & 4 - 4 i\\\\0 & 0 & \\frac{809}{170} + \\frac{193 i}{170} & \\frac{137}{85} - \\frac{40 i}{17}\\end{matrix}\\right]$"
      ],
      "text/plain": [
       "Matrix([\n",
       "[5,  -2 - I,             3 - 4*I,          1 + 4*I],\n",
       "[0, 8 + 2*I,            -3 + 4*I,          4 - 4*I],\n",
       "[0,       0, 809/170 + 193*I/170, 137/85 - 40*I/17]])"
      ]
     },
     "metadata": {},
     "output_type": "display_data"
    },
    {
     "name": "stdout",
     "output_type": "stream",
     "text": [
      "\n",
      "\n"
     ]
    },
    {
     "data": {
      "text/latex": [
       "$\\displaystyle \\left[\\begin{matrix}5 & -2 - i & 3 - 4 i & 1 + 4 i\\\\1 - i & -2 & 5 - i & 2 - i\\\\5 & 6 + i & 0 & 5\\end{matrix}\\right]$"
      ],
      "text/plain": [
       "Matrix([\n",
       "[    5, -2 - I, 3 - 4*I, 1 + 4*I],\n",
       "[1 - I,     -2,   5 - I,   2 - I],\n",
       "[    5,  6 + I,       0,       5]])"
      ]
     },
     "metadata": {},
     "output_type": "display_data"
    }
   ],
   "source": [
    "M = Matrix([[5, -2-I, 3-4*I, 1+4*I], [1-I, -2, 5-I, 2-I], [5, 6+I, 0, 5]])\n",
    "L, U, perm = M.LUdecomposition()\n",
    "P = eye(3).permuteFwd(perm)\n",
    "\n",
    "print(\"A = P^(-1) * L * U\")\n",
    "print()\n",
    "print()\n",
    "\n",
    "display(P**(-1), simplify(L), simplify(U))\n",
    "print()\n",
    "print()\n",
    "\n",
    "display(simplify(P**(-1) * L * U))"
   ]
  },
  {
   "cell_type": "markdown",
   "metadata": {},
   "source": [
    "### Задание  4.\n",
    "Построить  QR разложение для матрицы\n",
    "$$\n",
    "A=\\left(\n",
    "\\begin{matrix}\n",
    "3 + i&  2 & -i & 4 - 2i\\\\\n",
    "-2 & -3 &  i & -3 + i\\\\\n",
    "1 + i & -1 &  0 & 1 - i\\\\\n",
    "-1 + i &  -4 & i & -2\n",
    "\\end{matrix}\n",
    "\\right)\n",
    "$$\n",
    "показать, что $A = QR$."
   ]
  },
  {
   "cell_type": "code",
   "execution_count": 61,
   "metadata": {},
   "outputs": [
    {
     "name": "stdout",
     "output_type": "stream",
     "text": [
      "A = Q * R\n",
      "\n",
      "\n"
     ]
    },
    {
     "data": {
      "text/latex": [
       "$\\displaystyle \\left[\\begin{matrix}\\frac{\\sqrt{2} \\left(3 + i\\right)}{6} & - \\frac{\\sqrt{17} \\left(1 + 4 i\\right)}{51}\\\\- \\frac{\\sqrt{2}}{3} & \\frac{\\sqrt{17} \\left(-4 + i\\right)}{51}\\\\\\frac{\\sqrt{2} \\left(1 + i\\right)}{6} & - \\frac{\\sqrt{17} \\left(5 + 3 i\\right)}{51}\\\\\\frac{\\sqrt{2} \\left(-1 + i\\right)}{6} & - \\frac{\\sqrt{17} \\left(9 + 2 i\\right)}{51}\\end{matrix}\\right]$"
      ],
      "text/plain": [
       "Matrix([\n",
       "[ sqrt(2)*(3 + I)/6, -sqrt(17)*(1 + 4*I)/51],\n",
       "[        -sqrt(2)/3,   sqrt(17)*(-4 + I)/51],\n",
       "[ sqrt(2)*(1 + I)/6, -sqrt(17)*(5 + 3*I)/51],\n",
       "[sqrt(2)*(-1 + I)/6, -sqrt(17)*(9 + 2*I)/51]])"
      ]
     },
     "metadata": {},
     "output_type": "display_data"
    },
    {
     "data": {
      "text/latex": [
       "$\\displaystyle \\left[\\begin{matrix}3 \\sqrt{2} & \\frac{\\sqrt{2} \\left(5 + i\\right)}{2} & - \\sqrt{2} i & \\sqrt{2} \\left(3 - 2 i\\right)\\\\0 & \\sqrt{17} & \\frac{\\sqrt{17} \\left(1 - 4 i\\right)}{17} & \\frac{\\sqrt{17} \\left(11 + 7 i\\right)}{17}\\end{matrix}\\right]$"
      ],
      "text/plain": [
       "Matrix([\n",
       "[3*sqrt(2), sqrt(2)*(5 + I)/2,            -sqrt(2)*I,      sqrt(2)*(3 - 2*I)],\n",
       "[        0,          sqrt(17), sqrt(17)*(1 - 4*I)/17, sqrt(17)*(11 + 7*I)/17]])"
      ]
     },
     "metadata": {},
     "output_type": "display_data"
    },
    {
     "name": "stdout",
     "output_type": "stream",
     "text": [
      "Разложение верно =  True\n"
     ]
    }
   ],
   "source": [
    "A = Matrix([[3 + I, 2, -I, 4-2*I], [-2, -3, I, -3+I], [1+I, -1, 0, 1-I], [-1+I, -4, I, -2]])\n",
    "Q, R = A.QRdecomposition()\n",
    "\n",
    "print(\"A = Q * R\")\n",
    "print()\n",
    "print()\n",
    "\n",
    "display(simplify(expand(Q)), simplify(expand(R)))\n",
    "print(\"Разложение верно = \", A == simplify(expand(Q*R)))"
   ]
  },
  {
   "cell_type": "markdown",
   "metadata": {},
   "source": [
    "### Задание  5.\n",
    "Построить  жорданову форму для матрицы\n",
    "$$\n",
    "K=\\left(\n",
    "\\begin{matrix}\n",
    "6 &  5 & -2 & -3\\\\\n",
    "-3 & -1 &  3 &  3\\\\\n",
    "2 &  1 & -2 &  -3\\\\\n",
    "-1 & 1 & 5 & 5\n",
    "\\end{matrix}\n",
    "\\right)\n",
    "$$"
   ]
  },
  {
   "cell_type": "code",
   "execution_count": 78,
   "metadata": {},
   "outputs": [
    {
     "name": "stdout",
     "output_type": "stream",
     "text": [
      "A = P * J * P^(-1)\n",
      "\n",
      "\n"
     ]
    },
    {
     "data": {
      "text/latex": [
       "$\\displaystyle \\left[\\begin{matrix}4 & 1 & 5 & 0\\\\-3 & 0 & -3 & 1\\\\2 & 0 & 1 & 0\\\\-1 & 0 & 1 & 0\\end{matrix}\\right]$"
      ],
      "text/plain": [
       "Matrix([\n",
       "[ 4, 1,  5, 0],\n",
       "[-3, 0, -3, 1],\n",
       "[ 2, 0,  1, 0],\n",
       "[-1, 0,  1, 0]])"
      ]
     },
     "metadata": {},
     "output_type": "display_data"
    },
    {
     "data": {
      "text/latex": [
       "$\\displaystyle \\left[\\begin{matrix}2 & 1 & 0 & 0\\\\0 & 2 & 0 & 0\\\\0 & 0 & 2 & 1\\\\0 & 0 & 0 & 2\\end{matrix}\\right]$"
      ],
      "text/plain": [
       "Matrix([\n",
       "[2, 1, 0, 0],\n",
       "[0, 2, 0, 0],\n",
       "[0, 0, 2, 1],\n",
       "[0, 0, 0, 2]])"
      ]
     },
     "metadata": {},
     "output_type": "display_data"
    },
    {
     "data": {
      "text/latex": [
       "$\\displaystyle \\left[\\begin{matrix}0 & 0 & \\frac{1}{3} & - \\frac{1}{3}\\\\1 & 0 & -3 & -2\\\\0 & 0 & \\frac{1}{3} & \\frac{2}{3}\\\\0 & 1 & 2 & 1\\end{matrix}\\right]$"
      ],
      "text/plain": [
       "Matrix([\n",
       "[0, 0, 1/3, -1/3],\n",
       "[1, 0,  -3,   -2],\n",
       "[0, 0, 1/3,  2/3],\n",
       "[0, 1,   2,    1]])"
      ]
     },
     "metadata": {},
     "output_type": "display_data"
    },
    {
     "name": "stdout",
     "output_type": "stream",
     "text": [
      "\n",
      "\n"
     ]
    },
    {
     "data": {
      "text/latex": [
       "$\\displaystyle \\left[\\begin{matrix}6 & 5 & -2 & -3\\\\-3 & -1 & 3 & 3\\\\2 & 1 & -2 & -3\\\\-1 & 1 & 5 & 5\\end{matrix}\\right]$"
      ],
      "text/plain": [
       "Matrix([\n",
       "[ 6,  5, -2, -3],\n",
       "[-3, -1,  3,  3],\n",
       "[ 2,  1, -2, -3],\n",
       "[-1,  1,  5,  5]])"
      ]
     },
     "metadata": {},
     "output_type": "display_data"
    }
   ],
   "source": [
    "B = Matrix([[6, 5, -2, -3], [-3, -1, 3, 3], [2, 1, -2, -3], [-1, 1, 5, 5]])\n",
    "P, J = B.jordan_form()\n",
    "P = simplify(expand_complex(expand(P)))\n",
    "\n",
    "print(\"A = P * J * P^(-1)\")\n",
    "print()\n",
    "print()\n",
    "\n",
    "display(simplify(expand(P)), simplify(expand(J)), simplify(expand(P**(-1))))\n",
    "print()\n",
    "print()\n",
    "\n",
    "display(simplify(expand(P*J*P**(-1))))"
   ]
  },
  {
   "cell_type": "markdown",
   "metadata": {},
   "source": [
    "### Индивидуальное задание.\n",
    "Решить с помощью  QR разложения матрицы\n",
    "$$\n",
    "A=\\left(\n",
    "\\begin{matrix}\n",
    "-1 &  2 & -3 & 5\\\\\n",
    "-2 & 3 &  5 & -7\\\\\n",
    "3 &  -5 & -2 & 2\n",
    "\\end{matrix}\n",
    "\\right)\n",
    "$$\n",
    "систему линейных уравнений\n",
    "$$\n",
    "AX = b,\n",
    "\\quad\n",
    "b = \\left(\n",
    "\\begin{matrix}1\\\\-2\\\\3\\end{matrix}\n",
    "\\right).\n",
    "$$\n",
    "Проверим совместность СЛАУ:"
   ]
  },
  {
   "cell_type": "code",
   "execution_count": 75,
   "metadata": {},
   "outputs": [
    {
     "name": "stdout",
     "output_type": "stream",
     "text": [
      "Система линейных алгебраических уравнений совместна тогда и только тогда, когда ранг её основной матрицы равен рангу её расширенной матрицы.\n",
      "Ранг  основной   матрицы = 2\n",
      "Ранг расширенной матрицы = 3\n",
      "СЛАУ несовместна, в обычном смысле решения нет, но с помощью QR разложения можно найти псевдорешение\n",
      "\n"
     ]
    },
    {
     "data": {
      "text/latex": [
       "$\\displaystyle \\left[\\begin{matrix}\\frac{19}{3}\\\\\\frac{10}{3}\\\\0\\end{matrix}\\right]$"
      ],
      "text/plain": [
       "Matrix([\n",
       "[19/3],\n",
       "[10/3],\n",
       "[   0]])"
      ]
     },
     "metadata": {},
     "output_type": "display_data"
    },
    {
     "data": {
      "text/latex": [
       "$\\displaystyle \\left[\\begin{matrix}85 + \\frac{10 i}{3}\\\\\\frac{83}{3} - \\frac{19 i}{3}\\\\32 + \\frac{10 i}{3}\\end{matrix}\\right]$"
      ],
      "text/plain": [
       "Matrix([\n",
       "[  85 + 10*I/3],\n",
       "[83/3 - 19*I/3],\n",
       "[  32 + 10*I/3]])"
      ]
     },
     "metadata": {},
     "output_type": "display_data"
    },
    {
     "data": {
      "text/latex": [
       "$\\displaystyle \\frac{\\sqrt{81691}}{3}$"
      ],
      "text/plain": [
       "sqrt(81691)/3"
      ]
     },
     "metadata": {},
     "output_type": "display_data"
    },
    {
     "name": "stdout",
     "output_type": "stream",
     "text": [
      "\n",
      "Полученное псевдорешение не является нормальным псевдорешением, т.е. псевдорешением с минимальной нормой\n"
     ]
    }
   ],
   "source": [
    "A = Matrix([[-1, 2, -3, 5], [-2, 3, 5, -7], [3, -5, -2, 2]])\n",
    "b = Matrix([1, -2, 3])\n",
    "Ab = B.row_join(b)\n",
    "print(\"Система линейных алгебраических уравнений совместна тогда и только тогда, когда ранг её основной матрицы равен рангу её расширенной матрицы.\")\n",
    "print('Ранг  основной   матрицы =', A.rank())\n",
    "print('Ранг расширенной матрицы =', Ab.rank())\n",
    "print(\"СЛАУ несовместна, в обычном смысле решения нет, но с помощью QR разложения можно найти псевдорешение\")\n",
    "print()\n",
    "\n",
    "X = A.QRsolve(b).col_join(Matrix([0]))\n",
    "delta = B*X - b\n",
    "display(X, delta, delta.norm(2))\n",
    "\n",
    "print()\n",
    "print(\"Полученное псевдорешение не является нормальным псевдорешением, т.е. псевдорешением с минимальной нормой\")"
   ]
  },
  {
   "cell_type": "code",
   "execution_count": null,
   "metadata": {},
   "outputs": [],
   "source": []
  }
 ],
 "metadata": {
  "kernelspec": {
   "display_name": "Python 3",
   "language": "python",
   "name": "python3"
  },
  "language_info": {
   "codemirror_mode": {
    "name": "ipython",
    "version": 3
   },
   "file_extension": ".py",
   "mimetype": "text/x-python",
   "name": "python",
   "nbconvert_exporter": "python",
   "pygments_lexer": "ipython3",
   "version": "3.8.1"
  }
 },
 "nbformat": 4,
 "nbformat_minor": 4
}
