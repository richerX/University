{
 "cells": [
  {
   "cell_type": "markdown",
   "metadata": {},
   "source": [
    "## Занятие 4\n",
    "## Алгебра\n",
    "## Фундаментальная система решений однородной СЛАУ"
   ]
  },
  {
   "cell_type": "markdown",
   "metadata": {},
   "source": [
    "https://docs.sympy.org/latest/modules"
   ]
  },
  {
   "cell_type": "code",
   "execution_count": 2,
   "metadata": {},
   "outputs": [],
   "source": [
    "import sympy\n",
    "from sympy import linsolve, Matrix, S, Symbol, symbols, Eq, linear_eq_to_matrix, simplify, zeros"
   ]
  },
  {
   "cell_type": "markdown",
   "metadata": {},
   "source": [
    "### Задание 1.\n",
    "Проверить по теореме Кронекера-Капелли совместность СЛАУ $AX = b$, если\n",
    "\\begin{align*}\n",
    "a)\\ A = \\left(\n",
    "\\begin{matrix}\n",
    "-1 & -3 & 5 & 2\\\\\n",
    "2 & -1 & 4 & 7\\\\\n",
    "3 & 4 & -1 & 0\\\\\n",
    "5 & 0 & 1 & -3\n",
    "\\end{matrix}\n",
    "\\right), \\quad \n",
    "b = \\left(\n",
    "\\begin{matrix}\n",
    "14\\\\ 56\\\\ 5\\\\ -6\n",
    "\\end{matrix}\n",
    "\\right), \\quad \n",
    "b)\\ A = \\left(\n",
    "\\begin{matrix}\n",
    "1 & 3 & 5 & 2\\\\\n",
    "2 & -1 & 4 & 1\\\\\n",
    "3 & 4 & -1 & 0\\\\\n",
    "5 & 3 & 3 & 1\n",
    "\\end{matrix}\n",
    "\\right), \\quad \n",
    "b = \\left(\n",
    "\\begin{matrix}\n",
    "24\\\\ 20\\\\ 5\\\\ 5\n",
    "\\end{matrix}\n",
    "\\right), \\quad \n",
    "c)\\ A = \\left(\n",
    "\\begin{matrix}\n",
    "1 & 3 & 5 & 2\\\\\n",
    "2 & -1 & 4 & 1\\\\\n",
    "3 & 2 & 9 & 3\\\\\n",
    "1 & -4 & -1 & -1\n",
    "\\end{matrix}\n",
    "\\right), \\quad \n",
    "b = \\left(\n",
    "\\begin{matrix}\n",
    "24\\\\ 20\\\\ 44\\\\ -4\n",
    "\\end{matrix}\n",
    "\\right)\n",
    "\\end{align*}"
   ]
  },
  {
   "cell_type": "code",
   "execution_count": 7,
   "metadata": {},
   "outputs": [
    {
     "name": "stdout",
     "output_type": "stream",
     "text": [
      "a) True\n",
      "b) False\n",
      "c) True\n"
     ]
    }
   ],
   "source": [
    "A = Matrix([[-1, -3, 5, 2], [2, -1, 4, 7], [3, 4, -1, 0], [5, 0, 1, -3]])\n",
    "b = Matrix([14, 56, 5, -6])\n",
    "print(\"a)\", A.rank() == A.row_join(b).rank())\n",
    "\n",
    "A = Matrix([[1, 3, 5, 2], [2, -1, 4, 1], [3, 4, -1, 0], [5, 3, 3, 1]])\n",
    "b = Matrix([24, 20, 5, 5])\n",
    "print(\"b)\", A.rank() == A.row_join(b).rank())\n",
    "\n",
    "A = Matrix([[1, 3, 5, 2], [2, -1, 4, 1], [3, 2, 9, 3], [1, -4, -1, -1]])\n",
    "b = Matrix([24, 20, 44, -4])\n",
    "print(\"c)\", A.rank() == A.row_join(b).rank())"
   ]
  },
  {
   "cell_type": "markdown",
   "metadata": {},
   "source": [
    "### Задание 2.\n",
    "Проверить единственность решения в совместных СЛАУ Задания 1."
   ]
  },
  {
   "cell_type": "code",
   "execution_count": 12,
   "metadata": {},
   "outputs": [
    {
     "name": "stdout",
     "output_type": "stream",
     "text": [
      "a) False\n",
      "b) False\n",
      "c) False\n"
     ]
    }
   ],
   "source": [
    "A = Matrix([[-1, -3, 5, 2], [2, -1, 4, 7], [3, 4, -1, 0], [5, 0, 1, -3]])\n",
    "b = Matrix([14, 56, 5, -6])\n",
    "B = A.row_join(b)\n",
    "rgA = B[:, :-1].rank()\n",
    "n, m = B[:, :-1].shape # n - число столбцов, m - число переменных\n",
    "print(\"a)\", rgA == B.rank() and rgA == m)\n",
    "\n",
    "A = Matrix([[1, 3, 5, 2], [2, -1, 4, 1], [3, 4, -1, 0], [5, 3, 3, 1]])\n",
    "b = Matrix([24, 20, 5, 5])\n",
    "B = A.row_join(b)\n",
    "rgA = B[:, :-1].rank()\n",
    "n, m = B[:, :-1].shape # n - число столбцов, m - число переменных\n",
    "print(\"b)\", rgA == B.rank() and rgA == m)\n",
    "\n",
    "A = Matrix([[1, 3, 5, 2], [2, -1, 4, 1], [3, 2, 9, 3], [1, -4, -1, -1]])\n",
    "b = Matrix([24, 20, 44, -4])\n",
    "B = A.row_join(b)\n",
    "rgA = B[:, :-1].rank()\n",
    "n, m = B[:, :-1].shape # n - число столбцов, m - число переменных\n",
    "print(\"c)\", rgA == B.rank() and rgA == m)"
   ]
  },
  {
   "cell_type": "markdown",
   "metadata": {},
   "source": [
    "### Задание 3\n",
    "Для однородных СЛАУ, соответствующих СЛАУ из Задания 1 установить, есть ли у однородной СЛАУ нетривиальное решение. "
   ]
  },
  {
   "cell_type": "code",
   "execution_count": 13,
   "metadata": {},
   "outputs": [
    {
     "data": {
      "text/plain": [
       "'b'"
      ]
     },
     "metadata": {},
     "output_type": "display_data"
    },
    {
     "data": {
      "text/plain": [
       "'c'"
      ]
     },
     "metadata": {},
     "output_type": "display_data"
    }
   ],
   "source": [
    "A_a = Matrix([[-1, -3, 5, 2], [2, -1, 4, 7], [3, 4, -1, 0], [5, 0, 1, -3]])\n",
    "A_b = Matrix([[1, 3, 5, 2], [2, -1, 4, 1], [3, 4, -1, 0], [5, 3, 3, 1]])\n",
    "A_c = Matrix([[1, 3, 5, 2], [2, -1, 4, 1], [3, 2, 9, 3], [1, -4, -1, -1]])\n",
    "number = ['a', 'b', 'c']\n",
    "for i, A in enumerate([A_a, A_b, A_c]):\n",
    "    if A.rank() < A.shape[1]:\n",
    "        display(number[i])"
   ]
  },
  {
   "cell_type": "markdown",
   "metadata": {},
   "source": [
    "### Задание 4\n",
    "Для однородных СЛАУ из Задания 3, имеющих нетривиальное решение, составить ФСР. "
   ]
  },
  {
   "cell_type": "code",
   "execution_count": 21,
   "metadata": {},
   "outputs": [
    {
     "data": {
      "text/plain": [
       "'b'"
      ]
     },
     "metadata": {},
     "output_type": "display_data"
    },
    {
     "data": {
      "text/latex": [
       "$\\displaystyle 0$"
      ],
      "text/plain": [
       "0"
      ]
     },
     "metadata": {},
     "output_type": "display_data"
    },
    {
     "data": {
      "text/latex": [
       "$\\displaystyle \\left\\{\\left( \\frac{7 x_{4}}{82}, \\  - \\frac{6 x_{4}}{41}, \\  - \\frac{27 x_{4}}{82}, \\  x_{4}\\right)\\right\\}$"
      ],
      "text/plain": [
       "FiniteSet((7*x4/82, -6*x4/41, -27*x4/82, x4))"
      ]
     },
     "metadata": {},
     "output_type": "display_data"
    },
    {
     "data": {
      "text/plain": [
       "'c'"
      ]
     },
     "metadata": {},
     "output_type": "display_data"
    },
    {
     "data": {
      "text/latex": [
       "$\\displaystyle 0$"
      ],
      "text/plain": [
       "0"
      ]
     },
     "metadata": {},
     "output_type": "display_data"
    },
    {
     "data": {
      "text/latex": [
       "$\\displaystyle \\left\\{\\left( - \\frac{17 x_{3}}{7} - \\frac{5 x_{4}}{7}, \\  - \\frac{6 x_{3}}{7} - \\frac{3 x_{4}}{7}, \\  x_{3}, \\  x_{4}\\right)\\right\\}$"
      ],
      "text/plain": [
       "FiniteSet((-17*x3/7 - 5*x4/7, -6*x3/7 - 3*x4/7, x3, x4))"
      ]
     },
     "metadata": {},
     "output_type": "display_data"
    }
   ],
   "source": [
    "A_b = Matrix([[1, 3, 5, 2], [2, -1, 4, 1], [3, 4, -1, 0], [5, 3, 3, 1]])\n",
    "A_c = Matrix([[1, 3, 5, 2], [2, -1, 4, 1], [3, 2, 9, 3], [1, -4, -1, -1]])\n",
    "number = ['b', 'c']\n",
    "for i, A in enumerate([A_b, A_c]):\n",
    "    n, m = A.shape\n",
    "    display(number[i], A.det(), linsolve((A, zeros(n, 1)), symbols('x1:' + str(m + 1))))"
   ]
  },
  {
   "cell_type": "markdown",
   "metadata": {},
   "source": [
    "### Задание 5\n",
    "Для однородных СЛАУ из Задания 4 построить общее решение, используя построенную в Задании 4 ФСР. Сравнить с результатом, возвращаемым linsolve. "
   ]
  },
  {
   "cell_type": "code",
   "execution_count": 26,
   "metadata": {},
   "outputs": [
    {
     "data": {
      "text/latex": [
       "$\\displaystyle \\left[\\begin{matrix}\\frac{7 \\alpha_{1}}{82}\\\\- \\frac{6 \\alpha_{1}}{41}\\\\- \\frac{27 \\alpha_{1}}{82}\\\\\\alpha_{1}\\end{matrix}\\right]$"
      ],
      "text/plain": [
       "Matrix([\n",
       "[  7*alpha1/82],\n",
       "[ -6*alpha1/41],\n",
       "[-27*alpha1/82],\n",
       "[       alpha1]])"
      ]
     },
     "metadata": {},
     "output_type": "display_data"
    },
    {
     "data": {
      "text/latex": [
       "$\\displaystyle \\left\\{\\left( \\frac{7 x_{4}}{82}, \\  - \\frac{6 x_{4}}{41}, \\  - \\frac{27 x_{4}}{82}, \\  x_{4}\\right)\\right\\}$"
      ],
      "text/plain": [
       "FiniteSet((7*x4/82, -6*x4/41, -27*x4/82, x4))"
      ]
     },
     "metadata": {},
     "output_type": "display_data"
    },
    {
     "data": {
      "text/latex": [
       "$\\displaystyle X = \\left[\\begin{matrix}\\frac{7 x_{4}}{82}\\\\- \\frac{6 x_{4}}{41}\\\\- \\frac{27 x_{4}}{82}\\\\x_{4}\\end{matrix}\\right]$"
      ],
      "text/plain": [
       "Eq(X, Matrix([\n",
       "[  7*x4/82],\n",
       "[ -6*x4/41],\n",
       "[-27*x4/82],\n",
       "[       x4]]))"
      ]
     },
     "metadata": {},
     "output_type": "display_data"
    },
    {
     "data": {
      "text/latex": [
       "$\\displaystyle \\left[\\begin{matrix}- \\frac{17 \\alpha_{1}}{7} - \\frac{5 \\alpha_{2}}{7}\\\\- \\frac{6 \\alpha_{1}}{7} - \\frac{3 \\alpha_{2}}{7}\\\\\\alpha_{1}\\\\\\alpha_{2}\\end{matrix}\\right]$"
      ],
      "text/plain": [
       "Matrix([\n",
       "[-17*alpha1/7 - 5*alpha2/7],\n",
       "[ -6*alpha1/7 - 3*alpha2/7],\n",
       "[                   alpha1],\n",
       "[                   alpha2]])"
      ]
     },
     "metadata": {},
     "output_type": "display_data"
    },
    {
     "data": {
      "text/latex": [
       "$\\displaystyle \\left\\{\\left( - \\frac{17 x_{3}}{7} - \\frac{5 x_{4}}{7}, \\  - \\frac{6 x_{3}}{7} - \\frac{3 x_{4}}{7}, \\  x_{3}, \\  x_{4}\\right)\\right\\}$"
      ],
      "text/plain": [
       "FiniteSet((-17*x3/7 - 5*x4/7, -6*x3/7 - 3*x4/7, x3, x4))"
      ]
     },
     "metadata": {},
     "output_type": "display_data"
    },
    {
     "data": {
      "text/latex": [
       "$\\displaystyle X = \\left[\\begin{matrix}- \\frac{17 x_{3}}{7} - \\frac{5 x_{4}}{7}\\\\- \\frac{6 x_{3}}{7} - \\frac{3 x_{4}}{7}\\\\x_{3}\\\\x_{4}\\end{matrix}\\right]$"
      ],
      "text/plain": [
       "Eq(X, Matrix([\n",
       "[-17*x3/7 - 5*x4/7],\n",
       "[ -6*x3/7 - 3*x4/7],\n",
       "[               x3],\n",
       "[               x4]]))"
      ]
     },
     "metadata": {},
     "output_type": "display_data"
    }
   ],
   "source": [
    "A6 = Matrix([[1, 3, 5, 2], [2, -1, 4, 1], [3, 4, -1, 0], [5, 3, 3, 1]])\n",
    "n, m = A6.shape\n",
    "x = symbols('x1:' + str(m + 1))\n",
    "X = zeros(m, 1)\n",
    "for i, vect in enumerate(A6.nullspace()):\n",
    "    X += vect*Symbol('alpha'+str(i + 1))\n",
    "display(X, linsolve((A6, zeros(n, 1)), x))    \n",
    "display(Eq(Symbol('X'), Matrix(*linsolve((A6, zeros(n, 1)), x)), evaluate=False))\n",
    "\n",
    "A6 = Matrix([[1, 3, 5, 2], [2, -1, 4, 1], [3, 2, 9, 3], [1, -4, -1, -1]])\n",
    "n, m = A6.shape\n",
    "x = symbols('x1:' + str(m + 1))\n",
    "X = zeros(m, 1)\n",
    "for i, vect in enumerate(A6.nullspace()):\n",
    "    X += vect*Symbol('alpha'+str(i + 1))\n",
    "display(X, linsolve((A6, zeros(n, 1)), x)) \n",
    "display(Eq(Symbol('X'), Matrix(*linsolve((A6, zeros(n, 1)), x)), evaluate=False))"
   ]
  },
  {
   "cell_type": "markdown",
   "metadata": {},
   "source": [
    "### Индивидуальное задание.\n",
    "Дана СЛАУ $AX = b$. Проверить совместность по теореме Кронекера-Капелли. Если СЛАУ совместна, проверить единственность решения.\n",
    "Для соответствующей однородной СЛАУ проверить существование нетривиального решения. В случае, если оно существует, \n",
    "найти размерность пространства решений и составить ФСР и общее решение однородной СЛАУ."
   ]
  },
  {
   "cell_type": "code",
   "execution_count": 39,
   "metadata": {},
   "outputs": [
    {
     "name": "stdout",
     "output_type": "stream",
     "text": [
      "Кронекер-Копелли | True\n",
      "Единственность решения | False\n",
      "Существует нетривиальное решение | True\n"
     ]
    },
    {
     "data": {
      "text/latex": [
       "$\\displaystyle \\left\\{\\left( x_{3} + \\frac{3 x_{4}}{2}, \\  - \\frac{11 x_{3}}{4} - \\frac{x_{4}}{4}, \\  x_{3}, \\  x_{4}\\right)\\right\\}$"
      ],
      "text/plain": [
       "FiniteSet((x3 + 3*x4/2, -11*x3/4 - x4/4, x3, x4))"
      ]
     },
     "metadata": {},
     "output_type": "display_data"
    },
    {
     "data": {
      "text/latex": [
       "$\\displaystyle X = \\left[\\begin{matrix}x_{3} + \\frac{3 x_{4}}{2}\\\\- \\frac{11 x_{3}}{4} - \\frac{x_{4}}{4}\\\\x_{3}\\\\x_{4}\\end{matrix}\\right]$"
      ],
      "text/plain": [
       "Eq(X, Matrix([\n",
       "[    x3 + 3*x4/2],\n",
       "[-11*x3/4 - x4/4],\n",
       "[             x3],\n",
       "[             x4]]))"
      ]
     },
     "metadata": {},
     "output_type": "display_data"
    },
    {
     "name": "stdout",
     "output_type": "stream",
     "text": [
      "Размерность равана n - r = 4 - 2 = 2\n"
     ]
    }
   ],
   "source": [
    "# Вариант - 36\n",
    "A = Matrix([[2, 0, -2, -3], [-6, -4, -5, 8], [-22, -20, -33, 28], [-18, -16, -26, 23]])\n",
    "b = Matrix([3, 18, 102, 81])\n",
    "B = A.row_join(b)\n",
    "\n",
    "print(\"Кронекер-Копелли |\", A.rank() == B.rank())\n",
    "\n",
    "rgA = B[:, :-1].rank()\n",
    "n, m = B[:, :-1].shape # n - число столбцов, m - число переменных\n",
    "print(\"Единственность решения |\", rgA == B.rank() and rgA == m)\n",
    "\n",
    "print(\"Существует нетривиальное решение |\", A.rank() < A.shape[1])\n",
    "\n",
    "n, m = A.shape\n",
    "display(linsolve((A, zeros(n, 1)), symbols('x1:' + str(m + 1))))\n",
    "\n",
    "x = symbols('x1:' + str(m + 1))\n",
    "X = zeros(m, 1)\n",
    "for i, vect in enumerate(A.nullspace()):\n",
    "    X += vect*Symbol('alpha'+str(i + 1))   \n",
    "display(Eq(Symbol('X'), Matrix(*linsolve((A, zeros(n, 1)), x)), evaluate=False))\n",
    "\n",
    "print(\"Размерность равна n - r = 4 - 2 = 2\")"
   ]
  },
  {
   "cell_type": "code",
   "execution_count": null,
   "metadata": {},
   "outputs": [],
   "source": []
  }
 ],
 "metadata": {
  "kernelspec": {
   "display_name": "Python 3",
   "language": "python",
   "name": "python3"
  },
  "language_info": {
   "codemirror_mode": {
    "name": "ipython",
    "version": 3
   },
   "file_extension": ".py",
   "mimetype": "text/x-python",
   "name": "python",
   "nbconvert_exporter": "python",
   "pygments_lexer": "ipython3",
   "version": "3.8.1"
  }
 },
 "nbformat": 4,
 "nbformat_minor": 4
}
