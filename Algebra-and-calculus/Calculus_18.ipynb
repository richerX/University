{
 "cells": [
  {
   "cell_type": "code",
   "execution_count": 137,
   "metadata": {},
   "outputs": [],
   "source": [
    "import numpy as np\n",
    "import sympy\n",
    "from sympy import S, symbols, Function, dsolve, solveset, linsolve, integrate, diff, plot, simplify, expand\n",
    "from sympy import sin as Sin\n",
    "from sympy import cos as Cos\n",
    "from sympy import exp as Exp\n",
    "from sympy import log as Log\n",
    "from sympy import pi as Pi\n",
    "import matplotlib.pyplot as plt"
   ]
  },
  {
   "cell_type": "markdown",
   "metadata": {},
   "source": [
    "## Занятие 18\n",
    "## Математический анализ\n",
    "## Линейные ОДУ второго порядка с постоянными коэффициентами\n",
    "### Задача 1\n",
    "Решить ОДУ $3y''+5y'-2y=0$ по формуле из файла с примерами и с помощью dsolve."
   ]
  },
  {
   "cell_type": "code",
   "execution_count": 36,
   "metadata": {},
   "outputs": [
    {
     "name": "stdout",
     "output_type": "stream",
     "text": [
      "Верное равенство = True\n",
      "\n",
      "\n",
      "Формула найденной функции, ее первой и второй производной\n"
     ]
    },
    {
     "data": {
      "text/latex": [
       "$\\displaystyle C_{1} e^{- 2 x} + C_{2} e^{\\frac{x}{3}}$"
      ],
      "text/plain": [
       "C_1*exp(-2*x) + C_2*exp(x/3)"
      ]
     },
     "metadata": {},
     "output_type": "display_data"
    },
    {
     "data": {
      "text/latex": [
       "$\\displaystyle - 2 C_{1} e^{- 2 x} + \\frac{C_{2} e^{\\frac{x}{3}}}{3}$"
      ],
      "text/plain": [
       "-2*C_1*exp(-2*x) + C_2*exp(x/3)/3"
      ]
     },
     "metadata": {},
     "output_type": "display_data"
    },
    {
     "data": {
      "text/latex": [
       "$\\displaystyle 4 C_{1} e^{- 2 x} + \\frac{C_{2} e^{\\frac{x}{3}}}{9}$"
      ],
      "text/plain": [
       "4*C_1*exp(-2*x) + C_2*exp(x/3)/9"
      ]
     },
     "metadata": {},
     "output_type": "display_data"
    },
    {
     "name": "stdout",
     "output_type": "stream",
     "text": [
      "\n",
      "\n",
      "dsolve\n"
     ]
    },
    {
     "data": {
      "text/latex": [
       "$\\displaystyle y{\\left(x \\right)} = C_{1} e^{- 2 x} + C_{2} e^{\\frac{x}{3}}$"
      ],
      "text/plain": [
       "Eq(y(x), C1*exp(-2*x) + C2*exp(x/3))"
      ]
     },
     "metadata": {},
     "output_type": "display_data"
    },
    {
     "name": "stdout",
     "output_type": "stream",
     "text": [
      "\n",
      "\n"
     ]
    },
    {
     "data": {
      "image/png": "[encoded data removed]",
      "text/plain": [
       "<Figure size 432x288 with 1 Axes>"
      ]
     },
     "metadata": {
      "needs_background": "light"
     },
     "output_type": "display_data"
    }
   ],
   "source": [
    "def y(x, C1, C2, lib='sympy'):\n",
    "    if lib == 'sympy':\n",
    "        return C1*Exp((-2)*x) + C2*Exp((S(1)/3)*x)\n",
    "    if lib == 'numpy':\n",
    "        return C1*np.exp((-2)*x) + C2*np.exp((1/3)*x)\n",
    "    return 'error'\n",
    "\n",
    "\n",
    "x, k, C1, C2 = symbols('x k C_1 C_2')\n",
    "roots = solveset(3*k**2 + 5*k - 2)\n",
    "\n",
    "# Проверим подстановкой, для этого методом diff найдем производные первого и второго порядка и подставим у ОДУ,\n",
    "a = 3 * diff(y(x, C1, C2), x, 2)\n",
    "b = 5 * diff(y(x, C1, C2), x)\n",
    "c = 2 * y(x, C1, C2)\n",
    "expression = sympy.collect(a + b - c, Exp(2*x))\n",
    "print(\"Верное равенство =\", expression == 0)\n",
    "print()\n",
    "print()\n",
    "\n",
    "# Выведем также формулу для самой найденной функции , ее первой и второй производной\n",
    "print(\"Формула найденной функции, ее первой и второй производной\")\n",
    "display(y(x, C1, C2))\n",
    "display(diff(y(x, C1, C2), x))\n",
    "display(diff(y(x, C1, C2), x, 2))\n",
    "print()\n",
    "print()\n",
    "\n",
    "# Решение с помощью dsolve\n",
    "y_func = Function('y')\n",
    "print(\"dsolve\")\n",
    "display(dsolve(3*y_func(x).diff(x, 2) + 5*y_func(x).diff(x) - 2*y_func(x), y_func(x)))\n",
    "print()\n",
    "print()\n",
    "\n",
    "\n",
    "# Построим график нескольких решений этого ОДУ\n",
    "X = np.linspace(-1, 1, 100)\n",
    "for (c1, c2, col) in ((0, 1, 'red'), (1, 0, 'green'), (1, -1, 'black')):\n",
    "    plt.plot(X, y(X, c1, c2, lib='numpy'), col)"
   ]
  },
  {
   "cell_type": "markdown",
   "metadata": {},
   "source": [
    "### Задача 2.\n",
    "Решить задачу Коши:\n",
    "$$\n",
    "\\left\\{\n",
    "\\begin{matrix}\n",
    "9y''+3y'+y=0\\\\\n",
    "y(0)=0\\\\\n",
    "y'(0)=2\\sqrt3\n",
    "\\end{matrix}\n",
    "\\right.\n",
    "$$\n",
    "##### Указание.\n",
    "Решить с помощью dsolve, затем составить словарь символов решения, ключи - 'x', 'C1', 'C2', а значения - соответствующие элементы из множества  ХХХ.rhs.free_symbols, решить систему линейных относительно С1 и С2 уравнений, описывающих начальные условия."
   ]
  },
  {
   "cell_type": "code",
   "execution_count": 104,
   "metadata": {},
   "outputs": [
    {
     "name": "stdout",
     "output_type": "stream",
     "text": [
      "Общее решение и словарь символов решения\n"
     ]
    },
    {
     "data": {
      "text/latex": [
       "$\\displaystyle \\left(C_{1} \\sin{\\left(\\frac{\\sqrt{3} x}{6} \\right)} + C_{2} \\cos{\\left(\\frac{\\sqrt{3} x}{6} \\right)}\\right) e^{- \\frac{x}{6}}$"
      ],
      "text/plain": [
       "(C1*sin(sqrt(3)*x/6) + C2*cos(sqrt(3)*x/6))*exp(-x/6)"
      ]
     },
     "metadata": {},
     "output_type": "display_data"
    },
    {
     "name": "stdout",
     "output_type": "stream",
     "text": [
      "{'C1': C1, 'C2': C2, 'x': x}\n",
      "\n",
      "\n",
      "Уравнения\n"
     ]
    },
    {
     "data": {
      "text/latex": [
       "$\\displaystyle \\left(C_{1} \\sin{\\left(\\frac{\\sqrt{3} x}{6} \\right)} + C_{2} \\cos{\\left(\\frac{\\sqrt{3} x}{6} \\right)}\\right) e^{- \\frac{x}{6}}$"
      ],
      "text/plain": [
       "(C1*sin(sqrt(3)*x/6) + C2*cos(sqrt(3)*x/6))*exp(-x/6)"
      ]
     },
     "metadata": {},
     "output_type": "display_data"
    },
    {
     "data": {
      "text/latex": [
       "$\\displaystyle \\frac{\\left(C_{1} \\cos{\\left(\\frac{\\sqrt{3} x}{6} + \\frac{\\pi}{6} \\right)} - C_{2} \\sin{\\left(\\frac{\\sqrt{3} x}{6} + \\frac{\\pi}{6} \\right)} - 6 \\sqrt{3} e^{\\frac{x}{6}}\\right) e^{- \\frac{x}{6}}}{3}$"
      ],
      "text/plain": [
       "(C1*cos(sqrt(3)*x/6 + pi/6) - C2*sin(sqrt(3)*x/6 + pi/6) - 6*sqrt(3)*exp(x/6))*exp(-x/6)/3"
      ]
     },
     "metadata": {},
     "output_type": "display_data"
    },
    {
     "name": "stdout",
     "output_type": "stream",
     "text": [
      "\n",
      "\n",
      "Решение под simplify\n"
     ]
    },
    {
     "data": {
      "text/latex": [
       "$\\displaystyle 12 e^{\\frac{x}{6}} \\cos{\\left(\\frac{\\sqrt{3} x}{6} \\right)}$"
      ],
      "text/plain": [
       "12*exp(x/6)*cos(sqrt(3)*x/6)"
      ]
     },
     "metadata": {},
     "output_type": "display_data"
    },
    {
     "name": "stdout",
     "output_type": "stream",
     "text": [
      "\n",
      "\n"
     ]
    }
   ],
   "source": [
    "# Решить с помощью dsolve, затем составить словарь символов решения, ключи - 'x', 'C1', 'C2', а значения - соответствующие элементы из множества  ХХХ.rhs.free_symbols\n",
    "y = Function('y')\n",
    "answer = dsolve(9*y(x).diff(x, 2) + 3*y(x).diff(x) + 1*y(x), y(x))\n",
    "variables = {str(item): item for item in answer.rhs.free_symbols}\n",
    "print(\"Общее решение и словарь символов решения\")\n",
    "display(answer.rhs)\n",
    "print(variables)\n",
    "print()\n",
    "print()\n",
    "\n",
    "# Решить систему линейных относительно С1 и С2 уравнений, описывающих начальные условия\n",
    "eq1 = simplify(answer.rhs)\n",
    "eq2 = simplify(answer.rhs.diff(x) - 2 * sympy.sqrt(3))\n",
    "print(\"Уравнения\")\n",
    "display(eq1, eq2)\n",
    "print()\n",
    "print()\n",
    "\n",
    "print(\"Решение под simplify\")\n",
    "solved = linsolve([eq1, eq2], list(answer.rhs.free_symbols)[:2])\n",
    "display(simplify(list(solved)[0][0]))\n",
    "print()\n",
    "print()"
   ]
  },
  {
   "cell_type": "markdown",
   "metadata": {},
   "source": [
    "### Индивидуальное задание\n",
    "Решить с помощью dsolve:\n",
    "$$\n",
    "y''' + y'' + y' + y = (4x + 6)e^{2x}.\n",
    "$$\n",
    "Построить график $y(x)$ при начальных условиях $y(0) = 4$, $y'(0) = 2$, $y''(0) = 0$."
   ]
  },
  {
   "cell_type": "code",
   "execution_count": 149,
   "metadata": {},
   "outputs": [
    {
     "name": "stdout",
     "output_type": "stream",
     "text": [
      "Общее решение\n"
     ]
    },
    {
     "data": {
      "text/latex": [
       "$\\displaystyle C_{1} e^{- x} + C_{2} \\sin{\\left(x \\right)} + C_{3} \\cos{\\left(x \\right)} + \\frac{2 \\left(30 x + 11\\right) e^{2 x}}{225}$"
      ],
      "text/plain": [
       "C1*exp(-x) + C2*sin(x) + C3*cos(x) + 2*(30*x + 11)*exp(2*x)/225"
      ]
     },
     "metadata": {},
     "output_type": "display_data"
    },
    {
     "name": "stdout",
     "output_type": "stream",
     "text": [
      "\n",
      "\n",
      "Уравнения\n"
     ]
    },
    {
     "data": {
      "text/latex": [
       "$\\displaystyle C_{1} + C_{3} - \\frac{878}{225}$"
      ],
      "text/plain": [
       "C1 + C3 - 878/225"
      ]
     },
     "metadata": {},
     "output_type": "display_data"
    },
    {
     "data": {
      "text/latex": [
       "$\\displaystyle - C_{1} + C_{2} - \\frac{346}{225}$"
      ],
      "text/plain": [
       "-C1 + C2 - 346/225"
      ]
     },
     "metadata": {},
     "output_type": "display_data"
    },
    {
     "data": {
      "text/latex": [
       "$\\displaystyle C_{1} - C_{3} + \\frac{328}{225}$"
      ],
      "text/plain": [
       "C1 - C3 + 328/225"
      ]
     },
     "metadata": {},
     "output_type": "display_data"
    },
    {
     "name": "stdout",
     "output_type": "stream",
     "text": [
      "\n",
      "\n",
      "Решения под simplify\n"
     ]
    },
    {
     "data": {
      "text/latex": [
       "$\\displaystyle \\frac{69}{25}$"
      ],
      "text/plain": [
       "69/25"
      ]
     },
     "metadata": {},
     "output_type": "display_data"
    },
    {
     "data": {
      "text/latex": [
       "$\\displaystyle \\frac{11}{9}$"
      ],
      "text/plain": [
       "11/9"
      ]
     },
     "metadata": {},
     "output_type": "display_data"
    },
    {
     "data": {
      "text/latex": [
       "$\\displaystyle \\frac{67}{25}$"
      ],
      "text/plain": [
       "67/25"
      ]
     },
     "metadata": {},
     "output_type": "display_data"
    },
    {
     "name": "stdout",
     "output_type": "stream",
     "text": [
      "\n",
      "\n",
      "График\n"
     ]
    },
    {
     "data": {
      "text/latex": [
       "$\\displaystyle \\frac{2 \\left(30 x + 11\\right) e^{2 x}}{225} + \\frac{11 \\sin{\\left(x \\right)}}{9} + \\frac{67 \\cos{\\left(x \\right)}}{25} + \\frac{69 e^{- x}}{25}$"
      ],
      "text/plain": [
       "2*(30*x + 11)*exp(2*x)/225 + 11*sin(x)/9 + 67*cos(x)/25 + 69*exp(-x)/25"
      ]
     },
     "metadata": {},
     "output_type": "display_data"
    },
    {
     "data": {
      "image/png": "[encoded data removed]",
      "text/plain": [
       "<Figure size 432x288 with 1 Axes>"
      ]
     },
     "metadata": {
      "needs_background": "light"
     },
     "output_type": "display_data"
    }
   ],
   "source": [
    "# Решить с помощью dsolve\n",
    "y = Function('y')\n",
    "answer = dsolve(y(x).diff(x, 3) + y(x).diff(x, 2) + y(x).diff(x) + y(x) - (4*x+6)*Exp(2*x), y(x))\n",
    "print(\"Общее решение\")\n",
    "display(answer.rhs)\n",
    "print()\n",
    "print()\n",
    "\n",
    "# Решить систему линейных относительно С1 и С2 уравнений, описывающих начальные условия\n",
    "eq1 = simplify(expand(answer.rhs - 4))\n",
    "eq2 = simplify(expand(answer.rhs.diff(x) - 2))\n",
    "eq3 = simplify(expand(answer.rhs.diff(x, 2)))\n",
    "\n",
    "eq1 = simplify(expand(answer.rhs - 4)).subs({\"x\": 0})\n",
    "eq2 = simplify(expand(answer.rhs.diff(x) - 2)).subs({\"x\": 0})\n",
    "eq3 = simplify(expand(answer.rhs.diff(x, 2))).subs({\"x\": 0})\n",
    "\n",
    "print(\"Уравнения\")\n",
    "display(eq1, eq2, eq3)\n",
    "print()\n",
    "print()\n",
    "\n",
    "print(\"Решения под simplify\")\n",
    "solved = linsolve([eq1, eq2, eq3], list(answer.rhs.free_symbols)[:3])\n",
    "for item in list(solved)[0]:\n",
    "    display(simplify(expand(item)))\n",
    "print()\n",
    "print()\n",
    "\n",
    "print(\"График\")\n",
    "func_to_draw = answer.rhs.subs({\"C1\": S(69)/25, \"C2\": S(11)/9, \"C3\": S(67)/25})\n",
    "display(func_to_draw)\n",
    "X = np.linspace(1, 5, 100)\n",
    "plt.plot(X, 2*(30*X+11)*np.exp(2*X)/225 + 11*np.sin(X)/9 + 67 * np.cos(X)/25 +  69 * np.exp(-X) / 25)\n",
    "plt.show()"
   ]
  },
  {
   "cell_type": "code",
   "execution_count": null,
   "metadata": {},
   "outputs": [],
   "source": []
  }
 ],
 "metadata": {
  "kernelspec": {
   "display_name": "Python 3",
   "language": "python",
   "name": "python3"
  },
  "language_info": {
   "codemirror_mode": {
    "name": "ipython",
    "version": 3
   },
   "file_extension": ".py",
   "mimetype": "text/x-python",
   "name": "python",
   "nbconvert_exporter": "python",
   "pygments_lexer": "ipython3",
   "version": "3.8.1"
  }
 },
 "nbformat": 4,
 "nbformat_minor": 4
}
