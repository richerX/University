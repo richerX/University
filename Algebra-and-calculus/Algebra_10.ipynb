{
 "cells": [
  {
   "cell_type": "code",
   "execution_count": 2,
   "metadata": {},
   "outputs": [],
   "source": [
    "import sympy\n",
    "from sympy import I\n",
    "import numpy as np\n",
    "import matplotlib.pyplot as plt"
   ]
  },
  {
   "cell_type": "markdown",
   "metadata": {},
   "source": [
    "# Занятие 10\n",
    "# Алгебра\n",
    "## Комплексные числа в sympy\n",
    "### Задание 1.\n",
    "Даны комплексные числа\n",
    "$$\n",
    "z_1 = 5\\sqrt{3} + 5i,\\quad z_2 = -3 + 3i,\\quad z_3 = - 1 + i,\\quad z_4 = i,\\quad z_5 = \\frac{12}{13} + \\frac{5}{13}i,\n",
    "$$\n",
    "вычислить (представить в алгебраической форме) с помощью sympy\n",
    "$$\n",
    "z_1 \\cdot z_2,\\quad (z_2 - 5z_3)^6,\\quad \\sqrt{\\frac{z_4}{z_3}},\\quad \\frac{z_1^2 + z_3}{13z_5 - 2z_2}.\n",
    "$$"
   ]
  },
  {
   "cell_type": "code",
   "execution_count": 3,
   "metadata": {},
   "outputs": [
    {
     "data": {
      "text/latex": [
       "$\\displaystyle - 15 \\sqrt{3} - 15 + i \\left(-15 + 15 \\sqrt{3}\\right)$"
      ],
      "text/plain": [
       "-15*sqrt(3) - 15 + I*(-15 + 15*sqrt(3))"
      ]
     },
     "metadata": {},
     "output_type": "display_data"
    },
    {
     "data": {
      "text/latex": [
       "$\\displaystyle 512.0 i$"
      ],
      "text/plain": [
       "512.0*I"
      ]
     },
     "metadata": {},
     "output_type": "display_data"
    },
    {
     "data": {
      "text/latex": [
       "$\\displaystyle 0.776886987015019 - 0.321797126452791 i$"
      ],
      "text/plain": [
       "0.776886987015019 - 0.321797126452791*I"
      ]
     },
     "metadata": {},
     "output_type": "display_data"
    },
    {
     "data": {
      "text/latex": [
       "$\\displaystyle - 0.153846153846154 \\sqrt{3} + 2.71076923076923 + i \\left(0.206153846153846 + 2.76923076923077 \\sqrt{3}\\right)$"
      ],
      "text/plain": [
       "-0.153846153846154*sqrt(3) + 2.71076923076923 + I*(0.206153846153846 + 2.76923076923077*sqrt(3))"
      ]
     },
     "metadata": {},
     "output_type": "display_data"
    }
   ],
   "source": [
    "z1 = 5*sympy.sqrt(3) + 5*I\n",
    "z2 = -3 + 3*I\n",
    "z3 = complex(-1, 1)\n",
    "z4 = complex(0, 1)\n",
    "z5 = complex(12/13, 5/13)\n",
    "\n",
    "display(sympy.expand_complex(z1*z2))\n",
    "display(sympy.expand_complex((z2-5*z3)**6))\n",
    "display(sympy.expand_complex(sympy.sqrt(z4/z3)))\n",
    "display(sympy.expand_complex((z1**2+z3)/(13*z5-2*z2)))"
   ]
  },
  {
   "cell_type": "markdown",
   "metadata": {},
   "source": [
    "### Задание  2.\n",
    "Вычисления Примера 1 проделать для мнимой единицы из python (использовать встроенную функцию complex)."
   ]
  },
  {
   "cell_type": "code",
   "execution_count": 12,
   "metadata": {},
   "outputs": [
    {
     "data": {
      "text/latex": [
       "$\\displaystyle - 15.0 \\sqrt{3} - 15.0 + i \\left(-15.0 + 15.0 \\sqrt{3}\\right)$"
      ],
      "text/plain": [
       "-15.0*sqrt(3) - 15.0 + I*(-15.0 + 15.0*sqrt(3))"
      ]
     },
     "metadata": {},
     "output_type": "display_data"
    },
    {
     "data": {
      "text/latex": [
       "$\\displaystyle 512.0 i$"
      ],
      "text/plain": [
       "512.0*I"
      ]
     },
     "metadata": {},
     "output_type": "display_data"
    },
    {
     "data": {
      "text/latex": [
       "$\\displaystyle 0.776886987015019 - 0.321797126452791 i$"
      ],
      "text/plain": [
       "0.776886987015019 - 0.321797126452791*I"
      ]
     },
     "metadata": {},
     "output_type": "display_data"
    },
    {
     "data": {
      "text/latex": [
       "$\\displaystyle - 1.23595505617978 \\sqrt{3} + 1.95730337078652 + i \\left(1.25168539325843 + 2.02247191011236 \\sqrt{3}\\right)$"
      ],
      "text/plain": [
       "-1.23595505617978*sqrt(3) + 1.95730337078652 + I*(1.25168539325843 + 2.02247191011236*sqrt(3))"
      ]
     },
     "metadata": {},
     "output_type": "display_data"
    }
   ],
   "source": [
    "z1 = 5*sympy.sqrt(3) + 5j\n",
    "z2 = -3 + 3j\n",
    "z3 = -1 + 1j\n",
    "z4 = 1j\n",
    "z5 = 12/13 + 5/13j\n",
    "\n",
    "display(sympy.expand_complex(z1*z2))\n",
    "display(sympy.expand_complex((z2-5*z3)**6))\n",
    "display(sympy.expand_complex(sympy.sqrt(z4/z3)))\n",
    "display(sympy.expand_complex((z1**2+z3)/(13*z5-2*z2)))"
   ]
  },
  {
   "cell_type": "markdown",
   "metadata": {},
   "source": [
    "### Задание  3.\n",
    "Изобразить на координатной плоскости точки, соответствующие корням  $7$-й степени комплексного числа $z = \\frac{3}{5} + i\\frac{3}{5}$. Подписать точки $Ak$, где $k$  - номер корня."
   ]
  },
  {
   "cell_type": "code",
   "execution_count": 30,
   "metadata": {},
   "outputs": [
    {
     "data": {
      "text/plain": [
       "(-1.5, 1.5)"
      ]
     },
     "execution_count": 30,
     "metadata": {},
     "output_type": "execute_result"
    },
    {
     "data": {
      "image/png": "[encoded data removed]",
      "text/plain": [
       "<Figure size 432x288 with 1 Axes>"
      ]
     },
     "metadata": {
      "needs_background": "light"
     },
     "output_type": "display_data"
    }
   ],
   "source": [
    "n = 7\n",
    "roots_list3 = [sympy.root(3/5 + I * 3/5, n, k) for k in range(n)]\n",
    "roots3 = [sympy.expand_complex(item) for item in roots_list3]\n",
    "# display(*roots_list3)\n",
    "\n",
    "roots_x = [sympy.re(item) for item in roots_list3]\n",
    "roots_y = [sympy.im(item) for item in roots_list3]\n",
    "plt.scatter(roots_x, roots_y)\n",
    "for k, x_coord in enumerate(roots_x):\n",
    "    plt.annotate('A_' + str(k), xy=(x_coord, roots_y[k]), xytext=(x_coord + 0.05, roots_y[k] - 0.05))\n",
    "    #plt.annotate('$A_' + str(k) + ' = ' + sympy.latex(roots3[k]) + '$', xy=(x_coord, roots_y[k]), xytext=(x_coord + 0.05, roots_y[k] - 0.05))\n",
    "plt.axis('equal')\n",
    "plt.xlabel(\"Re\")\n",
    "plt.ylabel(\"Im\")\n",
    "plt.xlim(-2.5, 4.5)\n",
    "plt.ylim(-1.5, 1.5)"
   ]
  },
  {
   "cell_type": "markdown",
   "metadata": {},
   "source": [
    "### Задание  4.\n",
    "Изобразить на координатной плоскости точки, соответствующие $z_4 = - \\frac{3}{5} + \\frac{4}{5}i$ и $\\bar{z_4}$, подписать $z_4$ тригонометрической формой, $\\bar{z_4}$ - экспоненциальной ($z = r e^{i\\varphi}$, $r$ и $\\varphi$ такие же, как в тригонометрической форме)."
   ]
  },
  {
   "cell_type": "code",
   "execution_count": 35,
   "metadata": {},
   "outputs": [
    {
     "data": {
      "text/plain": [
       "(-1.5, 1.5)"
      ]
     },
     "execution_count": 35,
     "metadata": {},
     "output_type": "execute_result"
    },
    {
     "data": {
      "image/png": "[encoded data removed]",
      "text/plain": [
       "<Figure size 432x288 with 1 Axes>"
      ]
     },
     "metadata": {
      "needs_background": "light"
     },
     "output_type": "display_data"
    }
   ],
   "source": [
    "x = -3/5\n",
    "y = 4/5\n",
    "z4 = -3/5 + 4/5*I\n",
    "plt.scatter(x, y)\n",
    "plt.annotate('$Z4' + ' = ' + sympy.latex(z4) + '$', xy=(x, y), xytext=(x + 0.05, y - 0.05))\n",
    "\n",
    "x = -3/5\n",
    "y = -4/5\n",
    "z4 = -3/5 - 4/5*I\n",
    "plt.scatter(x, y)\n",
    "plt.annotate('$Z4 (сопр.)' + ' = ' + sympy.latex(z4) + '$', xy=(x, y), xytext=(x + 0.05, y - 0.05))\n",
    "\n",
    "plt.axis('equal')\n",
    "plt.xlabel(\"Re\")\n",
    "plt.ylabel(\"Im\")\n",
    "plt.xlim(-2.5, 4.5)\n",
    "plt.ylim(-1.5, 1.5)"
   ]
  },
  {
   "cell_type": "markdown",
   "metadata": {},
   "source": [
    "#### Задание  5.\n",
    "Изобразить корни 4 степени числа $5e^{\\frac{i\\pi}{8}}$, в полярной системе координат, подписи к точкам - аргументы (углы) сответствующих комплексных чисел. \n",
    "\n",
    "Число вводить в тригонометрической форме, для получения корней комплексного числа $z = r(\\cos(\\varphi) + \\sin(\\varphi))$ использовать формулу \n",
    "$\\sqrt[n]{z} = \\sqrt[n]{r}(\\cos(\\varphi_k) + i \\sin(\\varphi_k))$, \n",
    "$\\varphi_k = \\frac{\\varphi + 2\\pi k}{n}$, $k = 0, ..., n$. \n",
    "\n",
    "Вывести алгебраическую форму полученных корней на экран и сравнить с результатом, полученным с помощью sympy.root (с использованием sympy.expand_complex для упрощения выражения). Аналитическое представление оказывается разным.\n",
    "\n",
    "Для каждого корня найти разность в формате float модуля разности корней, полученных двумя способами (т.е. нужно для каждой пары одинаковых корней, полученных двумя способами находить разность корней, вычислять модуль sympy.Abs этой разности и преобразовывать результат в формат float)."
   ]
  },
  {
   "cell_type": "code",
   "execution_count": 12,
   "metadata": {},
   "outputs": [
    {
     "name": "stdout",
     "output_type": "stream",
     "text": [
      "3.95737116496618e-17 + 3.89767039642695e-18*I\n",
      "3.89767039642695e-18 + 3.95737116496618e-17*I\n",
      "3.95737116496618e-17 + 3.89767039642695e-18*I\n",
      "3.89767039642695e-18 + 3.95737116496618e-17*I\n"
     ]
    },
    {
     "data": {
      "text/plain": [
       "[<matplotlib.lines.Line2D at 0x11ca40d0>]"
      ]
     },
     "execution_count": 12,
     "metadata": {},
     "output_type": "execute_result"
    },
    {
     "data": {
      "image/png": "[encoded data removed]",
      "text/plain": [
       "<Figure size 432x288 with 1 Axes>"
      ]
     },
     "metadata": {
      "needs_background": "light"
     },
     "output_type": "display_data"
    }
   ],
   "source": [
    "# Корни первым способом\n",
    "n = 4\n",
    "roots_list1 = [sympy.root(5 * sympy.E ** (I * sympy.pi / 8), n, k) for k in range(n)]\n",
    "roots1 = [sympy.expand_complex(item) for item in roots_list1]\n",
    "\n",
    "# Корни вторым способом\n",
    "r = 5\n",
    "phi = sympy.pi/8\n",
    "roots2 = []\n",
    "for k in range(4):\n",
    "    angle = (phi + 2 * sympy.pi * k) / n\n",
    "    roots2.append(r ** (1/n) * (sympy.cos(angle) + I * sympy.sin(angle)))\n",
    "\n",
    "# Вывод разности корней\n",
    "for i in range(4):\n",
    "    first = float(sympy.Abs(sympy.re(roots1[i]) - sympy.re(roots2[i])))\n",
    "    second = float(sympy.Abs(sympy.im(roots1[i]) - sympy.im(roots2[i])))\n",
    "    print(first + second * I)\n",
    "\n",
    "    \n",
    "arg_list = []\n",
    "r_list = []\n",
    "for k in range(4):\n",
    "    arg_list.append((phi + 2 * sympy.pi * k) / n)\n",
    "    r_list.append(sympy.sqrt(sympy.re(roots1[k]) ** 2 + sympy.im(roots1[k]) ** 2))\n",
    "plt.polar(arg_list, r_list, 'go')"
   ]
  },
  {
   "cell_type": "markdown",
   "metadata": {},
   "source": [
    "### Индивидуальное задание.\n",
    "Решить уравнение.\n",
    "Для получения корней использовать sympy.roots.\n",
    "Корни уравнения вывести на экран в алгебраической, тригонометрической и экспоненциальной форме."
   ]
  },
  {
   "cell_type": "markdown",
   "metadata": {},
   "source": [
    "\n",
    "Вариант N 36\n",
    "\n",
    "$(1 - 7 i)x^2 + (-108 - 44 i)x + -378 + 546 i = 0$"
   ]
  },
  {
   "cell_type": "code",
   "execution_count": 119,
   "metadata": {},
   "outputs": [
    {
     "name": "stdout",
     "output_type": "stream",
     "text": [
      "-7.0 + 7.0*I\n",
      "9.899*(cos(3*pi/4) + isin(3*pi/4))\n",
      "9.899*e^(i*3*pi/4)\n",
      "\n",
      "3.0 + 9.0*I\n",
      "9.486*(cos(0.397*pi) + isin(0.397*pi))\n",
      "9.486*e^(i*0.397*pi)\n",
      "\n"
     ]
    }
   ],
   "source": [
    "x = sympy.Symbol(\"x\")\n",
    "z1 = complex(1, -7)\n",
    "z2 = complex(-108, -44)\n",
    "z3 = complex(-378, 546)\n",
    "\n",
    "roots = sympy.roots(z1 * x ** 2 + z2 * x + z3, x)\n",
    "angles = [3*sympy.pi/4, 0.397 * sympy.pi]\n",
    "for i in range(len(roots)):\n",
    "    root = list(roots.keys())[i]\n",
    "    a = sympy.re(root)\n",
    "    b = sympy.im(root)\n",
    "    r = sympy.sqrt(a ** 2 + b ** 2)\n",
    "    phi = angles[i]\n",
    "    print(a + b * I)\n",
    "    print(f\"{str(r)[:5]}*(cos({phi}) + isin({phi}))\")\n",
    "    print(f\"{str(r)[:5]}*e^(i*{phi})\")\n",
    "    print()"
   ]
  },
  {
   "cell_type": "code",
   "execution_count": null,
   "metadata": {},
   "outputs": [],
   "source": []
  }
 ],
 "metadata": {
  "kernelspec": {
   "display_name": "Python 3",
   "language": "python",
   "name": "python3"
  },
  "language_info": {
   "codemirror_mode": {
    "name": "ipython",
    "version": 3
   },
   "file_extension": ".py",
   "mimetype": "text/x-python",
   "name": "python",
   "nbconvert_exporter": "python",
   "pygments_lexer": "ipython3",
   "version": "3.8.1"
  }
 },
 "nbformat": 4,
 "nbformat_minor": 4
}
