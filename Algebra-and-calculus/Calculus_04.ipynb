{
  "cells": [
    {
      "cell_type": "markdown",
      "metadata": {
        "id": "myvUJiptv8GF"
      },
      "source": [
        "## Занятие 4\n",
        "## Математический анализ\n",
        "## Анализ функции. Построение графика в matplotlib.pyplot\n",
        "https://matplotlib.org\n",
        "https://matplotlib.org/api/_as_gen/matplotlib.pyplot.plot.html\n",
        "https://matplotlib.org/tutorials/text/annotations.html"
      ]
    },
    {
      "cell_type": "code",
      "execution_count": null,
      "metadata": {
        "id": "kOIUAPRav8GG"
      },
      "outputs": [],
      "source": [
        "# Импорт библиотеки matplotlib.pyplot обычно осуществляется так:\n",
        "import matplotlib.pyplot as plt\n",
        "from sympy import Symbol, symbols, S, solve, solveset, latex, fraction, Eq, log\n",
        "# А для того, чтобы использовать все остальное, сделаем так:\n",
        "import sympy\n",
        "import numpy as np"
      ]
    },
    {
      "cell_type": "markdown",
      "metadata": {
        "id": "I9GaYb9Xv8GH"
      },
      "source": [
        "### Задание 1\n",
        "Найти точки пересечения графика функции $f(x) = (x^2 + 3 x - 2)\\log_2(3x+1)$ с осями координат, построить график и отметить точки пересечения.\n",
        "\n",
        "#### Указание. \n",
        "Определить функцию как в Примере 3, поскольку нужно будет использовать функцию  $\\log_2(x)$ из каждого пакета sympy и numpy.\n",
        "В numpy использовать $log2(x)$ для вычисления логарифма по основанию 2.\n",
        "\n",
        "Сроить график только в пределах области определения функции. Точки пересечения с осью OX должны быть не только решениями соответствующего уравнения, но и принадлежать области определения функции."
      ]
    },
    {
      "cell_type": "code",
      "execution_count": null,
      "metadata": {
        "id": "c8ptdSUmv8GH"
      },
      "outputs": [],
      "source": [
        "def f(x, lib = 'sympy'):\n",
        "    if lib == 'sympy':\n",
        "        return (x**2+3*x-2)*sympy.log(3*x+1, 2)\n",
        "    elif lib == \"np\":\n",
        "        return (x**2+3*x-2)*np.log2(3*x+1)\n",
        "\n",
        "def getRoots():\n",
        "    roots = []\n",
        "    for i in solve(f(x)):\n",
        "        if i > -1/3:\n",
        "            roots.append(i)\n",
        "    y_coord = [0]*len(roots)\n",
        "    return roots, y_coord\n",
        "\n",
        "x = Symbol(\"x\")\n",
        "roots, y_coord = getRoots()\n",
        "X = np.linspace(-1/3.0001, 2.5, 200)\n",
        "plt.scatter(roots, y_coord)\n",
        "\n",
        "ax = plt.gca() \n",
        "for i, x_coord in enumerate(roots): \n",
        "    ax.annotate('A' + str(i + 1), \n",
        "                xy=(x_coord, y_coord[i]), \n",
        "                xycoords='data', \n",
        "                xytext=(x_coord + 0.5, y_coord[i] + 100), \n",
        "                textcoords='data', \n",
        "                arrowprops=dict(arrowstyle=\"->\",connectionstyle=\"arc3\")) \n",
        "ax.spines['right'].set_color('none') # Правая сторона рамки стала бесцветной, но не исчезла!\n",
        "ax.spines['top'].set_color('none')\n",
        "ax.spines['bottom'].set_position(('data', 0)) # Нижняя сторона рамки переместилась в начало координат\n",
        "ax.spines['left'].set_position(('data', 0))    \n",
        "ax.plot(1, 0, \">k\", transform=ax.get_yaxis_transform(), clip_on=False)\n",
        "ax.plot(0, 1, \"^k\", transform=ax.get_xaxis_transform(), clip_on=False)\n",
        "ax.plot(X, f(X, lib = \"np\"))\n",
        "ax.scatter(roots, y_coord)"
      ]
    },
    {
      "cell_type": "markdown",
      "metadata": {
        "id": "4ri4X4nfv8GI"
      },
      "source": [
        "### Задание 2\n",
        "Найти асимптоты графика функции $g(x) = \\frac{35x^2 + 4x - 15}{3x - 2}$, построить график и асимптоты, в легенду графика включить формулы функции и асимптот, подписать оси 'x' и 'y'."
      ]
    },
    {
      "cell_type": "code",
      "execution_count": null,
      "metadata": {
        "id": "paVCVXVcv8GI"
      },
      "outputs": [],
      "source": [
        "def f(x):\n",
        "    return (35*x**2 + 4*x - 15)/(3*x - 2)\n",
        "\n",
        "x = Symbol(\"x\")\n",
        "fnum, fdenom = sympy.fraction(f(x)) \n",
        "v_as = sympy.solveset(fdenom, x) \n",
        "\n",
        "y0pos = sympy.limit(f(x), x, +sympy.oo)\n",
        "y0neg = sympy.limit(f(x), x, -sympy.oo)\n",
        "kpos = sympy.limit(f(x)/x, x, +sympy.oo)\n",
        "kneg = sympy.limit(f(x)/x, x, -sympy.oo)\n",
        "k = (kneg, kpos)\n",
        "if kpos == kneg:\n",
        "    k = kpos\n",
        "\n",
        "b = sympy.limit(f(x) - k*x, x, sympy.oo)\n",
        "y_as = k*x +b\n",
        "\n",
        "minY = -50  \n",
        "maxY = 50\n",
        "ax = plt.gca()\n",
        "ax.set(ylim=(minY, maxY))\n",
        "for item in v_as:\n",
        "    ax.axvline(x=item, color='red', linestyle='--')    \n",
        "X1 = np.linspace(-5, float(item - 0.01), 100) \n",
        "X2 = np.linspace(float(item + 0.01), 5, 100)\n",
        "Y1 = f(X1)\n",
        "Y2 = f(X2)\n",
        "ax.plot(X1, Y1, 'k-', label=r'$f(x)=' + sympy.latex(f(x)) + r'$') # График левой ветви функции\n",
        "ax.plot(X2, Y2, 'k-') # График правой ветви функции\n",
        "ax.plot([X1[0], X2[-1]], [y_as.subs(x, X1[0]), y_as.subs(x, X2[-1])], 'g--', \n",
        "         label=r'$asympt. y=' + sympy.latex(y_as) + r'$')# График наклонной асимптоты\n",
        "ax.legend(loc='best')\n",
        "ax.spines['right'].set_color('none')\n",
        "ax.spines['top'].set_color('none')\n",
        "ax.spines['bottom'].set_position(('data', 0))\n",
        "ax.spines['left'].set_position(('data', 0))\n",
        "ax.plot(1, 0, \">k\", transform=ax.get_yaxis_transform(), clip_on=False)\n",
        "ax.plot(0, 1, \"^k\", transform=ax.get_xaxis_transform(), clip_on=False)"
      ]
    },
    {
      "cell_type": "markdown",
      "metadata": {
        "id": "0tdZr1wtv8GJ"
      },
      "source": [
        "### Задание 3.\n",
        "Описать в виде функции траекторию пули, выпущенной со скоростью $v_0$ под углом $\\alpha$ к горизонту (по умолчанию $v_0 = 0$, $\\alpha = \\pi/2$)\n",
        "$$\n",
        "\\left\\{\n",
        "\\begin{matrix}\n",
        "x=v_0t\\cos\\alpha\\\\\n",
        "y=v_0t\\sin\\alpha-\\frac{10t^2}{2}\n",
        "\\end{matrix}\n",
        "\\right.\n",
        "$$\n",
        "Аргументы функции $t$, $v_0$ и $\\alpha$, результат - два выражения $x$ и $y$, в соответствии с формулами, приведенными выше.\n",
        "\n",
        "Определить соответствующий набору параметров $v_0$ и $\\alpha$ диапазон значений параметра времени $t$, учитывая, что пуля не должна провалиться сквозь землю. \n",
        "\n",
        "Построить траектории при заданных значениях начальной скорости и угла на одном графике (($v_0 = 1$, $\\alpha = \\pi/6$), ($v_0 = 2$, $\\alpha= \\pi/4$), ($v_0 = 2$, $\\alpha = 1$)). Графики должны быть соответственно зеленого, красного и черного цвета. \n",
        "\n",
        "Подписать оси $x$, $y$.\n",
        "\n",
        "В легенде отразить значения параметров, например, $v_0 = 2,\\ \\alpha = \\pi/6$.\n",
        "\n",
        "Название графика - Траектории пуль.\n",
        "#### Указание.\n",
        "Использовать $\\sin$ из numpy.\n",
        "\n",
        "Решить уравнение $y = 0$ относительно $t$, пользуясь solve или solveset, чтобы с помощью найденного значения $t$ определить правую границу значений $x$."
      ]
    },
    {
      "cell_type": "markdown",
      "metadata": {
        "id": "_MAMI5Rwv8GJ"
      },
      "source": [
        "#### Решение.\n",
        "Определим функцию, зададим списком данные наборы параметров ($v_0 = 1$, $\\alpha = \\pi/6$), ($v_0 = 2$, $\\alpha= \\pi/4$), ($v_0 = 2.5$, $\\alpha = 1$) и найдем значение параметра $t$, при котором  $y = 0$. Затем подстановкой subs в t_interval найдем наибольшее значение $t$ и построим графики:"
      ]
    },
    {
      "cell_type": "code",
      "execution_count": null,
      "metadata": {
        "id": "tFLB9M5nv8GJ"
      },
      "outputs": [],
      "source": [
        "def f(v, a, t):\n",
        "    x = v * t * np.cos(a)\n",
        "    y = v * t * np.sin(a) - 10 * t * t / 2\n",
        "    return x, y\n",
        "\n",
        "x, t = symbols(\"x t\")\n",
        "values = [[1, np.pi / 6, (0, 0.02), [0.86, -5, 0.5]], [2, np.pi / 4, (0, 0.15), [1.41, -5, 1.41]], [2.5, 1, (0, 0.25), [1.35, -5, 2.1]]]\n",
        "plt.figure(figsize = (20, 5))\n",
        "for i in range(len(values)):\n",
        "    item = values[i]\n",
        "    v, a = item[0], item[1]\n",
        "    t_values = sympy.solveset(v * t * np.sin(a) - 10 * t * t / 2, t)\n",
        "    minT, maxT =  t_values.args[0], t_values.args[1]\n",
        "    \n",
        "    graphic = plt.subplot(1, 3, i + 1)\n",
        "    graphic.set(ylim=item[2])\n",
        "    coeffs = item[3]\n",
        "    graphic.plot(0, 0, label = f\"x = {coeffs[0]}t\" + \"\\n\" + f\"$y = {coeffs[1]}{sympy.latex(t**2)} + {coeffs[2]}t$\" + \"\\n\" + f\"V = {v}\" + \"\\n\" + f\"alpha = {a:.2f}\")\n",
        "    x_values, y_values = [], []\n",
        "    zoom = 3000\n",
        "    for step in range(int(minT * zoom), int(maxT * zoom)):\n",
        "        x, y = f(v, a, step / zoom)\n",
        "        x_values.append(x)\n",
        "        y_values.append(y)\n",
        "    graphic.plot(x_values, y_values, color = \"#71a8cf\")\n",
        "    graphic.set_title(f\"Траектория пули\")\n",
        "    graphic.set_xlabel('Расстояние (м)')\n",
        "    graphic.set_ylabel('Высота (м)')\n",
        "    \n",
        "    graphic.legend(loc='best')\n",
        "    graphic.spines['right'].set_color('none')\n",
        "    graphic.spines['top'].set_color('none')\n",
        "    graphic.spines['bottom'].set_position(('data', 0))\n",
        "    graphic.spines['left'].set_position(('data', 0))\n",
        "    graphic.plot(1, 0, \">k\", transform=graphic.get_yaxis_transform(), clip_on=False)\n",
        "    graphic.plot(0, 1, \"^k\", transform=graphic.get_xaxis_transform(), clip_on=False)"
      ]
    },
    {
      "cell_type": "markdown",
      "metadata": {
        "id": "1e8k2EB1v8GK"
      },
      "source": [
        "### Индивидуальное задание.\n",
        "Построить в одной координатной плоскости графики функций."
      ]
    },
    {
      "cell_type": "raw",
      "metadata": {
        "id": "EJ8gx0olv8GK"
      },
      "source": [
        "Вариант N36\n",
        "Построить в одной координатной плоскости графики функций \n",
        "f(x) = 3x + 4, g(x) = 4 cos (4x) на отрезке [3π/4, 5π/4], \n",
        "f(x) желтая сплошная линия, g(x) синяя линия из точек.\n",
        "\n",
        "Отметки подписать формулами как в Примере 3\n",
        "По горизонтальной оси от 3π/4 до 5π/4 с шагом π/8\n",
        "По вертикальной оси отметки −4, 0, 4"
      ]
    },
    {
      "cell_type": "code",
      "execution_count": null,
      "metadata": {
        "id": "Ik6gq2pfv8GK"
      },
      "outputs": [],
      "source": [
        "def f(x):\n",
        "    return 3 * x + 4\n",
        "\n",
        "def g(x):\n",
        "    return 4 * np.cos(4 * x)\n",
        "\n",
        "x  = symbols(\"x\")\n",
        "plt.figure(figsize = (20, 6))\n",
        "graphic = plt.gca()\n",
        "graphic.set(xlim = (2.95 * np.pi / 4, 5.05 * np.pi / 4))\n",
        "x_values = np.linspace(3 * np.pi / 4, 5 * np.pi / 4, 100)\n",
        "\n",
        "graphic.plot(x_values, f(x_values), color = \"yellow\", label = f\"$ f(x) = {latex(f(x))} $\")\n",
        "graphic.scatter(x_values, g(x_values), color = \"blue\", label = f\"$ g(x) = 4*cos(4x) $\")\n",
        "\n",
        "graphic.set_xticks([3 * np.pi / 4 + i * np.pi / 8 for i in range(5)])\n",
        "graphic.set_xticklabels([r'$' + latex(3 * sympy.pi / 4 + i * sympy.pi / 8) + r'$' for i in range(5)]) \n",
        "\n",
        "graphic.set_yticks([-4 + i * 4 for i in range(10)])\n",
        "graphic.set_yticklabels([r'$' + latex(-4 + i * 4) + r'$' for i in range(10)]) \n",
        "\n",
        "graphic.set_title(f\"График\")\n",
        "graphic.legend(loc='upper left')\n",
        "graphic.spines['right'].set_color('none')\n",
        "graphic.spines['top'].set_color('none')\n",
        "graphic.spines['bottom'].set_position(('data', 0))\n",
        "graphic.plot(1, 0, \">k\", transform=graphic.get_yaxis_transform(), clip_on=False)"
      ]
    },
    {
      "cell_type": "code",
      "execution_count": null,
      "metadata": {
        "id": "Y3irky-rv8GK"
      },
      "outputs": [],
      "source": []
    }
  ],
  "metadata": {
    "kernelspec": {
      "display_name": "Python 3",
      "language": "python",
      "name": "python3"
    },
    "language_info": {
      "codemirror_mode": {
        "name": "ipython",
        "version": 3
      },
      "file_extension": ".py",
      "mimetype": "text/x-python",
      "name": "python",
      "nbconvert_exporter": "python",
      "pygments_lexer": "ipython3",
      "version": "3.8.1"
    },
    "colab": {
      "provenance": []
    }
  },
  "nbformat": 4,
  "nbformat_minor": 0
}