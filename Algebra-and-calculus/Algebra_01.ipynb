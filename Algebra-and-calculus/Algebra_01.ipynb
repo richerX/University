{
 "cells": [
  {
   "cell_type": "markdown",
   "metadata": {},
   "source": [
    "# Практическое занятие 1\n",
    "# Алгебра"
   ]
  },
  {
   "cell_type": "markdown",
   "metadata": {},
   "source": [
    "https://docs.sympy.org/latest/tutorial/intro.html"
   ]
  },
  {
   "cell_type": "code",
   "execution_count": 1,
   "metadata": {},
   "outputs": [],
   "source": [
    "#Вначале для простоты будем подключать модуль sympy целиком\n",
    "from sympy import *"
   ]
  },
  {
   "cell_type": "markdown",
   "metadata": {},
   "source": [
    "## Действия с числами, числовые выражения\n",
    "Об основных типах данных Python 3.8 читайте здесь:\n",
    "https://docs.python.org/3/reference/datamodel.html#index-19\n",
    "\n",
    "Сейчас нам понадобятся типы:\n",
    "\n",
    "int - целое число (насколько большим оно может быть, зависит только от объема доступной памяти)\n",
    "\n",
    "float - вещественное число (double precision floating point numbers)\n",
    "\n",
    "### Задание 1.\n",
    "Вычислите значение выражения\n",
    "$$\n",
    "3\\left(2^{4}+6\\sin\\frac{\\pi}{4}-5\\sqrt{2}\\right)\n",
    "$$"
   ]
  },
  {
   "cell_type": "code",
   "execution_count": 6,
   "metadata": {},
   "outputs": [
    {
     "data": {
      "text/latex": [
       "$\\displaystyle 48 - 6 \\sqrt{2}$"
      ],
      "text/plain": [
       "48 - 6*sqrt(2)"
      ]
     },
     "execution_count": 6,
     "metadata": {},
     "output_type": "execute_result"
    }
   ],
   "source": [
    "3*(2**4+6*sin(pi/4)-5*sqrt(2))"
   ]
  },
  {
   "cell_type": "markdown",
   "metadata": {},
   "source": [
    "## Символы, символьные выражения\n",
    "Для аналитических преобразований в sympy используется класс Symbol\n",
    "https://docs.sympy.org/latest/modules/core.html?highlight=symbol#module-sympy.core.symbol\n",
    "В этом классе есть метод Symbol для создания одного символа.\n",
    "###  Задание 2.\n",
    "Создайте символ $t$ и составьте выражение $\\frac{\\sqrt{t}+t^3}{t-1}$"
   ]
  },
  {
   "cell_type": "code",
   "execution_count": 7,
   "metadata": {},
   "outputs": [
    {
     "data": {
      "text/latex": [
       "$\\displaystyle \\frac{\\sqrt{t} + t^{3}}{t - 1}$"
      ],
      "text/plain": [
       "(sqrt(t) + t**3)/(t - 1)"
      ]
     },
     "execution_count": 7,
     "metadata": {},
     "output_type": "execute_result"
    }
   ],
   "source": [
    "t = Symbol('t')\n",
    "expressionOne = sqrt(t) + t ** 3\n",
    "expressionTwo = t - 1\n",
    "expressionOne / expressionTwo"
   ]
  },
  {
   "cell_type": "markdown",
   "metadata": {},
   "source": [
    "## Операции с символьными выражениями: expand,factor,collect\n",
    "#### expand \n",
    "используется для раскрытия скобок\n",
    "#### factor \n",
    "для разложения на множители\n",
    "#### collect \n",
    "для группировки по степеням переменной\n",
    "###  Задание 3.\n",
    "Упростите выражение\n",
    "$$\n",
    "\\frac{(u+v)^2-4uv}{u-v}+2v-1\n",
    "$$"
   ]
  },
  {
   "cell_type": "code",
   "execution_count": 14,
   "metadata": {},
   "outputs": [
    {
     "data": {
      "text/latex": [
       "$\\displaystyle u + v - 1$"
      ],
      "text/plain": [
       "u + v - 1"
      ]
     },
     "execution_count": 14,
     "metadata": {},
     "output_type": "execute_result"
    }
   ],
   "source": [
    "u = Symbol('u')\n",
    "v = Symbol('v')\n",
    "expression = ((u + v) ** 2 - 4 * u * v) / (u - v) + 2 * v - 1\n",
    "factor(expand(expression))"
   ]
  },
  {
   "cell_type": "markdown",
   "metadata": {},
   "source": [
    "###  Задание 4.\n",
    "Раскройте скобки в выражении $(a_1+a_2+a_3)^3-(a_1-a_2)^2$"
   ]
  },
  {
   "cell_type": "code",
   "execution_count": 18,
   "metadata": {},
   "outputs": [
    {
     "data": {
      "text/latex": [
       "$\\displaystyle a_{1}^{3} + a_{1}^{2} \\left(3 a_{2} + 3 a_{3} - 1\\right) + a_{1} \\left(3 a_{2}^{2} + 6 a_{2} a_{3} + 2 a_{2} + 3 a_{3}^{2}\\right) + a_{2}^{3} + 3 a_{2}^{2} a_{3} - a_{2}^{2} + 3 a_{2} a_{3}^{2} + a_{3}^{3}$"
      ],
      "text/plain": [
       "a1**3 + a1**2*(3*a2 + 3*a3 - 1) + a1*(3*a2**2 + 6*a2*a3 + 2*a2 + 3*a3**2) + a2**3 + 3*a2**2*a3 - a2**2 + 3*a2*a3**2 + a3**3"
      ]
     },
     "execution_count": 18,
     "metadata": {},
     "output_type": "execute_result"
    }
   ],
   "source": [
    "a1 = Symbol('a1')\n",
    "a2 = Symbol('a2')\n",
    "a3 = Symbol('a3')\n",
    "expression = (a1 + a2 + a3) ** 3 - (a1 - a2) ** 2\n",
    "expand(expression)"
   ]
  },
  {
   "cell_type": "markdown",
   "metadata": {},
   "source": [
    "###  Задание 5.\n",
    "Разложите на множители\n",
    "$2u^4+3u^3v-2u^2v^2-2u^2v-3uv^2+2v^3$"
   ]
  },
  {
   "cell_type": "code",
   "execution_count": 20,
   "metadata": {},
   "outputs": [
    {
     "data": {
      "text/latex": [
       "$\\displaystyle \\left(u + 2 v\\right) \\left(2 u - v\\right) \\left(u^{2} - v\\right)$"
      ],
      "text/plain": [
       "(u + 2*v)*(2*u - v)*(u**2 - v)"
      ]
     },
     "execution_count": 20,
     "metadata": {},
     "output_type": "execute_result"
    }
   ],
   "source": [
    "u = Symbol('u')\n",
    "v = Symbol('v')\n",
    "expression = 2 * u ** 4 + 3 * u ** 3 * v - 2 * u ** 2 * v ** 2 - 2 * u ** 2 * v - 3 * u * v ** 2 + 2 * v ** 3\n",
    "factor(expression)"
   ]
  },
  {
   "cell_type": "markdown",
   "metadata": {},
   "source": [
    "###  Задание 6.\n",
    "Сгруппируйте выражение из Задания 5 по степеням $u$."
   ]
  },
  {
   "cell_type": "code",
   "execution_count": 22,
   "metadata": {},
   "outputs": [
    {
     "data": {
      "text/latex": [
       "$\\displaystyle 2 u^{4} + 3 u^{3} v + u^{2} \\left(- 2 v^{2} - 2 v\\right) - 3 u v^{2} + 2 v^{3}$"
      ],
      "text/plain": [
       "2*u**4 + 3*u**3*v + u**2*(-2*v**2 - 2*v) - 3*u*v**2 + 2*v**3"
      ]
     },
     "execution_count": 22,
     "metadata": {},
     "output_type": "execute_result"
    }
   ],
   "source": [
    "u = Symbol('u')\n",
    "v = Symbol('v')\n",
    "expression = 2 * u ** 4 + 3 * u ** 3 * v - 2 * u ** 2 * v ** 2 - 2 * u ** 2 * v - 3 * u * v ** 2 + 2 * v ** 3\n",
    "collect(expression, u)"
   ]
  },
  {
   "cell_type": "markdown",
   "metadata": {},
   "source": [
    "## Списки и кортежи\n",
    "Нам понадобятся два итерируемых типа\n",
    "\n",
    "#### списки list\n",
    "изменяемый тип\n",
    "#### кортежи tuple\n",
    "неизменяемый тип\n",
    "\n",
    "### Задание 7\n",
    "Создайте список $Powers$ из трех кортежей, состоящих из символов $x$, $y$ и $z$ в степени, равной номеру кортежа в списке."
   ]
  },
  {
   "cell_type": "code",
   "execution_count": 38,
   "metadata": {},
   "outputs": [
    {
     "data": {
      "text/plain": [
       "[(1, 1, 1), (x, y, z), (x**2, y**2, z**2)]"
      ]
     },
     "execution_count": 38,
     "metadata": {},
     "output_type": "execute_result"
    }
   ],
   "source": [
    "x = Symbol('x')\n",
    "y = Symbol('y')\n",
    "z = Symbol('z')\n",
    "powers = [(x**0,y**0,z**0), (x**1,y**1,z**1), (x**2,y**2,z**2)]\n",
    "powers"
   ]
  },
  {
   "cell_type": "markdown",
   "metadata": {},
   "source": [
    "### Задание 8\n",
    "В списке Powers Задания 7 заменить $(x^2,y^2,z^2)$ на (0,0,0)."
   ]
  },
  {
   "cell_type": "code",
   "execution_count": 40,
   "metadata": {},
   "outputs": [
    {
     "data": {
      "text/plain": [
       "[(1, 1, 1), (x, y, z), (0, 0, 0)]"
      ]
     },
     "execution_count": 40,
     "metadata": {},
     "output_type": "execute_result"
    }
   ],
   "source": [
    "x = Symbol('x')\n",
    "y = Symbol('y')\n",
    "z = Symbol('z')\n",
    "powers = [(x**0,y**0,z**0), (x**1,y**1,z**1), (x**2,y**2,z**2)]\n",
    "powers[2] = (0,0,0)\n",
    "powers"
   ]
  },
  {
   "cell_type": "markdown",
   "metadata": {},
   "source": [
    "## Матрицы\n",
    "### Задание 9\n",
    "Составить матрицу  $A_{3\\times 4}$ из чисел вида $3k+1$, $k=1,2,...$:\n",
    "$$\n",
    "A=\n",
    "\\left(\n",
    "\\begin{matrix}\n",
    "4& 7& 10& 13\\\\\n",
    "16& 19& 22& 25\\\\\n",
    "28& 31& 34& 37\n",
    "\\end{matrix}\n",
    "\\right)\n",
    "$$"
   ]
  },
  {
   "cell_type": "code",
   "execution_count": 51,
   "metadata": {},
   "outputs": [
    {
     "data": {
      "text/latex": [
       "$\\displaystyle \\left[\\begin{matrix}4 & 7 & 10 & 13\\\\16 & 19 & 22 & 25\\\\28 & 31 & 34 & 37\\end{matrix}\\right]$"
      ],
      "text/plain": [
       "Matrix([\n",
       "[ 4,  7, 10, 13],\n",
       "[16, 19, 22, 25],\n",
       "[28, 31, 34, 37]])"
      ]
     },
     "metadata": {},
     "output_type": "display_data"
    },
    {
     "data": {
      "text/plain": [
       "(3, 4)"
      ]
     },
     "execution_count": 51,
     "metadata": {},
     "output_type": "execute_result"
    }
   ],
   "source": [
    "array = [[3 * i  + 1 for i in range(1, 5)], [3 * i  + 1 for i in range(5, 9)], [3 * i  + 1 for i in range(9, 13)]]\n",
    "matrix = Matrix(array)\n",
    "display(matrix)\n",
    "matrix.shape\n"
   ]
  },
  {
   "cell_type": "markdown",
   "metadata": {},
   "source": [
    "### Задание 10\n",
    "В матрице А задания 9 удалить вторую строку и вставить третий столбец между первым и вторым (сам третий столбец не удалять!), должно получиться\n",
    "$$\n",
    "A=\n",
    "\\left(\n",
    "\\begin{matrix}\n",
    "4& 10& 7& 10& 13\\\\\n",
    "28& 34& 31& 34& 37\n",
    "\\end{matrix}\n",
    "\\right)\n",
    "$$"
   ]
  },
  {
   "cell_type": "code",
   "execution_count": 54,
   "metadata": {},
   "outputs": [
    {
     "data": {
      "text/latex": [
       "$\\displaystyle \\left[\\begin{matrix}4 & 10 & 7 & 10 & 13\\\\28 & 34 & 31 & 34 & 37\\end{matrix}\\right]$"
      ],
      "text/plain": [
       "Matrix([\n",
       "[ 4, 10,  7, 10, 13],\n",
       "[28, 34, 31, 34, 37]])"
      ]
     },
     "metadata": {},
     "output_type": "display_data"
    },
    {
     "data": {
      "text/plain": [
       "(2, 5)"
      ]
     },
     "execution_count": 54,
     "metadata": {},
     "output_type": "execute_result"
    }
   ],
   "source": [
    "array = [[3 * i  + 1 for i in range(1, 5)], [3 * i  + 1 for i in range(5, 9)], [3 * i  + 1 for i in range(9, 13)]]\n",
    "matrix = Matrix(array)\n",
    "matrix.row_del(1)\n",
    "newMatrix = matrix.col_insert(1, matrix.col(2))\n",
    "display(newMatrix)\n",
    "newMatrix.shape"
   ]
  },
  {
   "cell_type": "markdown",
   "metadata": {},
   "source": [
    "### Индивидуальное задание"
   ]
  },
  {
   "cell_type": "code",
   "execution_count": 3,
   "metadata": {},
   "outputs": [
    {
     "data": {
      "text/latex": [
       "$\\displaystyle \\left[\\begin{matrix}94\\\\66\\\\78\\end{matrix}\\right]$"
      ],
      "text/plain": [
       "Matrix([\n",
       "[94],\n",
       "[66],\n",
       "[78]])"
      ]
     },
     "metadata": {},
     "output_type": "display_data"
    },
    {
     "data": {
      "text/latex": [
       "$\\displaystyle \\left[\\begin{matrix}94\\\\66\\\\78\\end{matrix}\\right]$"
      ],
      "text/plain": [
       "Matrix([\n",
       "[94],\n",
       "[66],\n",
       "[78]])"
      ]
     },
     "metadata": {},
     "output_type": "display_data"
    },
    {
     "name": "stdout",
     "output_type": "stream",
     "text": [
      "Answer matrix is the answer - True\n"
     ]
    }
   ],
   "source": [
    "# Номер варианта - 36\n",
    "arrayLeft = [[2, 3, -9, 5, -3], [-3, -2, -9, 6, -4], [-5, -2, -6, 4, 3]]\n",
    "arrayX = [Symbol('x1'), Symbol('x2'), Symbol('x3'), Symbol('x4'), Symbol('x5')]\n",
    "arrayRight = [[94], [66], [78]]\n",
    "answer = [1, 4, -9, 4, 7]\n",
    "\n",
    "leftMatrix = Matrix(arrayLeft)\n",
    "XMatrix = Matrix(arrayX)\n",
    "rightMatrix = Matrix(arrayRight)\n",
    "answerMatrix = Matrix(answer)\n",
    "\n",
    "display(leftMatrix * answerMatrix)\n",
    "print(f\"Answer matrix is the answer - {leftMatrix * answerMatrix == rightMatrix}\")"
   ]
  },
  {
   "cell_type": "code",
   "execution_count": null,
   "metadata": {},
   "outputs": [],
   "source": []
  }
 ],
 "metadata": {
  "kernelspec": {
   "display_name": "Python 3",
   "language": "python",
   "name": "python3"
  },
  "language_info": {
   "codemirror_mode": {
    "name": "ipython",
    "version": 3
   },
   "file_extension": ".py",
   "mimetype": "text/x-python",
   "name": "python",
   "nbconvert_exporter": "python",
   "pygments_lexer": "ipython3",
   "version": "3.8.1"
  }
 },
 "nbformat": 4,
 "nbformat_minor": 4
}
