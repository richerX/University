{
 "cells": [
  {
   "cell_type": "code",
   "execution_count": 10,
   "metadata": {},
   "outputs": [],
   "source": [
    "import numpy as np\n",
    "import sympy\n",
    "from sympy import S, Symbol, symbols, Function, dsolve, solveset, plot_implicit, integrate, diff, plot, simplify\n",
    "from sympy import sin as Sin\n",
    "from sympy import cos as Cos\n",
    "from sympy import exp as Exp\n",
    "from sympy import log as Log\n",
    "from sympy import pi as Pi\n",
    "import matplotlib.pyplot as plt\n",
    "%matplotlib inline"
   ]
  },
  {
   "cell_type": "markdown",
   "metadata": {},
   "source": [
    "## Занятие 17\n",
    "## Математический анализ\n",
    "## Линейные ОДУ второго порядка с постоянными коэффициентами\n",
    "## Задание № 1\n",
    "Решить аналитически ОДУ с разделяющимися переменными\n",
    "$$\n",
    "y'=\\ln(x+2)e^{2-y}.\n",
    "$$\n",
    "Найти общий интеграл. "
   ]
  },
  {
   "cell_type": "code",
   "execution_count": 17,
   "metadata": {},
   "outputs": [
    {
     "data": {
      "text/latex": [
       "$\\displaystyle y = \\left(C e^{y} + x e^{2} \\log{\\left(x + 2 \\right)} + \\left(- x + 2 \\log{\\left(x + 2 \\right)}\\right) e^{2}\\right) e^{- y}$"
      ],
      "text/plain": [
       "Eq(y, (C*exp(y) + x*exp(2)*log(x + 2) + (-x + 2*log(x + 2))*exp(2))*exp(-y))"
      ]
     },
     "metadata": {},
     "output_type": "display_data"
    }
   ],
   "source": [
    "x, y = symbols('x y', real=True)\n",
    "C = Symbol('C', positive=True)\n",
    "\n",
    "# Заменили y' = dy/dx. Потом dx перенесли в правую часть.\n",
    "# Получили 1*dy = ln(...) dx\n",
    "\n",
    "# Интегрируем обе части и находим общий интеграл\n",
    "ODE1 = simplify(sympy.Eq(integrate(1, y), integrate(Log(x + 2) * sympy.E ** (2-y), x) + C))\n",
    "display(ODE1)"
   ]
  },
  {
   "cell_type": "markdown",
   "metadata": {},
   "source": [
    "## Задание № 2\n",
    "Решить аналитически задачу Коши\n",
    "$$\n",
    "y^3y'=\\frac{1}{1+x^2},\\qquad y(0)=1.\n",
    "$$\n",
    "Найти общий интеграл, учесть начальное условие. \n",
    "Построить график $y$, пользуясь plot_implicit."
   ]
  },
  {
   "cell_type": "code",
   "execution_count": 21,
   "metadata": {},
   "outputs": [
    {
     "data": {
      "text/latex": [
       "$\\displaystyle \\frac{y^{4}}{4} = C + \\operatorname{atan}{\\left(x \\right)}$"
      ],
      "text/plain": [
       "Eq(y**4/4, C + atan(x))"
      ]
     },
     "metadata": {},
     "output_type": "display_data"
    },
    {
     "data": {
      "image/png": "[encoded data removed]",
      "text/plain": [
       "<Figure size 432x288 with 1 Axes>"
      ]
     },
     "metadata": {
      "needs_background": "light"
     },
     "output_type": "display_data"
    },
    {
     "data": {
      "text/plain": [
       "<sympy.plotting.plot.Plot at 0x10aaa388>"
      ]
     },
     "execution_count": 21,
     "metadata": {},
     "output_type": "execute_result"
    }
   ],
   "source": [
    "x, y, C = symbols('x y C', real=True)\n",
    "\n",
    "# Находим общий интеграл\n",
    "ODE2 = sympy.Eq(integrate(y**3, y), integrate(1/(1 + x**2), x) + C)\n",
    "display(ODE2)\n",
    "\n",
    "# Считаем C и рисуем\n",
    "x0y0 = {x: 0, y: 1}\n",
    "Cval = solveset(sympy.Eq(ODE2.lhs.subs(x0y0), ODE2.rhs.subs(x0y0)), C)\n",
    "plot_implicit(sympy.Eq(ODE2.lhs, ODE2.rhs.subs(C, *Cval)),(x, -2, 5), (y, -3, 3))"
   ]
  },
  {
   "cell_type": "markdown",
   "metadata": {},
   "source": [
    "## Индивидуальное задание\n",
    "Решить задачу Коши аналитически, методом Эйлера и методом Рунге-Кутты. Построить в одной координатной плоскости графики точного и приближенных решений."
   ]
  },
  {
   "cell_type": "code",
   "execution_count": null,
   "metadata": {},
   "outputs": [],
   "source": [
    "# НА МОМЕНТ ЗАГРУЗКИ В ЛМС ОТСУТСВУТЕ ИДЗ\n",
    "\n",
    "# АНАЛИТИЧЕСОКЕ РЕШЕНИЕ ПОКАЗАНО В ЗАДАЧЕ 2\n",
    "\n",
    "# ДЛЯ МЕТОДА ЭЙЛЕРА НАДО ИСПОЛЬЗОВАТЬ СЛЕДУЮЩИЕ ФОРМУЛЫ\n",
    "# y(x + h) = y(x) + f(x, y)*h\n",
    "# y_0 = y(x_0)\n",
    "# y_k+1 = y_k + f(x_k, y_k)*h   for k in range(1, n+1)\n",
    "# И дальше рисовать эти пары (x, y) -> получается приближенное решение\n",
    "\n",
    "# ДЛЯ МЕТОДА РУНГЕ-КУТТЫ НАДО ИСПОЛЬЗОВАТЬ СЛЕДУЮЩИЕ ФОРМУЛЫ\n",
    "# ИДЕЯ ЗАКЛЮЧАЕТСЯ В ТОМ, ЧТОБЫ УТОЧНИТЬ МЕТОД ЭЙЛЕРА\n",
    "# ВЫСЧИТЫВАЕМ МЕТОД ЭЙЛЕРА И ЗАМЕНЯЕМ СОСЕДНИЕ ПРОИЗВОДНЫЕ НА ИЗ СРЕДНЕЕ ЗНАЧЕНИЯ\n",
    "# ПРИ ЭТОМ УЧИТЫВАЕМ СРЕДНИЕ ЗНАЧЕНИЯ В ПОСЛЕДУЮЩИХ ВЫЧИСЛЕНИЯХ"
   ]
  }
 ],
 "metadata": {
  "kernelspec": {
   "display_name": "Python 3",
   "language": "python",
   "name": "python3"
  },
  "language_info": {
   "codemirror_mode": {
    "name": "ipython",
    "version": 3
   },
   "file_extension": ".py",
   "mimetype": "text/x-python",
   "name": "python",
   "nbconvert_exporter": "python",
   "pygments_lexer": "ipython3",
   "version": "3.8.1"
  }
 },
 "nbformat": 4,
 "nbformat_minor": 4
}
