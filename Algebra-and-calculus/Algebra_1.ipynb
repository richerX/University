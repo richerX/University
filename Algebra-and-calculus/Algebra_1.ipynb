{
  "cells": [
    {
      "cell_type": "code",
      "execution_count": null,
      "metadata": {
        "id": "GeFj-THwFrH1"
      },
      "outputs": [],
      "source": [
        "import matplotlib.pyplot as plt\n",
        "import sympy\n",
        "from sympy import Ellipse, Point, Line, S, plot_implicit, Eq, solve"
      ]
    },
    {
      "cell_type": "markdown",
      "metadata": {
        "id": "3PLKacISFrH2"
      },
      "source": [
        "# Занятие 14\n",
        "# Алгебра\n",
        "### Задание 1.\n",
        "Построить эллипс с центром в точке А(1, 2), полуосями 3 и 2. Вычислить и вывести на экран эксцентриситет, площадь и длину дуги полученного эллипса, центр, полуоси, periapsis, apoapsis, межфокусное расстояние и фокусы."
      ]
    },
    {
      "cell_type": "code",
      "execution_count": null,
      "metadata": {
        "id": "yMXNrKxEFrH3",
        "outputId": "82df6796-78fa-4e69-8a57-fc5949689ca3"
      },
      "outputs": [
        {
          "data": {
            "image/svg+xml": [
              "<svg xmlns=\"http://www.w3.org/2000/svg\"\n",
              "            xmlns:xlink=\"http://www.w3.org/1999/xlink\"\n",
              "            width=\"100.0\" height=\"100.0\" viewBox=\"-2.60000000000000 -0.600000000000000 7.20000000000000 5.20000000000000\"\n",
              "            preserveAspectRatio=\"xMinYMin meet\">\n",
              "            <defs>\n",
              "                <marker id=\"markerCircle\" markerWidth=\"8\" markerHeight=\"8\"\n",
              "                    refx=\"5\" refy=\"5\" markerUnits=\"strokeWidth\">\n",
              "                    <circle cx=\"5\" cy=\"5\" r=\"1.5\" style=\"stroke: none; fill:#000000;\"/>\n",
              "                </marker>\n",
              "                <marker id=\"markerArrow\" markerWidth=\"13\" markerHeight=\"13\" refx=\"2\" refy=\"4\"\n",
              "                       orient=\"auto\" markerUnits=\"strokeWidth\">\n",
              "                    <path d=\"M2,2 L2,6 L6,4\" style=\"fill: #000000;\" />\n",
              "                </marker>\n",
              "                <marker id=\"markerReverseArrow\" markerWidth=\"13\" markerHeight=\"13\" refx=\"6\" refy=\"4\"\n",
              "                       orient=\"auto\" markerUnits=\"strokeWidth\">\n",
              "                    <path d=\"M6,2 L6,6 L2,4\" style=\"fill: #000000;\" />\n",
              "                </marker>\n",
              "            </defs><g transform=\"matrix(1,0,0,-1,0,4.00000000000000)\"><ellipse fill=\"#66cc99\" stroke=\"#555555\" stroke-width=\"0.144000000000000\" opacity=\"0.6\" cx=\"1.00000000000000\" cy=\"2.00000000000000\" rx=\"3.00000000000000\" ry=\"2.00000000000000\"/></g></svg>"
            ],
            "text/latex": [
              "$\\displaystyle Ellipse\\left(Point2D\\left(1, 2\\right), 3, 2\\right)$"
            ],
            "text/plain": [
              "Ellipse(Point2D(1, 2), 3, 2)"
            ]
          },
          "metadata": {},
          "output_type": "display_data"
        },
        {
          "name": "stdout",
          "output_type": "stream",
          "text": [
            "\n"
          ]
        },
        {
          "data": {
            "text/plain": [
              "'center'"
            ]
          },
          "metadata": {},
          "output_type": "display_data"
        },
        {
          "data": {
            "text/latex": [
              "$\\displaystyle Point2D\\left(1, 2\\right)$"
            ],
            "text/plain": [
              "Point2D(1, 2)"
            ]
          },
          "metadata": {},
          "output_type": "display_data"
        },
        {
          "name": "stdout",
          "output_type": "stream",
          "text": [
            "\n"
          ]
        },
        {
          "data": {
            "text/plain": [
              "'hradius'"
            ]
          },
          "metadata": {},
          "output_type": "display_data"
        },
        {
          "data": {
            "text/latex": [
              "$\\displaystyle 3$"
            ],
            "text/plain": [
              "3"
            ]
          },
          "metadata": {},
          "output_type": "display_data"
        },
        {
          "name": "stdout",
          "output_type": "stream",
          "text": [
            "\n"
          ]
        },
        {
          "data": {
            "text/plain": [
              "'vradius'"
            ]
          },
          "metadata": {},
          "output_type": "display_data"
        },
        {
          "data": {
            "text/latex": [
              "$\\displaystyle 2$"
            ],
            "text/plain": [
              "2"
            ]
          },
          "metadata": {},
          "output_type": "display_data"
        },
        {
          "name": "stdout",
          "output_type": "stream",
          "text": [
            "\n"
          ]
        },
        {
          "data": {
            "text/plain": [
              "'area'"
            ]
          },
          "metadata": {},
          "output_type": "display_data"
        },
        {
          "data": {
            "text/latex": [
              "$\\displaystyle 6 \\pi$"
            ],
            "text/plain": [
              "6*pi"
            ]
          },
          "metadata": {},
          "output_type": "display_data"
        },
        {
          "name": "stdout",
          "output_type": "stream",
          "text": [
            "\n"
          ]
        },
        {
          "data": {
            "text/plain": [
              "'circumference'"
            ]
          },
          "metadata": {},
          "output_type": "display_data"
        },
        {
          "data": {
            "text/latex": [
              "$\\displaystyle 12 E\\left(\\frac{5}{9}\\right)$"
            ],
            "text/plain": [
              "12*elliptic_e(5/9)"
            ]
          },
          "metadata": {},
          "output_type": "display_data"
        },
        {
          "name": "stdout",
          "output_type": "stream",
          "text": [
            "\n"
          ]
        },
        {
          "data": {
            "text/plain": [
              "'eccentricity'"
            ]
          },
          "metadata": {},
          "output_type": "display_data"
        },
        {
          "data": {
            "text/latex": [
              "$\\displaystyle \\frac{\\sqrt{5}}{3}$"
            ],
            "text/plain": [
              "sqrt(5)/3"
            ]
          },
          "metadata": {},
          "output_type": "display_data"
        },
        {
          "name": "stdout",
          "output_type": "stream",
          "text": [
            "\n"
          ]
        },
        {
          "data": {
            "text/plain": [
              "'periapsis'"
            ]
          },
          "metadata": {},
          "output_type": "display_data"
        },
        {
          "data": {
            "text/latex": [
              "$\\displaystyle 3 - \\sqrt{5}$"
            ],
            "text/plain": [
              "3 - sqrt(5)"
            ]
          },
          "metadata": {},
          "output_type": "display_data"
        },
        {
          "name": "stdout",
          "output_type": "stream",
          "text": [
            "\n"
          ]
        },
        {
          "data": {
            "text/plain": [
              "'apoapsis'"
            ]
          },
          "metadata": {},
          "output_type": "display_data"
        },
        {
          "data": {
            "text/latex": [
              "$\\displaystyle \\sqrt{5} + 3$"
            ],
            "text/plain": [
              "sqrt(5) + 3"
            ]
          },
          "metadata": {},
          "output_type": "display_data"
        },
        {
          "name": "stdout",
          "output_type": "stream",
          "text": [
            "\n"
          ]
        },
        {
          "data": {
            "text/plain": [
              "'focus_distance'"
            ]
          },
          "metadata": {},
          "output_type": "display_data"
        },
        {
          "data": {
            "text/latex": [
              "$\\displaystyle \\sqrt{5}$"
            ],
            "text/plain": [
              "sqrt(5)"
            ]
          },
          "metadata": {},
          "output_type": "display_data"
        },
        {
          "name": "stdout",
          "output_type": "stream",
          "text": [
            "\n"
          ]
        },
        {
          "data": {
            "text/plain": [
              "'foci'"
            ]
          },
          "metadata": {},
          "output_type": "display_data"
        },
        {
          "data": {
            "text/plain": [
              "(Point2D(1 - sqrt(5), 2), Point2D(1 + sqrt(5), 2))"
            ]
          },
          "metadata": {},
          "output_type": "display_data"
        },
        {
          "name": "stdout",
          "output_type": "stream",
          "text": [
            "\n"
          ]
        }
      ],
      "source": [
        "Ellipse1 = Ellipse(Point(1, 2), hradius=3, vradius=2)\n",
        "display(Ellipse1)\n",
        "print()\n",
        "\n",
        "props = {'center': Ellipse1.center, \n",
        "         'hradius': Ellipse1.hradius, \n",
        "         'vradius': Ellipse1.vradius, \n",
        "         'area': Ellipse1.area, \n",
        "         'circumference': Ellipse1.circumference, \n",
        "         'eccentricity': Ellipse1.eccentricity, \n",
        "         'periapsis': Ellipse1.periapsis, \n",
        "         'apoapsis': Ellipse1.apoapsis, \n",
        "         'focus_distance': Ellipse1.focus_distance, \n",
        "         'foci': Ellipse1.foci}\n",
        "for key in props:\n",
        "    display(key, props[key])\n",
        "    print()"
      ]
    },
    {
      "cell_type": "markdown",
      "metadata": {
        "id": "TyebJ74OFrH4"
      },
      "source": [
        "### Задание 2.\n",
        "Вывести на экран уравнение эллипса из задания 1, повернутого на 30 градусов против часовой стрелки относительно его центра,  переменные u и v.\n",
        "\n",
        "Изоразить на графике эллипс и повернутый эллипс."
      ]
    },
    {
      "cell_type": "code",
      "execution_count": null,
      "metadata": {
        "id": "IZ_LumgaFrH5"
      },
      "outputs": [],
      "source": [
        "from sympy.abc import x, y\n",
        "Ellipse1 = Ellipse(Point(1, 2), hradius=3, vradius=2)\n",
        "# Ellipse1.equation(x='x', y='y')\n",
        "\n",
        "# ЗЕЛЕНЫЙ ИЗНАЧАЛЬНЫЙ\n",
        "EQ = Ellipse1.equation()\n",
        "symb_free = EQ.free_symbols\n",
        "dict_free = {str(a): a for a in symb_free}\n",
        "p = plot_implicit(EQ, (dict_free['x'], -5, 5), (dict_free['y'], -2, 5), aspect_ratio=(1, 1), adaptive=False,  show=False, line_color='g')\n",
        "\n",
        "# СИНИЙ ПОСЛЕ ПОВОРОТА\n",
        "EQ = Ellipse1.equation(_slope=(1/sympy.sqrt(3)))\n",
        "symb_free = EQ.free_symbols\n",
        "dict_free = {str(a): a for a in symb_free}\n",
        "p.extend(plot_implicit(EQ, (dict_free['x'], -5, 5), (dict_free['y'], -2, 5), aspect_ratio=(1, 1), adaptive=False,  show=False, line_color='b'))\n",
        "\n",
        "p.show()"
      ]
    },
    {
      "cell_type": "markdown",
      "metadata": {
        "id": "Bxn5bUh7FrH5"
      },
      "source": [
        "### Задание 3.\n",
        "Найти вершины эллипса из Задания 1.\n",
        "\n",
        "Указание: вершины эллипса искать как решение системы уравнений, составленной из уравнения эллипса и уравнения прямой, проходящей через форкусы (воспользоваться Line и методом equation()); вторую пару вершин получить как решение системы из уравнения эллипса и прямой, проходящей через центр эллипса перпендикулярно прямой, проходящей через фокусы. "
      ]
    },
    {
      "cell_type": "code",
      "execution_count": null,
      "metadata": {
        "id": "hnr_KcHQFrH5",
        "outputId": "4c62fa45-1fc4-4e1e-bf86-d0d3575e7bfa"
      },
      "outputs": [
        {
          "data": {
            "text/latex": [
              "$\\displaystyle y - 2 = 0$"
            ],
            "text/plain": [
              "Eq(y - 2, 0)"
            ]
          },
          "metadata": {},
          "output_type": "display_data"
        },
        {
          "data": {
            "text/plain": [
              "'Значит y = 2'"
            ]
          },
          "metadata": {},
          "output_type": "display_data"
        },
        {
          "name": "stdout",
          "output_type": "stream",
          "text": [
            "\n"
          ]
        },
        {
          "data": {
            "text/latex": [
              "$\\displaystyle \\left(\\frac{x}{3} - \\frac{1}{3}\\right)^{2} + \\left(\\frac{y}{2} - 1\\right)^{2} - 1 = 0$"
            ],
            "text/plain": [
              "Eq((x/3 - 1/3)**2 + (y/2 - 1)**2 - 1, 0)"
            ]
          },
          "metadata": {},
          "output_type": "display_data"
        },
        {
          "data": {
            "text/plain": [
              "'Значит x = -2, x = 4'"
            ]
          },
          "metadata": {},
          "output_type": "display_data"
        },
        {
          "data": {
            "text/plain": [
              "'Вершины (-2, 2) и (4, 2)'"
            ]
          },
          "metadata": {},
          "output_type": "display_data"
        },
        {
          "name": "stdout",
          "output_type": "stream",
          "text": [
            "\n",
            "--------------------\n",
            "\n"
          ]
        },
        {
          "data": {
            "text/latex": [
              "$\\displaystyle x - 1 = 0$"
            ],
            "text/plain": [
              "Eq(x - 1, 0)"
            ]
          },
          "metadata": {},
          "output_type": "display_data"
        },
        {
          "data": {
            "text/plain": [
              "'Значит x = 1'"
            ]
          },
          "metadata": {},
          "output_type": "display_data"
        },
        {
          "name": "stdout",
          "output_type": "stream",
          "text": [
            "\n"
          ]
        },
        {
          "data": {
            "text/latex": [
              "$\\displaystyle \\left(\\frac{x}{3} - \\frac{1}{3}\\right)^{2} + \\left(\\frac{y}{2} - 1\\right)^{2} - 1 = 0$"
            ],
            "text/plain": [
              "Eq((x/3 - 1/3)**2 + (y/2 - 1)**2 - 1, 0)"
            ]
          },
          "metadata": {},
          "output_type": "display_data"
        },
        {
          "data": {
            "text/plain": [
              "'Значит y = 0, y = 4'"
            ]
          },
          "metadata": {},
          "output_type": "display_data"
        },
        {
          "data": {
            "text/plain": [
              "'Вершины (1, 0) и (1, 4)'"
            ]
          },
          "metadata": {},
          "output_type": "display_data"
        },
        {
          "name": "stdout",
          "output_type": "stream",
          "text": [
            "\n"
          ]
        }
      ],
      "source": [
        "Ellipse1 = Ellipse(Point(1, 2), hradius=3, vradius=2)\n",
        "    \n",
        "eq1 = Ellipse1.equation()\n",
        "eq2 = Line(Ellipse1.foci[0], Ellipse1.foci[1]).equation()\n",
        "display(Eq(eq2, 0), \"Значит y = 2\")\n",
        "print()\n",
        "display(Eq(eq1, 0), \"Значит x = -2, x = 4\")\n",
        "display(\"Вершины (-2, 2) и (4, 2)\")\n",
        "\n",
        "print()\n",
        "print(\"-\" * 20)\n",
        "print()\n",
        "\n",
        "eq2 = Line(Ellipse1.foci[0], Ellipse1.foci[1]).perpendicular_line(Ellipse1.center).equation()\n",
        "display(Eq(eq2, 0), \"Значит x = 1\")\n",
        "print()\n",
        "display(Eq(eq1, 0), \"Значит y = 0, y = 4\")\n",
        "display(\"Вершины (1, 0) и (1, 4)\")\n",
        "print()"
      ]
    },
    {
      "cell_type": "markdown",
      "metadata": {
        "id": "xJJaOgWgFrH5"
      },
      "source": [
        "###  Индивидуальное задание\n",
        "Построить эллипс с заданными центром, вертикальной полуосью  и эксцентриситетом.\n",
        "Изобразить на графике этот эллипс, а также эллипс, повернутый на угол $\\alpha$ против часовой стрелки. \n",
        "\n",
        "Вывести на экран центр и фокусы эллипса, длины полуосей, уравнение эллипса, вершины эллипса."
      ]
    },
    {
      "cell_type": "code",
      "execution_count": null,
      "metadata": {
        "id": "ve_X_qNcFrH6"
      },
      "outputs": [],
      "source": [
        "# ИДЗ нет с ЛМС, вот решение в общем виде\n",
        "\n",
        "center = Point(3, 1)\n",
        "hradius = 13\n",
        "eccentricity=S(12)/13\n",
        "tg_alpha = 1\n",
        "\n",
        "Ellipse1 = Ellipse(center, hradius=hradius, eccentricity=eccentricity)\n",
        "\n",
        "# ЗЕЛЕНЫЙ ИЗНАЧАЛЬНЫЙ\n",
        "EQ = Ellipse1.equation()\n",
        "symb_free = EQ.free_symbols\n",
        "dict_free = {str(a): a for a in symb_free}\n",
        "p = plot_implicit(EQ, (dict_free['x'], -15, 20), (dict_free['y'], -10, 10), aspect_ratio=(1, 1), adaptive=False,  show=False, line_color='g')\n",
        "\n",
        "# СИНИЙ ПОСЛЕ ПОВОРОТА\n",
        "EQ = Ellipse1.equation(_slope=(1/sympy.sqrt(3)))\n",
        "symb_free = EQ.free_symbols\n",
        "dict_free = {str(a): a for a in symb_free}\n",
        "p.extend(plot_implicit(EQ, (dict_free['x'], -15, 20), (dict_free['y'], -10, 10), aspect_ratio=(1, 1), adaptive=False,  show=False, line_color='b'))\n",
        "\n",
        "p.show()\n",
        "\n",
        "props = {'center': Ellipse1.center, \n",
        "         'hradius': Ellipse1.hradius, \n",
        "         'vradius': Ellipse1.vradius, \n",
        "         'foci': Ellipse1.foci,\n",
        "         'eq': Ellipse1.equation(),\n",
        "         'vershiny': [(-10, 1), (16, 1), (3, 6), (3, -4)]}\n",
        "for key in props:\n",
        "    display(key, props[key])\n",
        "    print()"
      ]
    },
    {
      "cell_type": "code",
      "execution_count": null,
      "metadata": {
        "id": "xcJyX4e2FrH6"
      },
      "outputs": [],
      "source": []
    }
  ],
  "metadata": {
    "kernelspec": {
      "display_name": "Python 3",
      "language": "python",
      "name": "python3"
    },
    "language_info": {
      "codemirror_mode": {
        "name": "ipython",
        "version": 3
      },
      "file_extension": ".py",
      "mimetype": "text/x-python",
      "name": "python",
      "nbconvert_exporter": "python",
      "pygments_lexer": "ipython3",
      "version": "3.8.1"
    },
    "colab": {
      "provenance": []
    }
  },
  "nbformat": 4,
  "nbformat_minor": 0
}