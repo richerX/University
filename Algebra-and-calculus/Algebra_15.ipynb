{
 "cells": [
  {
   "cell_type": "code",
   "execution_count": 95,
   "metadata": {},
   "outputs": [],
   "source": [
    "import numpy as np\n",
    "import sympy\n",
    "from sympy import Expr, Eq, latex, plot_implicit, tan, cot\n",
    "from sympy.core import S, pi, sympify\n",
    "from sympy.core.logic import fuzzy_bool\n",
    "from sympy.core.numbers import Rational, oo\n",
    "from sympy.core.compatibility import ordered\n",
    "from sympy.core.symbol import Dummy, _uniquely_named_symbol, _symbol\n",
    "from sympy.simplify import simplify, trigsimp\n",
    "from sympy.functions.elementary.miscellaneous import sqrt, Max\n",
    "from sympy.functions.elementary.trigonometric import cos, sin\n",
    "from sympy.functions.special.elliptic_integrals import elliptic_e\n",
    "from sympy.geometry.exceptions import GeometryError\n",
    "from sympy.geometry.line import Ray2D, Segment2D, Line2D, LinearEntity3D\n",
    "from sympy.polys import DomainError, Poly, PolynomialError\n",
    "from sympy.polys.polyutils import _not_a_coeff, _nsort\n",
    "from sympy.solvers import solve\n",
    "from sympy.solvers.solveset import linear_coeffs\n",
    "from sympy.utilities.misc import filldedent, func_name\n",
    "from sympy.geometry.entity import GeometryEntity, GeometrySet\n",
    "from sympy.geometry.point import Point, Point2D, Point3D\n",
    "from sympy.geometry.line import Line, Segment\n",
    "from sympy.geometry.util import idiff\n",
    "import matplotlib.pyplot as plt\n",
    "%matplotlib inline"
   ]
  },
  {
   "cell_type": "markdown",
   "metadata": {},
   "source": [
    "# Занятие 15\n",
    "# Алгебра\n",
    "## Кривые второго порядка на плоскости: гипербола"
   ]
  },
  {
   "cell_type": "code",
   "execution_count": 96,
   "metadata": {},
   "outputs": [],
   "source": [
    "class Hyperbola(GeometrySet):\n",
    "    \"\"\"\n",
    "     Attributes\n",
    "    ==========\n",
    "    center\n",
    "    hradius\n",
    "    vradius\n",
    "    eccentricity\n",
    "    periapsis\n",
    "    focus_distance\n",
    "    foci\n",
    "    ==========\n",
    "    конструктор __new__\n",
    "    скопирован из Эллипса,\n",
    "    изменена формула для  hradius и vradius через эсцентриситет\n",
    "    \"\"\"\n",
    "    def __new__(\n",
    "        cls, center=None, hradius=None, vradius=None, eccentricity=None, **kwargs):\n",
    "        hradius = sympify(hradius)\n",
    "        vradius = sympify(vradius)\n",
    "\n",
    "        eccentricity = sympify(eccentricity)\n",
    "\n",
    "        if center is None:\n",
    "            center = Point(0, 0)\n",
    "        else:\n",
    "            center = Point(center, dim=2)\n",
    "\n",
    "        if len(center) != 2:\n",
    "            raise ValueError('The center of \"{0}\" must be a two dimensional point'.format(cls))\n",
    "\n",
    "        if len(list(filter(lambda x: x is not None, (hradius, vradius, eccentricity)))) != 2:\n",
    "            raise ValueError(filldedent('''\n",
    "                Exactly two arguments of \"hradius\", \"vradius\", and\n",
    "                \"eccentricity\" must not be None.'''))\n",
    "\n",
    "        if eccentricity is not None:\n",
    "            if hradius is None:\n",
    "                hradius = vradius/sqrt( eccentricity**2 - 1)\n",
    "            elif vradius is None:\n",
    "                vradius = hradius*sqrt( eccentricity**2 - 1)\n",
    "\n",
    "        if hradius == 0:\n",
    "            return \"Line\"\n",
    "        if vradius == 0:\n",
    "            return \"Rays\"\n",
    "        return GeometryEntity.__new__(cls, center, hradius, vradius, **kwargs)\n",
    "    \n",
    "    @property\n",
    "    def ambient_dimension(self):\n",
    "        return 2\n",
    "    \n",
    "    @property\n",
    "    def center(self):\n",
    "        return self.args[0]\n",
    "\n",
    "    @property\n",
    "    def hradius(self):\n",
    "        return self.args[1]\n",
    "    \n",
    "    @property\n",
    "    def vradius(self):\n",
    "        return self.args[2]\n",
    "    \n",
    "    @property\n",
    "    def focus_distance(self):\n",
    "        return sqrt(self.hradius**2 + self.vradius**2)\n",
    "    \n",
    "    @property\n",
    "    def eccentricity(self):\n",
    "        \"\"\"The eccentricity of the ellipse.\"\"\"\n",
    "        return self.focus_distance/self.hradius\n",
    "    \n",
    "    @property\n",
    "    def periapsis(self):\n",
    "        \"\"\"The apoapsis of the hyperbola.\n",
    "        The smallest distance between the focus and the contour.\"\"\"\n",
    "        return self.focus_distance-self.hradius\n",
    "    @property\n",
    "    def foci(self):\n",
    "        return (self.center + Point(-self.focus_distance, 0), self.center + Point(self.focus_distance, 0))\n",
    "    \n",
    "    @property\n",
    "    def major(self):\n",
    "        return self.hradius\n",
    "    \n",
    "    @property\n",
    "    def minor(self):\n",
    "        return self.vradius\n",
    "    \n",
    "    @property\n",
    "    def asymptote(self, x='x', y='y', equation=False):\n",
    "        x = _symbol(x, real=True)\n",
    "        y = _symbol(y, real=True)\n",
    "        eq1 = Eq(y, self.center[1] + self.vradius / self.hradius * (x - self.center[0]))\n",
    "        eq2 = Eq(y, self.center[1] - self.vradius / self.hradius * (x - self.center[0]))\n",
    "        return [eq1, eq2]\n",
    "    \n",
    "    @property\n",
    "    def directrix(self, x='x', equation=False):\n",
    "        x = _symbol(x, real=True)\n",
    "        eq1 = Eq(x, self.hradius / self.eccentricity)\n",
    "        eq2 = Eq(x, - self.hradius / self.eccentricity)\n",
    "        return [eq1, eq2]\n",
    "        \n",
    "    def equation(self, x='x', y='y', _slope=None, equation=False):\n",
    "        \"\"\"\n",
    "        Returns the equation of a hyperbola aligned with the x and y axes;\n",
    "        when slope is given, the equation returned corresponds to a hyperbola \n",
    "        with a major axis having that slope.\n",
    "        Parameters\n",
    "        ==========\n",
    "        x : str, optional\n",
    "            Label for the x-axis. Default value is 'x'.\n",
    "        y : str, optional\n",
    "            Label for the y-axis. Default value is 'y'.\n",
    "        _slope : Expr, optional\n",
    "                The slope of the major axis. Ignored when 'None'.\n",
    "        Returns\n",
    "        =======\n",
    "        equation : sympy expression   \"\"\"\n",
    "\n",
    "        x = _symbol(x, real=True)\n",
    "        y = _symbol(y, real=True)\n",
    "\n",
    "        dx = x - self.center.x\n",
    "        dy = y - self.center.y\n",
    "\n",
    "        if _slope is not None:\n",
    "            L = (dy - _slope*dx)**2\n",
    "            l = (_slope*dy + dx)**2\n",
    "            h = 1 + _slope**2\n",
    "            a = h*self.major**2\n",
    "            b = h*self.minor**2\n",
    "            res= l/a - L/b \n",
    "\n",
    "        else:\n",
    "            t1 = (dx/self.hradius)**2\n",
    "            t2 = (dy/self.vradius)**2\n",
    "            res = t1 - t2 \n",
    "        if not equation:\n",
    "            return res - 1\n",
    "        else:\n",
    "            return Eq(res, 1)       "
   ]
  },
  {
   "cell_type": "markdown",
   "metadata": {},
   "source": [
    "# Занятие 15\n",
    "# Алгебра\n",
    "### Задание 1.\n",
    "Построить гиперболу с центром в точке А(1, 2), полуосями 12 и 5. Вывести на экран эксцентриситет, фокусное расстояние, фокусы (с координатами), periapsis и уравнение гиперболы."
   ]
  },
  {
   "cell_type": "code",
   "execution_count": 8,
   "metadata": {},
   "outputs": [
    {
     "data": {
      "text/plain": [
       "'center'"
      ]
     },
     "metadata": {},
     "output_type": "display_data"
    },
    {
     "data": {
      "text/latex": [
       "$\\displaystyle Point2D\\left(1, 2\\right)$"
      ],
      "text/plain": [
       "Point2D(1, 2)"
      ]
     },
     "metadata": {},
     "output_type": "display_data"
    },
    {
     "name": "stdout",
     "output_type": "stream",
     "text": [
      "\n"
     ]
    },
    {
     "data": {
      "text/plain": [
       "'hradius'"
      ]
     },
     "metadata": {},
     "output_type": "display_data"
    },
    {
     "data": {
      "text/latex": [
       "$\\displaystyle 12$"
      ],
      "text/plain": [
       "12"
      ]
     },
     "metadata": {},
     "output_type": "display_data"
    },
    {
     "name": "stdout",
     "output_type": "stream",
     "text": [
      "\n"
     ]
    },
    {
     "data": {
      "text/plain": [
       "'vradius'"
      ]
     },
     "metadata": {},
     "output_type": "display_data"
    },
    {
     "data": {
      "text/latex": [
       "$\\displaystyle 5$"
      ],
      "text/plain": [
       "5"
      ]
     },
     "metadata": {},
     "output_type": "display_data"
    },
    {
     "name": "stdout",
     "output_type": "stream",
     "text": [
      "\n"
     ]
    },
    {
     "data": {
      "text/plain": [
       "'eccentricity'"
      ]
     },
     "metadata": {},
     "output_type": "display_data"
    },
    {
     "data": {
      "text/latex": [
       "$\\displaystyle \\frac{13}{12}$"
      ],
      "text/plain": [
       "13/12"
      ]
     },
     "metadata": {},
     "output_type": "display_data"
    },
    {
     "name": "stdout",
     "output_type": "stream",
     "text": [
      "\n"
     ]
    },
    {
     "data": {
      "text/plain": [
       "'periapsis'"
      ]
     },
     "metadata": {},
     "output_type": "display_data"
    },
    {
     "data": {
      "text/latex": [
       "$\\displaystyle 1$"
      ],
      "text/plain": [
       "1"
      ]
     },
     "metadata": {},
     "output_type": "display_data"
    },
    {
     "name": "stdout",
     "output_type": "stream",
     "text": [
      "\n"
     ]
    },
    {
     "data": {
      "text/plain": [
       "'focus_distance'"
      ]
     },
     "metadata": {},
     "output_type": "display_data"
    },
    {
     "data": {
      "text/latex": [
       "$\\displaystyle 13$"
      ],
      "text/plain": [
       "13"
      ]
     },
     "metadata": {},
     "output_type": "display_data"
    },
    {
     "name": "stdout",
     "output_type": "stream",
     "text": [
      "\n"
     ]
    },
    {
     "data": {
      "text/plain": [
       "'foci'"
      ]
     },
     "metadata": {},
     "output_type": "display_data"
    },
    {
     "data": {
      "text/plain": [
       "(Point2D(-12, 2), Point2D(14, 2))"
      ]
     },
     "metadata": {},
     "output_type": "display_data"
    },
    {
     "name": "stdout",
     "output_type": "stream",
     "text": [
      "\n"
     ]
    },
    {
     "data": {
      "text/latex": [
       "$\\displaystyle \\left(\\frac{x}{12} - \\frac{1}{12}\\right)^{2} - \\left(\\frac{y}{5} - \\frac{2}{5}\\right)^{2} - 1$"
      ],
      "text/plain": [
       "(x/12 - 1/12)**2 - (y/5 - 2/5)**2 - 1"
      ]
     },
     "metadata": {},
     "output_type": "display_data"
    }
   ],
   "source": [
    "Hyp1 = Hyperbola(Point(1, 2), hradius=12, vradius=5)\n",
    "props = {'center': Hyp1.center, 'hradius': Hyp1.hradius, 'vradius': Hyp1.vradius,\n",
    " 'eccentricity': Hyp1.eccentricity, 'periapsis': Hyp1.periapsis,\n",
    " 'focus_distance': Hyp1.focus_distance, 'foci': Hyp1.foci}\n",
    "for key in props:\n",
    "    display(key, props[key])\n",
    "    print()\n",
    "display(Hyp1.equation())"
   ]
  },
  {
   "cell_type": "markdown",
   "metadata": {},
   "source": [
    "### Задание 2.\n",
    "Добавить в описание класса гипербол методы \n",
    "\n",
    "asymptote(self, x='x', y='y', equation=False)\n",
    "\n",
    "directrix(self, x='x', equation=False)\n",
    "\n",
    "Для гиперболы Задания 1 вывести на экран уравнения асимптот и директрис."
   ]
  },
  {
   "cell_type": "code",
   "execution_count": 30,
   "metadata": {},
   "outputs": [
    {
     "data": {
      "text/latex": [
       "$\\displaystyle y = \\frac{5 x}{12} + \\frac{19}{12}$"
      ],
      "text/plain": [
       "Eq(y, 5*x/12 + 19/12)"
      ]
     },
     "metadata": {},
     "output_type": "display_data"
    },
    {
     "data": {
      "text/latex": [
       "$\\displaystyle y = \\frac{29}{12} - \\frac{5 x}{12}$"
      ],
      "text/plain": [
       "Eq(y, 29/12 - 5*x/12)"
      ]
     },
     "metadata": {},
     "output_type": "display_data"
    },
    {
     "name": "stdout",
     "output_type": "stream",
     "text": [
      "\n"
     ]
    },
    {
     "data": {
      "text/latex": [
       "$\\displaystyle x = \\frac{144}{13}$"
      ],
      "text/plain": [
       "Eq(x, 144/13)"
      ]
     },
     "metadata": {},
     "output_type": "display_data"
    },
    {
     "data": {
      "text/latex": [
       "$\\displaystyle x = - \\frac{144}{13}$"
      ],
      "text/plain": [
       "Eq(x, -144/13)"
      ]
     },
     "metadata": {},
     "output_type": "display_data"
    }
   ],
   "source": [
    "Hyp1 = Hyperbola(Point(1, 2), hradius=12, vradius=5)\n",
    "display(Hyp1.asymptote[0])\n",
    "display(Hyp1.asymptote[1])\n",
    "print()\n",
    "display(Hyp1.directrix[0])\n",
    "display(Hyp1.directrix[1])"
   ]
  },
  {
   "cell_type": "markdown",
   "metadata": {},
   "source": [
    "### Задание 3.\n",
    "Вывести на экран уравнение гиперболы из задания 1 с поворотом на 30 градусов против часовой стрелки относительно ее центра.\n",
    "Изобразить повернутую гиперболу с помощью plot_implicit."
   ]
  },
  {
   "cell_type": "code",
   "execution_count": 87,
   "metadata": {},
   "outputs": [
    {
     "data": {
      "text/latex": [
       "$\\displaystyle \\frac{\\left(x + \\frac{\\sqrt{3} \\left(y - 2\\right)}{3} - 1\\right)^{2}}{192} - \\frac{3 \\left(y - \\frac{\\sqrt{3} \\left(x - 1\\right)}{3} - 2\\right)^{2}}{100} = 1$"
      ],
      "text/plain": [
       "Eq((x + sqrt(3)*(y - 2)/3 - 1)**2/192 - 3*(y - sqrt(3)*(x - 1)/3 - 2)**2/100, 1)"
      ]
     },
     "metadata": {},
     "output_type": "display_data"
    },
    {
     "data": {
      "image/png": "[encoded data removed]",
      "text/plain": [
       "<Figure size 432x288 with 1 Axes>"
      ]
     },
     "metadata": {
      "needs_background": "light"
     },
     "output_type": "display_data"
    }
   ],
   "source": [
    "eq2 = Hyp1.equation(_slope=sympy.tan(pi/6), equation=True)\n",
    "display(eq2)\n",
    "dict_free = {str(a): a for a in eq1.free_symbols}\n",
    "x_length, y_length = -60, 60\n",
    "p = plot_implicit(eq2, (dict_free['x'], x_length, y_length), (dict_free['y'], x_length, y_length),line_color='r', aspect_ratio=(1, 1), show=False, adaptive=False)\n",
    "p.show()"
   ]
  },
  {
   "cell_type": "markdown",
   "metadata": {},
   "source": [
    "## Уравнения директрис и асимптот при повороте на угол $\\alpha$\n",
    "Пусть  $a$ - горизонтальная полуось, $c$ - фокусное расстояние, $x_0$ - горизонтальная координата центра гиперболы, тогда уравнение директрис \n",
    "$$\n",
    "x = x_0 \\pm \\frac{a^2}{c}\n",
    "$$\n",
    "При повороте на угол $\\alpha$ получается уравнение\n",
    "$$\n",
    "y = y_0 -{\\rm ctg} \\alpha(x - x_0) \\pm \\frac{a^2}{c}\\sqrt{1 + {\\rm ctg} \\alpha}\n",
    "$$\n",
    "Уравнение асимптоты\n",
    "$$\n",
    "y = y_0 \\pm \\frac{b}{a}(x - x_0)\n",
    "$$\n",
    "При повороте на угол $\\alpha$ получаются уравнения\n",
    "\\begin{align*}\n",
    "y_1 = y_0 + k_1(x - x_0), \\quad \n",
    "y_2 = y_0 + k_2(x - x_0), \\\\ \n",
    "k_1 = \\frac{b + a{\\rm tg} \\alpha}{a - b{\\rm tg} \\alpha},\\quad \n",
    "k_2 = \\frac{-b + a{\\rm tg} \\alpha}{a + b{\\rm tg} \\alpha}\n",
    "\\end{align*}\n",
    "### Задание 4.\n",
    "Изобразить гиперболу Задания 3 (т.е. повернутую на угол) и ее асимптоты и директрисы на одном графике plot_implicit."
   ]
  },
  {
   "cell_type": "code",
   "execution_count": 107,
   "metadata": {},
   "outputs": [
    {
     "data": {
      "image/png": "[encoded data removed]",
      "text/plain": [
       "<Figure size 432x288 with 1 Axes>"
      ]
     },
     "metadata": {
      "needs_background": "light"
     },
     "output_type": "display_data"
    }
   ],
   "source": [
    "# Основной график\n",
    "Hyp1 = Hyperbola(Point(1, 2), hradius=12, vradius=5)\n",
    "eq_main = Hyp1.equation(_slope=sympy.tan(pi/6), equation=True)\n",
    "dict_free = {str(a): a for a in eq2.free_symbols}\n",
    "p = plot_implicit(eq_main, (dict_free['x'], -20, 20), (dict_free['y'], -20, 20), line_color='g', aspect_ratio=(1, 1), show=False, adaptive=False)\n",
    "\n",
    "# Ассимптоты\n",
    "x = _symbol(\"x\", real=True)\n",
    "y = _symbol(\"y\", real=True)\n",
    "k1 = (Hyp1.vradius + Hyp1.hradius * sympy.tan(pi/6)) / (Hyp1.hradius - Hyp1.vradius * sympy.tan(pi/6))\n",
    "k2 = (-Hyp1.vradius + Hyp1.hradius * sympy.tan(pi/6)) / (Hyp1.hradius + Hyp1.vradius * sympy.tan(pi/6))\n",
    "eq_asympt1 = Eq(y, Hyp1.center[1] + k1 * (x - Hyp1.center[0]))\n",
    "eq_asympt2 = Eq(y, Hyp1.center[1] + k2 * (x - Hyp1.center[0]))\n",
    "p.extend(plot_implicit(eq_asympt1, (dict_free['x'], -20, 20), (dict_free['y'], -20, 20), line_color='r', aspect_ratio=(1, 1), show=False, adaptive=False))\n",
    "p.extend(plot_implicit(eq_asympt2, (dict_free['x'], -20, 20), (dict_free['y'], -20, 20), line_color='r', aspect_ratio=(1, 1), show=False, adaptive=False))\n",
    "\n",
    "# ТУТ ВОПРОС\n",
    "# Как получить hradius и eccentricity после поворота?\n",
    "eq_direct1 = Eq(x, Hyp1.hradius / Hyp1.eccentricity)\n",
    "eq_direct2 = Eq(x, -Hyp1.hradius / Hyp1.eccentricity)\n",
    "p.extend(plot_implicit(eq_direct1, (dict_free['x'], -20, 20), (dict_free['y'], -20, 20), line_color='b', aspect_ratio=(1, 1), show=False, adaptive=False))\n",
    "p.extend(plot_implicit(eq_direct2, (dict_free['x'], -20, 20), (dict_free['y'], -20, 20), line_color='b', aspect_ratio=(1, 1), show=False, adaptive=False))\n",
    "\n",
    "p.show()"
   ]
  },
  {
   "cell_type": "markdown",
   "metadata": {},
   "source": [
    "###  Индивидуальное задание\n",
    "Определить гиперболу с центром в (-3, 4), полуосями 7 и 3.  Вывести на экран эксцентриситет, фокусное расстояние, фокусы (с координатами), periapsis, уравнение гиперболы, уравнения асимптот и директрис. \n",
    "\n",
    "Изобразить гиперболу, повернутую на 45 градусов против часовой стрелки относительно ее центра, соответствующие асимптоты и директрисы. Вывести на экран уравнения повернутой гиперболы, соответствующих асимптот и директрис."
   ]
  },
  {
   "cell_type": "code",
   "execution_count": 111,
   "metadata": {},
   "outputs": [
    {
     "data": {
      "text/plain": [
       "'center'"
      ]
     },
     "metadata": {},
     "output_type": "display_data"
    },
    {
     "data": {
      "text/latex": [
       "$\\displaystyle Point2D\\left(-3, 4\\right)$"
      ],
      "text/plain": [
       "Point2D(-3, 4)"
      ]
     },
     "metadata": {},
     "output_type": "display_data"
    },
    {
     "name": "stdout",
     "output_type": "stream",
     "text": [
      "\n"
     ]
    },
    {
     "data": {
      "text/plain": [
       "'hradius'"
      ]
     },
     "metadata": {},
     "output_type": "display_data"
    },
    {
     "data": {
      "text/latex": [
       "$\\displaystyle 7$"
      ],
      "text/plain": [
       "7"
      ]
     },
     "metadata": {},
     "output_type": "display_data"
    },
    {
     "name": "stdout",
     "output_type": "stream",
     "text": [
      "\n"
     ]
    },
    {
     "data": {
      "text/plain": [
       "'vradius'"
      ]
     },
     "metadata": {},
     "output_type": "display_data"
    },
    {
     "data": {
      "text/latex": [
       "$\\displaystyle 3$"
      ],
      "text/plain": [
       "3"
      ]
     },
     "metadata": {},
     "output_type": "display_data"
    },
    {
     "name": "stdout",
     "output_type": "stream",
     "text": [
      "\n"
     ]
    },
    {
     "data": {
      "text/plain": [
       "'eccentricity'"
      ]
     },
     "metadata": {},
     "output_type": "display_data"
    },
    {
     "data": {
      "text/latex": [
       "$\\displaystyle \\frac{\\sqrt{58}}{7}$"
      ],
      "text/plain": [
       "sqrt(58)/7"
      ]
     },
     "metadata": {},
     "output_type": "display_data"
    },
    {
     "name": "stdout",
     "output_type": "stream",
     "text": [
      "\n"
     ]
    },
    {
     "data": {
      "text/plain": [
       "'periapsis'"
      ]
     },
     "metadata": {},
     "output_type": "display_data"
    },
    {
     "data": {
      "text/latex": [
       "$\\displaystyle -7 + \\sqrt{58}$"
      ],
      "text/plain": [
       "-7 + sqrt(58)"
      ]
     },
     "metadata": {},
     "output_type": "display_data"
    },
    {
     "name": "stdout",
     "output_type": "stream",
     "text": [
      "\n"
     ]
    },
    {
     "data": {
      "text/plain": [
       "'focus_distance'"
      ]
     },
     "metadata": {},
     "output_type": "display_data"
    },
    {
     "data": {
      "text/latex": [
       "$\\displaystyle \\sqrt{58}$"
      ],
      "text/plain": [
       "sqrt(58)"
      ]
     },
     "metadata": {},
     "output_type": "display_data"
    },
    {
     "name": "stdout",
     "output_type": "stream",
     "text": [
      "\n"
     ]
    },
    {
     "data": {
      "text/plain": [
       "'foci'"
      ]
     },
     "metadata": {},
     "output_type": "display_data"
    },
    {
     "data": {
      "text/plain": [
       "(Point2D(-sqrt(58) - 3, 4), Point2D(-3 + sqrt(58), 4))"
      ]
     },
     "metadata": {},
     "output_type": "display_data"
    },
    {
     "name": "stdout",
     "output_type": "stream",
     "text": [
      "\n"
     ]
    },
    {
     "data": {
      "text/plain": [
       "'eq'"
      ]
     },
     "metadata": {},
     "output_type": "display_data"
    },
    {
     "data": {
      "text/latex": [
       "$\\displaystyle \\left(\\frac{x}{7} + \\frac{3}{7}\\right)^{2} - \\left(\\frac{y}{3} - \\frac{4}{3}\\right)^{2} - 1$"
      ],
      "text/plain": [
       "(x/7 + 3/7)**2 - (y/3 - 4/3)**2 - 1"
      ]
     },
     "metadata": {},
     "output_type": "display_data"
    },
    {
     "name": "stdout",
     "output_type": "stream",
     "text": [
      "\n"
     ]
    },
    {
     "data": {
      "text/plain": [
       "'assymp'"
      ]
     },
     "metadata": {},
     "output_type": "display_data"
    },
    {
     "data": {
      "text/plain": [
       "[Eq(y, 3*x/7 + 37/7), Eq(y, 19/7 - 3*x/7)]"
      ]
     },
     "metadata": {},
     "output_type": "display_data"
    },
    {
     "name": "stdout",
     "output_type": "stream",
     "text": [
      "\n"
     ]
    },
    {
     "data": {
      "text/plain": [
       "'direct'"
      ]
     },
     "metadata": {},
     "output_type": "display_data"
    },
    {
     "data": {
      "text/plain": [
       "[Eq(x, 49*sqrt(58)/58), Eq(x, -49*sqrt(58)/58)]"
      ]
     },
     "metadata": {},
     "output_type": "display_data"
    },
    {
     "name": "stdout",
     "output_type": "stream",
     "text": [
      "\n"
     ]
    },
    {
     "data": {
      "image/png": "[encoded data removed]",
      "text/plain": [
       "<Figure size 432x288 with 1 Axes>"
      ]
     },
     "metadata": {
      "needs_background": "light"
     },
     "output_type": "display_data"
    },
    {
     "data": {
      "text/latex": [
       "$\\displaystyle - \\frac{\\left(- x + y - 7\\right)^{2}}{18} + \\frac{\\left(x + y - 1\\right)^{2}}{98} = 1$"
      ],
      "text/plain": [
       "Eq(-(-x + y - 7)**2/18 + (x + y - 1)**2/98, 1)"
      ]
     },
     "metadata": {},
     "output_type": "display_data"
    },
    {
     "data": {
      "text/latex": [
       "$\\displaystyle y = \\frac{5 x}{2} + \\frac{23}{2}$"
      ],
      "text/plain": [
       "Eq(y, 5*x/2 + 23/2)"
      ]
     },
     "metadata": {},
     "output_type": "display_data"
    },
    {
     "data": {
      "text/latex": [
       "$\\displaystyle y = \\frac{2 x}{5} + \\frac{26}{5}$"
      ],
      "text/plain": [
       "Eq(y, 2*x/5 + 26/5)"
      ]
     },
     "metadata": {},
     "output_type": "display_data"
    },
    {
     "data": {
      "text/latex": [
       "$\\displaystyle x = \\frac{49 \\sqrt{58}}{58}$"
      ],
      "text/plain": [
       "Eq(x, 49*sqrt(58)/58)"
      ]
     },
     "metadata": {},
     "output_type": "display_data"
    },
    {
     "data": {
      "text/latex": [
       "$\\displaystyle x = - \\frac{49 \\sqrt{58}}{58}$"
      ],
      "text/plain": [
       "Eq(x, -49*sqrt(58)/58)"
      ]
     },
     "metadata": {},
     "output_type": "display_data"
    }
   ],
   "source": [
    "# Информация о гиперболе\n",
    "Hyp1 = Hyperbola(Point(-3, 4), hradius=7, vradius=3)\n",
    "props = {'center': Hyp1.center, 'hradius': Hyp1.hradius, 'vradius': Hyp1.vradius,\n",
    "         'eccentricity': Hyp1.eccentricity, 'periapsis': Hyp1.periapsis,\n",
    "         'focus_distance': Hyp1.focus_distance, 'foci': Hyp1.foci,\n",
    "         'eq': Hyp1.equation(), 'assymp': Hyp1.asymptote, 'direct': Hyp1.directrix}\n",
    "for key in props:\n",
    "    display(key, props[key])\n",
    "    print()\n",
    "    \n",
    "# Основной график\n",
    "eq_main = Hyp1.equation(_slope=sympy.tan(pi/4), equation=True)\n",
    "dict_free = {str(a): a for a in eq2.free_symbols}\n",
    "p = plot_implicit(eq_main, (dict_free['x'], -20, 20), (dict_free['y'], -20, 20), line_color='g', aspect_ratio=(1, 1), show=False, adaptive=False)\n",
    "\n",
    "# Ассимптоты\n",
    "x = _symbol(\"x\", real=True)\n",
    "y = _symbol(\"y\", real=True)\n",
    "k1 = (Hyp1.vradius + Hyp1.hradius * sympy.tan(pi/4)) / (Hyp1.hradius - Hyp1.vradius * sympy.tan(pi/4))\n",
    "k2 = (-Hyp1.vradius + Hyp1.hradius * sympy.tan(pi/4)) / (Hyp1.hradius + Hyp1.vradius * sympy.tan(pi/4))\n",
    "eq_asympt1 = Eq(y, Hyp1.center[1] + k1 * (x - Hyp1.center[0]))\n",
    "eq_asympt2 = Eq(y, Hyp1.center[1] + k2 * (x - Hyp1.center[0]))\n",
    "p.extend(plot_implicit(eq_asympt1, (dict_free['x'], -20, 20), (dict_free['y'], -20, 20), line_color='r', aspect_ratio=(1, 1), show=False, adaptive=False))\n",
    "p.extend(plot_implicit(eq_asympt2, (dict_free['x'], -20, 20), (dict_free['y'], -20, 20), line_color='r', aspect_ratio=(1, 1), show=False, adaptive=False))\n",
    "\n",
    "# ТУТ ВОПРОС\n",
    "# Как получить hradius и eccentricity после поворота?\n",
    "eq_direct1 = Eq(x, Hyp1.hradius / Hyp1.eccentricity)\n",
    "eq_direct2 = Eq(x, -Hyp1.hradius / Hyp1.eccentricity)\n",
    "p.extend(plot_implicit(eq_direct1, (dict_free['x'], -20, 20), (dict_free['y'], -20, 20), line_color='b', aspect_ratio=(1, 1), show=False, adaptive=False))\n",
    "p.extend(plot_implicit(eq_direct2, (dict_free['x'], -20, 20), (dict_free['y'], -20, 20), line_color='b', aspect_ratio=(1, 1), show=False, adaptive=False))\n",
    "\n",
    "p.show()\n",
    "display(eq_main, eq_asympt1, eq_asympt2, eq_direct1, eq_direct2)"
   ]
  },
  {
   "cell_type": "code",
   "execution_count": null,
   "metadata": {},
   "outputs": [],
   "source": []
  }
 ],
 "metadata": {
  "kernelspec": {
   "display_name": "Python 3",
   "language": "python",
   "name": "python3"
  },
  "language_info": {
   "codemirror_mode": {
    "name": "ipython",
    "version": 3
   },
   "file_extension": ".py",
   "mimetype": "text/x-python",
   "name": "python",
   "nbconvert_exporter": "python",
   "pygments_lexer": "ipython3",
   "version": "3.8.1"
  }
 },
 "nbformat": 4,
 "nbformat_minor": 4
}
