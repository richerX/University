{
 "cells": [
  {
   "cell_type": "markdown",
   "metadata": {},
   "source": [
    "## Занятие 6\n",
    "## Математический анализ\n",
    "## Дифференцирование"
   ]
  },
  {
   "cell_type": "code",
   "execution_count": 2,
   "metadata": {},
   "outputs": [],
   "source": [
    "import numpy as np\n",
    "import matplotlib.pyplot as plt\n",
    "import sympy\n",
    "from sympy import diff, solve, nsolve, solveset, latex, S, simplify, fraction\n",
    "from sympy import sin as Sin\n",
    "from sympy.calculus.util import continuous_domain\n",
    "%matplotlib inline"
   ]
  },
  {
   "cell_type": "markdown",
   "metadata": {},
   "source": [
    "## Лабораторная работа 6\n",
    "## Математический анализ\n",
    "## Задание 1\n",
    "Исследовать функцию с помощью производной, найти необходимые пределы и решить уравнения.\n",
    "\n",
    "Построить график функции и асимптот, отметить и подписать точки экстремума и точки перегиба,\n",
    "включить функцию и асимптоты в легенду. \n",
    "$$\n",
    "y = x^2e^{-x}\n",
    "$$"
   ]
  },
  {
   "cell_type": "code",
   "execution_count": 3,
   "metadata": {},
   "outputs": [
    {
     "name": "stdout",
     "output_type": "stream",
     "text": [
      "\n",
      "--------------- БЛОК 1 - f(x) ---------------\n",
      "\n"
     ]
    },
    {
     "data": {
      "text/latex": [
       "$\\displaystyle x^{2} e^{- x}$"
      ],
      "text/plain": [
       "x**2*exp(-x)"
      ]
     },
     "metadata": {},
     "output_type": "display_data"
    },
    {
     "data": {
      "text/latex": [
       "$\\displaystyle \\mathbb{R}$"
      ],
      "text/plain": [
       "Reals"
      ]
     },
     "metadata": {},
     "output_type": "display_data"
    },
    {
     "name": "stdout",
     "output_type": "stream",
     "text": [
      "Функция общего вида\n"
     ]
    },
    {
     "data": {
      "text/plain": [
       "[0]"
      ]
     },
     "metadata": {},
     "output_type": "display_data"
    },
    {
     "name": "stdout",
     "output_type": "stream",
     "text": [
      "\n",
      "--------------- БЛОК 2 - df(x) ---------------\n",
      "\n"
     ]
    },
    {
     "data": {
      "text/latex": [
       "$\\displaystyle x \\left(2 - x\\right) e^{- x}$"
      ],
      "text/plain": [
       "x*(2 - x)*exp(-x)"
      ]
     },
     "metadata": {},
     "output_type": "display_data"
    },
    {
     "data": {
      "text/latex": [
       "$\\displaystyle \\mathbb{R}$"
      ],
      "text/plain": [
       "Reals"
      ]
     },
     "metadata": {},
     "output_type": "display_data"
    },
    {
     "data": {
      "text/plain": [
       "[0, 2]"
      ]
     },
     "metadata": {},
     "output_type": "display_data"
    },
    {
     "name": "stdout",
     "output_type": "stream",
     "text": [
      "\n",
      "-0.232085892795886 0.171919109426832\n",
      "Производная меняет знак с - на +, значит x = 0 - точка минимума.\n",
      "\n",
      "0.0284180376523007 -0.0257158499331262\n",
      "Производная меняет знак с + на -, значит x = 2 - точка максимума.\n",
      "\n",
      "--------------- БЛОК 3 - df2(x) ---------------\n",
      "\n"
     ]
    },
    {
     "data": {
      "text/latex": [
       "$\\displaystyle \\left(x^{2} - 4 x + 2\\right) e^{- x}$"
      ],
      "text/plain": [
       "(x**2 - 4*x + 2)*exp(-x)"
      ]
     },
     "metadata": {},
     "output_type": "display_data"
    },
    {
     "data": {
      "text/latex": [
       "$\\displaystyle \\mathbb{R}$"
      ],
      "text/plain": [
       "Reals"
      ]
     },
     "metadata": {},
     "output_type": "display_data"
    },
    {
     "data": {
      "text/plain": [
       "[sqrt(2) + 2, 2 - sqrt(2)]"
      ]
     },
     "metadata": {},
     "output_type": "display_data"
    },
    {
     "name": "stdout",
     "output_type": "stream",
     "text": [
      "\n",
      "--------------- БЛОК 4 - Ассимптоты ---------------\n",
      "\n",
      "Вертикальных  ассимптот нет, так как отсутсвуют точки разрыва\n",
      "Горизонтальная ассимптота, y = 0 * x + 0 = 0\n",
      "lim(f(x)/x), x->∞ = 0\n",
      "lim(f(x)),   x->∞ = 0\n",
      "\n",
      "--------------- БЛОК 5 - График ---------------\n",
      "\n",
      "A   - корень (совпал с M_1)\n",
      "M_1 - точка минимума\n",
      "M_2 - точка максимуму\n",
      "P_1 - точка перегиба\n",
      "P_2 - точка перегиба\n"
     ]
    },
    {
     "data": {
      "image/png": "[encoded data removed]",
      "text/plain": [
       "<Figure size 432x288 with 1 Axes>"
      ]
     },
     "metadata": {
      "needs_background": "light"
     },
     "output_type": "display_data"
    }
   ],
   "source": [
    "from sympy.abc import x\n",
    "\n",
    "def f(x):\n",
    "     return x**2 * sympy.exp(1) ** (-x)\n",
    "\n",
    "def df(x):\n",
    "    return simplify(f(x).diff(x, 1))\n",
    "\n",
    "def df2(x):\n",
    "    return simplify(f(x).diff(x, 2))\n",
    "\n",
    "print()\n",
    "print(\"-\" * 15 + \" БЛОК 1 - f(x) \" + \"-\" * 15)\n",
    "print()\n",
    "\n",
    "# Область определения\n",
    "display(f(x))\n",
    "D = continuous_domain(f(x), x, S.Reals)\n",
    "display(D)\n",
    "\n",
    "# Чётность\n",
    "if f(-x) == f(x):\n",
    "    print('Четная функция')\n",
    "elif f(-x) == -f(x):\n",
    "    print('Нечетная функция')\n",
    "else:\n",
    "    print('Функция общего вида')\n",
    "\n",
    "# Точки пересечения с осями координат\n",
    "roots = list(solveset(f(x), domain=S.Reals))\n",
    "display(roots)\n",
    "\n",
    "\n",
    "print()\n",
    "print(\"-\" * 15 + \" БЛОК 2 - df(x) \" + \"-\" * 15)\n",
    "print()\n",
    "\n",
    "# Точки экстремума <=> df(x) = 0\n",
    "df_D = continuous_domain(df(x), x, S.Reals) # Это область определения производной.\n",
    "df_root = list(solveset(df(x), domain=S.Reals))\n",
    "\n",
    "display(df(x))\n",
    "display(df_D)\n",
    "display(df_root)\n",
    "print()\n",
    "print(df(x).subs(x, -0.1), df(x).subs(x, 0.1))\n",
    "print(\"Производная меняет знак с - на +, значит x = 0 - точка минимума.\")\n",
    "print()\n",
    "print(df(x).subs(x, 1.9), df(x).subs(x, 2.1))\n",
    "print(\"Производная меняет знак с + на -, значит x = 2 - точка максимума.\")\n",
    "\n",
    "\n",
    "print()\n",
    "print(\"-\" * 15 + \" БЛОК 3 - df2(x) \" + \"-\" * 15)\n",
    "print()\n",
    "\n",
    "# Точки перегиба <=> df2(x) = 0\n",
    "df2_D = continuous_domain(df2(x), x, S.Reals) # Это область определения производной.\n",
    "df2_root = list(solveset(df2(x), domain=S.Reals))\n",
    "display(df2(x))\n",
    "display(df2_D)\n",
    "display(df2_root)\n",
    "\n",
    "\n",
    "print()\n",
    "print(\"-\" * 15 + \" БЛОК 4 - Ассимптоты \" + \"-\" * 15)\n",
    "print()\n",
    "\n",
    "print(\"Вертикальных  ассимптот нет, так как отсутсвуют точки разрыва\")\n",
    "print(\"Горизонтальная ассимптота, y = 0 * x + 0 = 0\")\n",
    "print(\"lim(f(x)/x), x->∞ = 0\")\n",
    "print(\"lim(f(x)),   x->∞ = 0\")\n",
    "\n",
    "\n",
    "print()\n",
    "print(\"-\" * 15 + \" БЛОК 5 - График \" + \"-\" * 15)\n",
    "print()\n",
    "\n",
    "# Задание занчений полотна\n",
    "minY = -1\n",
    "maxY = 3\n",
    "ax = plt.gca()\n",
    "ax.set_ylim(minY, maxY)\n",
    "\n",
    "# График горизантальной асимптоты\n",
    "ax.axhline(y=0, color='red', linestyle='--', label=r'hor. asympt. $y=0$')\n",
    "\n",
    "# Рисование графика\n",
    "X = np.linspace(-1, 4, 100)\n",
    "X_D = [x for x in X if x in D]\n",
    "Y_D = [f(x) for x in X if x in D]\n",
    "ax.plot(X_D, Y_D, 'k-', label=r'$f(x)=' + sympy.latex(f(x)) + r'$')\n",
    "\n",
    "# Добавление точек\n",
    "roots.extend([float(df_root[0]), float(df_root[1]), float(df2_root[0]), float(df2_root[1])])\n",
    "points_y = [float(f(point)) for point in roots]\n",
    "annotations = [r'$A$', r'$M_1$', r'$M_2$', r'$P_1$', r'$P_2$']\n",
    "ax.scatter(roots, points_y, 50, color='green')\n",
    "for i, x0 in enumerate(roots):\n",
    "    ax.annotate(annotations[i], xy=(x0, points_y[i]), xycoords='data', xytext=(-5, 10), textcoords='offset points', fontsize=10)\n",
    "\n",
    "# Визуальные улучшения\n",
    "ax.spines['right'].set_color('none')\n",
    "ax.spines['top'].set_color('none')\n",
    "ax.spines['bottom'].set_position(('data', 0))\n",
    "ax.spines['left'].set_position(('data', 0))\n",
    "ax.plot(1, 0, \">k\", transform=ax.get_yaxis_transform(), clip_on=False)\n",
    "ax.plot(0, 1, \"^k\", transform=ax.get_xaxis_transform(), clip_on=False)\n",
    "ax.legend(loc='upper right')\n",
    "\n",
    "print(\"A   - корень (совпал с M_1)\")\n",
    "print(\"M_1 - точка минимума\")\n",
    "print(\"M_2 - точка максимуму\")\n",
    "print(\"P_1 - точка перегиба\")\n",
    "print(\"P_2 - точка перегиба\")"
   ]
  },
  {
   "cell_type": "markdown",
   "metadata": {},
   "source": [
    "## Задание 2\n",
    "Исследовать функцию с помощью производной, найти необходимые пределы и решить уравнения.\n",
    "\n",
    "Построить график функции и асимптот, отметить и подписать точки экстремума и точки перегиба,\n",
    "включить функцию и асимптоты в легенду. \n",
    "$$\n",
    "y=xe^{2/x} + 1 \n",
    "$$"
   ]
  },
  {
   "cell_type": "code",
   "execution_count": 43,
   "metadata": {},
   "outputs": [
    {
     "name": "stdout",
     "output_type": "stream",
     "text": [
      "\n",
      "--------------- БЛОК 1 - f(x) ---------------\n",
      "\n"
     ]
    },
    {
     "data": {
      "text/latex": [
       "$\\displaystyle x e^{\\frac{2}{x}} + 1$"
      ],
      "text/plain": [
       "x*exp(2/x) + 1"
      ]
     },
     "metadata": {},
     "output_type": "display_data"
    },
    {
     "data": {
      "text/latex": [
       "$\\displaystyle \\left(-\\infty, 0\\right) \\cup \\left(0, \\infty\\right)$"
      ],
      "text/plain": [
       "Union(Interval.open(-oo, 0), Interval.open(0, oo))"
      ]
     },
     "metadata": {},
     "output_type": "display_data"
    },
    {
     "name": "stdout",
     "output_type": "stream",
     "text": [
      "Функция общего вида\n"
     ]
    },
    {
     "data": {
      "text/plain": [
       "[-2.345]"
      ]
     },
     "metadata": {},
     "output_type": "display_data"
    },
    {
     "name": "stdout",
     "output_type": "stream",
     "text": [
      "\n",
      "--------------- БЛОК 2 - df(x) ---------------\n",
      "\n"
     ]
    },
    {
     "data": {
      "text/latex": [
       "$\\displaystyle \\frac{\\left(x - 2\\right) e^{\\frac{2}{x}}}{x}$"
      ],
      "text/plain": [
       "(x - 2)*exp(2/x)/x"
      ]
     },
     "metadata": {},
     "output_type": "display_data"
    },
    {
     "data": {
      "text/latex": [
       "$\\displaystyle \\left(-\\infty, 0\\right) \\cup \\left(0, \\infty\\right)$"
      ],
      "text/plain": [
       "Union(Interval.open(-oo, 0), Interval.open(0, oo))"
      ]
     },
     "metadata": {},
     "output_type": "display_data"
    },
    {
     "data": {
      "text/plain": [
       "[2]"
      ]
     },
     "metadata": {},
     "output_type": "display_data"
    },
    {
     "name": "stdout",
     "output_type": "stream",
     "text": [
      "\n",
      "-0.150799008220194 0.123422545038804\n",
      "Производная меняет знак с - на +, значит x = 0 - точка минимума.\n",
      "\n",
      "--------------- БЛОК 3 - df2(x) ---------------\n",
      "\n"
     ]
    },
    {
     "data": {
      "text/latex": [
       "$\\displaystyle \\frac{4 e^{\\frac{2}{x}}}{x^{3}}$"
      ],
      "text/plain": [
       "4*exp(2/x)/x**3"
      ]
     },
     "metadata": {},
     "output_type": "display_data"
    },
    {
     "data": {
      "text/latex": [
       "$\\displaystyle \\left(-\\infty, 0\\right) \\cup \\left(0, \\infty\\right)$"
      ],
      "text/plain": [
       "Union(Interval.open(-oo, 0), Interval.open(0, oo))"
      ]
     },
     "metadata": {},
     "output_type": "display_data"
    },
    {
     "data": {
      "text/plain": [
       "[]"
      ]
     },
     "metadata": {},
     "output_type": "display_data"
    },
    {
     "name": "stdout",
     "output_type": "stream",
     "text": [
      "Нет точек перегиба\n",
      "\n",
      "--------------- БЛОК 4 - Ассимптоты ---------------\n",
      "\n",
      "1 oo\n",
      "Вертикальныя ассимптота x = 0\n",
      "\n",
      "Горизонтальная ассимптота, y = 1 * x + 3\n",
      " lim(f(x)/x) , x->∞ = 1\n",
      "lim(f(x) - x), x->∞ = 3\n",
      "\n",
      "--------------- БЛОК 5 - График ---------------\n",
      "\n",
      "A - корень\n",
      "M - точка минимума\n"
     ]
    },
    {
     "data": {
      "image/png": "[encoded data removed]",
      "text/plain": [
       "<Figure size 432x288 with 1 Axes>"
      ]
     },
     "metadata": {
      "needs_background": "light"
     },
     "output_type": "display_data"
    }
   ],
   "source": [
    "from sympy.abc import x\n",
    "\n",
    "def f(x):\n",
    "     return x * sympy.exp(1) ** (2/x) + 1\n",
    "\n",
    "def df(x):\n",
    "    return simplify(f(x).diff(x, 1))\n",
    "\n",
    "def df2(x):\n",
    "    return simplify(f(x).diff(x, 2))\n",
    "\n",
    "print()\n",
    "print(\"-\" * 15 + \" БЛОК 1 - f(x) \" + \"-\" * 15)\n",
    "print()\n",
    "\n",
    "# Область определения\n",
    "display(f(x))\n",
    "D = continuous_domain(f(x), x, S.Reals)\n",
    "display(D)\n",
    "\n",
    "# Чётность\n",
    "if f(-x) == f(x):\n",
    "    print('Четная функция')\n",
    "elif f(-x) == -f(x):\n",
    "    print('Нечетная функция')\n",
    "else:\n",
    "    print('Функция общего вида')\n",
    "\n",
    "# Точки пересечения с осями координат\n",
    "roots = solveset(f(x), domain=S.Reals)\n",
    "roots = [-2.345] # wolfram alpha в ручную\n",
    "display(roots)\n",
    "\n",
    "\n",
    "print()\n",
    "print(\"-\" * 15 + \" БЛОК 2 - df(x) \" + \"-\" * 15)\n",
    "print()\n",
    "\n",
    "# Точки экстремума <=> df(x) = 0\n",
    "df_D = continuous_domain(df(x), x, S.Reals) # Это область определения производной.\n",
    "df_root = solveset(df(x), domain=S.Reals)\n",
    "df_root = [2] # wolfram alpha в ручную\n",
    "\n",
    "display(df(x))\n",
    "display(df_D)\n",
    "display(df_root)\n",
    "print()\n",
    "print(df(x).subs(x, 1.9), df(x).subs(x, 2.1))\n",
    "print(\"Производная меняет знак с - на +, значит x = 0 - точка минимума.\")\n",
    "\n",
    "\n",
    "print()\n",
    "print(\"-\" * 15 + \" БЛОК 3 - df2(x) \" + \"-\" * 15)\n",
    "print()\n",
    "\n",
    "# Точки перегиба <=> df2(x) = 0\n",
    "df2_D = continuous_domain(df2(x), x, S.Reals) # Это область определения производной.\n",
    "df2_root = list(solveset(df2(x), domain=S.Reals))\n",
    "display(df2(x))\n",
    "display(df2_D)\n",
    "display(df2_root)\n",
    "print(\"Нет точек перегиба\")\n",
    "\n",
    "\n",
    "print()\n",
    "print(\"-\" * 15 + \" БЛОК 4 - Ассимптоты \" + \"-\" * 15)\n",
    "print()\n",
    "\n",
    "print(f(x).limit(x, 0, dir='-'), f(x).limit(x, 0))\n",
    "print(\"Вертикальныя ассимптота x = 0\")\n",
    "print()\n",
    "print(\"Горизонтальная ассимптота, y = 1 * x + 3\")\n",
    "print(\" lim(f(x)/x) , x->∞ = 1\")\n",
    "print(\"lim(f(x) - x), x->∞ = 3\")\n",
    "\n",
    "\n",
    "print()\n",
    "print(\"-\" * 15 + \" БЛОК 5 - График \" + \"-\" * 15)\n",
    "print()\n",
    "\n",
    "# Задание занчений полотна\n",
    "minY = -2\n",
    "maxY = 10\n",
    "ax = plt.gca()\n",
    "ax.set_ylim(minY, maxY)\n",
    "X = np.linspace(-5, 5, 100)\n",
    "\n",
    "# График горизантальной асимптоты\n",
    "X_D = [x for x in X if x in D]\n",
    "Y_D = [x+3 for x in X if x in D]\n",
    "ax.plot(X_D, Y_D, color='red', linestyle='--', label=r'hor. asympt. $y=0$')\n",
    "\n",
    "# График вертикальной асимптоты\n",
    "ax.axvline(x=0, color='green', linestyle='--', label=r'ver. asympt. $x=0$')\n",
    "\n",
    "# Рисование графика\n",
    "X_D = [x for x in X if x in D]\n",
    "Y_D = [f(x) for x in X if x in D]\n",
    "ax.plot(X_D, Y_D, 'k-', label=r'$f(x)=' + sympy.latex(f(x)) + r'$')\n",
    "\n",
    "# Добавление точек\n",
    "roots.extend([float(df_root[0])])\n",
    "points_y = [float(f(point)) for point in roots]\n",
    "annotations = [r'$A$', r'$M$']\n",
    "ax.scatter(roots, points_y, 50, color='green')\n",
    "for i, x0 in enumerate(roots):\n",
    "    ax.annotate(annotations[i], xy=(x0, points_y[i]), xycoords='data', xytext=(-5, 10), textcoords='offset points', fontsize=10)\n",
    "\n",
    "# Визуальные улучшения\n",
    "ax.spines['right'].set_color('none')\n",
    "ax.spines['top'].set_color('none')\n",
    "ax.spines['bottom'].set_position(('data', 0))\n",
    "ax.spines['left'].set_position(('data', 0))\n",
    "ax.plot(1, 0, \">k\", transform=ax.get_yaxis_transform(), clip_on=False)\n",
    "ax.plot(0, 1, \"^k\", transform=ax.get_xaxis_transform(), clip_on=False)\n",
    "ax.legend(loc='upper left')\n",
    "\n",
    "print(\"A - корень\")\n",
    "print(\"M - точка минимума\")"
   ]
  },
  {
   "cell_type": "markdown",
   "metadata": {},
   "source": [
    "## Индивидуальное задание\n",
    "Исследовать функцию с помощью производной, найти необходимые пределы и решить уравнения.\n",
    "\n",
    "Построить график функции и асимптот (если есть), отметить и подписать точки экстремума и точки перегиба (если есть),\n",
    "включить функцию и асимптоты (если есть) в легенду. "
   ]
  },
  {
   "cell_type": "raw",
   "metadata": {},
   "source": [
    "Вариант 36\n",
    "f(x) = (6x + 1) * e^(3/x) + 2"
   ]
  },
  {
   "cell_type": "code",
   "execution_count": 42,
   "metadata": {},
   "outputs": [
    {
     "name": "stdout",
     "output_type": "stream",
     "text": [
      "\n",
      "--------------- БЛОК 1 - f(x) ---------------\n",
      "\n"
     ]
    },
    {
     "data": {
      "text/latex": [
       "$\\displaystyle \\left(6 x + 1\\right) e^{\\frac{3}{x}} + 2$"
      ],
      "text/plain": [
       "(6*x + 1)*exp(3/x) + 2"
      ]
     },
     "metadata": {},
     "output_type": "display_data"
    },
    {
     "data": {
      "text/latex": [
       "$\\displaystyle \\left(-\\infty, 0\\right) \\cup \\left(0, \\infty\\right)$"
      ],
      "text/plain": [
       "Union(Interval.open(-oo, 0), Interval.open(0, oo))"
      ]
     },
     "metadata": {},
     "output_type": "display_data"
    },
    {
     "name": "stdout",
     "output_type": "stream",
     "text": [
      "Функция общего вида\n"
     ]
    },
    {
     "data": {
      "text/plain": [
       "[-1.851]"
      ]
     },
     "metadata": {},
     "output_type": "display_data"
    },
    {
     "name": "stdout",
     "output_type": "stream",
     "text": [
      "\n",
      "--------------- БЛОК 2 - df(x) ---------------\n",
      "\n"
     ]
    },
    {
     "data": {
      "text/latex": [
       "$\\displaystyle \\frac{\\left(6 x^{2} - 18 x - 3\\right) e^{\\frac{3}{x}}}{x^{2}}$"
      ],
      "text/plain": [
       "(6*x**2 - 18*x - 3)*exp(3/x)/x**2"
      ]
     },
     "metadata": {},
     "output_type": "display_data"
    },
    {
     "data": {
      "text/latex": [
       "$\\displaystyle \\left(-\\infty, 0\\right) \\cup \\left(0, \\infty\\right)$"
      ],
      "text/plain": [
       "Union(Interval.open(-oo, 0), Interval.open(0, oo))"
      ]
     },
     "metadata": {},
     "output_type": "display_data"
    },
    {
     "data": {
      "text/plain": [
       "[-0.158, 3.158]"
      ]
     },
     "metadata": {},
     "output_type": "display_data"
    },
    {
     "name": "stdout",
     "output_type": "stream",
     "text": [
      "\n",
      "6.42394873053834e-6 -1.06676901844778e-11\n",
      "Производная меняет знак с + на -, значит x = 0.158 - точка максимума.\n",
      "\n",
      "-0.312224117072990 0.209474135231727\n",
      "Производная меняет знак с - на +, значит x = 3.158 - точка минимуму.\n",
      "\n",
      "--------------- БЛОК 3 - df2(x) ---------------\n",
      "\n"
     ]
    },
    {
     "data": {
      "text/latex": [
       "$\\displaystyle \\frac{\\left(60 x + 9\\right) e^{\\frac{3}{x}}}{x^{4}}$"
      ],
      "text/plain": [
       "(60*x + 9)*exp(3/x)/x**4"
      ]
     },
     "metadata": {},
     "output_type": "display_data"
    },
    {
     "data": {
      "text/latex": [
       "$\\displaystyle \\left(-\\infty, 0\\right) \\cup \\left(0, \\infty\\right)$"
      ],
      "text/plain": [
       "Union(Interval.open(-oo, 0), Interval.open(0, oo))"
      ]
     },
     "metadata": {},
     "output_type": "display_data"
    },
    {
     "data": {
      "text/plain": [
       "[-0.15]"
      ]
     },
     "metadata": {},
     "output_type": "display_data"
    },
    {
     "name": "stdout",
     "output_type": "stream",
     "text": [
      "\n",
      "--------------- БЛОК 4 - Ассимптоты ---------------\n",
      "\n",
      "2 oo\n",
      "Вертикальная ассимптота y = 0\n",
      "\n",
      "Горизонтальная ассимптота, y = 6 * x + 21\n",
      "lim(f(x)/x)   , x->∞ = 6\n",
      "lim(f(x) - 6x), x->∞ = 21\n",
      "\n",
      "--------------- БЛОК 5 - График ---------------\n",
      "\n",
      "A   - корень\n",
      "M_1 - точка максимума\n",
      "M_2 - точка минимума\n",
      "P   - точка перегиба\n"
     ]
    },
    {
     "data": {
      "image/png": "[encoded data removed]",
      "text/plain": [
       "<Figure size 432x288 with 1 Axes>"
      ]
     },
     "metadata": {
      "needs_background": "light"
     },
     "output_type": "display_data"
    }
   ],
   "source": [
    "from sympy.abc import x\n",
    "\n",
    "def f(x):\n",
    "     return (6*x + 1) * sympy.exp(3/x) + 2\n",
    "\n",
    "def df(x):\n",
    "    return simplify(f(x).diff(x, 1))\n",
    "\n",
    "def df2(x):\n",
    "    return simplify(f(x).diff(x, 2))\n",
    "\n",
    "print()\n",
    "print(\"-\" * 15 + \" БЛОК 1 - f(x) \" + \"-\" * 15)\n",
    "print()\n",
    "\n",
    "# Область определения\n",
    "display(f(x))\n",
    "D = continuous_domain(f(x), x, S.Reals)\n",
    "display(D)\n",
    "\n",
    "# Чётность\n",
    "if f(-x) == f(x):\n",
    "    print('Четная функция')\n",
    "elif f(-x) == -f(x):\n",
    "    print('Нечетная функция')\n",
    "else:\n",
    "    print('Функция общего вида')\n",
    "\n",
    "# Точки пересечения с осями координат\n",
    "roots = solveset(f(x), domain=S.Reals)\n",
    "roots = [-1.851] # wolfram alpha\n",
    "display(roots)\n",
    "\n",
    "\n",
    "print()\n",
    "print(\"-\" * 15 + \" БЛОК 2 - df(x) \" + \"-\" * 15)\n",
    "print()\n",
    "\n",
    "# Точки экстремума <=> df(x) = 0\n",
    "df_D = continuous_domain(df(x), x, S.Reals) # Это область определения производной.\n",
    "df_root = solveset(df(x), domain=S.Reals)\n",
    "df_root = [-0.158, 3.158]\n",
    "\n",
    "display(df(x))\n",
    "display(df_D)\n",
    "display(df_root)\n",
    "print()\n",
    "print(df(x).subs(x, -0.2), df(x).subs(x, -0.1))\n",
    "print(\"Производная меняет знак с + на -, значит x = 0.158 - точка максимума.\")\n",
    "print()\n",
    "print(df(x).subs(x, 3.1), df(x).subs(x, 3.2))\n",
    "print(\"Производная меняет знак с - на +, значит x = 3.158 - точка минимуму.\")\n",
    "\n",
    "\n",
    "print()\n",
    "print(\"-\" * 15 + \" БЛОК 3 - df2(x) \" + \"-\" * 15)\n",
    "print()\n",
    "\n",
    "# Точки перегиба <=> df2(x) = 0\n",
    "df2_D = continuous_domain(df2(x), x, S.Reals) # Это область определения производной.\n",
    "df2_root = solveset(df2(x), domain=S.Reals)\n",
    "df2_root = [-0.15]\n",
    "display(df2(x))\n",
    "display(df2_D)\n",
    "display(df2_root)\n",
    "\n",
    "\n",
    "print()\n",
    "print(\"-\" * 15 + \" БЛОК 4 - Ассимптоты \" + \"-\" * 15)\n",
    "print()\n",
    "\n",
    "print(f(x).limit(x, 0, dir='-'), f(x).limit(x, 0))\n",
    "print(\"Вертикальная ассимптота y = 0\")\n",
    "print()\n",
    "print(\"Горизонтальная ассимптота, y = 6 * x + 21\")\n",
    "print(\"lim(f(x)/x)   , x->∞ = 6\")\n",
    "print(\"lim(f(x) - 6x), x->∞ = 21\")\n",
    "\n",
    "\n",
    "print()\n",
    "print(\"-\" * 15 + \" БЛОК 5 - График \" + \"-\" * 15)\n",
    "print()\n",
    "\n",
    "# Задание занчений полотна\n",
    "minY = -1\n",
    "maxY = 80\n",
    "ax = plt.gca()\n",
    "ax.set_ylim(minY, maxY)\n",
    "X = np.linspace(-3, 10, 100)\n",
    "\n",
    "# График горизантальной асимптоты\n",
    "X_D = [x for x in X if x in D]\n",
    "Y_D = [6*x+21 for x in X if x in D]\n",
    "ax.plot(X_D, Y_D, color='red', linestyle='--', label=r'hor. asympt. $y=6x+21$')\n",
    "\n",
    "# График вертикальной асимптоты\n",
    "ax.axvline(x=0, color='green', linestyle='--', label=r'ver. asympt. $x=0$')\n",
    "\n",
    "# Рисование графика\n",
    "X_D = [x for x in X if x in D]\n",
    "Y_D = [f(x) for x in X if x in D]\n",
    "ax.plot(X_D, Y_D, 'k-', label=r'$f(x)=' + sympy.latex(f(x)) + r'$')\n",
    "\n",
    "# Добавление точек\n",
    "roots.extend([float(df_root[0]), float(df_root[1]), float(df2_root[0])])\n",
    "points_y = [float(f(point)) for point in roots]\n",
    "annotations = [r'$A$', r'$M_1$', r'$M_2$', r'$P$']\n",
    "ax.scatter(roots, points_y, 50, color='green')\n",
    "for i, x0 in enumerate(roots):\n",
    "    ax.annotate(annotations[i], xy=(x0, points_y[i]), xycoords='data', xytext=(-5, 10), textcoords='offset points', fontsize=10)\n",
    "\n",
    "# Визуальные улучшения\n",
    "ax.spines['right'].set_color('none')\n",
    "ax.spines['top'].set_color('none')\n",
    "ax.spines['bottom'].set_position(('data', 0))\n",
    "ax.spines['left'].set_position(('data', 0))\n",
    "ax.legend(loc='lower right')\n",
    "\n",
    "print(\"A   - корень\")\n",
    "print(\"M_1 - точка максимума\")\n",
    "print(\"M_2 - точка минимума\")\n",
    "print(\"P   - точка перегиба\")"
   ]
  },
  {
   "cell_type": "code",
   "execution_count": null,
   "metadata": {},
   "outputs": [],
   "source": []
  }
 ],
 "metadata": {
  "kernelspec": {
   "display_name": "Python 3",
   "language": "python",
   "name": "python3"
  },
  "language_info": {
   "codemirror_mode": {
    "name": "ipython",
    "version": 3
   },
   "file_extension": ".py",
   "mimetype": "text/x-python",
   "name": "python",
   "nbconvert_exporter": "python",
   "pygments_lexer": "ipython3",
   "version": "3.8.1"
  }
 },
 "nbformat": 4,
 "nbformat_minor": 4
}
