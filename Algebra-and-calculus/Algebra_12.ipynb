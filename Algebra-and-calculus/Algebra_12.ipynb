{
 "cells": [
  {
   "cell_type": "code",
   "execution_count": 4,
   "metadata": {},
   "outputs": [],
   "source": [
    "import sympy\n",
    "import numpy as np\n",
    "from sympy import Expr, Eq, latex, plot_implicit, Matrix, plot, solve, linsolve, nonlinsolve, symbols\n",
    "from sympy import pi as Pi\n",
    "from sympy import cos as Cos\n",
    "from sympy import sin as Sin\n",
    "import matplotlib.pyplot as plt"
   ]
  },
  {
   "cell_type": "markdown",
   "metadata": {},
   "source": [
    "# Занятие 12\n",
    "# Алгебра\n",
    "### Задание 1.\n",
    "Написать функцию, составляющую матрицу линейного оператора поворота на alpha градусов или радиан По или Против часовой стрелки на плоскости. Параметры: обязательные - угол поворота, необязательные - тип меры угла (градусы или радианы), направление поворота (По или Против часовой стрелки). Значения по умолчанию - против часовой стрелки в радианах.\n",
    "\n",
    "Использовать полученную функцию для выведения на экран координат векторов, полученных поворотом на 10, 20, 45 градусов По или часовой стрелке и на $\\pi/3$ радиан против."
   ]
  },
  {
   "cell_type": "code",
   "execution_count": 11,
   "metadata": {},
   "outputs": [
    {
     "data": {
      "text/latex": [
       "$\\displaystyle \\left[\\begin{matrix}\\cos{\\left(\\frac{\\pi}{18} \\right)}\\\\- \\sin{\\left(\\frac{\\pi}{18} \\right)}\\end{matrix}\\right]$"
      ],
      "text/plain": [
       "Matrix([\n",
       "[ cos(pi/18)],\n",
       "[-sin(pi/18)]])"
      ]
     },
     "metadata": {},
     "output_type": "display_data"
    },
    {
     "data": {
      "text/latex": [
       "$\\displaystyle \\left[\\begin{matrix}\\sin{\\left(\\frac{\\pi}{18} \\right)}\\\\\\cos{\\left(\\frac{\\pi}{18} \\right)}\\end{matrix}\\right]$"
      ],
      "text/plain": [
       "Matrix([\n",
       "[sin(pi/18)],\n",
       "[cos(pi/18)]])"
      ]
     },
     "metadata": {},
     "output_type": "display_data"
    },
    {
     "name": "stdout",
     "output_type": "stream",
     "text": [
      "\n",
      "--------------------\n",
      "\n"
     ]
    },
    {
     "data": {
      "text/latex": [
       "$\\displaystyle \\left[\\begin{matrix}\\cos{\\left(\\frac{\\pi}{9} \\right)}\\\\- \\sin{\\left(\\frac{\\pi}{9} \\right)}\\end{matrix}\\right]$"
      ],
      "text/plain": [
       "Matrix([\n",
       "[ cos(pi/9)],\n",
       "[-sin(pi/9)]])"
      ]
     },
     "metadata": {},
     "output_type": "display_data"
    },
    {
     "data": {
      "text/latex": [
       "$\\displaystyle \\left[\\begin{matrix}\\sin{\\left(\\frac{\\pi}{9} \\right)}\\\\\\cos{\\left(\\frac{\\pi}{9} \\right)}\\end{matrix}\\right]$"
      ],
      "text/plain": [
       "Matrix([\n",
       "[sin(pi/9)],\n",
       "[cos(pi/9)]])"
      ]
     },
     "metadata": {},
     "output_type": "display_data"
    },
    {
     "name": "stdout",
     "output_type": "stream",
     "text": [
      "\n",
      "--------------------\n",
      "\n"
     ]
    },
    {
     "data": {
      "text/latex": [
       "$\\displaystyle \\left[\\begin{matrix}\\frac{\\sqrt{2}}{2}\\\\- \\frac{\\sqrt{2}}{2}\\end{matrix}\\right]$"
      ],
      "text/plain": [
       "Matrix([\n",
       "[ sqrt(2)/2],\n",
       "[-sqrt(2)/2]])"
      ]
     },
     "metadata": {},
     "output_type": "display_data"
    },
    {
     "data": {
      "text/latex": [
       "$\\displaystyle \\left[\\begin{matrix}\\frac{\\sqrt{2}}{2}\\\\\\frac{\\sqrt{2}}{2}\\end{matrix}\\right]$"
      ],
      "text/plain": [
       "Matrix([\n",
       "[sqrt(2)/2],\n",
       "[sqrt(2)/2]])"
      ]
     },
     "metadata": {},
     "output_type": "display_data"
    },
    {
     "name": "stdout",
     "output_type": "stream",
     "text": [
      "\n",
      "--------------------\n",
      "\n"
     ]
    },
    {
     "data": {
      "text/latex": [
       "$\\displaystyle \\left[\\begin{matrix}\\frac{1}{2}\\\\\\frac{\\sqrt{3}}{2}\\end{matrix}\\right]$"
      ],
      "text/plain": [
       "Matrix([\n",
       "[      1/2],\n",
       "[sqrt(3)/2]])"
      ]
     },
     "metadata": {},
     "output_type": "display_data"
    },
    {
     "data": {
      "text/latex": [
       "$\\displaystyle \\left[\\begin{matrix}- \\frac{\\sqrt{3}}{2}\\\\\\frac{1}{2}\\end{matrix}\\right]$"
      ],
      "text/plain": [
       "Matrix([\n",
       "[-sqrt(3)/2],\n",
       "[       1/2]])"
      ]
     },
     "metadata": {},
     "output_type": "display_data"
    },
    {
     "name": "stdout",
     "output_type": "stream",
     "text": [
      "\n",
      "--------------------\n",
      "\n"
     ]
    }
   ],
   "source": [
    "def rotate(alpha, radians=True, clockwise=False):\n",
    "    if not radians:\n",
    "        alpha *= Pi / 180\n",
    "    if not clockwise:\n",
    "        return Matrix([[Cos(alpha), -Sin(alpha)], [Sin(alpha), Cos(alpha)]])\n",
    "    if clockwise:\n",
    "        return Matrix([[Cos(alpha), Sin(alpha)], [-Sin(alpha), Cos(alpha)]])\n",
    "    \n",
    "\n",
    "e1 = Matrix([1, 0])\n",
    "e2 = Matrix([0, 1])\n",
    "inputs = [[10, False, True], [20, False, True], [45, False, True], [Pi/3, True, False]]\n",
    "for values in inputs:\n",
    "    A = rotate(values[0], values[1], values[2])\n",
    "    display(A*e1, A*e2)\n",
    "    print()\n",
    "    print(\"-\" * 20)\n",
    "    print()"
   ]
  },
  {
   "cell_type": "markdown",
   "metadata": {},
   "source": [
    "### Задание 2.\n",
    "Найти собственные числа и собственные векторы линейного оператора, заданного матрицей \n",
    "$$\n",
    "\\left(\\begin{matrix}\n",
    "-34&20&-5\\\\\n",
    "-40&56&-20\\\\\n",
    "20&-8&50\n",
    "\\end{matrix}\\right)\n",
    "$$\n",
    "Воспользоваться eigenvals и eigenvects, проверить выполнение равенства нулю характеристического многочлена $|A-\\lambda E|$ и условия $Ax=\\lambda x$ (ДОЛЖЕН СУЩЕСТВОВАТЬ ХОТЬ ОДИН ТАКОЙ Х).\n"
   ]
  },
  {
   "cell_type": "code",
   "execution_count": 41,
   "metadata": {},
   "outputs": [
    {
     "name": "stdout",
     "output_type": "stream",
     "text": [
      "lambda = -24 | determinant = 0\n",
      "lambda = 40 | determinant = 0\n",
      "lambda = 56 | determinant = 0\n",
      "\n",
      "lambda = -24 | {y: -2*z, x: -9*z/2}\n",
      "lambda = 40 | {y: 10*z/3, x: 5*z/6}\n",
      "lambda = 56 | {y: -2*z, x: -z/2}\n"
     ]
    }
   ],
   "source": [
    "x, y, z = symbols(\"x y z\")\n",
    "A = Matrix([[-34,20,-5],[-40,56,-20],[20,-8,50]])\n",
    "E = Matrix([[1,0,0],[0,1,0],[0,0,1]])\n",
    "X = Matrix([[x], [y], [z]])\n",
    "values = A.eigenvects()\n",
    "vectors = A.eigenvects()\n",
    "\n",
    "for value in values:\n",
    "    print(f\"lambda = {value[0]} | determinant = {(A - value[0]*E).det()}\")\n",
    "print()\n",
    "for value in values:\n",
    "    print(f\"lambda = {value[0]} | {solve(A*X - value[0]*X)}\")"
   ]
  },
  {
   "cell_type": "markdown",
   "metadata": {},
   "source": [
    "### Задание 3.\n",
    "Построить матрицу оператора из задания 2 в базисе из векторов $(1,1,1)$, $(0,5,3)$ и $(1,6,0)$.\n"
   ]
  },
  {
   "cell_type": "code",
   "execution_count": 43,
   "metadata": {},
   "outputs": [
    {
     "data": {
      "text/latex": [
       "$\\displaystyle \\left[\\begin{matrix}-34 & 20 & -5\\\\-40 & 56 & -20\\\\20 & -8 & 50\\end{matrix}\\right]$"
      ],
      "text/plain": [
       "Matrix([\n",
       "[-34, 20,  -5],\n",
       "[-40, 56, -20],\n",
       "[ 20, -8,  50]])"
      ]
     },
     "metadata": {},
     "output_type": "display_data"
    },
    {
     "data": {
      "text/latex": [
       "$\\displaystyle \\left[\\begin{matrix}1 & 1 & 1\\\\0 & 5 & 3\\\\1 & 6 & 0\\end{matrix}\\right]$"
      ],
      "text/plain": [
       "Matrix([\n",
       "[1, 1, 1],\n",
       "[0, 5, 3],\n",
       "[1, 6, 0]])"
      ]
     },
     "metadata": {},
     "output_type": "display_data"
    },
    {
     "data": {
      "text/latex": [
       "$\\displaystyle \\left[\\begin{matrix}- \\frac{101}{10} & \\frac{122}{5} & - \\frac{77}{5}\\\\\\frac{267}{20} & \\frac{213}{5} & \\frac{19}{10}\\\\- \\frac{169}{4} & -31 & \\frac{79}{2}\\end{matrix}\\right]$"
      ],
      "text/plain": [
       "Matrix([\n",
       "[-101/10, 122/5, -77/5],\n",
       "[ 267/20, 213/5, 19/10],\n",
       "[ -169/4,   -31,  79/2]])"
      ]
     },
     "metadata": {},
     "output_type": "display_data"
    }
   ],
   "source": [
    "A = Matrix([[-34,20,-5],[-40,56,-20],[20,-8,50]])\n",
    "P = Matrix([[1,1,1],[0,5,3],[1,6,0]])\n",
    "A_new = P**(-1)*A*P\n",
    "display(A, P, A_new)"
   ]
  },
  {
   "cell_type": "markdown",
   "metadata": {},
   "source": [
    "### Задание 4.\n",
    "Построить матрицу оператора из задания 2 в базисе из собственных векторов с помощью eigenvects и матрицы перехода. Сравнить диагональные элементы с собственными числами."
   ]
  },
  {
   "cell_type": "code",
   "execution_count": 65,
   "metadata": {},
   "outputs": [
    {
     "name": "stdout",
     "output_type": "stream",
     "text": [
      "lambdas = (-24, 40, 56)\n"
     ]
    },
    {
     "data": {
      "text/latex": [
       "$\\displaystyle \\left[\\begin{matrix}-24 & 0 & 0\\\\0 & 40 & 0\\\\0 & 0 & 56\\end{matrix}\\right]$"
      ],
      "text/plain": [
       "Matrix([\n",
       "[-24,  0,  0],\n",
       "[  0, 40,  0],\n",
       "[  0,  0, 56]])"
      ]
     },
     "metadata": {},
     "output_type": "display_data"
    }
   ],
   "source": [
    "A = Matrix([[-34,20,-5],[-40,56,-20],[20,-8,50]])\n",
    "values = A.eigenvects()\n",
    "vectors = A.eigenvects()\n",
    "\n",
    "P = Matrix([vector[2][0].transpose() for vector in vectors]).transpose()\n",
    "A_new = P**(-1)*A*P\n",
    "\n",
    "print(f\"lambdas = {values[0][0], values[1][0], values[2][0]}\")\n",
    "display(A_new)"
   ]
  },
  {
   "cell_type": "markdown",
   "metadata": {},
   "source": [
    "###  Индивидуальное задание\n",
    "Найти собственные числа и собственные векторы линейного оператора. Построить матрицу оператора в заданном базисе. Построить матрицу оператора в базисе из собственных векторов.\n",
    "\n",
    "Вывести на экран матрицу оператора А, матрицу перехода к базису ($e_1$, $e_2$, $e_3$), матрицу оператора в базисе ($e_1$, $e_2$, $e_3$), матрицу перехода к базису из собственных векторов, матрицу оператора в базисе из собственных векторов."
   ]
  },
  {
   "cell_type": "markdown",
   "metadata": {},
   "source": [
    "Вариант N 36\n",
    "\n",
    "$$A = \\left[\\begin{matrix}158 & -8 & 28\\\\-102 & 252 & 268\\\\90 & -90 & -160\\end{matrix}\\right],\\quad e_1 = \\left[\\begin{matrix}1\\\\3\\\\-3\\end{matrix}\\right],\\quad e_2 = \\left[\\begin{matrix}-1\\\\2\\\\3\\end{matrix}\\right],\\quad e_3 = \\left[\\begin{matrix}-4\\\\2\\\\2\\end{matrix}\\right]$$"
   ]
  },
  {
   "cell_type": "code",
   "execution_count": 82,
   "metadata": {},
   "outputs": [
    {
     "data": {
      "text/plain": [
       "'Cобственные числа.'"
      ]
     },
     "metadata": {},
     "output_type": "display_data"
    },
    {
     "data": {
      "text/plain": [
       "[-100, 150, 200]"
      ]
     },
     "metadata": {},
     "output_type": "display_data"
    },
    {
     "data": {
      "text/plain": [
       "'Cобственные векторы.'"
      ]
     },
     "metadata": {},
     "output_type": "display_data"
    },
    {
     "data": {
      "text/plain": [
       "[Matrix([[-2/15, -4/5, 1]]), Matrix([[1, 1, 0]]), Matrix([[6/5, -14/5, 1]])]"
      ]
     },
     "metadata": {},
     "output_type": "display_data"
    },
    {
     "name": "stdout",
     "output_type": "stream",
     "text": [
      "\n"
     ]
    },
    {
     "data": {
      "text/plain": [
       "'Матрица оператора А'"
      ]
     },
     "metadata": {},
     "output_type": "display_data"
    },
    {
     "data": {
      "text/latex": [
       "$\\displaystyle \\left[\\begin{matrix}158 & -8 & 28\\\\-102 & 252 & 268\\\\90 & -90 & -160\\end{matrix}\\right]$"
      ],
      "text/plain": [
       "Matrix([\n",
       "[ 158,  -8,   28],\n",
       "[-102, 252,  268],\n",
       "[  90, -90, -160]])"
      ]
     },
     "metadata": {},
     "output_type": "display_data"
    },
    {
     "name": "stdout",
     "output_type": "stream",
     "text": [
      "\n"
     ]
    },
    {
     "data": {
      "text/plain": [
       "'Матрица перехода к базису ($e_1$, $e_2$, $e_3$).'"
      ]
     },
     "metadata": {},
     "output_type": "display_data"
    },
    {
     "data": {
      "text/latex": [
       "$\\displaystyle \\left[\\begin{matrix}1 & 3 & -3\\\\-1 & 2 & 3\\\\-4 & 2 & 2\\end{matrix}\\right]$"
      ],
      "text/plain": [
       "Matrix([\n",
       "[ 1, 3, -3],\n",
       "[-1, 2,  3],\n",
       "[-4, 2,  2]])"
      ]
     },
     "metadata": {},
     "output_type": "display_data"
    },
    {
     "data": {
      "text/plain": [
       "'Матрица оператора в заданном базисе.'"
      ]
     },
     "metadata": {},
     "output_type": "display_data"
    },
    {
     "data": {
      "text/latex": [
       "$\\displaystyle \\left[\\begin{matrix}- \\frac{14652}{25} & \\frac{6643}{25} & \\frac{15596}{25}\\\\- \\frac{1372}{5} & \\frac{1248}{5} & \\frac{1156}{5}\\\\- \\frac{12194}{25} & \\frac{4171}{25} & \\frac{14662}{25}\\end{matrix}\\right]$"
      ],
      "text/plain": [
       "Matrix([\n",
       "[-14652/25, 6643/25, 15596/25],\n",
       "[  -1372/5,  1248/5,   1156/5],\n",
       "[-12194/25, 4171/25, 14662/25]])"
      ]
     },
     "metadata": {},
     "output_type": "display_data"
    },
    {
     "name": "stdout",
     "output_type": "stream",
     "text": [
      "\n"
     ]
    },
    {
     "data": {
      "text/plain": [
       "'Матрица перехода к базису из собственных векторов.'"
      ]
     },
     "metadata": {},
     "output_type": "display_data"
    },
    {
     "data": {
      "text/latex": [
       "$\\displaystyle \\left[\\begin{matrix}- \\frac{2}{15} & 1 & \\frac{6}{5}\\\\- \\frac{4}{5} & 1 & - \\frac{14}{5}\\\\1 & 0 & 1\\end{matrix}\\right]$"
      ],
      "text/plain": [
       "Matrix([\n",
       "[-2/15, 1,   6/5],\n",
       "[ -4/5, 1, -14/5],\n",
       "[    1, 0,     1]])"
      ]
     },
     "metadata": {},
     "output_type": "display_data"
    },
    {
     "data": {
      "text/plain": [
       "'Матрица оператора в базисе из собственных векторов.'"
      ]
     },
     "metadata": {},
     "output_type": "display_data"
    },
    {
     "data": {
      "text/latex": [
       "$\\displaystyle \\left[\\begin{matrix}-100 & 0 & 0\\\\0 & 150 & 0\\\\0 & 0 & 200\\end{matrix}\\right]$"
      ],
      "text/plain": [
       "Matrix([\n",
       "[-100,   0,   0],\n",
       "[   0, 150,   0],\n",
       "[   0,   0, 200]])"
      ]
     },
     "metadata": {},
     "output_type": "display_data"
    },
    {
     "name": "stdout",
     "output_type": "stream",
     "text": [
      "\n"
     ]
    }
   ],
   "source": [
    "A = Matrix([[158, -8, 28],[-102, 252, 268],[90, -90, -160]])\n",
    "\n",
    "# Найти собственные числа и собственные векторы линейного оператора. \n",
    "values = A.eigenvects()\n",
    "vectors = A.eigenvects()\n",
    "display(\"Cобственные числа.\", [values[0][0], values[1][0], values[2][0]])\n",
    "display(\"Cобственные векторы.\", [vector[2][0].transpose() for vector in vectors])\n",
    "print()\n",
    "\n",
    "# Вывести на экран матрицу оператора А\n",
    "display(\"Матрица оператора А\", A)\n",
    "print()\n",
    "\n",
    "# Матрицу перехода к базису ($e_1$, $e_2$, $e_3$) и Матрицу оператора в базисе ($e_1$, $e_2$, $e_3$)\n",
    "P = Matrix([[1,3,-3],[-1, 2, 3],[-4, 2, 2]])\n",
    "A_new = P**(-1)*A*P\n",
    "display(\"Матрица перехода к базису ($e_1$, $e_2$, $e_3$).\", P)\n",
    "display(\"Матрица оператора в заданном базисе.\", A_new)\n",
    "print()\n",
    "\n",
    "\n",
    "# Матрицу перехода к базису из собственных векторов и Матрицу оператора в базисе из собственных векторов\n",
    "P = Matrix([vector[2][0].transpose() for vector in vectors]).transpose()\n",
    "A_new = P**(-1)*A*P\n",
    "display(\"Матрица перехода к базису из собственных векторов.\", P)\n",
    "display(\"Матрица оператора в базисе из собственных векторов.\", A_new)\n",
    "print()"
   ]
  },
  {
   "cell_type": "code",
   "execution_count": null,
   "metadata": {},
   "outputs": [],
   "source": []
  }
 ],
 "metadata": {
  "kernelspec": {
   "display_name": "Python 3",
   "language": "python",
   "name": "python3"
  },
  "language_info": {
   "codemirror_mode": {
    "name": "ipython",
    "version": 3
   },
   "file_extension": ".py",
   "mimetype": "text/x-python",
   "name": "python",
   "nbconvert_exporter": "python",
   "pygments_lexer": "ipython3",
   "version": "3.8.1"
  }
 },
 "nbformat": 4,
 "nbformat_minor": 4
}
