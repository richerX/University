{
  "cells": [
    {
      "cell_type": "markdown",
      "metadata": {
        "id": "G4oubZ0DogeY"
      },
      "source": [
        "# HSE 2022: Mathematical Methods for Data Analysis\n",
        "\n",
        "## Homework 1"
      ]
    },
    {
      "cell_type": "markdown",
      "metadata": {
        "id": "2r1OchQjogec"
      },
      "source": [
        "### Attention!\n",
        "* For tasks where <ins>text answer</ins> is required **Russian language** is **allowed**.\n",
        "* If a task asks you to describe something (make coclusions) then **text answer** is **mandatory** and **is** part of the task\n",
        "* **Do not** upload the dataset (titanic.csv) to the grading system (we already have it)\n",
        "* We **only** accept **ipynb** notebooks. If you use Google Colab then you'll have to download the notebook before passing the homework\n",
        "* **Do not** use python loops instead of NumPy vector operations over NumPy vectors - it significantly decreases performance (see why https://blog.paperspace.com/numpy-optimization-vectorization-and-broadcasting/), will be punished with -0.25 for **every** task. \n",
        "Loops are only allowed in part 1 (Tasks 1 - 4). \n",
        "* Some tasks contain tests. They only test you solution on a simple example, thus, passing the test does **not** guarantee you the full grade for the task. "
      ]
    },
    {
      "cell_type": "code",
      "execution_count": null,
      "metadata": {
        "id": "4T7Atxcbogec"
      },
      "outputs": [],
      "source": [
        "%matplotlib inline\n",
        "import numpy as np\n",
        "import pandas as pd\n",
        "import matplotlib.pyplot as plt\n",
        "import seaborn as sns"
      ]
    },
    {
      "cell_type": "markdown",
      "metadata": {
        "id": "EQ16X5r_oged"
      },
      "source": [
        "# 1. Python (2 points) "
      ]
    },
    {
      "cell_type": "markdown",
      "metadata": {
        "id": "Mq9xJqGHogee"
      },
      "source": [
        "**Task 1** (0.5 points)<br/> \n",
        "Enter nonzero numbers `a`,  `r` and `N`. Find the first `N` members of geometric progression with the first member `a` and factor `r`, without using formula for the product."
      ]
    },
    {
      "cell_type": "code",
      "execution_count": null,
      "metadata": {
        "id": "uXeRu2o4ogee",
        "colab": {
          "base_uri": "https://localhost:8080/"
        },
        "outputId": "690828ff-08e8-4bb4-99c6-4b8d112ffb80"
      },
      "outputs": [
        {
          "output_type": "stream",
          "name": "stdout",
          "text": [
            "[2, 6, 18]\n"
          ]
        }
      ],
      "source": [
        "def find_product(a,r,N):\n",
        "    arr_product = []\n",
        "    for _ in range(N):\n",
        "        arr_product.append(a)\n",
        "        new = 0\n",
        "        for _ in range(r):\n",
        "            new += a\n",
        "        a = new\n",
        "    return arr_product\n",
        "\n",
        "a = 2\n",
        "r = 3\n",
        "N = 3\n",
        "print(find_product(a,r,N))"
      ]
    },
    {
      "cell_type": "markdown",
      "metadata": {
        "id": "arTNPGCZogee"
      },
      "source": [
        "**Task 2** (0.5 points) <br/> \n",
        "Enter an integer number `N`. Check if it is a palindrome number. It means that it can be read equally from left to right and from right to back. "
      ]
    },
    {
      "cell_type": "code",
      "execution_count": null,
      "metadata": {
        "id": "_8tysZLIogef",
        "colab": {
          "base_uri": "https://localhost:8080/"
        },
        "outputId": "86082862-5a94-417b-8f92-80feb4d12022"
      },
      "outputs": [
        {
          "output_type": "stream",
          "name": "stdout",
          "text": [
            "3 True\n",
            "81 False\n",
            "111 True\n",
            "113 False\n",
            "810 False\n",
            "2022 False\n",
            "4774 True\n",
            "51315 True\n",
            "611816 False\n"
          ]
        }
      ],
      "source": [
        "def check_palindrome(N):\n",
        "    return str(N) == str(N)[::-1]\n",
        "\n",
        "for N in [3, 81, 111, 113, 810, 2022, 4774, 51315, 611816]:\n",
        "    print(N, check_palindrome(N))"
      ]
    },
    {
      "cell_type": "markdown",
      "metadata": {
        "id": "9QidXupVogef"
      },
      "source": [
        "**Task 3** (0.5 points) <br/> \n",
        "Find the first `N` palindrome numbers starting from 1000 (you may use the function from the precious task)."
      ]
    },
    {
      "cell_type": "code",
      "execution_count": null,
      "metadata": {
        "id": "pcOqfilgogeg",
        "colab": {
          "base_uri": "https://localhost:8080/"
        },
        "outputId": "865ac831-0bd4-4f58-e56a-f49575786297"
      },
      "outputs": [
        {
          "output_type": "stream",
          "name": "stdout",
          "text": [
            "[1001, 1111, 1221, 1331, 1441]\n",
            "[1001, 1111, 1221, 1331, 1441, 1551, 1661, 1771, 1881, 1991]\n",
            "[1001, 1111, 1221, 1331, 1441, 1551, 1661, 1771, 1881, 1991, 2002, 2112, 2222, 2332, 2442, 2552, 2662, 2772, 2882, 2992]\n"
          ]
        }
      ],
      "source": [
        "def find_palindromes(N):\n",
        "    palindromes = []\n",
        "    number = 1000\n",
        "    while len(palindromes) < N:\n",
        "        if check_palindrome(number):\n",
        "            palindromes.append(number)\n",
        "        number += 1\n",
        "    return palindromes\n",
        "\n",
        "print(find_palindromes(5))\n",
        "print(find_palindromes(10))\n",
        "print(find_palindromes(20))"
      ]
    },
    {
      "cell_type": "markdown",
      "metadata": {
        "id": "0-C9T_8Hogeg"
      },
      "source": [
        "**Task 4** (0.5 points) <br/> \n",
        "There are numbers: `a`, `b`, `c`. Without using functions `min`, `max` and other functions, find the minimum number."
      ]
    },
    {
      "cell_type": "code",
      "execution_count": null,
      "metadata": {
        "id": "Oagzt8-eogeh",
        "colab": {
          "base_uri": "https://localhost:8080/"
        },
        "outputId": "c82b1923-76ac-4aab-d1dd-5a09c799f779"
      },
      "outputs": [
        {
          "output_type": "stream",
          "name": "stdout",
          "text": [
            "-85 -19 66 \tMinimum: -85\n",
            "23 -16 -68 \tMinimum: -68\n",
            "25 61 46 \tMinimum: 25\n",
            "-4 63 -17 \tMinimum: -17\n",
            "63 39 79 \tMinimum: 39\n",
            "84 72 13 \tMinimum: 13\n",
            "-97 14 34 \tMinimum: -97\n",
            "-70 -87 66 \tMinimum: -87\n",
            "-18 -14 90 \tMinimum: -18\n",
            "42 19 -40 \tMinimum: -40\n"
          ]
        }
      ],
      "source": [
        "from random import randint\n",
        "def find_min(a, b, c):\n",
        "    if a <= b and a <= c:\n",
        "        return a\n",
        "    if b <= c:\n",
        "        return b\n",
        "    return c\n",
        "\n",
        "for i in range(10):\n",
        "    \n",
        "    a = randint(-100, 100)\n",
        "    b = randint(-100, 100)\n",
        "    c = randint(-100, 100)\n",
        "    \n",
        "    print(a, b, c, '\\tMinimum:', find_min(a, b, c))"
      ]
    },
    {
      "cell_type": "markdown",
      "metadata": {
        "id": "PPZyRCJvogeh"
      },
      "source": [
        "# 2. Numpy (4 points)"
      ]
    },
    {
      "cell_type": "markdown",
      "metadata": {
        "id": "rGeTKLywogeh"
      },
      "source": [
        "**Task 1** (0.5 points) <br/>\n",
        "Create a random array (`np.random.rand()`) with length of 17 and with sum of its elements equals to 6."
      ]
    },
    {
      "cell_type": "code",
      "execution_count": null,
      "metadata": {
        "colab": {
          "base_uri": "https://localhost:8080/"
        },
        "id": "ZlONoJQvogeh",
        "outputId": "1df23330-c9e5-468a-9992-6abd132c3a86"
      },
      "outputs": [
        {
          "output_type": "stream",
          "name": "stdout",
          "text": [
            "Length: 17\n",
            "Sum of elements: 5.999999999999997\n"
          ]
        }
      ],
      "source": [
        "my_array = np.random.rand(17)\n",
        "my_array *= 6 / np.sum(my_array)\n",
        "print(f'Length: {len(my_array)}')\n",
        "print(f'Sum of elements: {np.sum(my_array)}')"
      ]
    },
    {
      "cell_type": "markdown",
      "metadata": {
        "id": "yomhoRxzogei"
      },
      "source": [
        "**Task 2** (0.5 points) <br/>\n",
        "Create two random arrays $a$ and $b$ with the same length. \n",
        "\n",
        "Calculate the following distances between the arrays **without using special funcrion. You may only use basic numpy operations (`np.linalg.*` and other high-level ones are prohibited).**:\n",
        "\n",
        "* Manhattan Distance\n",
        "$$ d(a, b) = \\sum_i |a_i - b_i| $$\n",
        "* Euclidean Distance\n",
        "$$ d(a, b) = \\sqrt{\\sum_i (a_i - b_i)^2} $$\n",
        "* Chebyshev Distance\n",
        "$$ d(a, b) = \\underset{i}{max} |a_i - b_i| $$\n",
        "* Cosine Distance\n",
        "$$ d(a, b) = 1 - \\frac{a^\\top b}{||a||_2\\cdot||b||_2} $$\n"
      ]
    },
    {
      "cell_type": "code",
      "execution_count": null,
      "metadata": {
        "id": "bYfMtKjUogei"
      },
      "outputs": [],
      "source": [
        "def calculate_manhattan(a, b):    \n",
        "    return np.sum(np.abs(a - b))\n",
        "\n",
        "def calculate_euclidean(a, b):    \n",
        "    return np.sqrt(np.sum(np.power(a - b, 2)))\n",
        "\n",
        "def calculate_chebyshev(a, b):\n",
        "    return np.max(np.abs(a - b))\n",
        "\n",
        "def calculate_cosine(a, b):    \n",
        "    return 1 - np.dot(a, b) / (double_abs(a) * double_abs(b))\n",
        "\n",
        "def double_abs(a):\n",
        "    return np.sqrt(np.sum(np.power(a, 2)))"
      ]
    },
    {
      "cell_type": "code",
      "execution_count": null,
      "metadata": {
        "id": "m1aWkjGfogei",
        "colab": {
          "base_uri": "https://localhost:8080/"
        },
        "outputId": "a459d4d3-2201-42bd-9a30-cbadff51a714"
      },
      "outputs": [
        {
          "output_type": "stream",
          "name": "stdout",
          "text": [
            "Manhattan distance: 4.124815606464514\n",
            "Euclidean distance: 1.4794866024438351\n",
            "Chebyshev distance: 0.9055952936470761\n",
            "Cosine distance: 0.37167513572155575\n"
          ]
        }
      ],
      "source": [
        "a = np.random.rand(10)\n",
        "b = np.random.rand(10)\n",
        "print(f'Manhattan distance: {calculate_manhattan(a, b)}')\n",
        "print(f'Euclidean distance: {calculate_euclidean(a, b)}')\n",
        "print(f'Chebyshev distance: {calculate_chebyshev(a, b)}')\n",
        "print(f'Cosine distance: {calculate_cosine(a, b)}')"
      ]
    },
    {
      "cell_type": "markdown",
      "metadata": {
        "id": "gnlTb-EFogej"
      },
      "source": [
        "**Task 3** (0.5 points) <br/>\n",
        "Create a random array (`np.random.randint()`) with length of 76. Transform the array so that \n",
        "* Maximum element(s) value is -1\n",
        "* Minimum element(s) value is -4\n",
        "* Other values are in interval (-4; -1) with keeping the order"
      ]
    },
    {
      "cell_type": "code",
      "execution_count": null,
      "metadata": {
        "id": "k4qsqeDQogej"
      },
      "outputs": [],
      "source": [
        "def transform(array):\n",
        "    transformed_array = array\n",
        "    transformed_array -= np.min(array)\n",
        "    transformed_array /= np.max(array)\n",
        "    transformed_array *= 3\n",
        "    transformed_array -= 4\n",
        "    return transformed_array"
      ]
    },
    {
      "cell_type": "code",
      "execution_count": null,
      "metadata": {
        "id": "QJLu-JuUogej",
        "colab": {
          "base_uri": "https://localhost:8080/"
        },
        "outputId": "7446e930-ef7c-4c29-8e45-97bc249408cb"
      },
      "outputs": [
        {
          "output_type": "stream",
          "name": "stdout",
          "text": [
            "Min: -4.0\n",
            "Max: -1.0\n",
            "Array:\n",
            "[-2.18646721 -2.48779018 -2.25384466 -2.21290772 -3.44165685 -1.43014116\n",
            " -2.96077293 -4.         -3.97276712 -2.7606755  -2.98893385 -2.21559847\n",
            " -1.30286186 -1.05565004 -1.5884619  -3.95015616 -2.68381072 -2.85823972\n",
            " -1.74078918 -2.66199974 -2.00477448 -2.42641279 -2.15574247 -1.87296148\n",
            " -3.23835846 -3.45056248 -2.38014347 -1.93932369 -3.65167789 -2.24971755\n",
            " -1.03543313 -3.93333624 -2.6253491  -2.60546579 -3.18788198 -3.74247165\n",
            " -2.71857194 -1.71326115 -3.57557606 -2.32341127 -2.90132769 -2.87375018\n",
            " -1.30371194 -1.80670834 -1.41412341 -2.24630531 -1.94298715 -3.31064062\n",
            " -3.92002819 -1.         -3.03997939 -3.36010892 -1.65055207 -3.41854866\n",
            " -2.10672993 -3.2957267  -3.70235209 -2.52614266 -3.54830772 -2.38547207\n",
            " -2.86829185 -1.59595301 -3.44634618 -3.49488169 -3.69745414 -1.8310006\n",
            " -3.14231245 -1.34351757 -2.49051736 -3.69156079 -3.04816506 -3.32167213\n",
            " -2.56261408 -1.97801532 -2.01923459 -3.78893952]\n"
          ]
        }
      ],
      "source": [
        "my_array = np.random.rand(76)\n",
        "my_array = transform(my_array)\n",
        "print(f'Min: {np.min(my_array)}')\n",
        "print(f'Max: {np.max(my_array)}')\n",
        "print('Array:')\n",
        "print(my_array)"
      ]
    },
    {
      "cell_type": "markdown",
      "metadata": {
        "id": "wAgc4gKSogej"
      },
      "source": [
        "**Task 4** (0.5 points) <br/>\n",
        "Create an array with shape of $8 \\times 5$ with integers from [-7, 43]. Print a column that contains the maximum element of the array."
      ]
    },
    {
      "cell_type": "code",
      "execution_count": null,
      "metadata": {
        "id": "vjno6bxDogek",
        "colab": {
          "base_uri": "https://localhost:8080/"
        },
        "outputId": "ce20c4ab-8539-471a-9df0-389a82b207ec"
      },
      "outputs": [
        {
          "output_type": "stream",
          "name": "stdout",
          "text": [
            "Shape:  (8, 5)\n",
            "Array:\n",
            "[[12  3  0 -5 29]\n",
            " [19 22 24 15  8]\n",
            " [ 4  0 22 18 13]\n",
            " [28  1 36 16 11]\n",
            " [32 36 20 -3 17]\n",
            " [-6 12 -6 29  2]\n",
            " [30 30 39 29 -7]\n",
            " [39  6  0 21 12]]\n",
            "Selected column: [ 0 24 22 36 20 -6 39  0]\n"
          ]
        }
      ],
      "source": [
        "my_array = np.random.randint(-7, 44, (8, 5))\n",
        "selected_column = my_array[:, np.unravel_index(np.argmax(my_array), np.shape(my_array))[1]]\n",
        "print('Shape: ', my_array.shape)\n",
        "print('Array:')\n",
        "print(my_array)\n",
        "print(f'Selected column: {selected_column}')"
      ]
    },
    {
      "cell_type": "markdown",
      "metadata": {
        "id": "buj_3A4Togek"
      },
      "source": [
        "**Task 5** (0.5 points) <br/>\n",
        "\n",
        "Replace all missing values in the following array with median."
      ]
    },
    {
      "cell_type": "code",
      "execution_count": null,
      "metadata": {
        "id": "Zvt0OtoKogek",
        "colab": {
          "base_uri": "https://localhost:8080/"
        },
        "outputId": "1a5736bb-b6bc-4290-b160-8981e70512aa"
      },
      "outputs": [
        {
          "output_type": "stream",
          "name": "stdout",
          "text": [
            "Array:\n",
            "[0.1665686         nan 0.00429075 0.30539656 0.81266437 0.22367444\n",
            "        nan 0.71798281        nan        nan]\n"
          ]
        }
      ],
      "source": [
        "arr = np.random.rand(10)\n",
        "idx = np.random.randint(0, 10, 4)\n",
        "arr[idx] = np.nan\n",
        "\n",
        "print('Array:')\n",
        "print(arr)"
      ]
    },
    {
      "cell_type": "code",
      "execution_count": null,
      "metadata": {
        "id": "nHI9hz60ogek"
      },
      "outputs": [],
      "source": [
        "def replace_missing(arr):\n",
        "    ans = np.copy(arr)\n",
        "    median = np.median(ans[np.where(np.isnan(ans) == False)])\n",
        "    ans[np.where(np.isnan(ans) == True)] = median\n",
        "    return ans"
      ]
    },
    {
      "cell_type": "code",
      "execution_count": null,
      "metadata": {
        "id": "-Eo2MVF9ogek",
        "colab": {
          "base_uri": "https://localhost:8080/"
        },
        "outputId": "af7b287f-7167-4e2a-d997-e2e8dd46fbc2"
      },
      "outputs": [
        {
          "output_type": "stream",
          "name": "stdout",
          "text": [
            "Array with no missing values:\n",
            "[0.1665686  0.2645355  0.00429075 0.30539656 0.81266437 0.22367444\n",
            " 0.2645355  0.71798281 0.2645355  0.2645355 ]\n"
          ]
        }
      ],
      "source": [
        "arr = replace_missing(arr)\n",
        "print('Array with no missing values:')\n",
        "print(arr)"
      ]
    },
    {
      "cell_type": "markdown",
      "metadata": {
        "id": "41QJLCP6ogek"
      },
      "source": [
        "**Task 6** (0.5 points) <br/>\n",
        "Create a function which takes an image ```X``` (3D array of the shape (n, m, 3)) as an input and returns the mean for all 3 channels (a vector of shape 3)."
      ]
    },
    {
      "cell_type": "code",
      "execution_count": null,
      "metadata": {
        "id": "MrIsbXYUogel"
      },
      "outputs": [],
      "source": [
        "def mean_channel(X):\n",
        "    return np.array([np.mean(X[:,:,0]), np.mean(X[:,:,1]), np.mean(X[:,:,2])])"
      ]
    },
    {
      "cell_type": "code",
      "execution_count": null,
      "metadata": {
        "id": "rbLzRRNmogel",
        "colab": {
          "base_uri": "https://localhost:8080/"
        },
        "outputId": "5b64cfa2-8061-4dea-9a2c-23ceff519459"
      },
      "outputs": [
        {
          "output_type": "stream",
          "name": "stdout",
          "text": [
            "Vector of means: [-2.18535469 -2.37070938 -1.48741419]\n"
          ]
        }
      ],
      "source": [
        "n = 19\n",
        "m = 23\n",
        "X = np.random.randint(-11, 8, size=(n, m, 3))\n",
        "print(f'Vector of means: {mean_channel(X)}')"
      ]
    },
    {
      "cell_type": "markdown",
      "metadata": {
        "id": "2QBP8uuIogel"
      },
      "source": [
        "### **Task 7** (1 points) <br/>\n",
        "Create a function which takes a 3D matrix ```X``` as an input and returns all its unique vertical (first axis) layers.\n",
        "\n",
        "Sample input:\n",
        "\n",
        "     ([[[1, 2, 3],\n",
        "        [1, 2, 3],\n",
        "        [1, 2, 3]],\n",
        "\n",
        "       [[4, 5, 6],\n",
        "        [4, 5, 7]\n",
        "        [4, 5, 6]],\n",
        "\n",
        "       [[7, 8, 9],\n",
        "        [7, 8, 9]\n",
        "        [7, 8, 9]]])\n",
        "        \n",
        "Sample output:\n",
        "\n",
        "     ([[[1, 2, 3],\n",
        "        [1, 2, 3]],\n",
        "\n",
        "       [[4, 5, 6],\n",
        "        [4, 5, 7]],\n",
        "\n",
        "       [[7, 8, 9],\n",
        "        [7, 8, 9]]])"
      ]
    },
    {
      "cell_type": "code",
      "execution_count": null,
      "metadata": {
        "id": "CdiC0tCeogel"
      },
      "outputs": [],
      "source": [
        "def get_unique_columns(X):\n",
        "    return np.unique(X, axis = 1)"
      ]
    },
    {
      "cell_type": "code",
      "execution_count": null,
      "metadata": {
        "id": "5Z6me5rrogel",
        "colab": {
          "base_uri": "https://localhost:8080/"
        },
        "outputId": "88bf6cdb-5619-455b-f0f2-225bd47be5a3"
      },
      "outputs": [
        {
          "output_type": "stream",
          "name": "stdout",
          "text": [
            "Matrix:\n",
            "[[[5 4 5]\n",
            "  [5 4 5]\n",
            "  [5 5 4]]\n",
            "\n",
            " [[5 4 4]\n",
            "  [5 4 5]\n",
            "  [5 4 5]]\n",
            "\n",
            " [[5 5 5]\n",
            "  [5 5 5]\n",
            "  [5 4 5]]\n",
            "\n",
            " [[5 4 4]\n",
            "  [5 5 4]\n",
            "  [4 5 5]]\n",
            "\n",
            " [[5 5 5]\n",
            "  [4 4 5]\n",
            "  [5 4 5]]\n",
            "\n",
            " [[4 4 4]\n",
            "  [4 5 4]\n",
            "  [5 4 5]]\n",
            "\n",
            " [[5 5 4]\n",
            "  [4 5 4]\n",
            "  [5 4 5]]\n",
            "\n",
            " [[4 4 5]\n",
            "  [4 5 5]\n",
            "  [4 4 5]]\n",
            "\n",
            " [[5 4 5]\n",
            "  [5 4 4]\n",
            "  [5 4 5]]\n",
            "\n",
            " [[5 5 4]\n",
            "  [4 4 4]\n",
            "  [5 4 5]]\n",
            "\n",
            " [[4 4 4]\n",
            "  [5 5 4]\n",
            "  [5 5 5]]\n",
            "\n",
            " [[5 5 4]\n",
            "  [4 4 4]\n",
            "  [4 4 4]]\n",
            "\n",
            " [[4 4 5]\n",
            "  [4 4 4]\n",
            "  [4 5 5]]\n",
            "\n",
            " [[5 4 5]\n",
            "  [4 4 5]\n",
            "  [4 4 5]]\n",
            "\n",
            " [[4 4 4]\n",
            "  [5 5 5]\n",
            "  [5 5 5]]\n",
            "\n",
            " [[5 4 4]\n",
            "  [4 4 4]\n",
            "  [4 4 4]]\n",
            "\n",
            " [[4 5 5]\n",
            "  [5 5 5]\n",
            "  [4 5 5]]\n",
            "\n",
            " [[4 4 5]\n",
            "  [4 5 4]\n",
            "  [4 4 4]]\n",
            "\n",
            " [[4 4 4]\n",
            "  [4 5 5]\n",
            "  [5 4 4]]]\n",
            "Unique columns:\n"
          ]
        },
        {
          "output_type": "execute_result",
          "data": {
            "text/plain": [
              "array([[[5, 4, 5],\n",
              "        [5, 4, 5],\n",
              "        [5, 5, 4]],\n",
              "\n",
              "       [[5, 4, 4],\n",
              "        [5, 4, 5],\n",
              "        [5, 4, 5]],\n",
              "\n",
              "       [[5, 5, 5],\n",
              "        [5, 5, 5],\n",
              "        [5, 4, 5]],\n",
              "\n",
              "       [[5, 4, 4],\n",
              "        [5, 5, 4],\n",
              "        [4, 5, 5]],\n",
              "\n",
              "       [[5, 5, 5],\n",
              "        [4, 4, 5],\n",
              "        [5, 4, 5]],\n",
              "\n",
              "       [[4, 4, 4],\n",
              "        [4, 5, 4],\n",
              "        [5, 4, 5]],\n",
              "\n",
              "       [[5, 5, 4],\n",
              "        [4, 5, 4],\n",
              "        [5, 4, 5]],\n",
              "\n",
              "       [[4, 4, 5],\n",
              "        [4, 5, 5],\n",
              "        [4, 4, 5]],\n",
              "\n",
              "       [[5, 4, 5],\n",
              "        [5, 4, 4],\n",
              "        [5, 4, 5]],\n",
              "\n",
              "       [[5, 5, 4],\n",
              "        [4, 4, 4],\n",
              "        [5, 4, 5]],\n",
              "\n",
              "       [[4, 4, 4],\n",
              "        [5, 5, 4],\n",
              "        [5, 5, 5]],\n",
              "\n",
              "       [[5, 5, 4],\n",
              "        [4, 4, 4],\n",
              "        [4, 4, 4]],\n",
              "\n",
              "       [[4, 4, 5],\n",
              "        [4, 4, 4],\n",
              "        [4, 5, 5]],\n",
              "\n",
              "       [[5, 4, 5],\n",
              "        [4, 4, 5],\n",
              "        [4, 4, 5]],\n",
              "\n",
              "       [[4, 4, 4],\n",
              "        [5, 5, 5],\n",
              "        [5, 5, 5]],\n",
              "\n",
              "       [[5, 4, 4],\n",
              "        [4, 4, 4],\n",
              "        [4, 4, 4]],\n",
              "\n",
              "       [[4, 5, 5],\n",
              "        [5, 5, 5],\n",
              "        [4, 5, 5]],\n",
              "\n",
              "       [[4, 4, 5],\n",
              "        [4, 5, 4],\n",
              "        [4, 4, 4]],\n",
              "\n",
              "       [[4, 4, 4],\n",
              "        [4, 5, 5],\n",
              "        [5, 4, 4]]])"
            ]
          },
          "metadata": {},
          "execution_count": 160
        }
      ],
      "source": [
        "X =  np.random.randint(4, 6, size=(n, 3, 3))\n",
        "print('Matrix:')\n",
        "print(X)\n",
        "print('Unique columns:')\n",
        "get_unique_columns(X)"
      ]
    },
    {
      "cell_type": "markdown",
      "metadata": {
        "id": "Ds--L1gYogel"
      },
      "source": [
        "# 3. Pandas & Visualization (4 points)\n"
      ]
    },
    {
      "cell_type": "markdown",
      "metadata": {
        "id": "4vgdhI0Eogel"
      },
      "source": [
        "You are going to work with *Titanic* dataset which contains information about passengers of Titanic:\n",
        "- **Survived** - 1 - survived, 0 - died (0); **Target variable**\n",
        "- **pclass** - passengers's class;\n",
        "- **sex** - passengers's sex\n",
        "- **Age** - passengers's age in years\n",
        "- **sibsp**    - is the passenger someones siblings   \n",
        "- **parch**    - is the passenger someones child or parent\n",
        "- **ticket** - ticket number    \n",
        "- **fare** - ticket price    \n",
        "- **cabin** - cabin number\n",
        "- **embarked** - port of Embarkation; C = Cherbourg, Q = Queenstown, S = Southampton\n",
        "\n",
        "**Note** for all visualizations use matplotlib or seaborn but NOT plotly! Plotly's graphics sometimes vanish after saving. In this case the task wont't be graded.\n",
        "\n",
        "**Note** support all your answers with necessary code, computations, vizualization, and explanation. Answers without code and explanation won't be graded.\n",
        "\n",
        "**Task 0** (0 points) \\\n",
        "Load the dataset and print first 5 rows"
      ]
    },
    {
      "cell_type": "code",
      "execution_count": null,
      "metadata": {
        "id": "pUSurDD3ogem",
        "colab": {
          "base_uri": "https://localhost:8080/",
          "height": 237
        },
        "outputId": "b56b9d98-d3cd-4021-8aa9-ee1b41bc8c2a"
      },
      "outputs": [
        {
          "output_type": "execute_result",
          "data": {
            "text/plain": [
              "             Survived  Pclass  \\\n",
              "PassengerId                     \n",
              "1                   0       3   \n",
              "2                   1       1   \n",
              "3                   1       3   \n",
              "4                   1       1   \n",
              "5                   0       3   \n",
              "\n",
              "                                                          Name     Sex   Age  \\\n",
              "PassengerId                                                                    \n",
              "1                                      Braund, Mr. Owen Harris    male  22.0   \n",
              "2            Cumings, Mrs. John Bradley (Florence Briggs Th...  female  38.0   \n",
              "3                                       Heikkinen, Miss. Laina  female  26.0   \n",
              "4                 Futrelle, Mrs. Jacques Heath (Lily May Peel)  female  35.0   \n",
              "5                                     Allen, Mr. William Henry    male  35.0   \n",
              "\n",
              "             SibSp  Parch            Ticket     Fare Cabin Embarked  \n",
              "PassengerId                                                          \n",
              "1                1      0         A/5 21171   7.2500   NaN        S  \n",
              "2                1      0          PC 17599  71.2833   C85        C  \n",
              "3                0      0  STON/O2. 3101282   7.9250   NaN        S  \n",
              "4                1      0            113803  53.1000  C123        S  \n",
              "5                0      0            373450   8.0500   NaN        S  "
            ],
            "text/html": [
              "\n",
              "  <div id=\"df-b354b830-458b-4951-818f-d589622703da\">\n",
              "    <div class=\"colab-df-container\">\n",
              "      <div>\n",
              "<style scoped>\n",
              "    .dataframe tbody tr th:only-of-type {\n",
              "        vertical-align: middle;\n",
              "    }\n",
              "\n",
              "    .dataframe tbody tr th {\n",
              "        vertical-align: top;\n",
              "    }\n",
              "\n",
              "    .dataframe thead th {\n",
              "        text-align: right;\n",
              "    }\n",
              "</style>\n",
              "<table border=\"1\" class=\"dataframe\">\n",
              "  <thead>\n",
              "    <tr style=\"text-align: right;\">\n",
              "      <th></th>\n",
              "      <th>Survived</th>\n",
              "      <th>Pclass</th>\n",
              "      <th>Name</th>\n",
              "      <th>Sex</th>\n",
              "      <th>Age</th>\n",
              "      <th>SibSp</th>\n",
              "      <th>Parch</th>\n",
              "      <th>Ticket</th>\n",
              "      <th>Fare</th>\n",
              "      <th>Cabin</th>\n",
              "      <th>Embarked</th>\n",
              "    </tr>\n",
              "    <tr>\n",
              "      <th>PassengerId</th>\n",
              "      <th></th>\n",
              "      <th></th>\n",
              "      <th></th>\n",
              "      <th></th>\n",
              "      <th></th>\n",
              "      <th></th>\n",
              "      <th></th>\n",
              "      <th></th>\n",
              "      <th></th>\n",
              "      <th></th>\n",
              "      <th></th>\n",
              "    </tr>\n",
              "  </thead>\n",
              "  <tbody>\n",
              "    <tr>\n",
              "      <th>1</th>\n",
              "      <td>0</td>\n",
              "      <td>3</td>\n",
              "      <td>Braund, Mr. Owen Harris</td>\n",
              "      <td>male</td>\n",
              "      <td>22.0</td>\n",
              "      <td>1</td>\n",
              "      <td>0</td>\n",
              "      <td>A/5 21171</td>\n",
              "      <td>7.2500</td>\n",
              "      <td>NaN</td>\n",
              "      <td>S</td>\n",
              "    </tr>\n",
              "    <tr>\n",
              "      <th>2</th>\n",
              "      <td>1</td>\n",
              "      <td>1</td>\n",
              "      <td>Cumings, Mrs. John Bradley (Florence Briggs Th...</td>\n",
              "      <td>female</td>\n",
              "      <td>38.0</td>\n",
              "      <td>1</td>\n",
              "      <td>0</td>\n",
              "      <td>PC 17599</td>\n",
              "      <td>71.2833</td>\n",
              "      <td>C85</td>\n",
              "      <td>C</td>\n",
              "    </tr>\n",
              "    <tr>\n",
              "      <th>3</th>\n",
              "      <td>1</td>\n",
              "      <td>3</td>\n",
              "      <td>Heikkinen, Miss. Laina</td>\n",
              "      <td>female</td>\n",
              "      <td>26.0</td>\n",
              "      <td>0</td>\n",
              "      <td>0</td>\n",
              "      <td>STON/O2. 3101282</td>\n",
              "      <td>7.9250</td>\n",
              "      <td>NaN</td>\n",
              "      <td>S</td>\n",
              "    </tr>\n",
              "    <tr>\n",
              "      <th>4</th>\n",
              "      <td>1</td>\n",
              "      <td>1</td>\n",
              "      <td>Futrelle, Mrs. Jacques Heath (Lily May Peel)</td>\n",
              "      <td>female</td>\n",
              "      <td>35.0</td>\n",
              "      <td>1</td>\n",
              "      <td>0</td>\n",
              "      <td>113803</td>\n",
              "      <td>53.1000</td>\n",
              "      <td>C123</td>\n",
              "      <td>S</td>\n",
              "    </tr>\n",
              "    <tr>\n",
              "      <th>5</th>\n",
              "      <td>0</td>\n",
              "      <td>3</td>\n",
              "      <td>Allen, Mr. William Henry</td>\n",
              "      <td>male</td>\n",
              "      <td>35.0</td>\n",
              "      <td>0</td>\n",
              "      <td>0</td>\n",
              "      <td>373450</td>\n",
              "      <td>8.0500</td>\n",
              "      <td>NaN</td>\n",
              "      <td>S</td>\n",
              "    </tr>\n",
              "  </tbody>\n",
              "</table>\n",
              "</div>\n",
              "      <button class=\"colab-df-convert\" onclick=\"convertToInteractive('df-b354b830-458b-4951-818f-d589622703da')\"\n",
              "              title=\"Convert this dataframe to an interactive table.\"\n",
              "              style=\"display:none;\">\n",
              "        \n",
              "  <svg xmlns=\"http://www.w3.org/2000/svg\" height=\"24px\"viewBox=\"0 0 24 24\"\n",
              "       width=\"24px\">\n",
              "    <path d=\"M0 0h24v24H0V0z\" fill=\"none\"/>\n",
              "    <path d=\"M18.56 5.44l.94 2.06.94-2.06 2.06-.94-2.06-.94-.94-2.06-.94 2.06-2.06.94zm-11 1L8.5 8.5l.94-2.06 2.06-.94-2.06-.94L8.5 2.5l-.94 2.06-2.06.94zm10 10l.94 2.06.94-2.06 2.06-.94-2.06-.94-.94-2.06-.94 2.06-2.06.94z\"/><path d=\"M17.41 7.96l-1.37-1.37c-.4-.4-.92-.59-1.43-.59-.52 0-1.04.2-1.43.59L10.3 9.45l-7.72 7.72c-.78.78-.78 2.05 0 2.83L4 21.41c.39.39.9.59 1.41.59.51 0 1.02-.2 1.41-.59l7.78-7.78 2.81-2.81c.8-.78.8-2.07 0-2.86zM5.41 20L4 18.59l7.72-7.72 1.47 1.35L5.41 20z\"/>\n",
              "  </svg>\n",
              "      </button>\n",
              "      \n",
              "  <style>\n",
              "    .colab-df-container {\n",
              "      display:flex;\n",
              "      flex-wrap:wrap;\n",
              "      gap: 12px;\n",
              "    }\n",
              "\n",
              "    .colab-df-convert {\n",
              "      background-color: #E8F0FE;\n",
              "      border: none;\n",
              "      border-radius: 50%;\n",
              "      cursor: pointer;\n",
              "      display: none;\n",
              "      fill: #1967D2;\n",
              "      height: 32px;\n",
              "      padding: 0 0 0 0;\n",
              "      width: 32px;\n",
              "    }\n",
              "\n",
              "    .colab-df-convert:hover {\n",
              "      background-color: #E2EBFA;\n",
              "      box-shadow: 0px 1px 2px rgba(60, 64, 67, 0.3), 0px 1px 3px 1px rgba(60, 64, 67, 0.15);\n",
              "      fill: #174EA6;\n",
              "    }\n",
              "\n",
              "    [theme=dark] .colab-df-convert {\n",
              "      background-color: #3B4455;\n",
              "      fill: #D2E3FC;\n",
              "    }\n",
              "\n",
              "    [theme=dark] .colab-df-convert:hover {\n",
              "      background-color: #434B5C;\n",
              "      box-shadow: 0px 1px 3px 1px rgba(0, 0, 0, 0.15);\n",
              "      filter: drop-shadow(0px 1px 2px rgba(0, 0, 0, 0.3));\n",
              "      fill: #FFFFFF;\n",
              "    }\n",
              "  </style>\n",
              "\n",
              "      <script>\n",
              "        const buttonEl =\n",
              "          document.querySelector('#df-b354b830-458b-4951-818f-d589622703da button.colab-df-convert');\n",
              "        buttonEl.style.display =\n",
              "          google.colab.kernel.accessAllowed ? 'block' : 'none';\n",
              "\n",
              "        async function convertToInteractive(key) {\n",
              "          const element = document.querySelector('#df-b354b830-458b-4951-818f-d589622703da');\n",
              "          const dataTable =\n",
              "            await google.colab.kernel.invokeFunction('convertToInteractive',\n",
              "                                                     [key], {});\n",
              "          if (!dataTable) return;\n",
              "\n",
              "          const docLinkHtml = 'Like what you see? Visit the ' +\n",
              "            '<a target=\"_blank\" href=https://colab.research.google.com/notebooks/data_table.ipynb>data table notebook</a>'\n",
              "            + ' to learn more about interactive tables.';\n",
              "          element.innerHTML = '';\n",
              "          dataTable['output_type'] = 'display_data';\n",
              "          await google.colab.output.renderOutput(dataTable, element);\n",
              "          const docLink = document.createElement('div');\n",
              "          docLink.innerHTML = docLinkHtml;\n",
              "          element.appendChild(docLink);\n",
              "        }\n",
              "      </script>\n",
              "    </div>\n",
              "  </div>\n",
              "  "
            ]
          },
          "metadata": {},
          "execution_count": 161
        }
      ],
      "source": [
        "dataset = pd.read_csv(\"titanic.csv\", index_col = 0)\n",
        "dataset.head(5)"
      ]
    },
    {
      "cell_type": "markdown",
      "metadata": {
        "id": "PIDwi_rKogem"
      },
      "source": [
        "**Task 1** (1 points) <br/>\n",
        "Answer the following questions:\n",
        "    \n",
        "    * Are there any missing values? In what columns?\n",
        "    * What is the percentage of survived passengers? Are the classes balanced?\n",
        "    * Were there more males or females?\n",
        "    * What what the least popular port of embarkation?\n",
        "    * How many classes (pclass) were there on Tinanic?\n",
        "    * What is the overall average ticket fare? And for every class?\n",
        "Please, write not only the answers but the code, proving it."
      ]
    },
    {
      "cell_type": "code",
      "execution_count": null,
      "metadata": {
        "id": "CrF1KWfbogem",
        "colab": {
          "base_uri": "https://localhost:8080/"
        },
        "outputId": "5087a2bf-b3a9-45db-bd80-45e71b54d553"
      },
      "outputs": [
        {
          "output_type": "execute_result",
          "data": {
            "text/plain": [
              "Survived      0\n",
              "Pclass        0\n",
              "Name          0\n",
              "Sex           0\n",
              "Age         177\n",
              "SibSp         0\n",
              "Parch         0\n",
              "Ticket        0\n",
              "Fare          0\n",
              "Cabin       687\n",
              "Embarked      2\n",
              "dtype: int64"
            ]
          },
          "metadata": {},
          "execution_count": 162
        }
      ],
      "source": [
        "# Are there any missing values? In what columns?\n",
        "# Да, null значения содержатся в столбцах Age, Cabin, Embarked\n",
        "\n",
        "dataset.isna().sum()"
      ]
    },
    {
      "cell_type": "code",
      "source": [
        "# What is the percentage of survived passengers? Are the classes balanced?\n",
        "# Всего выжило 38%\n",
        "# Выживаемость по классам не сбалансирована\n",
        "# Например, в первом классе выжило 62% пассажиров, а в третьем 24%\n",
        "\n",
        "def class_statsitics(data, text):\n",
        "    print(f\"{text}: {len(data[data['Survived'] == 1]) / data.shape[0] * 100}%\")\n",
        "\n",
        "class_statsitics(dataset, \"Всего\")\n",
        "class_statsitics(dataset[dataset[\"Pclass\"] == 1], \"Первый класс\")\n",
        "class_statsitics(dataset[dataset[\"Pclass\"] == 2], \"Второй класс\")\n",
        "class_statsitics(dataset[dataset[\"Pclass\"] == 3], \"Третий класс\")"
      ],
      "metadata": {
        "colab": {
          "base_uri": "https://localhost:8080/"
        },
        "id": "NyODA_JDOD2t",
        "outputId": "30357ae8-991f-4e43-869c-94bb7cd8e81a"
      },
      "execution_count": null,
      "outputs": [
        {
          "output_type": "stream",
          "name": "stdout",
          "text": [
            "Всего: 38.38383838383838%\n",
            "Первый класс: 62.96296296296296%\n",
            "Второй класс: 47.28260869565217%\n",
            "Третий класс: 24.236252545824847%\n"
          ]
        }
      ]
    },
    {
      "cell_type": "code",
      "source": [
        "# Were there more males or females?\n",
        "# Было больше мужчин\n",
        "\n",
        "print(len(dataset[dataset[\"Sex\"] == \"male\"]))\n",
        "print(len(dataset[dataset[\"Sex\"] == \"female\"]))"
      ],
      "metadata": {
        "colab": {
          "base_uri": "https://localhost:8080/"
        },
        "id": "vCIzWlMuSxxN",
        "outputId": "c23fc6a8-fa84-47a4-cd64-8d7adf1243dd"
      },
      "execution_count": null,
      "outputs": [
        {
          "output_type": "stream",
          "name": "stdout",
          "text": [
            "577\n",
            "314\n"
          ]
        }
      ]
    },
    {
      "cell_type": "code",
      "source": [
        "# What what the least popular port of embarkation?\n",
        "# Наименее популярный Queenstown\n",
        "\n",
        "print(len(dataset[dataset[\"Embarked\"] == \"C\"]))\n",
        "print(len(dataset[dataset[\"Embarked\"] == \"Q\"]))\n",
        "print(len(dataset[dataset[\"Embarked\"] == \"S\"]))"
      ],
      "metadata": {
        "colab": {
          "base_uri": "https://localhost:8080/"
        },
        "id": "BmzhLYxITX5s",
        "outputId": "78e3e91b-b7de-4a8d-a698-0ff77e42441e"
      },
      "execution_count": null,
      "outputs": [
        {
          "output_type": "stream",
          "name": "stdout",
          "text": [
            "168\n",
            "77\n",
            "644\n"
          ]
        }
      ]
    },
    {
      "cell_type": "code",
      "source": [
        "# How many classes (pclass) were there on Tinanic?\n",
        "# Всего было 3 класса\n",
        "\n",
        "print(len(dataset[\"Pclass\"].unique()))"
      ],
      "metadata": {
        "colab": {
          "base_uri": "https://localhost:8080/"
        },
        "id": "IWCRJbAuTlfM",
        "outputId": "d6a10804-5bb8-4be0-ca1d-f7d4a99a3f4d"
      },
      "execution_count": null,
      "outputs": [
        {
          "output_type": "stream",
          "name": "stdout",
          "text": [
            "3\n"
          ]
        }
      ]
    },
    {
      "cell_type": "code",
      "source": [
        "# What is the overall average ticket fare? And for every class?\n",
        "# Средняя цена 32$\n",
        "# Первый класс 84$\n",
        "# Второй класс 20$\n",
        "# Третий класс 13$\n",
        "\n",
        "def average_fare(data, text):\n",
        "    return print(f\"{text} {np.sum(data['Fare']) / data.shape[0]}\")\n",
        "\n",
        "average_fare(dataset, \"Всего\")\n",
        "average_fare(dataset[dataset[\"Pclass\"] == 1], \"Первый класс\")\n",
        "average_fare(dataset[dataset[\"Pclass\"] == 2], \"Второй класс\")\n",
        "average_fare(dataset[dataset[\"Pclass\"] == 3], \"Третий класс\")"
      ],
      "metadata": {
        "colab": {
          "base_uri": "https://localhost:8080/"
        },
        "id": "O0Hp5Mk_T7ul",
        "outputId": "f2c85576-2c4c-4243-9791-c59ecb209232"
      },
      "execution_count": null,
      "outputs": [
        {
          "output_type": "stream",
          "name": "stdout",
          "text": [
            "Всего 32.204207968574636\n",
            "Первый класс 84.1546875\n",
            "Второй класс 20.662183152173913\n",
            "Третий класс 13.675550101832993\n"
          ]
        }
      ]
    },
    {
      "cell_type": "markdown",
      "metadata": {
        "id": "O8vrsIXLogem"
      },
      "source": [
        "**Task 2** (0.5 points) <br/>\n",
        "Visualize age distribution (you may use a histogram, for example). \n",
        "\n",
        "    * What is the minimal and maximum ages of the passengers? Visualize it on the plot\n",
        "    * What is the mean age? And among males and females sepatately? Visualize it on the plot\n",
        "    * Make conclusions about what you see on the plot"
      ]
    },
    {
      "cell_type": "code",
      "execution_count": null,
      "metadata": {
        "id": "FvNXIIajogen"
      },
      "outputs": [],
      "source": [
        "# What is the minimal and maximum ages of the passengers? Visualize it on the plot\n",
        "# Минимальный возраст 0.42, максимальный 80\n",
        "\n",
        "dataset[\"Age\"].hist(bins = 35)\n",
        "plt.axvline(x = np.min(dataset[\"Age\"]), color = 'g')\n",
        "plt.axvline(x = np.max(dataset[\"Age\"]), color = 'g')\n",
        "plt.show()\n",
        "print(np.min(dataset[\"Age\"]), np.max(dataset[\"Age\"]))"
      ]
    },
    {
      "cell_type": "code",
      "source": [
        "# What is the mean age? And among males and females sepatately? Visualize it on the plot\n",
        "# Среднее значение = 29.69\n",
        "# Среднее значение среди мужчин = 30.72\n",
        "# Среднее значение среди женщин = 27.91\n",
        "\n",
        "dataset[\"Age\"].hist(bins = 35)\n",
        "mean = np.mean(dataset[\"Age\"])\n",
        "plt.axvline(x = np.mean(dataset[\"Age\"]), color = 'g')\n",
        "plt.axvline(x = np.mean(dataset[dataset[\"Sex\"] == \"male\"][\"Age\"]), color = 'b')\n",
        "plt.axvline(x = np.mean(dataset[dataset[\"Sex\"] == \"female\"][\"Age\"]), color = 'r')\n",
        "plt.show()\n",
        "print(np.mean(dataset[\"Age\"]))\n",
        "print(np.mean(dataset[dataset[\"Sex\"] == \"male\"][\"Age\"]))\n",
        "print(np.mean(dataset[dataset[\"Sex\"] == \"female\"][\"Age\"]))"
      ],
      "metadata": {
        "id": "RXfxwk2Sg3fi"
      },
      "execution_count": null,
      "outputs": []
    },
    {
      "cell_type": "code",
      "source": [
        "# Make conclusions about what you see on the plot\n",
        "\n",
        "# На графике можно увидеть несколько пиков в районе 20 и 30 лет\n",
        "# Также среди детей преобладает возраст 3-5 лет, и есть просадка в районе 10 лет\n",
        "# Можно сделать вывод, что на корабле было много молодых семей с маленькими детьми :("
      ],
      "metadata": {
        "id": "dMZzhxeZg38h"
      },
      "execution_count": null,
      "outputs": []
    },
    {
      "cell_type": "markdown",
      "metadata": {
        "id": "hvRgLnUMogen"
      },
      "source": [
        "**Task 3** (1 points) <br/>\n",
        "Find all the titles of the passengers (example, *Capt., Mr.,Mme.*), which are written in the column Name, and answer the following questions:\n",
        "\n",
        "    * How many are there unique titles?\n",
        "    * How many are there passengers with every title?\n",
        "    * What is the most popular man's title? And woman's title?\n",
        "    \n",
        "**Hint** You may select the title from the name as a word which contains a dot."
      ]
    },
    {
      "cell_type": "code",
      "execution_count": null,
      "metadata": {
        "id": "3UzyIOIHogen",
        "colab": {
          "base_uri": "https://localhost:8080/"
        },
        "outputId": "27a68375-d539-480c-e3a3-45dcb6c434f5"
      },
      "outputs": [
        {
          "output_type": "stream",
          "name": "stdout",
          "text": [
            "17 ['mr.' 'mrs.' 'miss.' 'master.' 'don.' 'rev.' 'dr.' 'mme.' 'ms.' 'major.'\n",
            " 'lady.' 'sir.' 'mlle.' 'col.' 'capt.' 'countess.' 'jonkheer.']\n"
          ]
        }
      ],
      "source": [
        "# How many are there unique titles?\n",
        "# 17 уникальных titles\n",
        "\n",
        "titles = dataset.iloc[:, 2:3][\"Name\"].str.lower().str.extract(r\"([a-z]+\\.)\")\n",
        "unique = titles[0].unique()\n",
        "print(len(unique), unique)"
      ]
    },
    {
      "cell_type": "code",
      "source": [
        "# How many are there passengers with every title?\n",
        "# Ответ изображен ниже, самый популярный Mr. - 517 пассажиров\n",
        "\n",
        "titles.value_counts()"
      ],
      "metadata": {
        "colab": {
          "base_uri": "https://localhost:8080/"
        },
        "id": "VG_lPFfFZ82u",
        "outputId": "c2d8c4c3-ba3d-4f25-8584-22212baa10f3"
      },
      "execution_count": null,
      "outputs": [
        {
          "output_type": "execute_result",
          "data": {
            "text/plain": [
              "mr.          517\n",
              "miss.        182\n",
              "mrs.         125\n",
              "master.       40\n",
              "dr.            7\n",
              "rev.           6\n",
              "major.         2\n",
              "col.           2\n",
              "mlle.          2\n",
              "mme.           1\n",
              "ms.            1\n",
              "capt.          1\n",
              "lady.          1\n",
              "jonkheer.      1\n",
              "don.           1\n",
              "countess.      1\n",
              "sir.           1\n",
              "dtype: int64"
            ]
          },
          "metadata": {},
          "execution_count": 172
        }
      ]
    },
    {
      "cell_type": "code",
      "source": [
        "# What is the most popular man's title? And woman's title?\n",
        "# Среди мужчин самый популярный Mr.\n",
        "# Среди женщин самый популярный Miss.\n",
        "\n",
        "def get_most_popular(sex):\n",
        "    return concated[concated[\"Sex\"] == sex][0].value_counts().index[0]\n",
        "\n",
        "concated = pd.concat([titles, dataset[\"Sex\"]], axis = 1)\n",
        "print(get_most_popular(\"male\"))\n",
        "print(get_most_popular(\"female\"))"
      ],
      "metadata": {
        "colab": {
          "base_uri": "https://localhost:8080/"
        },
        "id": "HgBqevGDZ9H7",
        "outputId": "55b9048c-0019-45d1-d507-6fc996935c95"
      },
      "execution_count": null,
      "outputs": [
        {
          "output_type": "stream",
          "name": "stdout",
          "text": [
            "mr.\n",
            "miss.\n"
          ]
        }
      ]
    },
    {
      "cell_type": "markdown",
      "metadata": {
        "id": "2Bf8AjaPogen"
      },
      "source": [
        "**Task 4** (0.5 points) <br/>\n",
        "Is there correlation between *pclass* and *ticket price*? Calculate mean price for each port and visualize prize distribution for each port. Make conclusions about what you see on the plot\n",
        "\n",
        "Hint: you could make one or several plot types i.e.  box, violine, pair, histogram (see additional notebooks for Seminar 1 \"Visualization with Seaborn\"). main point here is to **choose** plots wisely and **make meaningful conclusions**\n",
        "\n"
      ]
    },
    {
      "cell_type": "code",
      "execution_count": null,
      "metadata": {
        "id": "pDANkGPpogen"
      },
      "outputs": [],
      "source": [
        "# Средняя цена по классам: 84$, 20$ и 13$\n",
        "# Корреляция -0.54\n",
        "\n",
        "# Правило весьма ожидаемо и логично - чем лучше класс, чем выше цена\n",
        "# Это же видно на графике\n",
        "\n",
        "def mean_by_class(number):\n",
        "    print(f\"{number} {np.mean(dataset[dataset['Pclass'] == number]['Fare'])}\")\n",
        "\n",
        "print(dataset.Pclass.corr(dataset.Fare))\n",
        "mean_by_class(1)\n",
        "mean_by_class(2)\n",
        "mean_by_class(3)\n",
        "\n",
        "# https://seaborn.pydata.org/examples/grouped_boxplot.html\n",
        "sns.boxplot(x = dataset.Pclass, y = dataset.Fare)\n",
        "plt.show()"
      ]
    },
    {
      "cell_type": "markdown",
      "metadata": {
        "id": "IXf8YZ0Qogen"
      },
      "source": [
        "**Task 5** (0.5 points) <br/>\n",
        "The same question as in task 4 about correlation between *embarked* and *ticket priсe*."
      ]
    },
    {
      "cell_type": "code",
      "execution_count": null,
      "metadata": {
        "id": "z65oIQYcogen"
      },
      "outputs": [],
      "source": [
        "# Средняя цена по городам: 59$, 13$ и 27$\n",
        "# Возникает вопрос чем вызвана данный разброс цены\n",
        "# Как один из варинатов, билеты для городов, куда корабль приплывет раньше, стоят дороже,\n",
        "# так как люди пробудут больше времени на корабле\n",
        "# Еще, возможно, в одном из городов продали больше билетов выше классом, чем в другом городе\n",
        "\n",
        "def mean_by_embark(town):\n",
        "    print(f\"{town} {np.mean(dataset[dataset['Embarked']== town[0]]['Fare'])}\")\n",
        "\n",
        "mean_by_embark(\"Cherbourg\")\n",
        "mean_by_embark(\"Queenstown\")\n",
        "mean_by_embark(\"Southampton\")\n",
        "\n",
        "# https://seaborn.pydata.org/examples/grouped_boxplot.html\n",
        "sns.boxplot(x = dataset.Embarked, y = dataset.Fare)\n",
        "plt.show()"
      ]
    },
    {
      "cell_type": "markdown",
      "metadata": {
        "id": "-_XzlX4Yogeo"
      },
      "source": [
        "**Task 6** (0.5 points) <br/>\n",
        "Visualize age distribution for survived and not survived passengers separately and calculate the mean age for each class. Are they different? Provide the same visualization for males and females separately. Make conclusions about what you see on the plots"
      ]
    },
    {
      "cell_type": "code",
      "execution_count": null,
      "metadata": {
        "id": "tjdXd5jGogeo"
      },
      "outputs": [],
      "source": [
        "# Средние значение возраста погибших и выживших людей на одном уровне - 30 и 28 лет\n",
        "# Средние значение возраста погибших и выживших мужчин - 31 и 27 лет\n",
        "# Средние значение возраста погибших и выживших женщин - 25 и 29 лет\n",
        "\n",
        "# Большая часть людей среднего возраст не смогла выжить, при этом \n",
        "# выживших женщин средних лет примерно в два раза больше, чем выживших мужчин\n",
        "\n",
        "# Выживших среди детей, больше чем погибших\n",
        "\n",
        "# Среди взрослых людей выживших и погибших примерно равно количество\n",
        "\n",
        "def draw_dataset(data, text1, text2):\n",
        "    print(text1, np.mean(data[data[\"Survived\"] == 0][\"Age\"]))\n",
        "    data[data[\"Survived\"] == 0][\"Age\"].hist(bins = 10, range=(0, 80))\n",
        "    plt.show()\n",
        "\n",
        "    print(text2, np.mean(data[data[\"Survived\"] == 1][\"Age\"]))\n",
        "    data[data[\"Survived\"] == 1][\"Age\"].hist(bins = 10, range=(0, 80))\n",
        "    plt.show()\n",
        "    print(\"\\n\\n\")\n",
        "\n",
        "print()\n",
        "\n",
        "draw_dataset(dataset, \"Не выжившие\", \"Выжившие\")\n",
        "draw_dataset(dataset[dataset[\"Sex\"] == \"male\"], \"Не выжившие мужчины\", \"Выжившие мужчины\")\n",
        "draw_dataset(dataset[dataset[\"Sex\"] == \"female\"], \"Не выжившие женщины\", \"Выжившие женщины\")"
      ]
    }
  ],
  "metadata": {
    "kernelspec": {
      "display_name": "Python 3 (ipykernel)",
      "language": "python",
      "name": "python3"
    },
    "language_info": {
      "codemirror_mode": {
        "name": "ipython",
        "version": 3
      },
      "file_extension": ".py",
      "mimetype": "text/x-python",
      "name": "python",
      "nbconvert_exporter": "python",
      "pygments_lexer": "ipython3",
      "version": "3.9.7"
    },
    "colab": {
      "provenance": []
    }
  },
  "nbformat": 4,
  "nbformat_minor": 0
}