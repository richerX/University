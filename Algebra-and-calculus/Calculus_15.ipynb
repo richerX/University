{
 "cells": [
  {
   "cell_type": "code",
   "execution_count": 2,
   "metadata": {},
   "outputs": [],
   "source": [
    "import sympy\n",
    "from sympy import S, Symbol, symbols, simplify, nonlinsolve, Matrix, diff, factor"
   ]
  },
  {
   "cell_type": "markdown",
   "metadata": {},
   "source": [
    "## Занятие 15\n",
    "## Математический анализ\n",
    "## Экстремум функции нескольких переменных \n",
    "### Задание 1\n",
    "Найти точки экстремума:\n",
    "\n",
    "1) $z = x^2 + xy + y^2 - 2x - y$\n",
    "\n",
    "2) $z = x^3y^2(6 - x - y)$, $(x, y > 0)$\n",
    "\n",
    "3) $z = \\frac{8}{x} + \\frac{x}{y} + y$\n",
    "\n",
    "4) $z = \\frac{1 + x - y}{\\sqrt{1 + x^2 + y^2}}$\n",
    "###### Указание.\n",
    "Вначале найти стационарные точки. Составить определитель из вторых производных в произвольной точке. Подставляя найденные (вещественные) стационарные точки, решить вопрос о наличии экстремума."
   ]
  },
  {
   "cell_type": "code",
   "execution_count": 48,
   "metadata": {},
   "outputs": [
    {
     "data": {
      "text/latex": [
       "$\\displaystyle x^{2} + x y - 2 x + y^{2} - y$"
      ],
      "text/plain": [
       "x**2 + x*y - 2*x + y**2 - y"
      ]
     },
     "metadata": {},
     "output_type": "display_data"
    },
    {
     "data": {
      "text/plain": [
       "'В точке (1, 0) есть экстремум'"
      ]
     },
     "metadata": {},
     "output_type": "display_data"
    },
    {
     "name": "stdout",
     "output_type": "stream",
     "text": [
      "\n",
      "\n"
     ]
    },
    {
     "data": {
      "text/latex": [
       "$\\displaystyle x^{3} y^{2} \\left(- x - y + 6\\right)$"
      ],
      "text/plain": [
       "x**3*y**2*(-x - y + 6)"
      ]
     },
     "metadata": {},
     "output_type": "display_data"
    },
    {
     "data": {
      "text/plain": [
       "'В точке (0, y) надо продолжать исследование'"
      ]
     },
     "metadata": {},
     "output_type": "display_data"
    },
    {
     "data": {
      "text/plain": [
       "'В точке (x, 0) надо продолжать исследование'"
      ]
     },
     "metadata": {},
     "output_type": "display_data"
    },
    {
     "name": "stdout",
     "output_type": "stream",
     "text": [
      "\n",
      "\n"
     ]
    },
    {
     "data": {
      "text/latex": [
       "$\\displaystyle \\frac{x}{y} + y + \\frac{8}{x}$"
      ],
      "text/plain": [
       "x/y + y + 8/x"
      ]
     },
     "metadata": {},
     "output_type": "display_data"
    },
    {
     "data": {
      "text/plain": [
       "'В точке (4, 2) есть экстремум'"
      ]
     },
     "metadata": {},
     "output_type": "display_data"
    },
    {
     "data": {
      "text/plain": [
       "'В точке ((-1 + sqrt(3)*I)**2, -1 + sqrt(3)*I) надо продолжать исследование'"
      ]
     },
     "metadata": {},
     "output_type": "display_data"
    },
    {
     "data": {
      "text/plain": [
       "'В точке ((-1 - sqrt(3)*I)**2, -1 - sqrt(3)*I) надо продолжать исследование'"
      ]
     },
     "metadata": {},
     "output_type": "display_data"
    },
    {
     "name": "stdout",
     "output_type": "stream",
     "text": [
      "\n",
      "\n"
     ]
    },
    {
     "data": {
      "text/latex": [
       "$\\displaystyle \\frac{x + y + 1}{\\sqrt{x^{2} + y^{2} + 1}}$"
      ],
      "text/plain": [
       "(x + y + 1)/sqrt(x**2 + y**2 + 1)"
      ]
     },
     "metadata": {},
     "output_type": "display_data"
    },
    {
     "data": {
      "text/plain": [
       "'В точке (1, 1) есть экстремум'"
      ]
     },
     "metadata": {},
     "output_type": "display_data"
    },
    {
     "name": "stdout",
     "output_type": "stream",
     "text": [
      "\n",
      "\n"
     ]
    }
   ],
   "source": [
    "from sympy.abc import x, y\n",
    "\n",
    "def points(f):\n",
    "    stat_points = nonlinsolve([f.diff(x), f.diff(y)], [x, y])\n",
    "    Delta = Matrix([[f.diff(x, 2), f.diff(x, y)], [f.diff(x, y), f.diff(y, 2)]]).det()\n",
    "    \n",
    "    display(f)\n",
    "    for point in list(stat_points):\n",
    "        answer = Delta.subs({x: point[0], y: point[1]})\n",
    "        try:\n",
    "            if answer > 0:\n",
    "                display(f\"В точке {point[0], point[1]} есть экстремум\")\n",
    "            elif answer == 0:\n",
    "                display(f\"В точке {point[0], point[1]} надо продолжать исследование\")\n",
    "            else:\n",
    "                display(f\"В точке {point[0], point[1]} нет экстремума\")\n",
    "        except:\n",
    "            display(f\"В точке {point[0], point[1]} надо продолжать исследование\")\n",
    "    print()\n",
    "    print()\n",
    "\n",
    "x, y = symbols(\"x y\")\n",
    "f = x**2+x*y+y**2-2*x-y\n",
    "points(f)\n",
    "\n",
    "x, y = symbols(\"x y\", positive=True)\n",
    "x = Symbol(\"x\", positive = True)\n",
    "y = Symbol(\"y\", positive = True)\n",
    "f = x**3*y**2*(6-x-y)\n",
    "points(f)\n",
    "\n",
    "x, y = symbols(\"x y\")\n",
    "f = 8/x + x/y + y\n",
    "points(f)\n",
    "\n",
    "x, y = symbols(\"x y\")\n",
    "f = (1+x+y)/(sympy.sqrt(1+x**2+y**2))\n",
    "points(f)"
   ]
  },
  {
   "cell_type": "markdown",
   "metadata": {},
   "source": [
    "### Задание 2.\n",
    "С помощью метода Лагранжа найти условный экстремум функции\n",
    "$z = x + 2y$ при условии $x^2 + y^2 = 5$."
   ]
  },
  {
   "cell_type": "code",
   "execution_count": 11,
   "metadata": {},
   "outputs": [
    {
     "data": {
      "text/plain": [
       "'stat_points'"
      ]
     },
     "metadata": {},
     "output_type": "display_data"
    },
    {
     "data": {
      "text/latex": [
       "$\\displaystyle \\left\\{\\left( -1, \\  -2, \\  \\frac{1}{2}\\right), \\left( 1, \\  2, \\  - \\frac{1}{2}\\right)\\right\\}$"
      ],
      "text/plain": [
       "FiniteSet((-1, -2, 1/2), (1, 2, -1/2))"
      ]
     },
     "metadata": {},
     "output_type": "display_data"
    },
    {
     "name": "stdout",
     "output_type": "stream",
     "text": [
      "\n",
      "\n"
     ]
    },
    {
     "data": {
      "text/plain": [
       "'stat point'"
      ]
     },
     "metadata": {},
     "output_type": "display_data"
    },
    {
     "data": {
      "text/latex": [
       "$\\displaystyle \\left( -1, \\  -2\\right)$"
      ],
      "text/plain": [
       "(-1, -2)"
      ]
     },
     "metadata": {},
     "output_type": "display_data"
    },
    {
     "data": {
      "text/latex": [
       "$\\displaystyle f = -5$"
      ],
      "text/plain": [
       "Eq(f, -5)"
      ]
     },
     "metadata": {},
     "output_type": "display_data"
    },
    {
     "name": "stdout",
     "output_type": "stream",
     "text": [
      "\n",
      "\n"
     ]
    },
    {
     "data": {
      "text/plain": [
       "'stat point'"
      ]
     },
     "metadata": {},
     "output_type": "display_data"
    },
    {
     "data": {
      "text/latex": [
       "$\\displaystyle \\left( 1, \\  2\\right)$"
      ],
      "text/plain": [
       "(1, 2)"
      ]
     },
     "metadata": {},
     "output_type": "display_data"
    },
    {
     "data": {
      "text/latex": [
       "$\\displaystyle f = 5$"
      ],
      "text/plain": [
       "Eq(f, 5)"
      ]
     },
     "metadata": {},
     "output_type": "display_data"
    },
    {
     "name": "stdout",
     "output_type": "stream",
     "text": [
      "\n",
      "\n"
     ]
    }
   ],
   "source": [
    "x, y, lam = symbols('x y lamda')\n",
    "varrs = [x, y, lam]\n",
    "f = x + 2 * y\n",
    "restriction = x**2 + y**2 - 5\n",
    "L = f + lam*restriction\n",
    "stat_points = nonlinsolve([L.diff(var)for var in varrs], varrs)\n",
    "display('stat_points', stat_points)\n",
    "print()\n",
    "print()\n",
    "\n",
    "dx, dy, dx2, dy2 = symbols('dx dy dx^2 dy^2')\n",
    "d2L = L.diff(x,2)*dx2 + 2*L.diff(x,y)*dx*dy + L.diff(y,2)*dy2\n",
    "factor(d2L)\n",
    "\n",
    "ff = Symbol('f')\n",
    "for point in stat_points:\n",
    "    display('stat point')\n",
    "    display(point[:-1], sympy.Eq(ff, f.subs({var: point[j] for j, var in enumerate(varrs)})))\n",
    "    print()\n",
    "    print()"
   ]
  },
  {
   "cell_type": "markdown",
   "metadata": {},
   "source": [
    "### Задание 3.\n",
    "С помощью метода Лагранжа найти условный экстремум функции\n",
    "$z=x^2+y^2$ при условии $\\frac{x}{2}+\\frac{y}{3}=1$."
   ]
  },
  {
   "cell_type": "code",
   "execution_count": 12,
   "metadata": {},
   "outputs": [
    {
     "data": {
      "text/plain": [
       "'stat_points'"
      ]
     },
     "metadata": {},
     "output_type": "display_data"
    },
    {
     "data": {
      "text/latex": [
       "$\\displaystyle \\left\\{\\left( \\frac{18}{13}, \\  \\frac{12}{13}, \\  - \\frac{72}{13}\\right)\\right\\}$"
      ],
      "text/plain": [
       "FiniteSet((18/13, 12/13, -72/13))"
      ]
     },
     "metadata": {},
     "output_type": "display_data"
    },
    {
     "name": "stdout",
     "output_type": "stream",
     "text": [
      "\n",
      "\n"
     ]
    },
    {
     "data": {
      "text/plain": [
       "'stat point'"
      ]
     },
     "metadata": {},
     "output_type": "display_data"
    },
    {
     "data": {
      "text/latex": [
       "$\\displaystyle \\left( \\frac{18}{13}, \\  \\frac{12}{13}\\right)$"
      ],
      "text/plain": [
       "(18/13, 12/13)"
      ]
     },
     "metadata": {},
     "output_type": "display_data"
    },
    {
     "data": {
      "text/latex": [
       "$\\displaystyle f = \\frac{36}{13}$"
      ],
      "text/plain": [
       "Eq(f, 36/13)"
      ]
     },
     "metadata": {},
     "output_type": "display_data"
    },
    {
     "name": "stdout",
     "output_type": "stream",
     "text": [
      "\n",
      "\n"
     ]
    }
   ],
   "source": [
    "x, y, lam = symbols('x y lamda')\n",
    "varrs = [x, y, lam]\n",
    "f = x**2+y**2\n",
    "restriction = x/2+y/3-1\n",
    "L = f + lam*restriction\n",
    "stat_points = nonlinsolve([L.diff(var)for var in varrs], varrs)\n",
    "display('stat_points', stat_points)\n",
    "print()\n",
    "print()\n",
    "\n",
    "dx, dy, dx2, dy2 = symbols('dx dy dx^2 dy^2')\n",
    "d2L = L.diff(x,2)*dx2 + 2*L.diff(x,y)*dx*dy + L.diff(y,2)*dy2\n",
    "factor(d2L)\n",
    "\n",
    "ff = Symbol('f')\n",
    "for point in stat_points:\n",
    "    display('stat point')\n",
    "    display(point[:-1], sympy.Eq(ff, f.subs({var: point[j] for j, var in enumerate(varrs)})))\n",
    "    print()\n",
    "    print()"
   ]
  },
  {
   "cell_type": "markdown",
   "metadata": {},
   "source": [
    "### Задание 4.\n",
    "С помощью метода Лагранжа найти экстремум функции $u = x - 2y + 2z$ при условии $x^2 + y^2 + z^2 = 9$."
   ]
  },
  {
   "cell_type": "code",
   "execution_count": 14,
   "metadata": {},
   "outputs": [
    {
     "data": {
      "text/plain": [
       "'stat_points'"
      ]
     },
     "metadata": {},
     "output_type": "display_data"
    },
    {
     "data": {
      "text/latex": [
       "$\\displaystyle \\left\\{\\left( -5, \\  0, \\  0, \\  -25\\right), \\left( 0, \\  -3, \\  0, \\  -9\\right), \\left( 0, \\  0, \\  -2, \\  -4\\right), \\left( 0, \\  0, \\  2, \\  -4\\right), \\left( 0, \\  3, \\  0, \\  -9\\right), \\left( 5, \\  0, \\  0, \\  -25\\right)\\right\\}$"
      ],
      "text/plain": [
       "FiniteSet((-5, 0, 0, -25), (0, -3, 0, -9), (0, 0, -2, -4), (0, 0, 2, -4), (0, 3, 0, -9), (5, 0, 0, -25))"
      ]
     },
     "metadata": {},
     "output_type": "display_data"
    },
    {
     "name": "stdout",
     "output_type": "stream",
     "text": [
      "\n",
      "\n"
     ]
    },
    {
     "data": {
      "text/plain": [
       "'d2L'"
      ]
     },
     "metadata": {},
     "output_type": "display_data"
    },
    {
     "data": {
      "text/latex": [
       "$\\displaystyle 2 dx^{2} \\left(\\frac{\\lambda}{25} + 1\\right) + 2 dy^{2} \\left(\\frac{\\lambda}{9} + 1\\right) + dz^{2} \\left(\\frac{\\lambda}{2} + 2\\right)$"
      ],
      "text/plain": [
       "2*dx^2*(lamda/25 + 1) + 2*dy^2*(lamda/9 + 1) + dz^2*(lamda/2 + 2)"
      ]
     },
     "metadata": {},
     "output_type": "display_data"
    },
    {
     "name": "stdout",
     "output_type": "stream",
     "text": [
      "\n",
      "\n"
     ]
    },
    {
     "data": {
      "text/plain": [
       "'L2_points'"
      ]
     },
     "metadata": {},
     "output_type": "display_data"
    },
    {
     "data": {
      "text/latex": [
       "$\\displaystyle \\frac{42 dx^{2}}{25} + \\frac{10 dy^{2}}{9}$"
      ],
      "text/plain": [
       "42*dx^2/25 + 10*dy^2/9"
      ]
     },
     "metadata": {},
     "output_type": "display_data"
    },
    {
     "data": {
      "text/latex": [
       "$\\displaystyle \\frac{32 dx^{2}}{25} - \\frac{5 dz^{2}}{2}$"
      ],
      "text/plain": [
       "32*dx^2/25 - 5*dz^2/2"
      ]
     },
     "metadata": {},
     "output_type": "display_data"
    },
    {
     "data": {
      "text/latex": [
       "$\\displaystyle - \\frac{32 dy^{2}}{9} - \\frac{21 dz^{2}}{2}$"
      ],
      "text/plain": [
       "-32*dy^2/9 - 21*dz^2/2"
      ]
     },
     "metadata": {},
     "output_type": "display_data"
    },
    {
     "name": "stdout",
     "output_type": "stream",
     "text": [
      "\n",
      "\n"
     ]
    },
    {
     "data": {
      "text/plain": [
       "'stat point'"
      ]
     },
     "metadata": {},
     "output_type": "display_data"
    },
    {
     "data": {
      "text/latex": [
       "$\\displaystyle \\left( -5, \\  0, \\  0\\right)$"
      ],
      "text/plain": [
       "(-5, 0, 0)"
      ]
     },
     "metadata": {},
     "output_type": "display_data"
    },
    {
     "data": {
      "text/latex": [
       "$\\displaystyle u = 25$"
      ],
      "text/plain": [
       "Eq(u, 25)"
      ]
     },
     "metadata": {},
     "output_type": "display_data"
    },
    {
     "name": "stdout",
     "output_type": "stream",
     "text": [
      "\n",
      "\n"
     ]
    },
    {
     "data": {
      "text/plain": [
       "'stat point'"
      ]
     },
     "metadata": {},
     "output_type": "display_data"
    },
    {
     "data": {
      "text/latex": [
       "$\\displaystyle \\left( 0, \\  0, \\  -2\\right)$"
      ],
      "text/plain": [
       "(0, 0, -2)"
      ]
     },
     "metadata": {},
     "output_type": "display_data"
    },
    {
     "data": {
      "text/latex": [
       "$\\displaystyle u = 4$"
      ],
      "text/plain": [
       "Eq(u, 4)"
      ]
     },
     "metadata": {},
     "output_type": "display_data"
    },
    {
     "name": "stdout",
     "output_type": "stream",
     "text": [
      "\n",
      "\n"
     ]
    },
    {
     "data": {
      "text/plain": [
       "'stat point'"
      ]
     },
     "metadata": {},
     "output_type": "display_data"
    },
    {
     "data": {
      "text/latex": [
       "$\\displaystyle \\left( 0, \\  0, \\  2\\right)$"
      ],
      "text/plain": [
       "(0, 0, 2)"
      ]
     },
     "metadata": {},
     "output_type": "display_data"
    },
    {
     "data": {
      "text/latex": [
       "$\\displaystyle u = 4$"
      ],
      "text/plain": [
       "Eq(u, 4)"
      ]
     },
     "metadata": {},
     "output_type": "display_data"
    },
    {
     "name": "stdout",
     "output_type": "stream",
     "text": [
      "\n",
      "\n"
     ]
    },
    {
     "data": {
      "text/plain": [
       "'stat point'"
      ]
     },
     "metadata": {},
     "output_type": "display_data"
    },
    {
     "data": {
      "text/latex": [
       "$\\displaystyle \\left( 5, \\  0, \\  0\\right)$"
      ],
      "text/plain": [
       "(5, 0, 0)"
      ]
     },
     "metadata": {},
     "output_type": "display_data"
    },
    {
     "data": {
      "text/latex": [
       "$\\displaystyle u = 25$"
      ],
      "text/plain": [
       "Eq(u, 25)"
      ]
     },
     "metadata": {},
     "output_type": "display_data"
    },
    {
     "name": "stdout",
     "output_type": "stream",
     "text": [
      "\n",
      "\n"
     ]
    }
   ],
   "source": [
    "x, y, z, lam = symbols('x y z lamda')\n",
    "varrs = [x, y, z, lam]\n",
    "u = x**2 + y**2 + z**2\n",
    "restriction = x**2/25 + y**2/9 + z**2/4 - 1\n",
    "L = u + lam*restriction\n",
    "stat_points = nonlinsolve([L.diff(var)for var in varrs], varrs)\n",
    "display('stat_points', stat_points)\n",
    "print()\n",
    "print()\n",
    "\n",
    "dx, dy, dz, dx2, dy2, dz2 = symbols('dx dy dz dx^2 dy^2 dz^2')\n",
    "d2L = 0\n",
    "diffs = {x: (dx, dx2), y: (dy, dy2), z: (dz, dz2)}\n",
    "for i, var in enumerate(varrs[:-1]):\n",
    "    d2L += L.diff(var, 2)*diffs[var][1]\n",
    "    for j in range(i + 1, 3):\n",
    "        d2L += 2*L.diff(var, varrs[j])*diffs[var][0]*diffs[varrs[j]][0]\n",
    "display('d2L', d2L)\n",
    "print()\n",
    "print()\n",
    "\n",
    "L2_points = [d2L.subs(lam, lval) for lval in (-4, -9, -25)]\n",
    "display('L2_points', *L2_points)\n",
    "print()\n",
    "print()\n",
    "\n",
    "uu = Symbol('u')\n",
    "for point in stat_points:\n",
    "    if point[-1] != -9:\n",
    "        display('stat point')\n",
    "        display(point[:-1], sympy.Eq(uu, u.subs({var: point[j] for j, var in enumerate(varrs)})))\n",
    "        print()\n",
    "        print()"
   ]
  },
  {
   "cell_type": "markdown",
   "metadata": {},
   "source": [
    "### Индивидуальное задание\n",
    "Найти точки экстремума $u = x^2 + y^2 + z^2 - xy + x - 2z$."
   ]
  },
  {
   "cell_type": "code",
   "execution_count": 19,
   "metadata": {},
   "outputs": [
    {
     "data": {
      "text/plain": [
       "'minimum'"
      ]
     },
     "metadata": {},
     "output_type": "display_data"
    },
    {
     "data": {
      "text/latex": [
       "$\\displaystyle \\left( - \\frac{2}{3}, \\  - \\frac{1}{3}, \\  1\\right)$"
      ],
      "text/plain": [
       "(-2/3, -1/3, 1)"
      ]
     },
     "metadata": {},
     "output_type": "display_data"
    }
   ],
   "source": [
    "from sympy.abc import x, y, z\n",
    "\n",
    "\n",
    "def Delta(u, x, y, z):\n",
    "    return Matrix([[u.diff(x, 2), u.diff(x, y), u.diff(x, z)],\n",
    "    [u.diff(y, x), u.diff(y, 2), u.diff(y, z)],\n",
    "    [u.diff(z, x), u.diff(z, y), u.diff(z,2)],]).det()\n",
    "\n",
    "\n",
    "x, y, z = symbols('x y z', positive=True)\n",
    "u = x**2+y**2+z**2-x*y+x-2*z\n",
    "stat_points = nonlinsolve([u.diff(x), u.diff(y), u.diff(z)], [x, y, z])\n",
    "for point in stat_points:\n",
    "    x0, y0, z0 = point\n",
    "    if x0.is_real and y0.is_real and z0.is_real:\n",
    "        if Delta(u, x, y, z).subs({x: x0, y: y0, z: z0}) > 0:\n",
    "            A = u.diff(x, 2).subs({x: x0, y: y0, z: z0})\n",
    "            B = u.diff(y, 2).subs({x: x0, y: y0, z: z0})\n",
    "            C = u.diff(z, 2).subs({x: x0, y: y0, z: z0})\n",
    "            if A > 0 or B > 0 or C > 0:\n",
    "                display('minimum', point)\n",
    "            elif A < 0 or B < 0 or C < 0:\n",
    "                display('maximum', point)\n",
    "            else:\n",
    "                display('just point', point)"
   ]
  },
  {
   "cell_type": "code",
   "execution_count": null,
   "metadata": {},
   "outputs": [],
   "source": []
  }
 ],
 "metadata": {
  "kernelspec": {
   "display_name": "Python 3",
   "language": "python",
   "name": "python3"
  },
  "language_info": {
   "codemirror_mode": {
    "name": "ipython",
    "version": 3
   },
   "file_extension": ".py",
   "mimetype": "text/x-python",
   "name": "python",
   "nbconvert_exporter": "python",
   "pygments_lexer": "ipython3",
   "version": "3.8.1"
  }
 },
 "nbformat": 4,
 "nbformat_minor": 4
}
