{
 "cells": [
  {
   "cell_type": "code",
   "execution_count": 1,
   "metadata": {},
   "outputs": [],
   "source": [
    "import sympy\n",
    "from sympy import Point, Line, Plane, Point3D, solve, solveset, symbols, Eq"
   ]
  },
  {
   "cell_type": "markdown",
   "metadata": {},
   "source": [
    "# Лабораторная работа 7\n",
    "# Алгебра\n",
    "https://docs.sympy.org/latest/search.html?q=geometry\n",
    "\n",
    "## Прямые и плоскости в пространстве. Модуль Geometry\n",
    "### Задание 1.\n",
    "Даны точки: $A(3, -2, 3)$,  $B(-2, 3, 1)$, $C(1, -8, 6)$, $D(1, 2, 4)$, $F(-7, 8, -1)$.\n",
    "\n",
    "Проверить, различны ли прямые $AB$ и $AF$, $BC$ и $CD$, $ABC$ и $ACF$, $ABC$ и $ACD$. "
   ]
  },
  {
   "cell_type": "code",
   "execution_count": 3,
   "metadata": {},
   "outputs": [
    {
     "name": "stdout",
     "output_type": "stream",
     "text": [
      "AB = AF\n",
      "ABC = ACF\n"
     ]
    }
   ],
   "source": [
    "A = Point(3, -2, 3)\n",
    "B = Point(-2, 3, 1)\n",
    "C = Point(1, -8, 6)\n",
    "D = Point(1, 2, 4)\n",
    "F = Point(-7, 8, -1)\n",
    "\n",
    "names = [\"AB\", \"AF\", \"BC\", \"CD\"]\n",
    "lines = [Line(A, B), Line(A, F), Line(B, C), Line(C, D)]\n",
    "for i in range(len(lines)):\n",
    "    for j in range(i + 1, len(lines)):\n",
    "        if lines[i].equals(lines[j]):\n",
    "            print(f\"{names[i]} = {names[j]}\")\n",
    "\n",
    "names = [\"ABC\", \"ACF\", \"ACD\"]\n",
    "planes = [Plane(A, B, C), Plane(A, C, F), Plane(A, C, D)]\n",
    "for i in range(len(planes)):\n",
    "    for j in range(i + 1, len(planes)):\n",
    "        if planes[i].equals(planes[j]):\n",
    "            print(f\"{names[i]} = {names[j]}\")"
   ]
  },
  {
   "cell_type": "markdown",
   "metadata": {},
   "source": [
    "###  Задание 2\n",
    "Вывести на экран уравнение обеих биссектрис двугранных углов, образованных при пересечении плоскостей АВС и АСD.\n",
    "\n",
    "Указание: расстояние от любой точки на биссектрисе до каждой из плоскостей АВС и АСD одинаково, полученное из этого уравнение описывает обе биссектрисы, упрощать его не нужно."
   ]
  },
  {
   "cell_type": "code",
   "execution_count": 4,
   "metadata": {},
   "outputs": [
    {
     "name": "stdout",
     "output_type": "stream",
     "text": [
      "Eq(Abs(3*sqrt(1970)*(x - 3)/1970 + 19*sqrt(1970)*(y + 2)/1970 + 4*sqrt(1970)*(z - 3)/197), Abs(9*sqrt(185)*(x - 3)/185 + 2*sqrt(185)*(y + 2)/185 + 2*sqrt(185)*(z - 3)/37))\n"
     ]
    }
   ],
   "source": [
    "x, y, z = symbols(\"x y z\")\n",
    "point = Point(x, y, z)\n",
    "ABC = Plane(A, B, C)\n",
    "ACD = Plane(A, C, D)\n",
    "\n",
    "print(Eq(point.distance(ABC), point.distance(ACD)))"
   ]
  },
  {
   "cell_type": "markdown",
   "metadata": {},
   "source": [
    "###  Задание 3\n",
    "Построить плоскость, перпендикулярную плоскости АВС, проходящую через D и начало координат. Найти линию пересечения АВС и этой плоскости."
   ]
  },
  {
   "cell_type": "code",
   "execution_count": 68,
   "metadata": {},
   "outputs": [
    {
     "data": {
      "text/latex": [
       "$\\displaystyle Line3D\\left(Point3D\\left(\\frac{637}{40}, \\frac{91}{40}, 0\\right), Point3D\\left(\\frac{55317}{40}, \\frac{4931}{40}, -160\\right)\\right)$"
      ],
      "text/plain": [
       "Line3D(Point3D(637/40, 91/40, 0), Point3D(55317/40, 4931/40, -160))"
      ]
     },
     "execution_count": 68,
     "metadata": {},
     "output_type": "execute_result"
    }
   ],
   "source": [
    "n = [3, 19, 40] # вектор нормали\n",
    "D1 = Point(0, 0, 0) # начало координат\n",
    "D2 = Point(4, 21, 44) # точка D + вектор нормали\n",
    "DDD = Plane(D, D1, D2) # искомая плоскость\n",
    "DDD.intersection(ABC)[0] # пересечение плоскостей"
   ]
  },
  {
   "cell_type": "markdown",
   "metadata": {},
   "source": [
    "###  Задание 4\n",
    "Найти пересечение плоскости АВС и прямой DK, где K(3,-2, 3)."
   ]
  },
  {
   "cell_type": "code",
   "execution_count": 71,
   "metadata": {},
   "outputs": [
    {
     "data": {
      "text/latex": [
       "$\\displaystyle Point3D\\left(3, -2, 3\\right)$"
      ],
      "text/plain": [
       "Point3D(3, -2, 3)"
      ]
     },
     "execution_count": 71,
     "metadata": {},
     "output_type": "execute_result"
    }
   ],
   "source": [
    "K = Point(3, -2, 3)\n",
    "DK = Line(D, K)\n",
    "ABC.intersection(DK)[0]"
   ]
  },
  {
   "cell_type": "markdown",
   "metadata": {},
   "source": [
    "###  Задание 5\n",
    "Проверить, что точка пересечения из Задания 4 лежит в плоскости AFC."
   ]
  },
  {
   "cell_type": "code",
   "execution_count": 6,
   "metadata": {},
   "outputs": [
    {
     "name": "stdout",
     "output_type": "stream",
     "text": [
      "6*x + 38*y + 80*z - 182\n",
      "0\n",
      "Точка лежит в плоскости\n",
      "0\n"
     ]
    }
   ],
   "source": [
    "AFC = Plane(A, F, C)\n",
    "# print(AFC.equation())\n",
    "# print(6*3 + 38*(-2) + 80*3 - 182) # подставил точку в уравнение плоскости\n",
    "# print(\"Точка лежит в плоскости\")\n",
    "\n",
    "K = Point(3, -2, 3)\n",
    "DK = Line(D, K)\n",
    "print(ABC.intersection(DK)[0].distance(AFC))"
   ]
  },
  {
   "cell_type": "markdown",
   "metadata": {},
   "source": [
    "###  Задание 6\n",
    "Даны точки: A(3, -2, 3),  B(-2, 3, 1), C(1, -8, 6), D(1, 2, 4), F(-7, 8, -1).\n",
    "\n",
    "Составить словарь всех прямых (в нем должны быть и прямая АВ, и ВА!), каждая из которых проходит хотя бы через две заданные точки, ключ - сама прямая (Line), значение - список из имен ВСЕХ точек, лежащих на этой прямой. Вывести на экран имена только тех прямых, на которых лежит не менее трех точек из условия, а также список точек, лежащих на прямой."
   ]
  },
  {
   "cell_type": "code",
   "execution_count": 85,
   "metadata": {},
   "outputs": [
    {
     "name": "stdout",
     "output_type": "stream",
     "text": [
      "Line3D(Point3D(3, -2, 3), Point3D(-2, 3, 1)) ----> {Point3D(3, -2, 3), Point3D(-7, 8, -1), Point3D(-2, 3, 1)}\n"
     ]
    }
   ],
   "source": [
    "points = [A, B, C, D, F]\n",
    "lines = dict()\n",
    "\n",
    "# Перебор всех точек и прямых\n",
    "for point1 in points:\n",
    "    for point2 in points:\n",
    "        if point1 != point2:\n",
    "            line = Line(point1, point2)\n",
    "            foundLine = False\n",
    "            # Добавление прямой в словарь\n",
    "            for elem in lines:\n",
    "                # Если прямая уже есть в словаре, просто добавляем точки\n",
    "                if elem.equals(line):\n",
    "                    lines[elem].add(point1)\n",
    "                    lines[elem].add(point2)\n",
    "                    foundLine = True\n",
    "                    break\n",
    "            if not foundLine:\n",
    "                lines[line] = set([point1, point2])\n",
    "\n",
    "# Вывод нужных элементов\n",
    "for elem in lines:\n",
    "    if len(lines[elem]) >= 3:\n",
    "        print(elem, \"---->\", lines[elem])"
   ]
  },
  {
   "cell_type": "markdown",
   "metadata": {},
   "source": [
    "### Индивидуальное задание\n",
    "\n",
    "Даны точки: $A(3, 2, 1)$,  $B(2, -3, 1)$, $C(0, -4, 6)$, $D(4, 7, 1)$, $F(1, -8, 1)$.\n",
    "\n",
    "Составить список lines_list, состоящий из  tuple из троек прямых, каждая из которых проходит через две (или более) заданные точки, причем все прямые пересекаются в одной точке. Совпадающие прямые не учитывать. "
   ]
  },
  {
   "cell_type": "markdown",
   "metadata": {},
   "source": [
    "Вариант N36\n",
    "\n",
    "Точки: $C(6, -2, 9)$, $D(1/2, -4, 5)$, $F(-1, -5, 3)$, $M(2, -3, 7)$ и $U(-5, -6, 1)$."
   ]
  },
  {
   "cell_type": "code",
   "execution_count": 94,
   "metadata": {},
   "outputs": [
    {
     "name": "stdout",
     "output_type": "stream",
     "text": [
      "(Line3D(Point3D(1, -8, 6), Point3D(1/2, -4, 5)), Line3D(Point3D(1, -8, 6), Point3D(-1, -5, 3)), Line3D(Point3D(1, -8, 6), Point3D(2, -3, 7)))\n",
      "(Line3D(Point3D(1, -8, 6), Point3D(1/2, -4, 5)), Line3D(Point3D(1, -8, 6), Point3D(-1, -5, 3)), Line3D(Point3D(1, -8, 6), Point3D(-5, -6, 1)))\n",
      "(Line3D(Point3D(1, -8, 6), Point3D(1/2, -4, 5)), Line3D(Point3D(1, -8, 6), Point3D(2, -3, 7)), Line3D(Point3D(1, -8, 6), Point3D(-5, -6, 1)))\n",
      "(Line3D(Point3D(1, -8, 6), Point3D(1/2, -4, 5)), Line3D(Point3D(1/2, -4, 5), Point3D(-1, -5, 3)), Line3D(Point3D(1/2, -4, 5), Point3D(-5, -6, 1)))\n",
      "(Line3D(Point3D(1, -8, 6), Point3D(-1, -5, 3)), Line3D(Point3D(1, -8, 6), Point3D(2, -3, 7)), Line3D(Point3D(1, -8, 6), Point3D(-5, -6, 1)))\n",
      "(Line3D(Point3D(1, -8, 6), Point3D(-1, -5, 3)), Line3D(Point3D(1/2, -4, 5), Point3D(-1, -5, 3)), Line3D(Point3D(-1, -5, 3), Point3D(-5, -6, 1)))\n",
      "(Line3D(Point3D(1, -8, 6), Point3D(2, -3, 7)), Line3D(Point3D(1/2, -4, 5), Point3D(-1, -5, 3)), Line3D(Point3D(2, -3, 7), Point3D(-5, -6, 1)))\n",
      "(Line3D(Point3D(1, -8, 6), Point3D(-5, -6, 1)), Line3D(Point3D(1/2, -4, 5), Point3D(-5, -6, 1)), Line3D(Point3D(-1, -5, 3), Point3D(-5, -6, 1)))\n",
      "(Line3D(Point3D(1, -8, 6), Point3D(-5, -6, 1)), Line3D(Point3D(1/2, -4, 5), Point3D(-5, -6, 1)), Line3D(Point3D(2, -3, 7), Point3D(-5, -6, 1)))\n",
      "(Line3D(Point3D(1, -8, 6), Point3D(-5, -6, 1)), Line3D(Point3D(-1, -5, 3), Point3D(-5, -6, 1)), Line3D(Point3D(2, -3, 7), Point3D(-5, -6, 1)))\n",
      "(Line3D(Point3D(1/2, -4, 5), Point3D(-5, -6, 1)), Line3D(Point3D(-1, -5, 3), Point3D(-5, -6, 1)), Line3D(Point3D(2, -3, 7), Point3D(-5, -6, 1)))\n"
     ]
    }
   ],
   "source": [
    "С = Point(6, -2, 9)\n",
    "D = Point(0.5, -4, 5)\n",
    "F = Point(-1, -5, 3)\n",
    "M = Point(2, -3, 7)\n",
    "U = Point(-5, -6, 1)\n",
    "points = [C, D, F, M, U]\n",
    "\n",
    "# ПОИСК ВСЕХ РАЗНЫХ ПРЯМЫХ\n",
    "all_lines = []\n",
    "length = len(points)\n",
    "for i in range(length):\n",
    "    for j in range(i + 1, length):\n",
    "        line = Line(points[i], points[j])\n",
    "        found_line = False\n",
    "        for elem in all_lines:\n",
    "            if elem.equals(line):\n",
    "                found_line = True\n",
    "        if not found_line:\n",
    "            all_lines.append(line)\n",
    "\n",
    "# ПЕРЕБОР ВСЕХ ТРОЕК ПРЯМЫХ И ОТБОР НУЖНЫХ\n",
    "lines_list = []\n",
    "length = len(all_lines)\n",
    "for i in range(length):\n",
    "    for j in range(i + 1, length):\n",
    "        for k in range(j + 1, length):\n",
    "            array1 = all_lines[i].intersection(all_lines[j])\n",
    "            array2 = all_lines[i].intersection(all_lines[k])\n",
    "            # ЕСЛИ ПРЯМЫЕ НЕ ПЕРЕСЕКАЮТСЯ -> ДЛИНА МАССИВА НОЛЬ\n",
    "            if len(array1) > 0 and len(array2) > 0:\n",
    "                point1 = array1[0]\n",
    "                point2 = array2[0]\n",
    "                if point1.equals(point2):\n",
    "                    new_tuple = tuple([all_lines[i], all_lines[j], all_lines[k]])\n",
    "                    lines_list.append(new_tuple)\n",
    "\n",
    "# ВЫВОД ВСЕХ ПРЯМЫХ\n",
    "for elem in lines_list:\n",
    "    print(elem)"
   ]
  },
  {
   "cell_type": "code",
   "execution_count": null,
   "metadata": {},
   "outputs": [],
   "source": []
  }
 ],
 "metadata": {
  "kernelspec": {
   "display_name": "Python 3",
   "language": "python",
   "name": "python3"
  },
  "language_info": {
   "codemirror_mode": {
    "name": "ipython",
    "version": 3
   },
   "file_extension": ".py",
   "mimetype": "text/x-python",
   "name": "python",
   "nbconvert_exporter": "python",
   "pygments_lexer": "ipython3",
   "version": "3.8.1"
  }
 },
 "nbformat": 4,
 "nbformat_minor": 4
}
