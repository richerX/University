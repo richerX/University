{
 "cells": [
  {
   "cell_type": "markdown",
   "metadata": {},
   "source": [
    "# Практическое занятие 1\n",
    "## Математический анализ\n",
    "\n",
    "https://docs.sympy.org/latest/tutorial/intro.html"
   ]
  },
  {
   "cell_type": "code",
   "execution_count": 4,
   "metadata": {},
   "outputs": [],
   "source": [
    "#Вначале для простоты будем подключать модуль sympy целиком\n",
    "from sympy import *"
   ]
  },
  {
   "cell_type": "markdown",
   "metadata": {},
   "source": [
    "### Функции пользователя\n",
    "#### Задание 1\n",
    "Описать функцию $f(x,n)=x(x+1)...(x+n-1)(x+n)$, $n>0$, вычислить  $f(3,5)$, $f(x,4)$, $f(y + z,1)$.      "
   ]
  },
  {
   "cell_type": "code",
   "execution_count": 16,
   "metadata": {},
   "outputs": [
    {
     "name": "stdout",
     "output_type": "stream",
     "text": [
      "20160\n",
      "x*(x + 1)*(x + 2)*(x + 3)*(x + 4)\n",
      "(y + z)*(y + z + 1)\n"
     ]
    }
   ],
   "source": [
    "def f(x, n):\n",
    "    answer = 1\n",
    "    for i in range(n + 1):\n",
    "        answer *= (x + i)\n",
    "    return answer\n",
    "\n",
    "x, y, z = symbols(\"x, y, z\")\n",
    "print(f(3, 5))\n",
    "print(f(x, 4))\n",
    "print(f(y + z, 1))"
   ]
  },
  {
   "cell_type": "markdown",
   "metadata": {},
   "source": [
    "#### Задание 2\n",
    "Описать функцию $right\\_ratio(f, x, delta\\_x)$, вычисляющую правое разностное отношение функции $f$ в точке $x$ при $\\Delta x$, т.е. $\\frac{f(x+\\Delta x)-f(x)}{\\Delta x}$. \n",
    "\n",
    "Аргумент $ delta\\_x$ по умолчанию равен 1.\n",
    "\n",
    "Вычислить правое разностное отношение $\\sin$ в точке $\\frac{\\pi}{4}$ со значением $\\Delta x$ равным  $\\frac{\\pi}{6}$ \n",
    "\n",
    "и правое разностное отношение $e^x$ при $x=3$ со значением $\\Delta x$  по умолчанию. Для вычисления $e^x$ воспользоваться функцией Sympy $\\exp(x)$."
   ]
  },
  {
   "cell_type": "code",
   "execution_count": 21,
   "metadata": {},
   "outputs": [
    {
     "name": "stdout",
     "output_type": "stream",
     "text": [
      "6*(-sqrt(2)/4 + sqrt(6)/4)/pi\n",
      "-exp(3) + exp(4)\n"
     ]
    }
   ],
   "source": [
    "def right_ratio(f, x, delta_x=1):\n",
    "    return (f(x + delta_x) - f(x)) / delta_x\n",
    "\n",
    "print(right_ratio(sin, pi/4, pi/6))\n",
    "print(right_ratio(exp, 3))"
   ]
  },
  {
   "cell_type": "markdown",
   "metadata": {},
   "source": [
    "#### Задание 3\n",
    "Опиcать функцию $square\\_roots$, возвращающую корни квадратного уравнения $a x^2 + bx + c = 0$  с аргументами a, b, c и  необязательным параметром $is\\_real$, по умолчанию равным $True$. Функция возвращает список корней, он пустой, если $is\\_real=True$. Если корень один, то в списке корней он тоже должен быть один.\n",
    "\n",
    "Решить уравнения в вещественных числах:\n",
    "\n",
    "а) $3x^2+8x+4=0$, \n",
    "\n",
    "б) $x^2-4x+4=0$\n",
    "\n",
    "в) $2x^2+x+1=0$\n",
    "\n",
    "Уравнение в) решить отдельно в комплексных числах.\n",
    "\n",
    "Для красивого представления комплексных чисел можно воспользоваться функцией display.\n",
    "\n",
    "Если элементы списка нужно выводить в столбик, можно воспользоваться display(\\*имя_списка) (\\* в данном случае служебный символ)"
   ]
  },
  {
   "cell_type": "code",
   "execution_count": 48,
   "metadata": {},
   "outputs": [
    {
     "name": "stdout",
     "output_type": "stream",
     "text": [
      "[-2, -2/3]\n",
      "[2]\n",
      "[]\n",
      "[-1/4 - sqrt(7)*I/4, -1/4 + sqrt(7)*I/4]\n"
     ]
    }
   ],
   "source": [
    "def square_roots(a, b, c, is_real=True):\n",
    "    x = Symbol(\"x\")\n",
    "    if is_real and b ** 2 - 4 * a * c < 0:\n",
    "        return []\n",
    "    return solve(a * x ** 2 + b * x + c, x)   \n",
    "\n",
    "print(square_roots(3, 8, 4))\n",
    "print(square_roots(1, -4, 4))\n",
    "print(square_roots(2, 1, 1))\n",
    "print(square_roots(2, 1, 1, False))"
   ]
  },
  {
   "cell_type": "markdown",
   "metadata": {},
   "source": [
    "#### Задание 4\n",
    "Описать функцию $check\\_eq(root\\_list, eq)$, проверяющую, что $x=root$ является решением уравнения $eq(x)=0$ для всех элементов списка root_list. Функция возвращает True, если все элементы списка являются корнями, если же хотя бы один не является, то результат False. В случае, если список пустой, $check\\_eq$ возвращает False. Обойтись только изученными на этом занятии средствами!\n",
    "\n",
    "С помощью $check\\_eq$ проверить, что $\\left[\\frac{\\pi}{3}, \\frac{2\\pi}{3}, \\frac{7\\pi}{3}\\right]$ являются корнями уравнения $\\sin(x)-\\frac{\\sqrt{3}}2=0$.\n",
    "\n",
    "##### Указание\n",
    "Описать функцию $eq\\_sin(x) = \\sin(x)-\\frac{\\sqrt{3}}2$.\n",
    "\n",
    "В цикле $for$ в роли счетчика можно использовать сами элементы списка, например так: "
   ]
  },
  {
   "cell_type": "code",
   "execution_count": 49,
   "metadata": {},
   "outputs": [
    {
     "data": {
      "text/plain": [
       "3"
      ]
     },
     "metadata": {},
     "output_type": "display_data"
    },
    {
     "data": {
      "text/plain": [
       "'a'"
      ]
     },
     "metadata": {},
     "output_type": "display_data"
    },
    {
     "data": {
      "text/latex": [
       "$\\displaystyle \\frac{\\sqrt{3}}{2}$"
      ],
      "text/plain": [
       "sqrt(3)/2"
      ]
     },
     "metadata": {},
     "output_type": "display_data"
    }
   ],
   "source": [
    "my_list = [3, 'a', sin(pi/3)]\n",
    "for item in my_list:\n",
    "    display(item)"
   ]
  },
  {
   "cell_type": "code",
   "execution_count": 116,
   "metadata": {},
   "outputs": [
    {
     "data": {
      "text/plain": [
       "True"
      ]
     },
     "execution_count": 116,
     "metadata": {},
     "output_type": "execute_result"
    }
   ],
   "source": [
    "def check_eq(root_list, eq):\n",
    "    accuracy = 1 / 10 ** 16\n",
    "    return all([eq(root) < accuracy for root in root_list])\n",
    "\n",
    "def eq_sin(x):\n",
    "    return (sin(x) - 3 ** (1/2) / 2).evalf()\n",
    "\n",
    "array = [pi/3, 2*pi/3, 7*pi/3]\n",
    "check_eq(array, eq_sin)"
   ]
  },
  {
   "cell_type": "markdown",
   "metadata": {},
   "source": [
    "#### Задание 5\n",
    "Описать функцию $less\\_c(my\\_list,c)$, возвращающую первый попавшийся элемент списка $my\\_list$, меньший $c$, и его номер в списке. Если таких элементов нет, возвращается ($None, None$).\n",
    "\n",
    "Вызвать функцию $less\\_c(my\\_list,c)$ со списком $my\\_list = [3, -2, 8]$ и $c = - 4$, затем с тем же списком, но $c = 1$.\n",
    "\n",
    "С помощью этой функции найти четное натуральное число $n$ до 100 (включительно), такое что $\\sin n <\\frac12$, построив предварительно список $list\\_sin$ синусов четных натуральных чисел (строить список с помощью for и range). "
   ]
  },
  {
   "cell_type": "code",
   "execution_count": 121,
   "metadata": {},
   "outputs": [
    {
     "name": "stdout",
     "output_type": "stream",
     "text": [
      "(None, None)\n",
      "(-2, 2)\n",
      "(sin(4), 2)\n"
     ]
    }
   ],
   "source": [
    "def less_c(my_list, c):\n",
    "    for i in range(len(my_list)):\n",
    "        if my_list[i] < c:\n",
    "            return (my_list[i], i + 1)\n",
    "    return (None, None)\n",
    "\n",
    "my_list = [3, -2, 8] \n",
    "print(less_c(my_list, -4))\n",
    "print(less_c(my_list, 1))\n",
    "\n",
    "list_sin = [sin(i) for i in range(2, 101, 2)]\n",
    "print(less_c(list_sin, 1/2))"
   ]
  },
  {
   "cell_type": "markdown",
   "metadata": {},
   "source": [
    "### Индивидуальное задание"
   ]
  },
  {
   "cell_type": "code",
   "execution_count": 5,
   "metadata": {},
   "outputs": [
    {
     "name": "stdout",
     "output_type": "stream",
     "text": [
      "0\n",
      "-1.64894950128249\n",
      "-17.9384998775994\n"
     ]
    }
   ],
   "source": [
    "# Номер варианта - 36\n",
    "def f(x):\n",
    "    return (log(x**2+4*x-4)/tan(8*x**3+4*x-2)).evalf()\n",
    "\n",
    "array = [1, 3*pi + 1, 7*pi + 1]\n",
    "for elem in array:\n",
    "    print(f(elem))"
   ]
  },
  {
   "cell_type": "code",
   "execution_count": null,
   "metadata": {},
   "outputs": [],
   "source": []
  }
 ],
 "metadata": {
  "kernelspec": {
   "display_name": "Python 3",
   "language": "python",
   "name": "python3"
  },
  "language_info": {
   "codemirror_mode": {
    "name": "ipython",
    "version": 3
   },
   "file_extension": ".py",
   "mimetype": "text/x-python",
   "name": "python",
   "nbconvert_exporter": "python",
   "pygments_lexer": "ipython3",
   "version": "3.8.1"
  }
 },
 "nbformat": 4,
 "nbformat_minor": 4
}
