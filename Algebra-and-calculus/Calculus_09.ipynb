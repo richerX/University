{
 "cells": [
  {
   "cell_type": "code",
   "execution_count": 2,
   "metadata": {},
   "outputs": [],
   "source": [
    "import sympy\n",
    "from sympy import Symbol, symbols, S, Function, integrate, Integral, diff, solve"
   ]
  },
  {
   "cell_type": "markdown",
   "metadata": {},
   "source": [
    "## Занятие 9\n",
    "## Математический анализ\n",
    "## Интегрирование функции: первообразная и неопределенный интеграл\n",
    "https://docs.sympy.org/1.5.1/modules/integrals/integrals.html\n",
    "\n",
    "https://ru.wikipedia.org/wiki/%D0%9F%D0%B5%D1%80%D0%B2%D0%BE%D0%BE%D0%B1%D1%80%D0%B0%D0%B7%D0%BD%D0%B0%D1%8F\n",
    "\n",
    "https://ru.wikipedia.org/wiki/%D0%A1%D0%BF%D0%B8%D1%81%D0%BE%D0%BA_%D0%B8%D0%BD%D1%82%D0%B5%D0%B3%D1%80%D0%B0%D0%BB%D0%BE%D0%B2_%D1%8D%D0%BB%D0%B5%D0%BC%D0%B5%D0%BD%D1%82%D0%B0%D1%80%D0%BD%D1%8B%D1%85_%D1%84%D1%83%D0%BD%D0%BA%D1%86%D0%B8%D0%B9"
   ]
  },
  {
   "cell_type": "markdown",
   "metadata": {},
   "source": [
    "### Задача 1.\n",
    "Вычислить определенные интегралы:\n",
    "$$\n",
    "1)\\ \\int_2^3 \\frac{1}{\\sqrt{x-2}},\\ 2) \\int_1^6 \\frac{1}{(x-1)^3},\\ 3)\\ \\int_2^\\infty \\frac{1}{(x-1)^3} \n",
    "$$"
   ]
  },
  {
   "cell_type": "code",
   "execution_count": 33,
   "metadata": {},
   "outputs": [
    {
     "data": {
      "text/latex": [
       "$\\displaystyle 2$"
      ],
      "text/plain": [
       "2"
      ]
     },
     "metadata": {},
     "output_type": "display_data"
    },
    {
     "data": {
      "text/latex": [
       "$\\displaystyle \\infty$"
      ],
      "text/plain": [
       "oo"
      ]
     },
     "metadata": {},
     "output_type": "display_data"
    },
    {
     "data": {
      "text/latex": [
       "$\\displaystyle \\frac{1}{2}$"
      ],
      "text/plain": [
       "1/2"
      ]
     },
     "metadata": {},
     "output_type": "display_data"
    }
   ],
   "source": [
    "x = Symbol('x')\n",
    "display(integrate(1/sympy.sqrt(x-2), (x, 2, 3)))\n",
    "display(integrate(1/((x-1)*(x-1)*(x-1)), (x, 1, 6)))\n",
    "display(integrate(1/((x-1)*(x-1)*(x-1)), (x, 2, sympy.oo)))"
   ]
  },
  {
   "cell_type": "markdown",
   "metadata": {},
   "source": [
    "### Задача 2\n",
    "Описать функцию, находящую неопределенный интеграл $\\int f(x)\\,dx$ в виде $F(x)+C$.\n",
    "\n",
    "Использовать эту функцию для интегрирования $\\sin(3x+5)$, $x{\\rm tg}(x^2)$, $(e^{\\sin x})\\cos x$, $x^2e^{x^3}$"
   ]
  },
  {
   "cell_type": "code",
   "execution_count": 23,
   "metadata": {},
   "outputs": [
    {
     "data": {
      "text/latex": [
       "$\\displaystyle \\int \\sin{\\left(3 x + 5 \\right)}\\, dx = C - \\frac{\\cos{\\left(3 x + 5 \\right)}}{3}$"
      ],
      "text/plain": [
       "Eq(Integral(sin(3*x + 5), x), C - cos(3*x + 5)/3)"
      ]
     },
     "metadata": {},
     "output_type": "display_data"
    },
    {
     "data": {
      "text/latex": [
       "$\\displaystyle \\int x \\tan{\\left(x^{2} \\right)}\\, dx = C + \\frac{\\log{\\left(\\tan^{2}{\\left(x^{2} \\right)} + 1 \\right)}}{4}$"
      ],
      "text/plain": [
       "Eq(Integral(x*tan(x**2), x), C + log(tan(x**2)**2 + 1)/4)"
      ]
     },
     "metadata": {},
     "output_type": "display_data"
    },
    {
     "data": {
      "text/latex": [
       "$\\displaystyle \\int e^{\\sin{\\left(x \\right)}} \\cos{\\left(x \\right)}\\, dx = C + e^{\\sin{\\left(x \\right)}}$"
      ],
      "text/plain": [
       "Eq(Integral(exp(sin(x))*cos(x), x), C + exp(sin(x)))"
      ]
     },
     "metadata": {},
     "output_type": "display_data"
    },
    {
     "data": {
      "text/latex": [
       "$\\displaystyle \\int x^{2} e^{x^{3}}\\, dx = C + \\frac{e^{x^{3}}}{3}$"
      ],
      "text/plain": [
       "Eq(Integral(x**2*exp(x**3), x), C + exp(x**3)/3)"
      ]
     },
     "metadata": {},
     "output_type": "display_data"
    }
   ],
   "source": [
    "def SpecInteg(function):\n",
    "    C = Symbol('C')\n",
    "    display(sympy.Eq(Integral(function), function.integrate() + C))\n",
    "\n",
    "\n",
    "SpecInteg(sympy.sin(3*x+5))\n",
    "SpecInteg(x*sympy.tan(x*x))\n",
    "SpecInteg(sympy.E**sympy.sin(x) * sympy.cos(x))\n",
    "SpecInteg(x**2 * sympy.E**x**3)"
   ]
  },
  {
   "cell_type": "markdown",
   "metadata": {},
   "source": [
    "### Задача 3.\n",
    "Найти первообразную функции $\\frac{x-3}{(x+1)^2}$, график которой проходит через начало координат."
   ]
  },
  {
   "cell_type": "code",
   "execution_count": 32,
   "metadata": {},
   "outputs": [
    {
     "data": {
      "text/latex": [
       "$\\displaystyle \\int \\frac{x - 3}{\\left(x + 1\\right)^{2}}\\, dx = C + \\log{\\left(x + 1 \\right)} + \\frac{4}{x + 1}$"
      ],
      "text/plain": [
       "Eq(Integral((x - 3)/(x + 1)**2, x), C + log(x + 1) + 4/(x + 1))"
      ]
     },
     "metadata": {},
     "output_type": "display_data"
    },
    {
     "data": {
      "text/latex": [
       "$\\displaystyle \\log{\\left(x + 1 \\right)} - 4 + \\frac{4}{x + 1} = 0$"
      ],
      "text/plain": [
       "Eq(log(x + 1) - 4 + 4/(x + 1), 0)"
      ]
     },
     "metadata": {},
     "output_type": "display_data"
    }
   ],
   "source": [
    "def SpecInteg(function):\n",
    "    C = Symbol('C')\n",
    "    display(sympy.Eq(Integral(function), function.integrate() + C))\n",
    "    # Посчитал \"c\" в ручную, чтобы через (0, 0) проходило\n",
    "    display(sympy.Eq(sympy.log(x+1) + 4/(x+1) -4, 0))\n",
    "\n",
    "\n",
    "SpecInteg((x-3) / (x+1)**2)"
   ]
  },
  {
   "cell_type": "markdown",
   "metadata": {},
   "source": [
    "### Задача 4.\n",
    "Описать функцию, вычисляющую неопределенный интеграл от $\\frac{1}{\\sqrt{x^2+a}}$ по формуле \"длинного логарифма\":\n",
    "$$\n",
    "\\int\\frac{1}{\\sqrt{x^2+a}} = \\ln|x + \\sqrt{x^2 + a}| + C,\\quad a \\neq 0. \n",
    "$$\n",
    "Функция возвращает $\\ln|x| + C$ при $a = 0$. Аргументы функции - переменная интегрирования $x$ и параметр $a$.\n",
    "\n",
    "Вызвать функцию при $a = 0, 1, 4$. Сравнить с результатом integrate.\n",
    "\n",
    "Проверить дифференцированием, при необходимости использовать simplyfy для того, чтобы упростить выражение.\n",
    "\n",
    "Рекомендется создавать положительные символы, чтобы не было неоднозначности."
   ]
  },
  {
   "cell_type": "code",
   "execution_count": 61,
   "metadata": {},
   "outputs": [
    {
     "data": {
      "text/latex": [
       "$\\displaystyle \\int \\frac{1}{x}\\, dx = C + \\log{\\left(x \\right)}$"
      ],
      "text/plain": [
       "Eq(Integral(1/x, x), C + log(x))"
      ]
     },
     "metadata": {},
     "output_type": "display_data"
    },
    {
     "data": {
      "text/latex": [
       "$\\displaystyle \\int \\frac{1}{x}\\, dx = C + \\log{\\left(x \\right)}$"
      ],
      "text/plain": [
       "Eq(Integral(1/x, x), C + log(x))"
      ]
     },
     "metadata": {},
     "output_type": "display_data"
    },
    {
     "data": {
      "text/latex": [
       "$\\displaystyle \\frac{1}{x}$"
      ],
      "text/plain": [
       "1/x"
      ]
     },
     "metadata": {},
     "output_type": "display_data"
    },
    {
     "data": {
      "text/latex": [
       "$\\displaystyle \\frac{1}{x}$"
      ],
      "text/plain": [
       "1/x"
      ]
     },
     "metadata": {},
     "output_type": "display_data"
    },
    {
     "name": "stdout",
     "output_type": "stream",
     "text": [
      "\n",
      "--------------------\n"
     ]
    },
    {
     "data": {
      "text/latex": [
       "$\\displaystyle \\int \\frac{1}{\\sqrt{x^{2} + 1}}\\, dx = C + \\operatorname{asinh}{\\left(x \\right)}$"
      ],
      "text/plain": [
       "Eq(Integral(1/sqrt(x**2 + 1), x), C + asinh(x))"
      ]
     },
     "metadata": {},
     "output_type": "display_data"
    },
    {
     "data": {
      "text/latex": [
       "$\\displaystyle \\int \\frac{1}{\\sqrt{x^{2} + 1}}\\, dx = C + \\log{\\left(x + \\sqrt{x^{2} + 1} \\right)}$"
      ],
      "text/plain": [
       "Eq(Integral(1/sqrt(x**2 + 1), x), C + log(x + sqrt(x**2 + 1)))"
      ]
     },
     "metadata": {},
     "output_type": "display_data"
    },
    {
     "data": {
      "text/latex": [
       "$\\displaystyle \\frac{1}{\\sqrt{x^{2} + 1}}$"
      ],
      "text/plain": [
       "1/sqrt(x**2 + 1)"
      ]
     },
     "metadata": {},
     "output_type": "display_data"
    },
    {
     "data": {
      "text/latex": [
       "$\\displaystyle \\frac{1}{\\sqrt{x^{2} + 1}}$"
      ],
      "text/plain": [
       "1/sqrt(x**2 + 1)"
      ]
     },
     "metadata": {},
     "output_type": "display_data"
    },
    {
     "name": "stdout",
     "output_type": "stream",
     "text": [
      "\n",
      "--------------------\n"
     ]
    },
    {
     "data": {
      "text/latex": [
       "$\\displaystyle \\int \\frac{1}{\\sqrt{x^{2} + 4}}\\, dx = C + \\operatorname{asinh}{\\left(\\frac{x}{2} \\right)}$"
      ],
      "text/plain": [
       "Eq(Integral(1/sqrt(x**2 + 4), x), C + asinh(x/2))"
      ]
     },
     "metadata": {},
     "output_type": "display_data"
    },
    {
     "data": {
      "text/latex": [
       "$\\displaystyle \\int \\frac{1}{\\sqrt{x^{2} + 4}}\\, dx = C + \\log{\\left(x + \\sqrt{x^{2} + 4} \\right)}$"
      ],
      "text/plain": [
       "Eq(Integral(1/sqrt(x**2 + 4), x), C + log(x + sqrt(x**2 + 4)))"
      ]
     },
     "metadata": {},
     "output_type": "display_data"
    },
    {
     "data": {
      "text/latex": [
       "$\\displaystyle \\frac{1}{2 \\sqrt{\\frac{x^{2}}{4} + 1}}$"
      ],
      "text/plain": [
       "1/(2*sqrt(x**2/4 + 1))"
      ]
     },
     "metadata": {},
     "output_type": "display_data"
    },
    {
     "data": {
      "text/latex": [
       "$\\displaystyle \\frac{1}{\\sqrt{x^{2} + 4}}$"
      ],
      "text/plain": [
       "1/sqrt(x**2 + 4)"
      ]
     },
     "metadata": {},
     "output_type": "display_data"
    },
    {
     "name": "stdout",
     "output_type": "stream",
     "text": [
      "\n",
      "--------------------\n"
     ]
    }
   ],
   "source": [
    "def SpecInteg(x, a):\n",
    "    # Ввод перемнных и функций\n",
    "    C = Symbol('C')\n",
    "    function = 1 / sympy.sqrt(x**2+a)\n",
    "    function2 = sympy.log(abs(x + sympy.sqrt(x**2+a))) + C\n",
    "    if a == 0:\n",
    "        function2 = sympy.log(abs(x)) + C\n",
    "    \n",
    "    # Вывод интегралов и проверка дифференцированием\n",
    "    display(sympy.Eq(Integral(function), function.integrate() + C))\n",
    "    display(sympy.Eq(Integral(function), function2))\n",
    "    display(diff(function.integrate(), x))\n",
    "    display(sympy.simplify(diff(function2, x)))\n",
    "\n",
    "    # Разделитель\n",
    "    print()\n",
    "    print(\"-\" * 20)\n",
    "\n",
    "\n",
    "x = Symbol(\"x\", positive = True)\n",
    "SpecInteg(x, 0)\n",
    "SpecInteg(x, 1)\n",
    "SpecInteg(x, 4)"
   ]
  },
  {
   "cell_type": "markdown",
   "metadata": {},
   "source": [
    "### Задача 5.\n",
    "Провести замену переменной $y = x^2$ в интеграле $\\int x e^{x^2}\\,dx$."
   ]
  },
  {
   "cell_type": "code",
   "execution_count": 73,
   "metadata": {},
   "outputs": [
    {
     "data": {
      "text/latex": [
       "$\\displaystyle \\int x e^{x^{2}}\\, dx = \\int \\frac{e^{y}}{2}\\, dy$"
      ],
      "text/plain": [
       "Eq(Integral(x*exp(x**2), x), Integral(exp(y)/2, y))"
      ]
     },
     "metadata": {},
     "output_type": "display_data"
    }
   ],
   "source": [
    "y = Symbol('y', positive=True)\n",
    "I1 = Integral(x*sympy.exp(x**2))\n",
    "display(sympy.Eq(I1, I1.transform(x**2, y)))"
   ]
  },
  {
   "cell_type": "markdown",
   "metadata": {},
   "source": [
    "### Индивидуальное задание\n",
    "Провести замену переменных в определенном интеграле, представить результат в виде двух уравнений, как в примере:\n",
    "\\begin{align*}\n",
    "\\int_1^4 \\frac{dx}{\\sqrt{x}\\left(\\sqrt{x}+1\\right)} = \\int_1^2 \\frac{2\\,dy}{y + 1}\\\\\n",
    "\\int_1^2 \\frac{2\\,dy}{y + 1} = 2(\\ln 3 - \\ln 2)\n",
    "\\end{align*}\n",
    "(с точностью до перестановки слагаемых и сомножителей)"
   ]
  },
  {
   "cell_type": "markdown",
   "metadata": {},
   "source": [
    "Вариант 36\n",
    "\n",
    "$$\\int\\limits_{\\frac{6^{\\frac{6}{7}} \\sqrt[7]{\\pi}}{6}}^{\\frac{2^{\\frac{5}{7}} \\sqrt[7]{\\pi}}{2}} \\left(- 7 x^{6} \\sin{\\left(x^{7} \\right)}\\right)\\, dx$$\n",
    "замена $y = x^{7}$"
   ]
  },
  {
   "cell_type": "markdown",
   "metadata": {},
   "source": [
    "-----------------------------------------------------------------------------------------------\n",
    "\n",
    "ИЗ ДОКУМЕНТАЦИИ SYMPY https://docs.sympy.org/latest/modules/integrals/integrals.html\n",
    "\n",
    "This attempt fails because x = +/-sqrt(u + 1) and the sign does not cancel out of the integrand:"
   ]
  },
  {
   "cell_type": "raw",
   "metadata": {},
   "source": [
    "Integral(cos(x**2 - 1), (x, 0, 1)).transform(x**2 - 1, u)\n",
    "Traceback (most recent call last):\n",
    "...\n",
    "ValueError: The mapping between F(x) and f(u) did not give a unique integrand."
   ]
  },
  {
   "cell_type": "code",
   "execution_count": 6,
   "metadata": {},
   "outputs": [
    {
     "data": {
      "text/latex": [
       "$\\displaystyle \\int\\limits_{0.77416856995861 \\pi^{0.142857142857143}}^{0.820335356007638 \\pi^{0.142857142857143}} \\left(- 7 x^{6} \\sin{\\left(x^{7} \\right)}\\right)\\, dx = \\int\\limits_{0.166666666666667 \\pi^{1.0}}^{0.25 \\pi^{1.0}} \\left(- \\sin{\\left(y \\right)}\\right)\\, dy$"
      ],
      "text/plain": [
       "Eq(Integral(-7*x**6*sin(x**7), (x, 0.77416856995861*pi**0.142857142857143, 0.820335356007638*pi**0.142857142857143)), Integral(-sin(y), (y, 0.166666666666667*pi**1.0, 0.25*pi**1.0)))"
      ]
     },
     "metadata": {},
     "output_type": "display_data"
    },
    {
     "data": {
      "text/latex": [
       "$\\displaystyle \\int\\limits_{0.166666666666667 \\pi^{1.0}}^{0.25 \\pi^{1.0}} \\left(- \\sin{\\left(y \\right)}\\right)\\, dy = - \\cos{\\left(0.166666666666667 \\pi^{1.0} \\right)} + \\cos{\\left(0.25 \\pi^{1.0} \\right)}$"
      ],
      "text/plain": [
       "Eq(Integral(-sin(y), (y, 0.166666666666667*pi**1.0, 0.25*pi**1.0)), -cos(0.166666666666667*pi**1.0) + cos(0.25*pi**1.0))"
      ]
     },
     "metadata": {},
     "output_type": "display_data"
    }
   ],
   "source": [
    "a = (6 ** (6/7) * sympy.pi ** (1/7)) / 6\n",
    "b = (2 ** (5/7) * sympy.pi ** (1/7)) / 2\n",
    "\n",
    "x = Symbol('x', positive=True)\n",
    "y = Symbol('y', positive=True)\n",
    "I1 = Integral(-7*x**6*sympy.sin(x**7), (x, a, b))\n",
    "I2 = Integral(-sympy.sin(y), (y, a**7, b**7))\n",
    "\n",
    "display(sympy.Eq(I1, I2, evaluate=False))\n",
    "display(sympy.Eq(I2, I2.function.integrate((y, a**7, b**7)), evaluate=False))"
   ]
  },
  {
   "cell_type": "code",
   "execution_count": null,
   "metadata": {},
   "outputs": [],
   "source": []
  }
 ],
 "metadata": {
  "kernelspec": {
   "display_name": "Python 3",
   "language": "python",
   "name": "python3"
  },
  "language_info": {
   "codemirror_mode": {
    "name": "ipython",
    "version": 3
   },
   "file_extension": ".py",
   "mimetype": "text/x-python",
   "name": "python",
   "nbconvert_exporter": "python",
   "pygments_lexer": "ipython3",
   "version": "3.8.1"
  }
 },
 "nbformat": 4,
 "nbformat_minor": 4
}
