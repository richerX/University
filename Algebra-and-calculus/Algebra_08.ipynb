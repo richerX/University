{
 "cells": [
  {
   "cell_type": "code",
   "execution_count": 1,
   "metadata": {},
   "outputs": [],
   "source": [
    "import sympy\n",
    "from sympy import  Point, Line, Plane, Point3D, Segment, Ray, S, latex\n",
    "import matplotlib.pyplot as plt"
   ]
  },
  {
   "cell_type": "markdown",
   "metadata": {},
   "source": [
    "# Практическое занятие 8\n",
    "# Алгебра\n",
    "https://docs.sympy.org/latest/search.html?q=geometry\n",
    "\n",
    "## Проекции, сегменты, лучи в модуле Geometry\n",
    "### Задание 1.\n",
    "Даны точки: $A(3, -2, 3)$,$B(-2, 3, 1)$, \n",
    "$C(1, -8, 6)$, \n",
    "$D(1, 2, 4)$, \n",
    "$F(-7, 8, -1)$.\n",
    "\n",
    "Составить отрезки $АВ$ и $АС$ и лучи $CD$ и $BF$.\n",
    "\n",
    "Найти: \n",
    "\n",
    "угол между лучами $CD$ и $BF$\n",
    "\n",
    "направления луча $CD$ (xdirection, ydirection, zdirection)\n",
    "\n",
    "длину отрезка $АВ$\n",
    "\n",
    "середину отрезка $АВ$"
   ]
  },
  {
   "cell_type": "code",
   "execution_count": 7,
   "metadata": {},
   "outputs": [
    {
     "name": "stdout",
     "output_type": "stream",
     "text": [
      "acos(5*sqrt(13)/26)\n",
      "\n",
      "0\n",
      "oo\n",
      "-oo\n",
      "\n",
      "3*sqrt(6)\n",
      "\n",
      "Point3D(1/2, 1/2, 2)\n",
      "\n"
     ]
    }
   ],
   "source": [
    "# Введение точек\n",
    "A = Point(3, -2, 3)\n",
    "B = Point(-2, 3, 1)\n",
    "C = Point(1, -8, 6)\n",
    "D = Point(1, 2, 4)\n",
    "F = Point(-7, 8, 1)\n",
    "\n",
    "# Введение отрезков\n",
    "AB = Segment(A, B)\n",
    "AC = Segment(A, C)\n",
    "\n",
    "# Введение лучей\n",
    "CD = Ray(C, D)\n",
    "BF = Ray(B, F)\n",
    "\n",
    "# Угол между лучами  𝐶𝐷  и  𝐵𝐹\n",
    "print(CD.angle_between(BF))\n",
    "print()\n",
    "\n",
    "# Направления луча  𝐶𝐷  (xdirection, ydirection, zdirection)\n",
    "print(CD.xdirection)\n",
    "print(CD.ydirection)\n",
    "print(CD.zdirection)\n",
    "print()\n",
    "\n",
    "# Длину отрезка  АВ\n",
    "print(AB.length)\n",
    "print()\n",
    "\n",
    "# Середину отрезка  АВ\n",
    "print(AB.midpoint)\n",
    "print()"
   ]
  },
  {
   "cell_type": "markdown",
   "metadata": {},
   "source": [
    "### Задание 2.\n",
    "Построить прямую $CD$ и проекцию точки $F$ и отрезка $АВ$  на эту прямую."
   ]
  },
  {
   "cell_type": "code",
   "execution_count": 14,
   "metadata": {},
   "outputs": [
    {
     "name": "stdout",
     "output_type": "stream",
     "text": [
      "Point3D(1, 217/26, 71/26)\n",
      "Segment3D(Point3D(1, -43/26, 123/26), Point3D(1, 46/13, 48/13))\n"
     ]
    }
   ],
   "source": [
    "CD = Line(C, D)\n",
    "print(CD.projection(F))\n",
    "print(CD.projection(AB))"
   ]
  },
  {
   "cell_type": "markdown",
   "metadata": {},
   "source": [
    "### Задание 3.\n",
    "Построить серединный перпендикуляр отрезка $АС$, проходящий через точку $(8, -7, 9/2)$, найти для серединного перпендикуляра уравнение.\n",
    "\n",
    "Указание: должен получиться сегмент, использовать S(9)/2."
   ]
  },
  {
   "cell_type": "code",
   "execution_count": 30,
   "metadata": {},
   "outputs": [
    {
     "name": "stdout",
     "output_type": "stream",
     "text": [
      "Line3D(Point3D(8, -7, 3), Point3D(2, -5, 3))\n",
      "(x + 3*y + 13, z - 3)\n"
     ]
    }
   ],
   "source": [
    "P = Point(8, -7, S(9)/2)\n",
    "print(AC.perpendicular_bisector(P))\n",
    "print(AC.perpendicular_bisector(P).equation())\n",
    "\n",
    "# print([8 - 2, -7 - -5, 9/2 - 9/2])\n",
    "# У направляющего вектора один из коэффицентов ноль, значит прямая лежит в плоскости параллельнйо оси координат\n",
    "# print(\"y = -1/3x - 13/3\")\n",
    "# print(\"z = 9/2\")"
   ]
  },
  {
   "cell_type": "markdown",
   "metadata": {},
   "source": [
    "### Задание 4\n",
    "Даны точки: $A(3, -2)$, $B(-2, 3)$, $C(1, -8)$.\n",
    "\n",
    "Построить на общем графике отрезки $АВ$ и $АС$, серединный перпендикуляр отрезка  $АС$.\n",
    "\n",
    "Точки $A$, $B$ и $C$ отметить и подписать именами.\n",
    "\n",
    "Для одинакового масштаба по осям использовать \n",
    "ax.set_aspect('equal')"
   ]
  },
  {
   "cell_type": "code",
   "execution_count": 2,
   "metadata": {},
   "outputs": [
    {
     "name": "stdout",
     "output_type": "stream",
     "text": [
      "Line2D(Point2D(2, -5), Point2D(8, -7))\n"
     ]
    },
    {
     "data": {
      "image/png": "[encoded data removed]",
      "text/plain": [
       "<Figure size 432x288 with 1 Axes>"
      ]
     },
     "metadata": {
      "needs_background": "light"
     },
     "output_type": "display_data"
    }
   ],
   "source": [
    "# Ввод перменных\n",
    "A = Point(3, -2)\n",
    "B = Point(-2, 3)\n",
    "C = Point(1, -8)\n",
    "point_dict = {A: 'A', B: 'B', C: 'C'}\n",
    "AB = Segment(A, B)\n",
    "AC = Segment(A, C)\n",
    "X = []\n",
    "Y = []\n",
    "ax = plt.gca()\n",
    "ax.set_aspect('equal')\n",
    "\n",
    "# Подписывание точек\n",
    "for point in (point_dict.keys()):\n",
    "    x_coord = point.x\n",
    "    y_coord = point.y\n",
    "    X.append(x_coord)\n",
    "    Y.append(y_coord)\n",
    "    ax.annotate(point_dict[point], xy=(x_coord, y_coord), xycoords='data', xytext=(x_coord + 0.5, y_coord + 0.05), textcoords='data')\n",
    "\n",
    "# Серединный перпендикуляр\n",
    "per = AC.perpendicular_bisector()\n",
    "print(per)    \n",
    "\n",
    "# Рисованпие отрезков\n",
    "ax.plot([A.x, B.x], [A.y, B.y])\n",
    "ax.plot([A.x, C.x], [A.y, C.y])\n",
    "ax.plot([2, 8], [-5, -7])\n",
    "ax.scatter(X, Y)\n",
    "\n",
    "plt.show()"
   ]
  },
  {
   "cell_type": "markdown",
   "metadata": {},
   "source": [
    "### Индивидуальное задание.\n",
    "Даны точки на плоскости: $L(-1, 3)$, $M(5, 2)$, $N(4, -3)$, $P(4, 1)$. \n",
    "\n",
    "Построить отрезок $LM$ и луч $MN$, составить уравнения серединного перпендикуляра  к $LM$ и перпендикуляра к $MN$, проходящего через точку $P$, найти точку пересечения перпендикуляров."
   ]
  },
  {
   "cell_type": "markdown",
   "metadata": {},
   "source": [
    "Вариант N 36\n",
    "\n",
    "Точки: $L(5, 1)$, $M(6, 5)$, $N(3, 11)$, $P(7/2, 17/2)$."
   ]
  },
  {
   "cell_type": "code",
   "execution_count": 56,
   "metadata": {},
   "outputs": [
    {
     "name": "stdout",
     "output_type": "stream",
     "text": [
      "[Point2D(-11/6, 29/6)]\n"
     ]
    }
   ],
   "source": [
    "# Введение точек\n",
    "L = Point(5, 1)\n",
    "M = Point(6, 5)\n",
    "N = Point(3, 11)\n",
    "P = Point(7/2, 17/2)\n",
    "\n",
    "# Введение отрезков\n",
    "LM = Segment(L, M)\n",
    "MN = Segment(M, N)\n",
    "\n",
    "# Составление перпендикуляров и нахождение точки пересечения\n",
    "eq1 = LM.perpendicular_bisector(P)\n",
    "eq2 = MN.perpendicular_bisector(P)\n",
    "print(eq1.intersection(eq2))"
   ]
  },
  {
   "cell_type": "code",
   "execution_count": null,
   "metadata": {},
   "outputs": [],
   "source": []
  }
 ],
 "metadata": {
  "kernelspec": {
   "display_name": "Python 3",
   "language": "python",
   "name": "python3"
  },
  "language_info": {
   "codemirror_mode": {
    "name": "ipython",
    "version": 3
   },
   "file_extension": ".py",
   "mimetype": "text/x-python",
   "name": "python",
   "nbconvert_exporter": "python",
   "pygments_lexer": "ipython3",
   "version": "3.8.1"
  }
 },
 "nbformat": 4,
 "nbformat_minor": 4
}
