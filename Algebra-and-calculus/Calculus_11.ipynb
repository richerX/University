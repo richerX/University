{
 "cells": [
  {
   "cell_type": "code",
   "execution_count": 2,
   "metadata": {},
   "outputs": [],
   "source": [
    "import sympy\n",
    "from sympy import S, Symbol, symbols, Function, integrate, diff, Curve, plot, plot_parametric, latex, solveset, Interval, Integral, Eq\n",
    "from sympy import sin as Sin\n",
    "from sympy import cos as Cos\n",
    "from sympy import pi as Pi\n",
    "%matplotlib inline"
   ]
  },
  {
   "cell_type": "markdown",
   "metadata": {},
   "source": [
    "## Занятие 11\n",
    "## Математический анализ\n",
    "## Применение интегралов для вычисления площади фигуры и длины дуги \n",
    "\n",
    "### Задание 1\n",
    "Вычислить площадь фигуры, ограниченной графиками функций $f = 2 + x^2$ и  $g = 2 - x^3$. Построить графики, найти точки пересечения, затем вычислить соответствующие интегралы."
   ]
  },
  {
   "cell_type": "code",
   "execution_count": 52,
   "metadata": {},
   "outputs": [
    {
     "data": {
      "image/png": "[encoded data removed]",
      "text/plain": [
       "<Figure size 432x288 with 1 Axes>"
      ]
     },
     "metadata": {
      "needs_background": "light"
     },
     "output_type": "display_data"
    },
    {
     "data": {
      "text/latex": [
       "$\\displaystyle \\int\\limits_{-1}^{0} \\left(x^{2} + 2\\right)\\, dx = \\frac{7}{3}$"
      ],
      "text/plain": [
       "Eq(Integral(x**2 + 2, (x, -1, 0)), 7/3)"
      ]
     },
     "metadata": {},
     "output_type": "display_data"
    },
    {
     "data": {
      "text/latex": [
       "$\\displaystyle \\int\\limits_{-1}^{0} \\left(2 - x^{3}\\right)\\, dx = \\frac{9}{4}$"
      ],
      "text/plain": [
       "Eq(Integral(2 - x**3, (x, -1, 0)), 9/4)"
      ]
     },
     "metadata": {},
     "output_type": "display_data"
    },
    {
     "data": {
      "text/latex": [
       "$\\displaystyle \\frac{1}{12}$"
      ],
      "text/plain": [
       "1/12"
      ]
     },
     "metadata": {},
     "output_type": "display_data"
    }
   ],
   "source": [
    "from sympy.abc import x\n",
    "\n",
    "def f(x):\n",
    "    return x ** 2 + 2\n",
    "\n",
    "def g(x):\n",
    "    return 2 - x ** 3\n",
    "\n",
    "p = plot(ylim = (1.9, 3.5), show=False)\n",
    "p.extend(plot(f(x), (x, -1.1, 0.1), line_color=\"g\", show=False))\n",
    "p.extend(plot(g(x), (x, -1.1, 0.1), line_color=\"r\", show=False))\n",
    "p.show()\n",
    "\n",
    "# Точки пересечения\n",
    "# x = 0, y = 2\n",
    "# x = -1, y = 3\n",
    "\n",
    "I1 = Integral(f(x), (x, -1, 0))\n",
    "display(Eq(I1, I1.doit()))\n",
    "\n",
    "I2 = Integral(g(x), (x, -1, 0))\n",
    "display(Eq(I2, I2.doit()))\n",
    "\n",
    "display(I1.doit() - I2.doit())"
   ]
  },
  {
   "cell_type": "markdown",
   "metadata": {},
   "source": [
    "### Задача 2.\n",
    "Вычислить площадь фигуры, ограниченной графиком функции $x = \\cos^3(t)$, $y = \\sin^3(t)$, $0 \\le t \\le 2\\pi$."
   ]
  },
  {
   "cell_type": "code",
   "execution_count": 59,
   "metadata": {},
   "outputs": [
    {
     "data": {
      "text/latex": [
       "$\\displaystyle \\frac{3 \\pi}{8}$"
      ],
      "text/plain": [
       "3*pi/8"
      ]
     },
     "execution_count": 59,
     "metadata": {},
     "output_type": "execute_result"
    }
   ],
   "source": [
    "from sympy.abc import t\n",
    "\n",
    "def f(t):\n",
    "    return (Sin(t)**3) * (Cos(t)**3).diff(t)\n",
    "\n",
    "\n",
    "f(t).integrate((t, 2*Pi, 0))"
   ]
  },
  {
   "cell_type": "markdown",
   "metadata": {},
   "source": [
    "### Задача 3.\n",
    "Вычислить площадь фигуры, ограниченной графиком функции $r = \\cos(2\\phi)$, $-\\frac{\\pi}{4} \\le \\phi \\le \\frac{\\pi}{4}$. "
   ]
  },
  {
   "cell_type": "code",
   "execution_count": 4,
   "metadata": {},
   "outputs": [
    {
     "data": {
      "text/latex": [
       "$\\displaystyle \\int\\limits_{- \\frac{\\pi}{4}}^{\\frac{\\pi}{4}} \\cos{\\left(2 x \\right)}\\, dx = 1$"
      ],
      "text/plain": [
       "Eq(Integral(cos(2*x), (x, -pi/4, pi/4)), 1)"
      ]
     },
     "metadata": {},
     "output_type": "display_data"
    }
   ],
   "source": [
    "from sympy.abc import x\n",
    "\n",
    "def r(x):\n",
    "    return Cos(2*x)\n",
    "\n",
    "I1 = Integral(r(x), (x, -Pi/4, Pi/4))\n",
    "display(Eq(I1, I1.doit()))"
   ]
  },
  {
   "cell_type": "markdown",
   "metadata": {},
   "source": [
    "### Задача 4.\n",
    "Вычислить длину кривой, заданной уравнением $y^2 = x^3$ при $x$ от 1 до 3."
   ]
  },
  {
   "cell_type": "code",
   "execution_count": 7,
   "metadata": {},
   "outputs": [
    {
     "data": {
      "text/latex": [
       "$\\displaystyle \\int\\limits_{1}^{3} \\sqrt{\\frac{9 x}{4} + 1}\\, dx = - \\frac{13 \\sqrt{13}}{27} + \\frac{31 \\sqrt{31}}{27}$"
      ],
      "text/plain": [
       "Eq(Integral(sqrt(9*x/4 + 1), (x, 1, 3)), -13*sqrt(13)/27 + 31*sqrt(31)/27)"
      ]
     },
     "metadata": {},
     "output_type": "display_data"
    }
   ],
   "source": [
    "from sympy.abc import x\n",
    "\n",
    "def f(x):\n",
    "    return sympy.sqrt(x**3)\n",
    "\n",
    "def update(func):\n",
    "    return sympy.sqrt(1 + diff(func)**2)\n",
    "\n",
    "I1 = Integral(update(f(x)), (x, 1, 3))\n",
    "display(Eq(I1, I1.doit()))"
   ]
  },
  {
   "cell_type": "markdown",
   "metadata": {},
   "source": [
    "### Задача 5.\n",
    "Вычислить длину кривой, заданной параметрически $x = \\frac{3}{2}\\cos^3 t $, $y = 3\\sin^3 t$."
   ]
  },
  {
   "cell_type": "code",
   "execution_count": 17,
   "metadata": {},
   "outputs": [
    {
     "data": {
      "text/latex": [
       "$\\displaystyle 2$"
      ],
      "text/plain": [
       "2"
      ]
     },
     "metadata": {},
     "output_type": "display_data"
    }
   ],
   "source": [
    "t = Symbol('t', positive=True)\n",
    "x = S(3)/2*Cos(t)**3\n",
    "y = 3*Sin(t)**3\n",
    "display(4*(diff(x) + y).integrate((t, 0, Pi/2)))"
   ]
  },
  {
   "cell_type": "markdown",
   "metadata": {},
   "source": [
    "### Задача 6.\n",
    "Вычислить длину кривой, заданной в полярных координатах\n",
    "$r = \\phi$, $\\phi$ от 0 до $2\\pi$. Результат вычислить приближенно до 3 знаков после запятой."
   ]
  },
  {
   "cell_type": "code",
   "execution_count": 22,
   "metadata": {},
   "outputs": [
    {
     "data": {
      "text/latex": [
       "$\\displaystyle \\frac{\\operatorname{asinh}{\\left(2 \\pi \\right)}}{2} + \\pi \\sqrt{1 + 4 \\pi^{2}}$"
      ],
      "text/plain": [
       "asinh(2*pi)/2 + pi*sqrt(1 + 4*pi**2)"
      ]
     },
     "execution_count": 22,
     "metadata": {},
     "output_type": "execute_result"
    }
   ],
   "source": [
    "phi = S('phi')\n",
    "r = phi\n",
    "((r**2 + r.diff(phi)**2)**S.Half).integrate((phi, 0, 2*Pi))"
   ]
  },
  {
   "cell_type": "markdown",
   "metadata": {},
   "source": [
    "### Индивидуальное задание\n",
    "Вычислить площадь фигуры, ограниченной графиками функций $f = 2\\sin(x)$ и  $g = \\cos(2x)$ на интервале  $[0, \\pi]$. Построить графики, найти точки пересечения (выделить корни на интервале с помощью intersect и Interval), затем вычислить соответствующие интегралы."
   ]
  },
  {
   "cell_type": "code",
   "execution_count": 9,
   "metadata": {},
   "outputs": [
    {
     "data": {
      "image/png": "[encoded data removed]",
      "text/plain": [
       "<Figure size 432x288 with 1 Axes>"
      ]
     },
     "metadata": {
      "needs_background": "light"
     },
     "output_type": "display_data"
    },
    {
     "data": {
      "text/latex": [
       "$\\displaystyle \\left\\{\\frac{\\pi}{2}, \\frac{3 \\pi}{2}\\right\\}$"
      ],
      "text/plain": [
       "FiniteSet(pi/2, 3*pi/2)"
      ]
     },
     "metadata": {},
     "output_type": "display_data"
    },
    {
     "data": {
      "text/latex": [
       "$\\displaystyle 12$"
      ],
      "text/plain": [
       "12"
      ]
     },
     "metadata": {},
     "output_type": "display_data"
    }
   ],
   "source": [
    "from sympy.abc import x\n",
    "\n",
    "def f(x):\n",
    "    return 4*Cos(x)\n",
    "\n",
    "def g(x):\n",
    "    return Cos(x)\n",
    "\n",
    "p = plot(ylim = (-4, 4), show=False)\n",
    "p.extend(plot(f(x), (x, 0, 2*Pi), line_color=\"g\", show=False))\n",
    "p.extend(plot(g(x), (x, 0, 2*Pi), line_color=\"r\", show=False))\n",
    "p.show()\n",
    "\n",
    "roots = Interval(0, 2*Pi).intersect(solveset(f(x)-g(x), x))\n",
    "display(roots)\n",
    "\n",
    "I1 = Integral(f(x), (x, 0, Pi/2))\n",
    "I2 = Integral(g(x), (x, 0, Pi/2))\n",
    "\n",
    "I3 = Integral(f(x), (x, Pi/2, 3*Pi/2))\n",
    "I4 = Integral(g(x), (x, Pi/2, 3*Pi/2))\n",
    "\n",
    "display(2 * (I1.doit() - I2.doit()) - (I3.doit() - I4.doit()))"
   ]
  },
  {
   "cell_type": "code",
   "execution_count": null,
   "metadata": {},
   "outputs": [],
   "source": []
  }
 ],
 "metadata": {
  "kernelspec": {
   "display_name": "Python 3",
   "language": "python",
   "name": "python3"
  },
  "language_info": {
   "codemirror_mode": {
    "name": "ipython",
    "version": 3
   },
   "file_extension": ".py",
   "mimetype": "text/x-python",
   "name": "python",
   "nbconvert_exporter": "python",
   "pygments_lexer": "ipython3",
   "version": "3.8.1"
  }
 },
 "nbformat": 4,
 "nbformat_minor": 4
}
