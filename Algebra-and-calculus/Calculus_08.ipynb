{
 "cells": [
  {
   "cell_type": "code",
   "execution_count": 2,
   "metadata": {},
   "outputs": [],
   "source": [
    "import numpy as np\n",
    "import matplotlib.pyplot as plt\n",
    "import sympy\n",
    "from sympy import Symbol, diff, solve, nsolve, solveset, latex, S, simplify, fraction, Union, Interval, intersection, limit\n",
    "from sympy.calculus.util import continuous_domain\n",
    "from sympy import sin as Sin\n",
    "from sympy import cos as Cos\n",
    "from sympy import pi as Pi\n",
    "%matplotlib inline"
   ]
  },
  {
   "cell_type": "markdown",
   "metadata": {},
   "source": [
    "## Занятие 8\n",
    "## Математический анализ\n",
    "## Дифференцирование функции, заданной параметрически\n",
    "Пусть зависимость $y$ от $x$ задана параметрически:\n",
    "$$\n",
    "\\left\\{\n",
    "\\begin{matrix}\n",
    "x = \\varphi(t)\\\\\n",
    "y = \\psi(t)\n",
    "\\end{matrix}\n",
    "\\right.\n",
    "$$\n",
    "тогда производная $y$ по $x$  находится по формуле\n",
    "$$\n",
    "y'_x = \\frac{y'_t}{x'_t} = \\frac{\\psi'_t}{\\varphi'_t}\n",
    "$$\n",
    "Вторая производная:\n",
    "$$\n",
    "y''_{xx} = \\frac{x'_t y''_{tt}-x''_{tt}y'_t}{(x'_t)^3}  = \\frac{\\varphi'_t \\psi''_{tt}-\\varphi''_{tt}\\psi'_t}{(\\varphi'_t)^3}\n",
    "$$\n",
    "### Задание 1\n",
    "Найти производные 1 и 2 порядка функции \n",
    "$$\n",
    "\\left\\{\n",
    "\\begin{matrix}\n",
    "x = \\sin(t) - t\\cos(t)\\\\\n",
    "y = \\cos(t) + t\\sin(t)\n",
    "\\end{matrix}\n",
    "\\right.\n",
    "$$"
   ]
  },
  {
   "cell_type": "code",
   "execution_count": 7,
   "metadata": {},
   "outputs": [
    {
     "data": {
      "text/latex": [
       "$\\displaystyle \\frac{\\cos{\\left(t \\right)}}{\\sin{\\left(t \\right)}}$"
      ],
      "text/plain": [
       "cos(t)/sin(t)"
      ]
     },
     "metadata": {},
     "output_type": "display_data"
    },
    {
     "data": {
      "text/latex": [
       "$\\displaystyle - \\frac{1}{t \\sin^{3}{\\left(t \\right)}}$"
      ],
      "text/plain": [
       "-1/(t*sin(t)**3)"
      ]
     },
     "metadata": {},
     "output_type": "display_data"
    }
   ],
   "source": [
    "t = Symbol('t')\n",
    "x = Sin(t) - t * Cos(t)\n",
    "y = Cos(t) + t * Sin(t)\n",
    "\n",
    "dx = diff(x, t)\n",
    "dy = diff(y, t)\n",
    "dy_x = dy/dx\n",
    "dy2_xx = (dx*diff(y, t, 2) - diff(x, t, 2)*dy)/dx**3\n",
    "display(dy_x, simplify(dy2_xx))"
   ]
  },
  {
   "cell_type": "markdown",
   "metadata": {},
   "source": [
    "### Задание 2.\n",
    "Найти нули производных первого и второго порядка, а также точки, в которых эти производные не существуют, для функции\n",
    "$$\n",
    "\\left\\{\n",
    "\\begin{matrix}\n",
    "x = t^2 - 2t\\\\\n",
    "y = t^2 + 2t\n",
    "\\end{matrix}\n",
    "\\right.\n",
    "$$"
   ]
  },
  {
   "cell_type": "code",
   "execution_count": 39,
   "metadata": {},
   "outputs": [
    {
     "data": {
      "text/plain": [
       "'Первая производная, нули числителя:'"
      ]
     },
     "metadata": {},
     "output_type": "display_data"
    },
    {
     "data": {
      "text/latex": [
       "$\\displaystyle \\left\\{-1\\right\\}$"
      ],
      "text/plain": [
       "FiniteSet(-1)"
      ]
     },
     "metadata": {},
     "output_type": "display_data"
    },
    {
     "data": {
      "text/plain": [
       "'нули знаменателя:'"
      ]
     },
     "metadata": {},
     "output_type": "display_data"
    },
    {
     "data": {
      "text/latex": [
       "$\\displaystyle \\left\\{1\\right\\}$"
      ],
      "text/plain": [
       "FiniteSet(1)"
      ]
     },
     "metadata": {},
     "output_type": "display_data"
    },
    {
     "data": {
      "text/plain": [
       "'Вторая производная, нули числителя:'"
      ]
     },
     "metadata": {},
     "output_type": "display_data"
    },
    {
     "data": {
      "text/latex": [
       "$\\displaystyle \\emptyset$"
      ],
      "text/plain": [
       "EmptySet"
      ]
     },
     "metadata": {},
     "output_type": "display_data"
    },
    {
     "data": {
      "text/plain": [
       "'нули знаменателя:'"
      ]
     },
     "metadata": {},
     "output_type": "display_data"
    },
    {
     "data": {
      "text/latex": [
       "$\\displaystyle \\left\\{1\\right\\}$"
      ],
      "text/plain": [
       "FiniteSet(1)"
      ]
     },
     "metadata": {},
     "output_type": "display_data"
    }
   ],
   "source": [
    "t = Symbol('t')\n",
    "x = t ** 2 - 2 * t\n",
    "y = t ** 2 + 2 * t\n",
    "\n",
    "dx = diff(x, t)\n",
    "dy = diff(y, t)\n",
    "dy_x = dy/dx\n",
    "dy2_xx = (dx*diff(y, t, 2) - diff(x, t, 2)*dy)/dx**3\n",
    "\n",
    "dy_x_num, dy_x_den = fraction(dy_x)\n",
    "dy_x_num_nul = solveset(dy_x_num)\n",
    "dy_x_den_nul = solveset(dy_x_den)\n",
    "display('Первая производная, нули числителя:', dy_x_num_nul, 'нули знаменателя:', dy_x_den_nul)\n",
    "\n",
    "dy2_xx_num,dy2_xx_den = fraction(dy2_xx)\n",
    "dy2_xx_num_nul = solveset(dy2_xx_num)\n",
    "dy2_xx_den_nul = solveset(dy2_xx_den)\n",
    "display('Вторая производная, нули числителя:', dy2_xx_num_nul, 'нули знаменателя:', dy2_xx_den_nul)"
   ]
  },
  {
   "cell_type": "markdown",
   "metadata": {},
   "source": [
    "### Задание 3. \n",
    "Найти точки экстремума и точки перегиба функции Задания 2."
   ]
  },
  {
   "cell_type": "code",
   "execution_count": 60,
   "metadata": {},
   "outputs": [
    {
     "data": {
      "text/plain": [
       "[-1, 1]"
      ]
     },
     "metadata": {},
     "output_type": "display_data"
    },
    {
     "name": "stdout",
     "output_type": "stream",
     "text": [
      "\n"
     ]
    },
    {
     "data": {
      "text/plain": [
       "'максимум'"
      ]
     },
     "metadata": {},
     "output_type": "display_data"
    },
    {
     "data": {
      "text/plain": [
       "[]"
      ]
     },
     "metadata": {},
     "output_type": "display_data"
    },
    {
     "name": "stdout",
     "output_type": "stream",
     "text": [
      "\n"
     ]
    },
    {
     "data": {
      "text/plain": [
       "'минимум'"
      ]
     },
     "metadata": {},
     "output_type": "display_data"
    },
    {
     "data": {
      "text/plain": [
       "[]"
      ]
     },
     "metadata": {},
     "output_type": "display_data"
    },
    {
     "name": "stdout",
     "output_type": "stream",
     "text": [
      "\n"
     ]
    },
    {
     "data": {
      "text/plain": [
       "[1]"
      ]
     },
     "metadata": {},
     "output_type": "display_data"
    },
    {
     "name": "stdout",
     "output_type": "stream",
     "text": [
      "\n"
     ]
    },
    {
     "data": {
      "text/plain": [
       "'перегиб '"
      ]
     },
     "metadata": {},
     "output_type": "display_data"
    },
    {
     "data": {
      "text/plain": [
       "[]"
      ]
     },
     "metadata": {},
     "output_type": "display_data"
    }
   ],
   "source": [
    "crit_points = Union(dy_x_num_nul, dy_x_den_nul)\n",
    "points = list(crit_points)\n",
    "display(points)\n",
    "print()\n",
    "\n",
    "max_arr = []\n",
    "min_arr = []\n",
    "for i, item in enumerate(points):\n",
    "    if item in dy_x_num_nul:\n",
    "        df_left = dy_x.subs(t, points[i])\n",
    "        df_right = dy_x.subs(t, points[i + 1])\n",
    "        x_left = float(x.subs(t, points[i]))\n",
    "        x_right = float(x.subs(t, points[i + 1]))\n",
    "        if df_left < 0 and df_right > 0 and x_left < x_right or df_left > 0 and df_right < 0 and x_left > x_right:\n",
    "            min_arr.append(item)\n",
    "        elif df_left < 0 and df_right > 0 and x_left > x_right or df_left > 0 and df_right < 0 and x_left < x_right:\n",
    "            max_arr.append(item)\n",
    "display('максимум', max_arr)\n",
    "print()\n",
    "display('минимум', min_arr)\n",
    "print()\n",
    "\n",
    "dy2_xx_points = Union(dy2_xx_num_nul, dy2_xx_den_nul)\n",
    "dy2_xx_points = list(dy2_xx_points)\n",
    "display(dy2_xx_points)\n",
    "print()\n",
    "\n",
    "inflection = []\n",
    "for i, item in enumerate(dy2_xx_points):\n",
    "    if item in dy2_xx_num_nul:\n",
    "        df_left = dy2_xx.subs(t, points[i])\n",
    "        df_right = dy2_xx.subs(t, points[i + 1])\n",
    "        if df_left*df_right < 0:\n",
    "            inflection.append(item)\n",
    "display('перегиб ', inflection)"
   ]
  },
  {
   "cell_type": "markdown",
   "metadata": {},
   "source": [
    "### Задание 4. Точки перегиба\n",
    "Найти точки перегиба функции, график строить не нужно. \n",
    "$$\n",
    "\\left\\{\n",
    "\\begin{matrix}\n",
    "x = e^t\\\\\n",
    "y = te^{2t}\n",
    "\\end{matrix}\n",
    "\\right.\n",
    "$$"
   ]
  },
  {
   "cell_type": "code",
   "execution_count": 104,
   "metadata": {},
   "outputs": [
    {
     "data": {
      "text/plain": [
       "'перегиб'"
      ]
     },
     "metadata": {},
     "output_type": "display_data"
    },
    {
     "data": {
      "text/plain": [
       "[]"
      ]
     },
     "metadata": {},
     "output_type": "display_data"
    }
   ],
   "source": [
    "t = Symbol('t')\n",
    "x = sympy.E ** t\n",
    "y = t * 2 ** (sympy.E * t)\n",
    "dx = diff(x, t)\n",
    "dy = diff(y, t)\n",
    "dy_x = dy/dx\n",
    "dy2_xx = (dx*diff(y, t, 2) - diff(x, t, 2)*dy)/dx**3\n",
    "\n",
    "# НЕ ПОЛУЧАЕТСЯ ПРЕОБРАЗОВАТЬ В ЛИСТ\n",
    "# ИСПОЛЬЗОВАЛ WOLFRAM И ВБИЛ ВРУЧНУЮ\n",
    "# display(solveset(dy2_xx))\n",
    "# dy2_xx_points = list(solveset(dy2_xx))\n",
    "# display(dy2_xx_points)\n",
    "dy2_xx_points = [(1 - sympy.E*sympy.log(4))/(sympy.E*sympy.log(2)*(sympy.E*sympy.log(2) - 1))]\n",
    "dy2_xx_points = [-1.66174]\n",
    "points = dy2_xx_points + [0]\n",
    "\n",
    "inflection = []\n",
    "for i, item in enumerate(dy2_xx_points):\n",
    "    df_left = dy2_xx.subs(t, points[i])\n",
    "    df_right = dy2_xx.subs(t, points[i + 1])\n",
    "    if df_left * df_right < 0:\n",
    "        inflection.append(item)\n",
    "display('перегиб', inflection)"
   ]
  },
  {
   "cell_type": "markdown",
   "metadata": {},
   "source": [
    "## Асимптоты параметрически заданной функции\n",
    "Пусть зависимость $y$ от $x$ задана параметрически:\n",
    "$$\n",
    "\\left\\{\n",
    "\\begin{matrix}\n",
    "x = \\varphi(t)\\\\\n",
    "y = \\psi(t)\n",
    "\\end{matrix}\n",
    "\\right.\n",
    "$$\n",
    "Сначала нужно определить, нет ли таких значений параметра $t$, при которых одна из функций $\\varphi(t)$ или $\\psi(t)$ обращается в бесконечность, а другая остается конечной. При $\\varphi(t_0) = \\infty$, а $\\psi(t_0) = c$ кривая имеет горизонтальную асимптоту  $y = c$. При  $\\psi(t_0) = \\infty$, а $\\varphi(t_0) = c$ кривая имеет вертикальную асимптоту $x = c$. \n",
    "\n",
    "Если $\\varphi(t_0) = \\psi(t_0) = \\infty$ и \n",
    "$$\n",
    "\\lim_{t\\to t_0} \\frac{\\psi(t)}{\\varphi(t)} = k;\\qquad \\lim_{t\\to t_0} [\\psi(t) - k\\varphi(t)] = b,\n",
    "$$\n",
    "то   кривая имеет наклонную асимптоту  $y = kx + b$. \n",
    "\n",
    "### Индивидуальное задание.\n",
    "Найти асимптоты параметрически заданной функции и изобразить на графике функцию и ее асимптоты."
   ]
  },
  {
   "cell_type": "markdown",
   "metadata": {},
   "source": [
    "Вариант 36\n",
    "\n",
    "$x = \\frac{2 t}{t^{3} + 8}$\n",
    "\n",
    "$y = \\frac{6 t^{2}}{t^{3} + 8}$"
   ]
  },
  {
   "cell_type": "code",
   "execution_count": 184,
   "metadata": {},
   "outputs": [
    {
     "data": {
      "text/plain": [
       "'t -> -2'"
      ]
     },
     "metadata": {},
     "output_type": "display_data"
    },
    {
     "data": {
      "text/latex": [
       "$\\displaystyle -\\infty$"
      ],
      "text/plain": [
       "-oo"
      ]
     },
     "metadata": {},
     "output_type": "display_data"
    },
    {
     "data": {
      "text/latex": [
       "$\\displaystyle \\infty$"
      ],
      "text/plain": [
       "oo"
      ]
     },
     "metadata": {},
     "output_type": "display_data"
    },
    {
     "name": "stdout",
     "output_type": "stream",
     "text": [
      "-------------------------\n"
     ]
    },
    {
     "data": {
      "text/plain": [
       "'t -> +oo'"
      ]
     },
     "metadata": {},
     "output_type": "display_data"
    },
    {
     "data": {
      "text/latex": [
       "$\\displaystyle 0$"
      ],
      "text/plain": [
       "0"
      ]
     },
     "metadata": {},
     "output_type": "display_data"
    },
    {
     "data": {
      "text/latex": [
       "$\\displaystyle 0$"
      ],
      "text/plain": [
       "0"
      ]
     },
     "metadata": {},
     "output_type": "display_data"
    },
    {
     "name": "stdout",
     "output_type": "stream",
     "text": [
      "-------------------------\n"
     ]
    },
    {
     "data": {
      "image/png": "[encoded data removed]",
      "text/plain": [
       "<Figure size 432x288 with 1 Axes>"
      ]
     },
     "metadata": {
      "needs_background": "light"
     },
     "output_type": "display_data"
    }
   ],
   "source": [
    "t = Symbol('t')\n",
    "x = (2 * t)/(t**3+8)\n",
    "y = (6 * t**2)/(t**3+8)\n",
    "display('t -> -2', limit(x, t, -2), limit(y, t, -2))\n",
    "print(\"-------------------------\")\n",
    "display('t -> +oo', limit(x, t, +sympy.oo), limit(y, t, +sympy.oo))\n",
    "print(\"-------------------------\")\n",
    "\n",
    "T1 = np.linspace(-1.99, 100, 1000)\n",
    "T2 = np.linspace(-100, -2.01, 1000)\n",
    "for T in [T1, T2]:\n",
    "    plt.plot((2 * T)/(T**3+8), (6 * T**2)/(T**3+8), color='green')\n",
    "\n",
    "# y = kx + b where k = 0 and b = 0\n",
    "plt.axhline(y=0, color='black', linestyle='--')\n",
    "plt.axvline(x=0, color='black', linestyle='--')\n",
    "plt.xlim(-0.5, 0.5)\n",
    "plt.ylim(-4, 4)\n",
    "plt.show()"
   ]
  },
  {
   "cell_type": "code",
   "execution_count": null,
   "metadata": {},
   "outputs": [],
   "source": []
  }
 ],
 "metadata": {
  "kernelspec": {
   "display_name": "Python 3",
   "language": "python",
   "name": "python3"
  },
  "language_info": {
   "codemirror_mode": {
    "name": "ipython",
    "version": 3
   },
   "file_extension": ".py",
   "mimetype": "text/x-python",
   "name": "python",
   "nbconvert_exporter": "python",
   "pygments_lexer": "ipython3",
   "version": "3.8.1"
  }
 },
 "nbformat": 4,
 "nbformat_minor": 4
}
