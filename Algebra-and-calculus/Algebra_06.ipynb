{
 "cells": [
  {
   "cell_type": "code",
   "execution_count": 29,
   "metadata": {},
   "outputs": [],
   "source": [
    "import sympy\n",
    "from sympy import  Symbol, symbols, S, Point, Line, Plane, Point3D, Eq"
   ]
  },
  {
   "cell_type": "markdown",
   "metadata": {},
   "source": [
    "# Занятие 6\n",
    "# Алгебра\n",
    "\n",
    "##  Прямые и плоскости в пространстве. Geometry.\n",
    "### Задание 1.\n",
    "Найти угол между плоскостями $ABC$ и  $ABD$, где  \n",
    "$A(-1, 2, -4)$,  \n",
    "$B(2, -2, 1)$,  \n",
    "$C(5, 3, -6)$,  \n",
    "$D(0, 3, -6)$.  "
   ]
  },
  {
   "cell_type": "code",
   "execution_count": 6,
   "metadata": {},
   "outputs": [
    {
     "data": {
      "text/latex": [
       "$\\displaystyle \\operatorname{acos}{\\left(\\frac{99 \\sqrt{40454}}{20227} \\right)}$"
      ],
      "text/plain": [
       "acos(99*sqrt(40454)/20227)"
      ]
     },
     "execution_count": 6,
     "metadata": {},
     "output_type": "execute_result"
    }
   ],
   "source": [
    "A = Point(-1, 2, -4)\n",
    "B = Point(2, -2, 1)\n",
    "C = Point(5, 3, -6)\n",
    "D = Point(0, 3, -6)\n",
    "\n",
    "ABC = Plane(A, B, C)\n",
    "ABD = Plane(A, B, D)\n",
    "ABC.angle_between(ABD)"
   ]
  },
  {
   "cell_type": "markdown",
   "metadata": {},
   "source": [
    "### Задание 2.\n",
    "Найти угол между прямой, проходящей через точки $A(-3,5,1)$ и $B(5,2,-3)$ и плоскостью, в которой лежат точки \n",
    "$K(4,3,0)$, $M(2,4,-2)$ и $N(-2,2,-1)$."
   ]
  },
  {
   "cell_type": "code",
   "execution_count": 10,
   "metadata": {},
   "outputs": [
    {
     "data": {
      "text/latex": [
       "$\\displaystyle - \\operatorname{asin}{\\left(\\frac{86 \\sqrt{15397}}{15397} \\right)}$"
      ],
      "text/plain": [
       "-asin(86*sqrt(15397)/15397)"
      ]
     },
     "execution_count": 10,
     "metadata": {},
     "output_type": "execute_result"
    }
   ],
   "source": [
    "A = Point(-3, 5, 1)\n",
    "B = Point(5, 2, -3)\n",
    "AB = Line(A, B)\n",
    "\n",
    "K = Point(4, 3, 0)\n",
    "M = Point(2, 4, -2)\n",
    "N = Point(-2, 2, -1)\n",
    "KMN = Plane(K, M, N)\n",
    "\n",
    "KMN.angle_between(AB)"
   ]
  },
  {
   "cell_type": "markdown",
   "metadata": {},
   "source": [
    "### Задание 3.\n",
    "Проверить, лежат ли точки в одной плоскости\n",
    "\n",
    "а) $A(3, 2, -1)$, $B(2, -1, 0)$, $C(5, 2, -6)$, $D(6, 5, -7)$\n",
    "\n",
    "b) $A(-1, 5, -4)$, $B(7, -2, 1)$, $C(6, 3, -8)$, $D(0, 3, 0)$"
   ]
  },
  {
   "cell_type": "code",
   "execution_count": 12,
   "metadata": {},
   "outputs": [
    {
     "name": "stdout",
     "output_type": "stream",
     "text": [
      "True\n",
      "False\n"
     ]
    }
   ],
   "source": [
    "A = Point(3, 2, -1)\n",
    "B = Point(2, -1, 0)\n",
    "C = Point(5, 2, -6)\n",
    "D = Point(6, 5, -7)\n",
    "print(Point3D.are_coplanar(A, B, C, D))\n",
    "\n",
    "A = Point(-1, 5, -4)\n",
    "B = Point(7, -2, 1)\n",
    "C = Point(6, 3, -8)\n",
    "D = Point(0, 3, 0)\n",
    "print(Point3D.are_coplanar(A, B, C, D))"
   ]
  },
  {
   "cell_type": "markdown",
   "metadata": {},
   "source": [
    "###  Задание 4.\n",
    "Прямая задана параметрическими уравнениями:\n",
    "$$\n",
    "\\left\\{\\begin{matrix}\n",
    "x=2+5t\\\\\n",
    "y=-1-2t\\\\\n",
    "z=4-3t\n",
    "\\end{matrix}\\right..\n",
    "$$\n",
    "Представить прямую в виде линии пересечения двух плоскостей (вывести на экран уравнения плоскостей), \n",
    "одна из которых проходит через начало координат, а вторая плоскость перпендикулярна первой плоскости.\n",
    "\n",
    "Указание: сначала составить список правых частей параметрических уравнений, затем составить две различные точки на прямой и далее решить средствами для работы с прямыми и плоскостями из модуля Geometry."
   ]
  },
  {
   "cell_type": "code",
   "execution_count": 32,
   "metadata": {},
   "outputs": [
    {
     "data": {
      "text/latex": [
       "$\\displaystyle 11 x + 26 y + z = 0$"
      ],
      "text/plain": [
       "Eq(11*x + 26*y + z, 0)"
      ]
     },
     "metadata": {},
     "output_type": "display_data"
    },
    {
     "data": {
      "text/latex": [
       "$\\displaystyle 76 x - 38 y + 152 z - 798 = 0$"
      ],
      "text/plain": [
       "Eq(76*x - 38*y + 152*z - 798, 0)"
      ]
     },
     "metadata": {},
     "output_type": "display_data"
    }
   ],
   "source": [
    "A = Point(2, -1, 4)\n",
    "B = Point(7, -3, 1)\n",
    "C = Point(0, 0, 0)\n",
    "\n",
    "Plane1 = Plane(A, B, C)\n",
    "Plane2 = Plane1.perpendicular_plane(A, B)\n",
    "\n",
    "display(Eq(Plane1.equation(), 0))\n",
    "display(Eq(Plane2.equation(), 0))"
   ]
  },
  {
   "cell_type": "markdown",
   "metadata": {},
   "source": [
    "###  Задание 5.\n",
    "Даны точки  пространстве\n",
    "$A(-2, 7, -5)$, $B(6, 2, -4)$, $C(14, -3, -2)$, $D(22, -8, -2)$, $K(30, -7, -4)$,\n",
    "$M(94, -35, -2)$.\n",
    "\n",
    "Определить, какие тройки точек лежат на одной прямой, какие четверки - в одной плоскости.\n",
    "\n",
    "Для проверки того, что три точки лежат на одной прямой использовать Point3D.are_collinear.\n",
    "\n",
    "Вывести на экран тройки точек, лежащие на одной прямой и четверки точек, лежащих в одной плоскости."
   ]
  },
  {
   "cell_type": "code",
   "execution_count": 42,
   "metadata": {},
   "outputs": [
    {
     "name": "stdout",
     "output_type": "stream",
     "text": [
      "Тройки точек, лежащие на одной прямой\n",
      "Point3D(-2, 7, -5) Point3D(6, 2, -4) Point3D(22, -8, -2)\n",
      "Point3D(-2, 7, -5) Point3D(30, -7, -4) Point3D(94, -35, -2)\n",
      "\n",
      "Четверки точек, лежащих в одной плоскости\n",
      "Point3D(-2, 7, -5) Point3D(6, 2, -4) Point3D(14, -3, -2) Point3D(22, -8, -2)\n",
      "Point3D(-2, 7, -5) Point3D(6, 2, -4) Point3D(22, -8, -2) Point3D(30, -7, -4)\n",
      "Point3D(-2, 7, -5) Point3D(6, 2, -4) Point3D(22, -8, -2) Point3D(94, -35, -2)\n",
      "Point3D(-2, 7, -5) Point3D(6, 2, -4) Point3D(30, -7, -4) Point3D(94, -35, -2)\n",
      "Point3D(-2, 7, -5) Point3D(14, -3, -2) Point3D(30, -7, -4) Point3D(94, -35, -2)\n",
      "Point3D(-2, 7, -5) Point3D(22, -8, -2) Point3D(30, -7, -4) Point3D(94, -35, -2)\n",
      "Point3D(6, 2, -4) Point3D(22, -8, -2) Point3D(30, -7, -4) Point3D(94, -35, -2)\n"
     ]
    }
   ],
   "source": [
    "A = Point(-2, 7, -5)\n",
    "B = Point(6, 2, -4)\n",
    "C = Point(14, -3, -2)\n",
    "D = Point(22, -8, -2)\n",
    "E = Point(30, -7, -4)\n",
    "F = Point(94, -35, -2)\n",
    "\n",
    "array = [A, B, C, D, E, F]\n",
    "length = len(array)\n",
    "\n",
    "print(\"Тройки точек, лежащие на одной прямой\")\n",
    "for i in range(length):\n",
    "    for j in range(i + 1, length):\n",
    "        for k in range(j + 1, length):\n",
    "            if Point3D.are_collinear(array[i], array[j], array[k]):\n",
    "                print(array[i], array[j], array[k])\n",
    "\n",
    "print()\n",
    "print(\"Четверки точек, лежащих в одной плоскости\")\n",
    "for i in range(length):\n",
    "    for j in range(i + 1, length):\n",
    "        for k in range(j + 1, length):\n",
    "            for m in range(k + 1, length):\n",
    "                if Point3D.are_coplanar(array[i], array[j], array[k], array[m]):\n",
    "                    print(array[i], array[j], array[k], array[m])"
   ]
  },
  {
   "cell_type": "markdown",
   "metadata": {},
   "source": [
    "###  Задание 6.\n",
    "Составить уравнения всех (различных!) плоскостей, определяемых точками задания 5.\n",
    "\n",
    "Указание: решать аналогично Примеру 11, проверить, что $A$, $B$, $C$ не лежат на одной прямой и составить плоскость $ABC$, включить ее в список плоскостей. "
   ]
  },
  {
   "cell_type": "code",
   "execution_count": 44,
   "metadata": {},
   "outputs": [
    {
     "data": {
      "text/latex": [
       "$\\displaystyle 10 x + 16 y + 48 z + 4 = 0$"
      ],
      "text/plain": [
       "Eq(10*x + 16*y + 48*z + 4, 0)"
      ]
     },
     "metadata": {},
     "output_type": "display_data"
    },
    {
     "data": {
      "text/latex": [
       "$\\displaystyle 81 x + 216 y + 432 z + 810 = 0$"
      ],
      "text/plain": [
       "Eq(81*x + 216*y + 432*z + 810, 0)"
      ]
     },
     "metadata": {},
     "output_type": "display_data"
    },
    {
     "data": {
      "text/latex": [
       "$\\displaystyle 9 x + 24 y + 48 z + 90 = 0$"
      ],
      "text/plain": [
       "Eq(9*x + 24*y + 48*z + 90, 0)"
      ]
     },
     "metadata": {},
     "output_type": "display_data"
    },
    {
     "data": {
      "text/latex": [
       "$\\displaystyle - 64 x - 160 y - 192 z + 32 = 0$"
      ],
      "text/plain": [
       "Eq(-64*x - 160*y - 192*z + 32, 0)"
      ]
     },
     "metadata": {},
     "output_type": "display_data"
    },
    {
     "data": {
      "text/latex": [
       "$\\displaystyle 54 x + 144 y + 288 z + 540 = 0$"
      ],
      "text/plain": [
       "Eq(54*x + 144*y + 288*z + 540, 0)"
      ]
     },
     "metadata": {},
     "output_type": "display_data"
    },
    {
     "data": {
      "text/latex": [
       "$\\displaystyle 15 x + 24 y - 138 = 0$"
      ],
      "text/plain": [
       "Eq(15*x + 24*y - 138, 0)"
      ]
     },
     "metadata": {},
     "output_type": "display_data"
    },
    {
     "data": {
      "text/latex": [
       "$\\displaystyle 27 x + 72 y + 144 z + 270 = 0$"
      ],
      "text/plain": [
       "Eq(27*x + 72*y + 144*z + 270, 0)"
      ]
     },
     "metadata": {},
     "output_type": "display_data"
    },
    {
     "data": {
      "text/latex": [
       "$\\displaystyle 32 x + 80 y + 96 z - 16 = 0$"
      ],
      "text/plain": [
       "Eq(32*x + 80*y + 96*z - 16, 0)"
      ]
     },
     "metadata": {},
     "output_type": "display_data"
    },
    {
     "data": {
      "text/latex": [
       "$\\displaystyle 96 x + 240 y + 288 z - 48 = 0$"
      ],
      "text/plain": [
       "Eq(96*x + 240*y + 288*z - 48, 0)"
      ]
     },
     "metadata": {},
     "output_type": "display_data"
    },
    {
     "data": {
      "text/latex": [
       "$\\displaystyle 10 x + 16 y - 92 = 0$"
      ],
      "text/plain": [
       "Eq(10*x + 16*y - 92, 0)"
      ]
     },
     "metadata": {},
     "output_type": "display_data"
    },
    {
     "data": {
      "text/latex": [
       "$\\displaystyle 18 x + 48 y + 48 z - 12 = 0$"
      ],
      "text/plain": [
       "Eq(18*x + 48*y + 48*z - 12, 0)"
      ]
     },
     "metadata": {},
     "output_type": "display_data"
    },
    {
     "data": {
      "text/latex": [
       "$\\displaystyle - 18 x - 48 y - 96 z - 180 = 0$"
      ],
      "text/plain": [
       "Eq(-18*x - 48*y - 96*z - 180, 0)"
      ]
     },
     "metadata": {},
     "output_type": "display_data"
    },
    {
     "data": {
      "text/latex": [
       "$\\displaystyle - 5 x - 8 y + 46 = 0$"
      ],
      "text/plain": [
       "Eq(-5*x - 8*y + 46, 0)"
      ]
     },
     "metadata": {},
     "output_type": "display_data"
    },
    {
     "data": {
      "text/latex": [
       "$\\displaystyle 144 z + 288 = 0$"
      ],
      "text/plain": [
       "Eq(144*z + 288, 0)"
      ]
     },
     "metadata": {},
     "output_type": "display_data"
    },
    {
     "data": {
      "text/latex": [
       "$\\displaystyle - 54 x - 144 y - 288 z - 540 = 0$"
      ],
      "text/plain": [
       "Eq(-54*x - 144*y - 288*z - 540, 0)"
      ]
     },
     "metadata": {},
     "output_type": "display_data"
    },
    {
     "data": {
      "text/latex": [
       "$\\displaystyle 18 x + 48 y + 96 z + 180 = 0$"
      ],
      "text/plain": [
       "Eq(18*x + 48*y + 96*z + 180, 0)"
      ]
     },
     "metadata": {},
     "output_type": "display_data"
    },
    {
     "data": {
      "text/latex": [
       "$\\displaystyle 64 x + 160 y + 144 z - 128 = 0$"
      ],
      "text/plain": [
       "Eq(64*x + 160*y + 144*z - 128, 0)"
      ]
     },
     "metadata": {},
     "output_type": "display_data"
    }
   ],
   "source": [
    "A = Point(-2, 7, -5)\n",
    "B = Point(6, 2, -4)\n",
    "C = Point(14, -3, -2)\n",
    "D = Point(22, -8, -2)\n",
    "E = Point(30, -7, -4)\n",
    "F = Point(94, -35, -2)\n",
    "\n",
    "array = [A, B, C, D, E, F]\n",
    "length = len(array)\n",
    "answer = set()\n",
    "\n",
    "for i in range(length):\n",
    "    for j in range(i + 1, length):\n",
    "        for k in range(j + 1, length):\n",
    "            if not Point3D.are_collinear(array[i], array[j], array[k]):\n",
    "                plane = Plane(array[i], array[j], array[k])\n",
    "                answer.add(plane)\n",
    "\n",
    "for elem in answer:\n",
    "    display(Eq(elem.equation(), 0))"
   ]
  },
  {
   "cell_type": "markdown",
   "metadata": {},
   "source": [
    "### Индивидуальное задание\n",
    "Даны точки в пространстве\n",
    "$A$, $B$, $C$ и\n",
    "$M$.\n",
    "\n",
    "Найти угол между прямой $АВ$ и плоскостью $z = 0$, угол между $АС$ и $СМ$, угол между плоскостями $АВС$ и $ВСМ$.\n",
    "\n",
    "Составить уравнение: \n",
    "\n",
    "a) плоскости, параллельной $АВС$ и проходящей через начало координат,\n",
    "\n",
    "b) плоскости, перпендикулярной $АВС$ и проходящей через $А$ и $М$,\n",
    "\n",
    "c) прямой, перпендикулярной $АВС$ и проходящей через $С$."
   ]
  },
  {
   "cell_type": "markdown",
   "metadata": {},
   "source": [
    "--------------------------------------------------------------------------------------------------------------\n",
    "Вариант N36\n",
    "\n",
    "Даны точки в пространстве\n",
    "$A(3, 10, -3)$, $B(-4, 8, -8)$, $C(-1, 9, -7)$ и\n",
    "$R(-1, 0, -9)$.\n",
    "\n",
    "Найти угол между прямой $BC$ и плоскостью $z = 0$, угол между $BA$ и $AR$, угол между плоскостями $BCA$ \n",
    "и $CAR$.\n",
    "\n",
    "Составить уравнение: \n",
    "\n",
    "a) плоскости, параллельной $BCA$ и проходящей через $R$,\n",
    "\n",
    "b) плоскости, перпендикулярной $BCA$ и проходящей через $B$ и $A$,\n",
    "\n",
    "c) прямой, перпендикулярной $BCA$ и проходящей через $A$."
   ]
  },
  {
   "cell_type": "code",
   "execution_count": 64,
   "metadata": {},
   "outputs": [
    {
     "data": {
      "text/latex": [
       "$\\displaystyle \\operatorname{asin}{\\left(\\frac{\\sqrt{11}}{11} \\right)}$"
      ],
      "text/plain": [
       "asin(sqrt(11)/11)"
      ]
     },
     "metadata": {},
     "output_type": "display_data"
    },
    {
     "data": {
      "text/latex": [
       "$\\displaystyle \\operatorname{acos}{\\left(- \\frac{\\sqrt{741}}{38} \\right)}$"
      ],
      "text/plain": [
       "acos(-sqrt(741)/38)"
      ]
     },
     "metadata": {},
     "output_type": "display_data"
    },
    {
     "data": {
      "text/latex": [
       "$\\displaystyle \\operatorname{acos}{\\left(\\frac{\\sqrt{34}}{34} \\right)}$"
      ],
      "text/plain": [
       "acos(sqrt(34)/34)"
      ]
     },
     "metadata": {},
     "output_type": "display_data"
    },
    {
     "data": {
      "text/latex": [
       "$\\displaystyle 3 x - 8 y - z - 6 = 0$"
      ],
      "text/plain": [
       "Eq(3*x - 8*y - z - 6, 0)"
      ]
     },
     "metadata": {},
     "output_type": "display_data"
    },
    {
     "data": {
      "text/latex": [
       "$\\displaystyle - 38 x - 22 y + 62 z + 520 = 0$"
      ],
      "text/plain": [
       "Eq(-38*x - 22*y + 62*z + 520, 0)"
      ]
     },
     "metadata": {},
     "output_type": "display_data"
    },
    {
     "name": "stdout",
     "output_type": "stream",
     "text": [
      "\n",
      "Система задающая прямую\n"
     ]
    },
    {
     "data": {
      "text/latex": [
       "$\\displaystyle 8 x + 3 y - 54 = 0$"
      ],
      "text/plain": [
       "Eq(8*x + 3*y - 54, 0)"
      ]
     },
     "metadata": {},
     "output_type": "display_data"
    },
    {
     "data": {
      "text/latex": [
       "$\\displaystyle x + 3 z + 6 = 0$"
      ],
      "text/plain": [
       "Eq(x + 3*z + 6, 0)"
      ]
     },
     "metadata": {},
     "output_type": "display_data"
    }
   ],
   "source": [
    "A = Point(3, 10, -3)\n",
    "B = Point(-4, 8, -8)\n",
    "C = Point(-1, 9, -7)\n",
    "R = Point(-1, 0, -9)\n",
    "\n",
    "BC = Line(B, C)\n",
    "Z = Plane(Point(0, 0, 0), Point(1, 0, 0), Point(0, 1, 0))\n",
    "display(Z.angle_between(BC))\n",
    "\n",
    "BA = Line(B, A)\n",
    "AR = Line(A, R)\n",
    "display(BA.angle_between(AR))\n",
    "\n",
    "BCA = Plane(B, C, A)\n",
    "CAR = Plane(C, A, R)\n",
    "display(BCA.angle_between(CAR))\n",
    "\n",
    "new_plane = BCA.parallel_plane(R).equation()\n",
    "display(Eq(new_plane, 0))\n",
    "\n",
    "new_plane = BCA.perpendicular_plane(A, B).equation()\n",
    "display(Eq(new_plane, 0))\n",
    "\n",
    "new_line = BCA.perpendicular_line(A).equation()\n",
    "print()\n",
    "print(\"Система задающая прямую\")\n",
    "display(Eq(new_line[0], 0), Eq(new_line[1], 0))"
   ]
  },
  {
   "cell_type": "code",
   "execution_count": null,
   "metadata": {},
   "outputs": [],
   "source": []
  }
 ],
 "metadata": {
  "kernelspec": {
   "display_name": "Python 3",
   "language": "python",
   "name": "python3"
  },
  "language_info": {
   "codemirror_mode": {
    "name": "ipython",
    "version": 3
   },
   "file_extension": ".py",
   "mimetype": "text/x-python",
   "name": "python",
   "nbconvert_exporter": "python",
   "pygments_lexer": "ipython3",
   "version": "3.8.1"
  }
 },
 "nbformat": 4,
 "nbformat_minor": 4
}
