{
  "cells": [
    {
      "cell_type": "code",
      "execution_count": null,
      "metadata": {
        "id": "gwX1gDZDwEAl"
      },
      "outputs": [],
      "source": [
        "import numpy as np\n",
        "import sympy\n",
        "from sympy import S, Symbol, symbols, solve, solveset, plot, plot_parametric, And, plot_implicit\n",
        "from sympy import sin as Sin\n",
        "from sympy import cos as Cos\n",
        "from sympy import exp as Exp\n",
        "from sympy import log as Log\n",
        "from sympy import pi as Pi\n",
        "from sympy.plotting import plot3d\n",
        "import matplotlib.pyplot as plt\n",
        "%matplotlib inline"
      ]
    },
    {
      "cell_type": "markdown",
      "metadata": {
        "id": "KpOhXvJAwEAm"
      },
      "source": [
        "## Занятие 14\n",
        "## Математический анализ\n",
        "## Функции нескольких переменных.\n",
        "### Задание 1\n",
        "Изобразить на рисунках область определения функций\n",
        "\n",
        "1) $z=\\ln(x^2+y)$\n",
        "\n",
        "2) $z=\\sqrt{\\sin(x^2+y^2)}$\n",
        "\n",
        "3) $z=\\sqrt{x^2-4}+\\sqrt{9-y^2}$"
      ]
    },
    {
      "cell_type": "code",
      "execution_count": null,
      "metadata": {
        "id": "NnJZ823VwEAn"
      },
      "outputs": [],
      "source": [
        "x, y = symbols('x y', real=True)\n",
        "domainz = (x**2 + y > 0)\n",
        "plot_implicit(domainz)\n",
        "\n",
        "x, y = symbols('x y', real=True)\n",
        "domainz = (Sin(x**2+y**2) > 0)\n",
        "plot_implicit(domainz)\n",
        "\n",
        "\n",
        "# как нарисовать две domain на одном графике?\n",
        "x, y = symbols('x y', real=True)\n",
        "domainz = (x**2-4 > 0)\n",
        "plot_implicit(domainz)\n",
        "\n",
        "x, y = symbols('x y', real=True)\n",
        "domainz = (9-y**2 > 0)\n",
        "plot_implicit(domainz)"
      ]
    },
    {
      "cell_type": "markdown",
      "metadata": {
        "id": "Oda9QSfLwEAo"
      },
      "source": [
        "### Задача 2.\n",
        "Построить на отдельных графиках линии уровня функций $z=\\ln(x^2+y)$ и $z=x^2-y^2$."
      ]
    },
    {
      "cell_type": "code",
      "execution_count": null,
      "metadata": {
        "id": "1k6oGIhXwEAo"
      },
      "outputs": [],
      "source": [
        "def contourline(f, x, y, C):\n",
        "     return sympy.Eq(f(x, y), C)\n",
        "\n",
        "def f(x, y):\n",
        "     return Log(x**2+y)\n",
        "    \n",
        "def g(x, y):\n",
        "     return Log(x**2-y**2)\n",
        "    \n",
        "C = symbols('C', real=True)\n",
        "p = plot(ylabel='y', show=False)\n",
        "for c, col in [(-2, 'blue'), (-1, 'green'), (0, 'red'), (2, 'black'), (5, 'pink')]:\n",
        "     p.append(plot_implicit(contourline(f, x, y, c), line_color=col, line_width=15, show=False)[0])\n",
        "p.show()\n",
        "\n",
        "p = plot(ylabel='y', show=False)\n",
        "for c, col in [(-2, 'blue'), (-1, 'green'), (0, 'red'), (2, 'black'), (5, 'pink')]:\n",
        "     p.append(plot_implicit(contourline(g, x, y, c), line_color=col, line_width=15, show=False)[0])\n",
        "p.show()"
      ]
    },
    {
      "cell_type": "markdown",
      "metadata": {
        "id": "lE8CyD9rwEAp"
      },
      "source": [
        "### Задача 3.\n",
        "Найти и изобразить поверхности уровня функции $u=(x-1)^2+(y-2)^2+z^2$."
      ]
    },
    {
      "cell_type": "code",
      "execution_count": null,
      "metadata": {
        "id": "-jYwW83owEAp"
      },
      "outputs": [],
      "source": [
        "x, y = symbols('x y', real=True)\n",
        "z, c = symbols('z c')\n",
        "u = (x-1)**2 + (y-2)**2 + z**2\n",
        "z12 = solve(sympy.Eq(u, c), z)\n",
        "display(*z12)\n",
        "const = 100\n",
        "plot3d(z12[0].subs(c, const), z12[1].subs(c, const))\n",
        "const = 100\n",
        "plot3d(z12[0].subs(c, const), z12[1].subs(c, const))"
      ]
    },
    {
      "cell_type": "markdown",
      "metadata": {
        "id": "yteAK_BWwEAp"
      },
      "source": [
        "### Задача 4.\n",
        "Найти точки разрыва функции $z=\\frac1{(x - y^2)^2}$, изобразить их на графике."
      ]
    },
    {
      "cell_type": "code",
      "execution_count": null,
      "metadata": {
        "id": "afaCDb-PwEAp"
      },
      "outputs": [],
      "source": [
        "plot_implicit(x - y**2, (x, 0, 10), (y, -5, 5))"
      ]
    },
    {
      "cell_type": "markdown",
      "metadata": {
        "id": "1ika_O27wEAq"
      },
      "source": [
        "### Задача 5.\n",
        "Найти частные производные по каждому аргументу функции $u=(xy)^z$"
      ]
    },
    {
      "cell_type": "code",
      "execution_count": null,
      "metadata": {
        "id": "rehJ8k8mwEAq",
        "outputId": "d0fdcda5-c27e-4c73-83bf-4d2c729d43d9"
      },
      "outputs": [
        {
          "data": {
            "text/latex": [
              "$\\displaystyle \\frac{z \\left(x y\\right)^{z}}{x}$"
            ],
            "text/plain": [
              "z*(x*y)**z/x"
            ]
          },
          "metadata": {},
          "output_type": "display_data"
        },
        {
          "data": {
            "text/latex": [
              "$\\displaystyle \\frac{z \\left(x y\\right)^{z}}{y}$"
            ],
            "text/plain": [
              "z*(x*y)**z/y"
            ]
          },
          "metadata": {},
          "output_type": "display_data"
        },
        {
          "data": {
            "text/latex": [
              "$\\displaystyle \\left(x y\\right)^{z} \\log{\\left(x y \\right)}$"
            ],
            "text/plain": [
              "(x*y)**z*log(x*y)"
            ]
          },
          "metadata": {},
          "output_type": "display_data"
        }
      ],
      "source": [
        "u = (x*y)**z\n",
        "display(*(u.diff(t) for t in (x, y, z)))"
      ]
    },
    {
      "cell_type": "markdown",
      "metadata": {
        "id": "zcgdis31wEAq"
      },
      "source": [
        "### Задача 6.\n",
        "Проверить выполнение теоремы Эйлера для функции $f(x,y)=\\frac{x}{x^2+y^2} $.\n",
        "###### Указание.\n",
        "Упростить выражение с помощью simplify, прежде чем сравнивать."
      ]
    },
    {
      "cell_type": "code",
      "execution_count": null,
      "metadata": {
        "id": "puZVHmkAwEAq",
        "outputId": "b20a593f-2761-4fb0-b721-aef2afdb0f13"
      },
      "outputs": [
        {
          "data": {
            "text/plain": [
              "False"
            ]
          },
          "execution_count": 10,
          "metadata": {},
          "output_type": "execute_result"
        }
      ],
      "source": [
        "k = symbols('k', real=True)\n",
        "f = (x / (x**2+y**2)).simplify()\n",
        "f.subs({x: k*x, y: k*y})\n",
        "(x*f.diff(x) + y*f.diff(y)).simplify() == 0"
      ]
    },
    {
      "cell_type": "markdown",
      "metadata": {
        "id": "SUCgneJ4wEAq"
      },
      "source": [
        "### Задача 7.\n",
        "Найти полный дифференциал функции $z=\\sin^2x+\\cos^2y$"
      ]
    },
    {
      "cell_type": "code",
      "execution_count": null,
      "metadata": {
        "id": "793lacN-wEAr",
        "outputId": "e9eefd95-e067-406f-acbf-53826057ec85"
      },
      "outputs": [
        {
          "data": {
            "text/latex": [
              "$\\displaystyle 2 dx \\sin{\\left(x \\right)} \\cos{\\left(x \\right)} - 2 dy \\sin{\\left(y \\right)} \\cos{\\left(y \\right)}$"
            ],
            "text/plain": [
              "2*dx*sin(x)*cos(x) - 2*dy*sin(y)*cos(y)"
            ]
          },
          "execution_count": 51,
          "metadata": {},
          "output_type": "execute_result"
        }
      ],
      "source": [
        "z = Sin(x)**2+Cos(y)**2\n",
        "dx, dy = symbols('dx dy')\n",
        "dz = z.diff(x)*dx + z.diff(y)*dy\n",
        "dz"
      ]
    },
    {
      "cell_type": "markdown",
      "metadata": {
        "id": "ftjCvVx8wEAr"
      },
      "source": [
        "### Индивидуальное задание\n",
        "Построить линии уровня и найти полный дифференциал функции\n",
        "$f(x, y)$."
      ]
    },
    {
      "cell_type": "code",
      "execution_count": null,
      "metadata": {
        "id": "BZ7-Do4pwEAr"
      },
      "outputs": [],
      "source": [
        "# В ЛМС нет ИДЗ, вот в общем виде решение\n",
        "\n",
        "def contourline(f, x, y, C):\n",
        "     return sympy.Eq(f(x, y), C)\n",
        "\n",
        "def f(x, y):\n",
        "     return Log(x**2+y)\n",
        "    \n",
        "C = symbols('C', real=True)\n",
        "p = plot(ylabel='y', show=False)\n",
        "for c, col in [(-2, 'blue'), (-1, 'green'), (0, 'red'), (2, 'black'), (5, 'pink')]:\n",
        "     p.append(plot_implicit(contourline(f, x, y, c), line_color=col, line_width=15, show=False)[0])\n",
        "p.show()\n",
        "\n",
        "f = Log(x**2+y)\n",
        "dx, dy = symbols('dx dy')\n",
        "dz = f.diff(x)*dx + f.diff(y)*dy\n",
        "dz"
      ]
    },
    {
      "cell_type": "code",
      "execution_count": null,
      "metadata": {
        "id": "XWX-LvaYwEAr"
      },
      "outputs": [],
      "source": []
    }
  ],
  "metadata": {
    "kernelspec": {
      "display_name": "Python 3",
      "language": "python",
      "name": "python3"
    },
    "language_info": {
      "codemirror_mode": {
        "name": "ipython",
        "version": 3
      },
      "file_extension": ".py",
      "mimetype": "text/x-python",
      "name": "python",
      "nbconvert_exporter": "python",
      "pygments_lexer": "ipython3",
      "version": "3.8.1"
    },
    "colab": {
      "provenance": []
    }
  },
  "nbformat": 4,
  "nbformat_minor": 0
}