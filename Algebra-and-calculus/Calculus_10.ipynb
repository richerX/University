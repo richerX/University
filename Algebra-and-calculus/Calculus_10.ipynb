{
  "cells": [
    {
      "cell_type": "markdown",
      "metadata": {
        "id": "VuLOlCz5wu6j"
      },
      "source": [
        "## Занятие 10\n",
        "## Математический анализ\n",
        "## Кусочные функции, замена переменной в интеграле"
      ]
    },
    {
      "cell_type": "code",
      "execution_count": null,
      "metadata": {
        "id": "HxSqsWR8wu6l"
      },
      "outputs": [],
      "source": [
        "import sympy\n",
        "from sympy import S, Symbol, symbols, solve, solveset, integrate, Integral, diff, plot, Piecewise, latex, Eq\n",
        "from sympy import sin as Sin\n",
        "from sympy import cos as Cos\n",
        "from sympy import exp as Exp\n",
        "from sympy import log as Log\n",
        "from sympy import pi as Pi\n",
        "%matplotlib inline\n",
        "\n",
        "import numpy as np\n",
        "import matplotlib.pyplot as plt"
      ]
    },
    {
      "cell_type": "markdown",
      "metadata": {
        "id": "8ddiMZgkwu6l"
      },
      "source": [
        "### Задача 1\n",
        "Описать функцию $F(x,a)=\\int_a^x f(t)\\,dt$, аргументами которой служат параметр $a$, функция $f$ и верхний предел $x$.\n",
        "\n",
        "Построить на одном графике $F(x, a)$ для функции $f(t) = t^2\\sin{t}$ при $a = 1/2, 1, 2$, $x \\in [-\\pi, \\pi]$.\n",
        "\n",
        "Найти производную построенной $F(x, a)$ по $x$ и сравнить с функцией $f$."
      ]
    },
    {
      "cell_type": "code",
      "execution_count": null,
      "metadata": {
        "id": "5FSouA5wwu6m"
      },
      "outputs": [],
      "source": [
        "from sympy.abc import x, t\n",
        "\n",
        "def F(a, x):\n",
        "    return integrate(t*t*Sin(t), (t, a, x))\n",
        "\n",
        "array = [1/2, 1, 2]\n",
        "plot((F(1/2, x), (x, -Pi, Pi)),\n",
        "     (F(1, x),   (x, -Pi, Pi)),\n",
        "     (F(2, x),   (x, -Pi, Pi)))\n",
        "\n",
        "print(diff(F(1, x), x))"
      ]
    },
    {
      "cell_type": "markdown",
      "metadata": {
        "id": "tU-TQc64wu6m"
      },
      "source": [
        "### Задача 2.\n",
        "$$\n",
        "sign(x)=\\left\\{\\begin{matrix}\n",
        "-1,\\quad x<0\\\\\n",
        "0,\\quad x=0\\\\\n",
        "1,\\quad x>0\n",
        "\\end{matrix}\\right.\n",
        "$$\n",
        "Описать кусочную функцию $sign(x)$ и функцию $F(x)=\\int_{-1}^x sign(t)\\,dt$, аргумент обеих функций $x$. Построить график $sign(x)$ красной сплошной линией и $F(x)$ зеленой в одной плоскости на интервале $[-1, 2]$."
      ]
    },
    {
      "cell_type": "code",
      "execution_count": null,
      "metadata": {
        "id": "c-GzJhcewu6n"
      },
      "outputs": [],
      "source": [
        "from sympy.abc import x, t\n",
        "\n",
        "def F(x):\n",
        "    return integrate(sign(t), (t, -1, x))\n",
        "\n",
        "def sign(x):\n",
        "    # не всегда мог сравнить x с нулем, из-за этого падал\n",
        "    try:\n",
        "        if x < 0:\n",
        "            return -1\n",
        "    except:\n",
        "        pass\n",
        "    if x == 0:\n",
        "        return 0\n",
        "    return 1\n",
        "\n",
        "p = plot(F(x), (x, -1, 2), line_color=\"green\", show=False)\n",
        "p.extend(plot(sign(x), (x, -1, 2), line_color=\"red\", show=False))\n",
        "p.show()"
      ]
    },
    {
      "cell_type": "markdown",
      "metadata": {
        "id": "6eJttMZcwu6n"
      },
      "source": [
        "### Задача 3.\n",
        "Построить график зависимости  от $x$ площади под графиком функции $\\sin t$ на отрезке $[0,x]$ при $x$ из $[\\pi/2, \\pi]$.\n",
        "Подписать вертикальную ось $S(x)$."
      ]
    },
    {
      "cell_type": "code",
      "execution_count": null,
      "metadata": {
        "id": "LzAYXXnjwu6n"
      },
      "outputs": [],
      "source": [
        "from sympy.abc import x, t\n",
        "\n",
        "def F(x):\n",
        "    return integrate(Sin(t), (t, 0, x))\n",
        "\n",
        "p = plot(F(x), (x, sympy.pi/2, sympy.pi), axis_center=(sympy.pi/2, F(sympy.pi/2)), line_color=\"green\", show=False, ylabel=\"S(x)\", legend=True)\n",
        "p.show()"
      ]
    },
    {
      "cell_type": "markdown",
      "metadata": {
        "id": "cTYXbfFUwu6n"
      },
      "source": [
        "### Задача 4.\n",
        "В неопределенном интеграле $\\int \\frac1{2\\sqrt x}e^{\\sqrt x},\\,dx$ провести замену переменной $x=u^2$, вычислить полученный интеграл, сделать обратную замену и проверить правильность полученного результата дифференцированием.\n",
        "#### Указание.\n",
        "Нужно использовать положительный символ $u$."
      ]
    },
    {
      "cell_type": "code",
      "execution_count": null,
      "metadata": {
        "id": "ZnlL3FIqwu6o",
        "outputId": "377aee0b-adb9-4e17-8739-2e9b103a25a1"
      },
      "outputs": [
        {
          "data": {
            "text/latex": [
              "$\\displaystyle \\int \\frac{e^{\\sqrt{x}}}{2 \\sqrt{x}}\\, dx = \\int e^{u}\\, du$"
            ],
            "text/plain": [
              "Eq(Integral(exp(sqrt(x))/(2*sqrt(x)), x), Integral(exp(u), u))"
            ]
          },
          "metadata": {},
          "output_type": "display_data"
        },
        {
          "data": {
            "text/latex": [
              "$\\displaystyle \\int e^{u}\\, du = e^{u}$"
            ],
            "text/plain": [
              "Eq(Integral(exp(u), u), exp(u))"
            ]
          },
          "metadata": {},
          "output_type": "display_data"
        },
        {
          "data": {
            "text/latex": [
              "$\\displaystyle e^{\\sqrt{x}} = \\frac{e^{\\sqrt{x}}}{2 \\sqrt{x}}$"
            ],
            "text/plain": [
              "Eq(exp(sqrt(x)), exp(sqrt(x))/(2*sqrt(x)))"
            ]
          },
          "metadata": {},
          "output_type": "display_data"
        }
      ],
      "source": [
        "x = Symbol(\"x\")\n",
        "u = Symbol(\"u\", positive = True)\n",
        "\n",
        "I1 = Integral(sympy.E**sympy.sqrt(x)/(2*sympy.sqrt(x)), (x))\n",
        "I2 = I1.transform(x, u**2)\n",
        "\n",
        "display(Eq(I1, I2))\n",
        "display(Eq(I2, I2.function.integrate()))\n",
        "display(Eq(sympy.E**sympy.sqrt(x), diff(sympy.E**sympy.sqrt(x))))"
      ]
    },
    {
      "cell_type": "markdown",
      "metadata": {
        "id": "kyFqdobRwu6o"
      },
      "source": [
        "### Задача 5.\n",
        "В определенном интеграле $$\\int_1^2 (x-1)^3e^{(x-1)^4}\\,dx$$ провести замену переменной $u = (x-1)^4$ и вычислить полученный интеграл."
      ]
    },
    {
      "cell_type": "code",
      "execution_count": null,
      "metadata": {
        "id": "pRLiJY3kwu6o",
        "outputId": "84755cb2-a700-42a0-f6a4-802d30c2aa85"
      },
      "outputs": [
        {
          "data": {
            "text/latex": [
              "$\\displaystyle \\int\\limits_{1}^{2} \\left(x - 1\\right)^{3} e^{\\left(x - 1\\right)^{4}}\\, dx = \\int\\limits_{0}^{1} \\frac{e^{u}}{4}\\, du$"
            ],
            "text/plain": [
              "Eq(Integral((x - 1)**3*exp((x - 1)**4), (x, 1, 2)), Integral(exp(u)/4, (u, 0, 1)))"
            ]
          },
          "metadata": {},
          "output_type": "display_data"
        },
        {
          "data": {
            "text/latex": [
              "$\\displaystyle \\int\\limits_{0}^{1} \\frac{e^{u}}{4}\\, du = - \\frac{1}{4} + \\frac{e}{4}$"
            ],
            "text/plain": [
              "Eq(Integral(exp(u)/4, (u, 0, 1)), -1/4 + E/4)"
            ]
          },
          "metadata": {},
          "output_type": "display_data"
        }
      ],
      "source": [
        "x = Symbol(\"x\")\n",
        "u = Symbol(\"u\", positive = True)\n",
        "\n",
        "a = 1\n",
        "b = 2\n",
        "\n",
        "I1 = Integral((x-1)**3*sympy.E**((x-1)**4), (x, a, b))\n",
        "I2 = I1.transform((x-1)**4, u)\n",
        "display(Eq(I1, I2))\n",
        "display(Eq(I2, I2.function.integrate((u, 0, 1))))"
      ]
    },
    {
      "cell_type": "markdown",
      "metadata": {
        "id": "5YiM0WQQwu6o"
      },
      "source": [
        "### Индивидуальное задание\n",
        "Дана функция $f(x)$, вычислить площадь $s$ под графиком $f(x)$ на $[a,b]$.\n",
        "Построить график функции $f(x)$ на $[a,b]$ с заголовком  $\\int_a^b f(x)\\,dx = s$, где $a$, $b$, $f$ нужно подставить из условия,  $s$ - вычисленная площадь. Включить в легенду подпись $f(x)$, где вместо $f(x)$ должна быть соответствующая формула из условия, например $f(x) = 2xe^{x^2}$.\n",
        "\n",
        "Для автоматического получения формулы для легенды нужно воспользоваться функцией latex пакета SymPy (mode='inline')."
      ]
    },
    {
      "cell_type": "code",
      "execution_count": null,
      "metadata": {
        "id": "A1ssMMhvwu6o"
      },
      "outputs": [],
      "source": [
        "a, b = S(2)/3, S(14)/3\n",
        "x = Symbol(\"x\", positive = True)\n",
        "f = Piecewise((0, x % sympy.pi == sympy.pi / 2), (6*x**5*sympy.tan(x), True))\n",
        "     \n",
        "I1 = Integral(f, (x, a, b))\n",
        "\n",
        "# НЕ РАБОТАЕТ\n",
        "# square = f.integrate((x, a, b))\n",
        "# square = sympy.simplify(I1.function).integrate(I1.limits)\n",
        "# square = I1.doit()\n",
        "square = I1.doit()\n",
        "\n",
        "p = plot(f, (x, a, b), axis_center=(a, 0), ylim = (-2000, 2000), legend=True, show=False,\n",
        "         label='f(x)=' + latex(6*x**5*sympy.tan(x), mode='inline'),\n",
        "         title= latex(I1, mode='inline') + \"=\" + latex(square, mode='inline'))\n",
        "p.show()"
      ]
    },
    {
      "cell_type": "code",
      "execution_count": null,
      "metadata": {
        "id": "xzsxdLbTwu6p"
      },
      "outputs": [],
      "source": []
    }
  ],
  "metadata": {
    "kernelspec": {
      "display_name": "Python 3",
      "language": "python",
      "name": "python3"
    },
    "language_info": {
      "codemirror_mode": {
        "name": "ipython",
        "version": 3
      },
      "file_extension": ".py",
      "mimetype": "text/x-python",
      "name": "python",
      "nbconvert_exporter": "python",
      "pygments_lexer": "ipython3",
      "version": "3.8.1"
    },
    "colab": {
      "provenance": []
    }
  },
  "nbformat": 4,
  "nbformat_minor": 0
}