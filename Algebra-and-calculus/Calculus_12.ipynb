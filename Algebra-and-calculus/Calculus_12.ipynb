{
 "cells": [
  {
   "cell_type": "code",
   "execution_count": 2,
   "metadata": {},
   "outputs": [],
   "source": [
    "import numpy as np\n",
    "import sympy\n",
    "from sympy import S, Symbol, symbols, solveset, integrate, Integral, diff, intersection, Interval, plot_parametric, plot_implicit, And, E, latex, plot\n",
    "from sympy import sin as Sin\n",
    "from sympy import cos as Cos\n",
    "from sympy import exp as Exp\n",
    "from sympy import log as Log\n",
    "from sympy import pi as Pi\n",
    "import matplotlib.pyplot as plt"
   ]
  },
  {
   "cell_type": "markdown",
   "metadata": {},
   "source": [
    "## Занятие 12\n",
    "## Математический анализ\n",
    "## Применение интегралов для вычисления объема тела вращения\n",
    "### Задание 1\n",
    "Вычислить объем тела вращения около оси ОX фигуры, ограниченной графиком $y = \\sin x$, $0 \\le x \\le \\pi$ и осью ОХ. Построить график с помощью plot из sympy, названием графика (title) сделать формулу для вычисления объема по образцу Примера 1, например\n",
    "$$\n",
    "\\pi\\int\\limits_0^1 (x - x^2)^2\\,dx = \\frac{\\pi}{30},\n",
    "$$\n",
    "только формула должна соответствовать Заданию 1. Использовать latex, mode='inline'."
   ]
  },
  {
   "cell_type": "code",
   "execution_count": 22,
   "metadata": {},
   "outputs": [
    {
     "data": {
      "text/latex": [
       "$\\displaystyle \\pi \\int\\limits_{0}^{\\pi} \\sin^{2}{\\left(x \\right)}\\, dx = \\frac{\\pi^{2}}{2}$"
      ],
      "text/plain": [
       "Eq(pi*Integral(sin(x)**2, (x, 0, pi)), pi**2/2)"
      ]
     },
     "metadata": {},
     "output_type": "display_data"
    },
    {
     "data": {
      "image/png": "[encoded data removed]",
      "text/plain": [
       "<Figure size 432x288 with 1 Axes>"
      ]
     },
     "metadata": {
      "needs_background": "light"
     },
     "output_type": "display_data"
    }
   ],
   "source": [
    "x = Symbol('x')\n",
    "y = Sin(x)\n",
    "V = Pi*Integral(y**2, (x, 0, Pi))\n",
    "display(sympy.Eq(V, V.doit()))\n",
    "\n",
    "p = plot(ylim = (-0, 1.1), title = latex(sympy.Eq(V, V.doit()), mode=\"inline\"), show=False)\n",
    "p.extend(plot(y, (x, 0, Pi), line_color=\"g\", show=False))\n",
    "p.show()"
   ]
  },
  {
   "cell_type": "markdown",
   "metadata": {},
   "source": [
    "### Задание 2.\n",
    "Вычислить объем тела, получающегося вращением вокруг ОХ астроиды \n",
    "$$\n",
    "\\left\\{\n",
    "\\begin{matrix}\n",
    "x = \\cos^3 t\\\\\n",
    "y = \\sin^3 t\n",
    "\\end{matrix}\n",
    "\\right.\n",
    "$$\n",
    "\n",
    "###### Указание.\n",
    "Пределы интегрирования $\\pi, 0$, поскольку $\\cos^3 t$ убывает на $[0, \\pi]$."
   ]
  },
  {
   "cell_type": "code",
   "execution_count": 23,
   "metadata": {},
   "outputs": [
    {
     "data": {
      "text/latex": [
       "$\\displaystyle \\pi \\int\\limits_{\\pi}^{0} \\left(- 3 \\sin^{7}{\\left(t \\right)} \\cos^{2}{\\left(t \\right)}\\right)\\, dt = \\frac{32 \\pi}{105}$"
      ],
      "text/plain": [
       "Eq(pi*Integral(-3*sin(t)**7*cos(t)**2, (t, pi, 0)), 32*pi/105)"
      ]
     },
     "metadata": {},
     "output_type": "display_data"
    }
   ],
   "source": [
    "t = Symbol('t')\n",
    "x = Cos(t)**3\n",
    "y = Sin(t)**3\n",
    "V_OX = Pi*Integral(y**2*x.diff(t), (t, Pi, 0))\n",
    "display(sympy.Eq(V_OX, V_OX.doit()))"
   ]
  },
  {
   "cell_type": "markdown",
   "metadata": {},
   "source": [
    "### Задание 3.\n",
    "Найти объем тела, которое получается вращением кривой $r = a\\cos^2\\phi$, $0 \\le \\phi \\le \\pi$, вокруг полярной оси.\n",
    "Построить график при $a = 1$ в полярной системе координат, воспользоваться функцией polar из matplotlib.pyplot."
   ]
  },
  {
   "cell_type": "code",
   "execution_count": 40,
   "metadata": {},
   "outputs": [
    {
     "data": {
      "text/latex": [
       "$\\displaystyle \\frac{2 \\pi \\int\\limits_{0}^{\\pi} a^{3} \\sin{\\left(\\phi \\right)} \\cos^{6}{\\left(\\phi \\right)}\\, d\\phi}{3} = \\frac{4 \\pi a^{3}}{21}$"
      ],
      "text/plain": [
       "Eq(2*pi*Integral(a**3*sin(phi)*cos(phi)**6, (phi, 0, pi))/3, 4*pi*a**3/21)"
      ]
     },
     "metadata": {},
     "output_type": "display_data"
    }
   ],
   "source": [
    "Phi = np.linspace(0, np.pi, 256)\n",
    "# ВЫЛЕТАЕТ ОШИБКА AttributeError: 'ImmutableDenseNDimArray' object has no attribute 'could_extract_minus_sign'\n",
    "# plt.polar(Phi, Cos(Phi)*Cos(Phi), color='green', lw=3)\n",
    "\n",
    "phi, a = symbols('phi a')\n",
    "r = a*Cos(phi)**2\n",
    "V_p = S(2)/3*Pi*Integral(r**3*Sin(phi), (phi, 0, Pi))\n",
    "display(sympy.Eq(V_p, V_p.doit()))"
   ]
  },
  {
   "cell_type": "markdown",
   "metadata": {},
   "source": [
    "### Задание 4.\n",
    "Вычислить объем тела, образованного вращением около оси ОY фигуры, ограниченной параболой $y^2 = 2px$, прямой $x=\\frac{p}{2}$, $p > 0$ - параметр и осью ОY. Изобразить вращаемую фигуру с помощью plot_implicit.\n",
    "\n",
    "###### Указание.\n",
    "Вращаемая фигура симметрична относительно оси OX, поэтому можно вычислить объем фигуры, получающейся вращением верхней ветви параболы, а затем этот объем удвоить."
   ]
  },
  {
   "cell_type": "code",
   "execution_count": 70,
   "metadata": {},
   "outputs": [
    {
     "data": {
      "image/png": "[encoded data removed]",
      "text/plain": [
       "<Figure size 432x288 with 1 Axes>"
      ]
     },
     "metadata": {
      "needs_background": "light"
     },
     "output_type": "display_data"
    },
    {
     "data": {
      "text/latex": [
       "$\\displaystyle \\pi \\int\\limits_{0}^{1} 25.0 y^{4}\\, dy = 5.0 \\pi$"
      ],
      "text/plain": [
       "Eq(pi*Integral(25.0*y**4, (y, 0, 1)), 5.0*pi)"
      ]
     },
     "metadata": {},
     "output_type": "display_data"
    },
    {
     "name": "stdout",
     "output_type": "stream",
     "text": [
      "----------------------------------------------------------------------------------------------------\n"
     ]
    },
    {
     "data": {
      "image/png": "[encoded data removed]",
      "text/plain": [
       "<Figure size 432x288 with 1 Axes>"
      ]
     },
     "metadata": {
      "needs_background": "light"
     },
     "output_type": "display_data"
    },
    {
     "data": {
      "text/latex": [
       "$\\displaystyle \\pi \\int\\limits_{0}^{1} \\frac{y^{4}}{4}\\, dy = \\frac{\\pi}{20}$"
      ],
      "text/plain": [
       "Eq(pi*Integral(y**4/4, (y, 0, 1)), pi/20)"
      ]
     },
     "metadata": {},
     "output_type": "display_data"
    },
    {
     "name": "stdout",
     "output_type": "stream",
     "text": [
      "----------------------------------------------------------------------------------------------------\n"
     ]
    },
    {
     "data": {
      "image/png": "[encoded data removed]",
      "text/plain": [
       "<Figure size 432x288 with 1 Axes>"
      ]
     },
     "metadata": {
      "needs_background": "light"
     },
     "output_type": "display_data"
    },
    {
     "data": {
      "text/latex": [
       "$\\displaystyle \\pi \\int\\limits_{0}^{1} \\frac{y^{4}}{36}\\, dy = \\frac{\\pi}{180}$"
      ],
      "text/plain": [
       "Eq(pi*Integral(y**4/36, (y, 0, 1)), pi/180)"
      ]
     },
     "metadata": {},
     "output_type": "display_data"
    },
    {
     "name": "stdout",
     "output_type": "stream",
     "text": [
      "----------------------------------------------------------------------------------------------------\n"
     ]
    },
    {
     "data": {
      "image/png": "[encoded data removed]",
      "text/plain": [
       "<Figure size 432x288 with 1 Axes>"
      ]
     },
     "metadata": {
      "needs_background": "light"
     },
     "output_type": "display_data"
    },
    {
     "data": {
      "text/latex": [
       "$\\displaystyle \\pi \\int\\limits_{0}^{1} \\frac{y^{4}}{100}\\, dy = \\frac{\\pi}{500}$"
      ],
      "text/plain": [
       "Eq(pi*Integral(y**4/100, (y, 0, 1)), pi/500)"
      ]
     },
     "metadata": {},
     "output_type": "display_data"
    },
    {
     "name": "stdout",
     "output_type": "stream",
     "text": [
      "----------------------------------------------------------------------------------------------------\n"
     ]
    }
   ],
   "source": [
    "def specialPlot(p, name=\"\"):\n",
    "    x, y= symbols('x y')\n",
    "    plot_implicit(sympy.And(y**2 < 2*p*x, x < p/2), (x, 0, p/2+0.1), (y, 0, p+0.1), title=name)\n",
    "    \n",
    "    x = y**2 / (2 * p)\n",
    "    V = Pi*Integral(x**2, (y, 0, 1))\n",
    "    display(sympy.Eq(V, V.doit()))\n",
    "    print(\"-\"*100)\n",
    "\n",
    "specialPlot(0.1, \"p = 0.1\")\n",
    "specialPlot(1, \"p = 1\")\n",
    "specialPlot(3, \"p = 3\")\n",
    "specialPlot(5, \"p = 5\")"
   ]
  },
  {
   "cell_type": "markdown",
   "metadata": {},
   "source": [
    "### Задание 5.\n",
    "Вычислить объем тела, образованного вращением около оси ОY фигуры, ограниченной $y = e^x $, прямой $y=e$, и прямой $y = e^2$. "
   ]
  },
  {
   "cell_type": "code",
   "execution_count": 3,
   "metadata": {},
   "outputs": [
    {
     "data": {
      "image/png": "[encoded data removed]",
      "text/plain": [
       "<Figure size 432x288 with 1 Axes>"
      ]
     },
     "metadata": {
      "needs_background": "light"
     },
     "output_type": "display_data"
    },
    {
     "data": {
      "text/latex": [
       "$\\displaystyle \\pi \\int\\limits_{e}^{e^{2}} \\log{\\left(y \\right)}^{2}\\, dy = \\pi \\left(- e + 2 e^{2}\\right)$"
      ],
      "text/plain": [
       "Eq(pi*Integral(log(y)**2, (y, E, exp(2))), pi*(-E + 2*exp(2)))"
      ]
     },
     "metadata": {},
     "output_type": "display_data"
    }
   ],
   "source": [
    "x, y= symbols('x y')\n",
    "plot_implicit(sympy.And(y**2 < sympy.E**x, 1 < x, x < 2), (x, 0.9, 2.1), (y, 0, 3))\n",
    "\n",
    "x = Log(y)\n",
    "V = Pi*Integral(x**2, (y, sympy.E, sympy.E**2))\n",
    "display(sympy.Eq(V, V.doit()))"
   ]
  },
  {
   "cell_type": "markdown",
   "metadata": {},
   "source": [
    "### Индивидуальное задание\n",
    "Вычислить объем тела, образованного при вращении области между графиками функций \n",
    "$f_1(x)$ и  $f_2(x)$. "
   ]
  },
  {
   "cell_type": "markdown",
   "metadata": {},
   "source": [
    "Не открывается файл в LMS."
   ]
  },
  {
   "cell_type": "code",
   "execution_count": null,
   "metadata": {},
   "outputs": [],
   "source": [
    "# Вот в общем виде.\n",
    "x = Symbol('x')\n",
    "\n",
    "f1 = x**2\n",
    "f2 = x\n",
    "\n",
    "y = f1 - f2\n",
    "V = Pi*Integral(y**2, (x, 0, Pi))\n",
    "display(sympy.Eq(V, V.doit()))"
   ]
  }
 ],
 "metadata": {
  "kernelspec": {
   "display_name": "Python 3",
   "language": "python",
   "name": "python3"
  },
  "language_info": {
   "codemirror_mode": {
    "name": "ipython",
    "version": 3
   },
   "file_extension": ".py",
   "mimetype": "text/x-python",
   "name": "python",
   "nbconvert_exporter": "python",
   "pygments_lexer": "ipython3",
   "version": "3.8.1"
  }
 },
 "nbformat": 4,
 "nbformat_minor": 4
}
