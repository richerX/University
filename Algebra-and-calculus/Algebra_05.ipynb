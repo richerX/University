{
 "cells": [
  {
   "cell_type": "code",
   "execution_count": 2,
   "metadata": {},
   "outputs": [],
   "source": [
    "import sympy\n",
    "from sympy import linsolve, Matrix, S, Symbol, symbols, linear_eq_to_matrix, Eq, zeros"
   ]
  },
  {
   "cell_type": "markdown",
   "metadata": {},
   "source": [
    "# Занятие 5\n",
    "# Алгебра\n",
    "\n",
    "##  Прямые и плоскости в пространстве. Уравнения прямых и  плоскостей.\n",
    "### Задание 1.\n",
    "Определить, пересекаются ли плоскости (все сразу). Если пересекаются, найти точку пересечения.\n",
    "\n",
    "Составить СЛАУ в виде списка уравнений, решить с помощью linsolve.\n",
    "\n",
    "$-8x+5y-2z+28=0$\n",
    "\n",
    "$-11x-10y-16z+71=0$\n",
    "\n",
    "$-7x+3y+8z-27=0$."
   ]
  },
  {
   "cell_type": "code",
   "execution_count": 11,
   "metadata": {},
   "outputs": [
    {
     "data": {
      "text/latex": [
       "$\\displaystyle \\left\\{\\left( -1, \\  2, \\  -5\\right)\\right\\}$"
      ],
      "text/plain": [
       "FiniteSet((-1, 2, -5))"
      ]
     },
     "execution_count": 11,
     "metadata": {},
     "output_type": "execute_result"
    }
   ],
   "source": [
    "matrix = Matrix([[-8, 5, -2, 28], [-11, -10, -16, 71], [-7, 3, 8, -27]])\n",
    "linsolve(matrix)"
   ]
  },
  {
   "cell_type": "markdown",
   "metadata": {},
   "source": [
    "### Задание 2.\n",
    "Найти точку пересечения прямой, проходящей через точки $A(-3,5,1)$ и $B(5,2,-3)$ и плоскости, в которой лежат точки \n",
    "$K(4,3,0)$, $M(2,4,-2)$ и $N(-2,2,-1)$."
   ]
  },
  {
   "cell_type": "code",
   "execution_count": 4,
   "metadata": {},
   "outputs": [
    {
     "data": {
      "text/plain": [
       "'Уравнение плоскости'"
      ]
     },
     "metadata": {},
     "output_type": "display_data"
    },
    {
     "data": {
      "text/latex": [
       "$\\displaystyle - 3 x + 10 y + 8 z - 18 = 0$"
      ],
      "text/plain": [
       "Eq(-3*x + 10*y + 8*z - 18, 0)"
      ]
     },
     "metadata": {},
     "output_type": "display_data"
    },
    {
     "name": "stdout",
     "output_type": "stream",
     "text": [
      "\n"
     ]
    },
    {
     "data": {
      "text/plain": [
       "'Точки прямой'"
      ]
     },
     "metadata": {},
     "output_type": "display_data"
    },
    {
     "data": {
      "text/latex": [
       "$\\displaystyle \\left[\\begin{matrix}8 k - 3\\\\5 - 3 k\\\\1 - 4 k\\end{matrix}\\right]$"
      ],
      "text/plain": [
       "Matrix([\n",
       "[8*k - 3],\n",
       "[5 - 3*k],\n",
       "[1 - 4*k]])"
      ]
     },
     "metadata": {},
     "output_type": "display_data"
    },
    {
     "name": "stdout",
     "output_type": "stream",
     "text": [
      "\n"
     ]
    },
    {
     "data": {
      "text/plain": [
       "'Ищем k'"
      ]
     },
     "metadata": {},
     "output_type": "display_data"
    },
    {
     "data": {
      "text/latex": [
       "$\\displaystyle 49 - 86 k = 0$"
      ],
      "text/plain": [
       "Eq(49 - 86*k, 0)"
      ]
     },
     "metadata": {},
     "output_type": "display_data"
    },
    {
     "name": "stdout",
     "output_type": "stream",
     "text": [
      "\n"
     ]
    },
    {
     "data": {
      "text/plain": [
       "'Точка пересечения'"
      ]
     },
     "metadata": {},
     "output_type": "display_data"
    },
    {
     "data": {
      "text/latex": [
       "$\\displaystyle \\left[\\begin{matrix}1.55813953488372\\\\3.2906976744186\\\\-1.27906976744186\\end{matrix}\\right]$"
      ],
      "text/plain": [
       "Matrix([\n",
       "[ 1.55813953488372],\n",
       "[  3.2906976744186],\n",
       "[-1.27906976744186]])"
      ]
     },
     "metadata": {},
     "output_type": "display_data"
    }
   ],
   "source": [
    "x, y, z, k = symbols(\"x y z k\")\n",
    "\n",
    "P1 = Matrix([4, 3, 0])\n",
    "P2 = Matrix([2, 4, -2])\n",
    "P3 = Matrix([-2, 2, -1])\n",
    "V1 = P2 - P1\n",
    "V2 = P3 - P1\n",
    "matrix = Matrix([x - 4, y - 3, z])\n",
    "matrix = matrix.row_join(V1).row_join(V2)\n",
    "display(\"Уравнение плоскости\", Eq(matrix.det(), 0))\n",
    "print()\n",
    "\n",
    "P4 = Matrix([-3, 5, 1])\n",
    "P5 = Matrix([5, 2, -3])\n",
    "V3 = P5 - P4\n",
    "display(\"Точки прямой\", P4 + V3 * k)\n",
    "print()\n",
    "\n",
    "display(\"Ищем k\", Eq(-3*(8*k-3) + 10*(5-3*k) + 8*(1-4*k) - 18, 0))\n",
    "print()\n",
    "\n",
    "k = 49 / 86\n",
    "display(\"Точка пересечения\", P4 + V3 * k)"
   ]
  },
  {
   "cell_type": "markdown",
   "metadata": {},
   "source": [
    "### Задание 3.\n",
    "Составить параметрические уравнения прямой, являющейся линией пересечения плоскостей $𝑦+2𝑧−4=0$ и $4𝑥+3𝑦+2𝑧−4=0$. \n",
    "\n",
    "Указание: составить СЛАУ из уравнений плоскостей, воспользоваться linsolve(), заменить переменную в полученном решении на параметр t и составить СЛАУ из параметрических уравнений."
   ]
  },
  {
   "cell_type": "code",
   "execution_count": 4,
   "metadata": {},
   "outputs": [
    {
     "data": {
      "text/latex": [
       "$\\displaystyle \\left[\\begin{matrix}x = t + 2\\\\y = - 2 t - 4\\\\z = t\\end{matrix}\\right]$"
      ],
      "text/plain": [
       "Matrix([\n",
       "[   Eq(x, t + 2)],\n",
       "[Eq(y, -2*t - 4)],\n",
       "[       Eq(z, t)]])"
      ]
     },
     "metadata": {},
     "output_type": "display_data"
    }
   ],
   "source": [
    "x, y, z, t = symbols(\"x y z t\")\n",
    "matrix = Matrix([[0, 1, 2, -4], [4, 3, 2, -4]])\n",
    "answer = linsolve(matrix, (x, y, z)).subs({z:t})\n",
    "\n",
    "equations = Matrix([Eq(x, t + 2), Eq(y, -2*t-4), Eq(z, t)])\n",
    "display(equations)"
   ]
  },
  {
   "cell_type": "markdown",
   "metadata": {},
   "source": [
    "###  Задание 4.\n",
    "Прямая задана параметрическими уравнениями:\n",
    "$$\n",
    "\\left\\{\\begin{matrix}\n",
    "x=2+5t\\\\\n",
    "y=-1-2t\\\\\n",
    "z=4-3t\n",
    "\\end{matrix}\\right..\n",
    "$$\n",
    "Представить прямую в виде линии пересечения двух плоскостей, одна из которых проходит через начало координат, а вторая плоскость перпендикулярна первой плоскости. Вывести на экран уравнения плоскостей.\n",
    "\n",
    "Указание: составить параметрические уравнения прямой в виде списка правых частей уравнений, затем по образцу Примера 5 составить уравнение плоскости, проходящей через начало координат (по трем точкам). Для составления второй плоскости заметим, что вектор нормали к первой плоскости и любой вектор прямой параллельны второй плоскости, поэтому можно применить формулу 4 уравнения плоскости.\n",
    "Вектор нормали можно составить вручную, глядя на уравнение первой плоскости."
   ]
  },
  {
   "cell_type": "code",
   "execution_count": 39,
   "metadata": {},
   "outputs": [
    {
     "data": {
      "text/latex": [
       "$\\displaystyle 11 x + 26 y + z = 0$"
      ],
      "text/plain": [
       "Eq(11*x + 26*y + z, 0)"
      ]
     },
     "metadata": {},
     "output_type": "display_data"
    },
    {
     "data": {
      "text/latex": [
       "$\\displaystyle - 76 x + 38 y - 152 z + 798 = 0$"
      ],
      "text/plain": [
       "Eq(-76*x + 38*y - 152*z + 798, 0)"
      ]
     },
     "metadata": {},
     "output_type": "display_data"
    }
   ],
   "source": [
    "x, y, z, t = symbols('x y z t')\n",
    "\n",
    "O = zeros(3, 1)\n",
    "X = Matrix([x, y, z])\n",
    "AB = Matrix([2, -1, 4]) + t * Matrix([5, -2, -3])\n",
    "M1 = AB.subs(t, 0)\n",
    "M2 = AB.subs(t, 1)\n",
    "display(Eq(Matrix([(P - M1).T for P in (X, M2, O)]).det(), 0))\n",
    "\n",
    "V1 = Matrix([-5, 2, 3]) # вектор прямой\n",
    "V2 = Matrix([11, 26, 1]) # вектор нормали\n",
    "matrix = Matrix([x - 2, y + 1, z - 4])  # (2, -1, 4) - точка плоскости №2\n",
    "matrix = matrix.row_join(V1).row_join(V2)\n",
    "display(Eq(matrix.det(), 0))"
   ]
  },
  {
   "cell_type": "markdown",
   "metadata": {},
   "source": [
    "### Индивидуальное задание\n",
    "Даны три точки А, В и С в пространстве. Составить уравнение плоскости АВС, систему параметрических уравнений прямой АВ и прямой АМ, перпендикулярной плоскости АВС."
   ]
  },
  {
   "cell_type": "markdown",
   "metadata": {},
   "source": [
    "Вариант N36\n",
    "A(8, -6, 4)\n",
    "B(11, -3, 6)\n",
    "C(13, -2, 9)"
   ]
  },
  {
   "cell_type": "code",
   "execution_count": 35,
   "metadata": {},
   "outputs": [
    {
     "data": {
      "text/plain": [
       "'Уравнение плоскости'"
      ]
     },
     "metadata": {},
     "output_type": "display_data"
    },
    {
     "data": {
      "text/latex": [
       "$\\displaystyle 7 x - 5 y - 3 z - 74 = 0$"
      ],
      "text/plain": [
       "Eq(7*x - 5*y - 3*z - 74, 0)"
      ]
     },
     "metadata": {},
     "output_type": "display_data"
    },
    {
     "name": "stdout",
     "output_type": "stream",
     "text": [
      "\n"
     ]
    },
    {
     "data": {
      "text/plain": [
       "'Уравнение прямой AB'"
      ]
     },
     "metadata": {},
     "output_type": "display_data"
    },
    {
     "name": "stdout",
     "output_type": "stream",
     "text": [
      "t = x/3 - 8/3 = y/3 + 2 = z/2 - 2\n"
     ]
    },
    {
     "data": {
      "text/latex": [
       "$\\displaystyle \\left[\\begin{matrix}x = 3 t + 8\\\\y = 3 t - 6\\\\z = 2 t + 4\\end{matrix}\\right]$"
      ],
      "text/plain": [
       "Matrix([\n",
       "[Eq(x, 3*t + 8)],\n",
       "[Eq(y, 3*t - 6)],\n",
       "[Eq(z, 2*t + 4)]])"
      ]
     },
     "metadata": {},
     "output_type": "display_data"
    },
    {
     "name": "stdout",
     "output_type": "stream",
     "text": [
      "\n"
     ]
    },
    {
     "data": {
      "text/plain": [
       "'Уравнение прямой AM'"
      ]
     },
     "metadata": {},
     "output_type": "display_data"
    },
    {
     "name": "stdout",
     "output_type": "stream",
     "text": [
      "t = x/7 - 8/7 = -y/5 - 6/5 = 4/3 - z/3\n"
     ]
    },
    {
     "data": {
      "text/latex": [
       "$\\displaystyle \\left[\\begin{matrix}x = 7 t + 8\\\\y = - 5 t - 6\\\\z = 4 - 3 t\\end{matrix}\\right]$"
      ],
      "text/plain": [
       "Matrix([\n",
       "[ Eq(x, 7*t + 8)],\n",
       "[Eq(y, -5*t - 6)],\n",
       "[ Eq(z, 4 - 3*t)]])"
      ]
     },
     "metadata": {},
     "output_type": "display_data"
    }
   ],
   "source": [
    "x, y, z, k = symbols(\"x y z k\")\n",
    "\n",
    "P1 = Matrix([8, -6, 4])\n",
    "P2 = Matrix([11, -3, 6])\n",
    "P3 = Matrix([13, -2, 9])\n",
    "matrix = Matrix([x - P1[0], y - P1[1], z - P1[2]])\n",
    "matrix = matrix.row_join(P2 - P1).row_join(P3 - P1)\n",
    "display(\"Уравнение плоскости\", Eq(matrix.det(), 0))\n",
    "print()\n",
    "\n",
    "V1 = P2 - P1\n",
    "display(\"Уравнение прямой AB\")\n",
    "print(f\"t = {(x-P1[0])/V1[0]} = {(y-P1[1])/V1[1]} = {(z-P1[2])/V1[2]}\")\n",
    "equations = Matrix([Eq(x, 3*t+8), Eq(y, 3*t-6), Eq(z, 2*t+4)])\n",
    "display(equations)\n",
    "print()\n",
    "\n",
    "V1 = Matrix([7, -5, -3])  # вектор перпендикулярный плоскости ABC\n",
    "display(\"Уравнение прямой AM\")\n",
    "print(f\"t = {(x-P1[0])/V1[0]} = {(y-P1[1])/V1[1]} = {(z-P1[2])/V1[2]}\")\n",
    "equations = Matrix([Eq(x, 7*t+8), Eq(y, -5*t-6), Eq(z, -3*t+4)])\n",
    "display(equations)"
   ]
  },
  {
   "cell_type": "code",
   "execution_count": null,
   "metadata": {},
   "outputs": [],
   "source": []
  }
 ],
 "metadata": {
  "kernelspec": {
   "display_name": "Python 3",
   "language": "python",
   "name": "python3"
  },
  "language_info": {
   "codemirror_mode": {
    "name": "ipython",
    "version": 3
   },
   "file_extension": ".py",
   "mimetype": "text/x-python",
   "name": "python",
   "nbconvert_exporter": "python",
   "pygments_lexer": "ipython3",
   "version": "3.8.1"
  }
 },
 "nbformat": 4,
 "nbformat_minor": 4
}
