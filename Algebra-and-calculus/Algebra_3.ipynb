{
  "cells": [
    {
      "cell_type": "code",
      "execution_count": null,
      "metadata": {
        "id": "g-LzuOdzFyir"
      },
      "outputs": [],
      "source": [
        "import sympy\n",
        "import numpy as np\n",
        "from sympy import Eq, plot_implicit, Matrix, plot, symbols\n",
        "from sympy.core import sympify\n",
        "from sympy.geometry.point import Point, Point2D, Point3D\n",
        "from sympy.geometry.line import Line\n",
        "from sympy.core.symbol import _symbol\n",
        "from sympy import pi as Pi\n",
        "from sympy import cos as Cos\n",
        "from sympy import sin as Sin\n",
        "from sympy.geometry.entity import GeometryEntity, GeometrySet\n",
        "import matplotlib.pyplot as plt"
      ]
    },
    {
      "cell_type": "markdown",
      "metadata": {
        "id": "QRgetO5HFyis"
      },
      "source": [
        "# Занятие 16\n",
        "# Алгебра\n",
        "## Кривые второго порядка на плоскости: парабола"
      ]
    },
    {
      "cell_type": "markdown",
      "metadata": {
        "id": "Rk-e2LcBFyit"
      },
      "source": [
        "### Задание 1\n",
        "Определить класс parabola по образцу класса ellipse.\n",
        "\n",
        "Реализовать атрибуты: \n",
        "\n",
        "параметр $p$,\n",
        "\n",
        "вершина (vertex) в виде точки Point\n",
        "\n",
        "фокус (focus) в виде точки Point\n",
        "\n",
        "угол angle по умолчанию 0 для параболы с осью, параллельной OX, \n",
        "а для параболы с осью, параллельной  OY angle = $\\pi/2$\n",
        "\n",
        "ось симметрии (axis_symmetry) в виде прямой Line\n",
        "\n",
        "директриса (directrix) в виде прямой Line\n",
        "\n",
        "Реализовать методы \n",
        "\n",
        "equation(self) - уравнение параболы,\n",
        "\n",
        "dir_equation(self) - уравнение директрисы,\n",
        "\n",
        "ax_sym_equation(self) - уравнение оси симметрии,\n",
        "\n",
        "rotate(self, angle) - поворот на угол angle против часовой стрелки, метод не изменяет параболу, а возвращает параболу с теми же p и вершиной, но угол увеличен на angle по сравнению с исходной параболой. \n",
        "\n",
        "В конструкторе экземпляра класса  \n",
        "\n",
        "__new__(cls, p, vertex=None, angle=None)\n",
        "\n",
        "p - обязательный параметр, а вид параболы по умолчанию  - парабола с осью, параллельной оси OX,\n",
        "вершина по умолчанию в начале координат."
      ]
    },
    {
      "cell_type": "code",
      "execution_count": null,
      "metadata": {
        "id": "0URwYomBFyit"
      },
      "outputs": [],
      "source": [
        "class Parabola(GeometrySet):\n",
        "    def __new__(cls, p, vertex=None, angle=None):\n",
        "        if vertex is None:\n",
        "            vertex = Point(0, 0)\n",
        "        else:\n",
        "            vertex = Point(vertex, dim=2)\n",
        "            \n",
        "        if angle is None:\n",
        "            angle = 0\n",
        "        else:\n",
        "            angle = angle\n",
        "        \n",
        "        return GeometryEntity.__new__(cls, p, vertex, angle)\n",
        "    \n",
        "    '''\n",
        "    + параметр p\n",
        "    + вершина (vertex) в виде точки Point\n",
        "    + фокус (focus) в виде точки Point\n",
        "    + угол angle по умолчанию 0 для параболы с осью, параллельной OX, а для параболы с осью, параллельной  OY angle = $\\pi/2$\n",
        "    + ось симметрии (axis_symmetry) в виде прямой Line\n",
        "    + директриса (directrix) в виде прямой Line\n",
        "    '''\n",
        "    @property\n",
        "    def p(self):\n",
        "        return self.args[0]\n",
        "    \n",
        "    @property\n",
        "    def vertex(self):\n",
        "        return self.args[1]\n",
        "    \n",
        "    @property\n",
        "    def angle(self):\n",
        "        return self.args[2]\n",
        "    \n",
        "    @property\n",
        "    def focus(self):\n",
        "        if self.angle == 0:\n",
        "            return Point(0, self.p/2)\n",
        "        return Point(self.p/2, 0)\n",
        "    \n",
        "    @property\n",
        "    def axis_symmetry(self):\n",
        "        return Line(self.vertex, self.focus)\n",
        "    \n",
        "    @property\n",
        "    def directrix(self):\n",
        "        if self.angle == 0:\n",
        "            p1 = Point(0, -self.p/2)\n",
        "            p2 = Point(1, -self.p/2)\n",
        "        else:\n",
        "            p1 = Point(-self.p/2, 0)\n",
        "            p2 = Point(-self.p/2, 1)\n",
        "        return Line(p1, p2)\n",
        "    \n",
        "    '''\n",
        "    + equation(self) - уравнение параболы\n",
        "    + dir_equation(self) - уравнение директрисы,\n",
        "    + ax_sym_equation(self) - уравнение оси симметрии,\n",
        "    + rotate(self, angle) - поворот на угол angle против часовой стрелки, метод не изменяет параболу, \n",
        "    + а возвращает параболу с теми же p и вершиной, но угол увеличен на angle по сравнению с исходной параболой. \n",
        "    '''\n",
        "    \n",
        "    def equation(self):\n",
        "        x = _symbol(\"x\", real=True)\n",
        "        y = _symbol(\"y\", real=True)\n",
        "        return Eq(y**2, 2*self.p*x)\n",
        "    \n",
        "    def dir_equation(self):\n",
        "        return Eq(self.directrix.equation(), 0)\n",
        "    \n",
        "    def ax_sym_equation(self):\n",
        "        return Eq(self.axis_symmetry.equation(), 0)\n",
        "    \n",
        "    def rotate(self, angle):\n",
        "        return Parabola(self.p, self.vertex, self.angle + angle)"
      ]
    },
    {
      "cell_type": "markdown",
      "metadata": {
        "id": "9JDvJ3NKFyiu"
      },
      "source": [
        "### Задание 2\n",
        "Построить параболу с $p = 3$, вершиной в (-5, 2), осью симметрии, образующей угол $\\pi/4$ с положительным направлением оси ОХ. Вывести на экран ее параметр p, вершину, угол, фокус, ось симметрии и директрису, а также уравнение параболы, оси симметрии и директрисы. "
      ]
    },
    {
      "cell_type": "code",
      "execution_count": null,
      "metadata": {
        "id": "LbCHGlGQFyiu",
        "outputId": "0bef35b6-786c-40e6-f989-6d13ad6a29d9"
      },
      "outputs": [
        {
          "data": {
            "text/plain": [
              "'p'"
            ]
          },
          "metadata": {},
          "output_type": "display_data"
        },
        {
          "data": {
            "text/latex": [
              "$\\displaystyle 3$"
            ],
            "text/plain": [
              "3"
            ]
          },
          "metadata": {},
          "output_type": "display_data"
        },
        {
          "name": "stdout",
          "output_type": "stream",
          "text": [
            "\n"
          ]
        },
        {
          "data": {
            "text/plain": [
              "'vertex'"
            ]
          },
          "metadata": {},
          "output_type": "display_data"
        },
        {
          "data": {
            "text/latex": [
              "$\\displaystyle Point2D\\left(-5, 2\\right)$"
            ],
            "text/plain": [
              "Point2D(-5, 2)"
            ]
          },
          "metadata": {},
          "output_type": "display_data"
        },
        {
          "name": "stdout",
          "output_type": "stream",
          "text": [
            "\n"
          ]
        },
        {
          "data": {
            "text/plain": [
              "'angle'"
            ]
          },
          "metadata": {},
          "output_type": "display_data"
        },
        {
          "data": {
            "text/latex": [
              "$\\displaystyle \\frac{\\pi}{4}$"
            ],
            "text/plain": [
              "pi/4"
            ]
          },
          "metadata": {},
          "output_type": "display_data"
        },
        {
          "name": "stdout",
          "output_type": "stream",
          "text": [
            "\n"
          ]
        },
        {
          "data": {
            "text/plain": [
              "'focus'"
            ]
          },
          "metadata": {},
          "output_type": "display_data"
        },
        {
          "data": {
            "text/latex": [
              "$\\displaystyle Point2D\\left(\\frac{3}{2}, 0\\right)$"
            ],
            "text/plain": [
              "Point2D(3/2, 0)"
            ]
          },
          "metadata": {},
          "output_type": "display_data"
        },
        {
          "name": "stdout",
          "output_type": "stream",
          "text": [
            "\n"
          ]
        },
        {
          "data": {
            "text/plain": [
              "'axis_symmetry'"
            ]
          },
          "metadata": {},
          "output_type": "display_data"
        },
        {
          "data": {
            "image/svg+xml": [
              "<svg xmlns=\"http://www.w3.org/2000/svg\"\n",
              "            xmlns:xlink=\"http://www.w3.org/1999/xlink\"\n",
              "            width=\"100.0\" height=\"100.0\" viewBox=\"-5.65000000000000 -0.650000000000000 7.80000000000000 3.30000000000000\"\n",
              "            preserveAspectRatio=\"xMinYMin meet\">\n",
              "            <defs>\n",
              "                <marker id=\"markerCircle\" markerWidth=\"8\" markerHeight=\"8\"\n",
              "                    refx=\"5\" refy=\"5\" markerUnits=\"strokeWidth\">\n",
              "                    <circle cx=\"5\" cy=\"5\" r=\"1.5\" style=\"stroke: none; fill:#000000;\"/>\n",
              "                </marker>\n",
              "                <marker id=\"markerArrow\" markerWidth=\"13\" markerHeight=\"13\" refx=\"2\" refy=\"4\"\n",
              "                       orient=\"auto\" markerUnits=\"strokeWidth\">\n",
              "                    <path d=\"M2,2 L2,6 L6,4\" style=\"fill: #000000;\" />\n",
              "                </marker>\n",
              "                <marker id=\"markerReverseArrow\" markerWidth=\"13\" markerHeight=\"13\" refx=\"6\" refy=\"4\"\n",
              "                       orient=\"auto\" markerUnits=\"strokeWidth\">\n",
              "                    <path d=\"M6,2 L6,6 L2,4\" style=\"fill: #000000;\" />\n",
              "                </marker>\n",
              "            </defs><g transform=\"matrix(1,0,0,-1,0,2.00000000000000)\"><path fill-rule=\"evenodd\" fill=\"#66cc99\" stroke=\"#555555\" stroke-width=\"0.156000000000000\" opacity=\"0.6\" d=\"M -5.00000000000000,2.00000000000000 L 1.50000000000000,0\" marker-start=\"url(#markerReverseArrow)\" marker-end=\"url(#markerArrow)\"/></g></svg>"
            ],
            "text/latex": [
              "$\\displaystyle Line2D\\left(Point2D\\left(-5, 2\\right), Point2D\\left(\\frac{3}{2}, 0\\right)\\right)$"
            ],
            "text/plain": [
              "Line2D(Point2D(-5, 2), Point2D(3/2, 0))"
            ]
          },
          "metadata": {},
          "output_type": "display_data"
        },
        {
          "name": "stdout",
          "output_type": "stream",
          "text": [
            "\n"
          ]
        },
        {
          "data": {
            "text/plain": [
              "'directrix'"
            ]
          },
          "metadata": {},
          "output_type": "display_data"
        },
        {
          "data": {
            "image/svg+xml": [
              "<svg xmlns=\"http://www.w3.org/2000/svg\"\n",
              "            xmlns:xlink=\"http://www.w3.org/1999/xlink\"\n",
              "            width=\"100.0\" height=\"100.0\" viewBox=\"-1.60000000000000 -0.100000000000000 0.200000000000000 1.20000000000000\"\n",
              "            preserveAspectRatio=\"xMinYMin meet\">\n",
              "            <defs>\n",
              "                <marker id=\"markerCircle\" markerWidth=\"8\" markerHeight=\"8\"\n",
              "                    refx=\"5\" refy=\"5\" markerUnits=\"strokeWidth\">\n",
              "                    <circle cx=\"5\" cy=\"5\" r=\"1.5\" style=\"stroke: none; fill:#000000;\"/>\n",
              "                </marker>\n",
              "                <marker id=\"markerArrow\" markerWidth=\"13\" markerHeight=\"13\" refx=\"2\" refy=\"4\"\n",
              "                       orient=\"auto\" markerUnits=\"strokeWidth\">\n",
              "                    <path d=\"M2,2 L2,6 L6,4\" style=\"fill: #000000;\" />\n",
              "                </marker>\n",
              "                <marker id=\"markerReverseArrow\" markerWidth=\"13\" markerHeight=\"13\" refx=\"6\" refy=\"4\"\n",
              "                       orient=\"auto\" markerUnits=\"strokeWidth\">\n",
              "                    <path d=\"M6,2 L6,6 L2,4\" style=\"fill: #000000;\" />\n",
              "                </marker>\n",
              "            </defs><g transform=\"matrix(1,0,0,-1,0,1.00000000000000)\"><path fill-rule=\"evenodd\" fill=\"#66cc99\" stroke=\"#555555\" stroke-width=\"0.0240000000000000\" opacity=\"0.6\" d=\"M -1.50000000000000,0 L -1.50000000000000,1.00000000000000\" marker-start=\"url(#markerReverseArrow)\" marker-end=\"url(#markerArrow)\"/></g></svg>"
            ],
            "text/latex": [
              "$\\displaystyle Line2D\\left(Point2D\\left(- \\frac{3}{2}, 0\\right), Point2D\\left(- \\frac{3}{2}, 1\\right)\\right)$"
            ],
            "text/plain": [
              "Line2D(Point2D(-3/2, 0), Point2D(-3/2, 1))"
            ]
          },
          "metadata": {},
          "output_type": "display_data"
        },
        {
          "name": "stdout",
          "output_type": "stream",
          "text": [
            "\n"
          ]
        },
        {
          "data": {
            "text/plain": [
              "'equation'"
            ]
          },
          "metadata": {},
          "output_type": "display_data"
        },
        {
          "data": {
            "text/latex": [
              "$\\displaystyle y^{2} = 6 x$"
            ],
            "text/plain": [
              "Eq(y**2, 6*x)"
            ]
          },
          "metadata": {},
          "output_type": "display_data"
        },
        {
          "name": "stdout",
          "output_type": "stream",
          "text": [
            "\n"
          ]
        },
        {
          "data": {
            "text/plain": [
              "'dir_equation'"
            ]
          },
          "metadata": {},
          "output_type": "display_data"
        },
        {
          "data": {
            "text/latex": [
              "$\\displaystyle x + \\frac{3}{2} = 0$"
            ],
            "text/plain": [
              "Eq(x + 3/2, 0)"
            ]
          },
          "metadata": {},
          "output_type": "display_data"
        },
        {
          "name": "stdout",
          "output_type": "stream",
          "text": [
            "\n"
          ]
        },
        {
          "data": {
            "text/plain": [
              "'ax_sym_equation'"
            ]
          },
          "metadata": {},
          "output_type": "display_data"
        },
        {
          "data": {
            "text/latex": [
              "$\\displaystyle 2 x + \\frac{13 y}{2} - 3 = 0$"
            ],
            "text/plain": [
              "Eq(2*x + 13*y/2 - 3, 0)"
            ]
          },
          "metadata": {},
          "output_type": "display_data"
        },
        {
          "name": "stdout",
          "output_type": "stream",
          "text": [
            "\n"
          ]
        }
      ],
      "source": [
        "parabola = Parabola(3, Point(-5, 2), Pi/4)\n",
        "props = {'p': parabola.p, 'vertex': parabola.vertex, 'angle': parabola.angle,\n",
        "         'focus': parabola.focus, 'axis_symmetry': parabola.axis_symmetry, 'directrix': parabola.directrix,\n",
        "         'equation': parabola.equation(), 'dir_equation': parabola.dir_equation(), 'ax_sym_equation': parabola.ax_sym_equation()}\n",
        "for key in props:\n",
        "    display(key, props[key])\n",
        "    print()"
      ]
    },
    {
      "cell_type": "markdown",
      "metadata": {
        "id": "0VeHjJGFFyiv"
      },
      "source": [
        "### Индивидуальное задание\n",
        "Построить параболу, построить другую параболу путем поворота исходной параболы на $\\alpha$.\n",
        "\n",
        "Использовать уравнения повернутой параболы, ее оси симметрии и директрисы для построения графиков в одной координатной плоскости. \n",
        "\n",
        "Цвета параболы, оси симметрии, директрисы индивидуальные, название графика Парабола, подписи осей $x$ и $y$."
      ]
    },
    {
      "cell_type": "code",
      "execution_count": null,
      "metadata": {
        "id": "4bLweq5rFyiv"
      },
      "outputs": [],
      "source": [
        "#  В ЛМС НЕТ 16-ОГО ИДЗ. ТУТ РЕШЕНИЕ В ОБЩЕМ ВИДЕ.\n",
        "\n",
        "from sympy.abc import x, y\n",
        "def parabola_y(p, x):\n",
        "    return x**2/(2*p)\n",
        "\n",
        "# Ввод перменных\n",
        "p0 = 2\n",
        "alpha = np.pi/6\n",
        "A = Matrix([[np.cos(alpha), - np.sin(alpha)], [np.sin(alpha), np.cos(alpha)]])\n",
        "\n",
        "# Создание графика\n",
        "ax = plt.gca()\n",
        "X = np.linspace(-3, 3)\n",
        "Y = parabola_y(p0, X)\n",
        "XY = Matrix((X, Y))\n",
        "XY_new = A*XY\n",
        "\n",
        "# Создание директрис\n",
        "directrix = Matrix(([-3, 3], [-p0/2, -p0/2]))\n",
        "directrix_new = A*directrix\n",
        "X1 = list(XY_new[0, :])\n",
        "Y1 = list(XY_new[1, :])\n",
        "directrixX1 = list(directrix_new[0, :])\n",
        "directrixY1 = list(directrix_new[1, :])\n",
        "\n",
        "# Рисование графиков\n",
        "ax.plot(X, Y, color='m', label=sympy.latex(Eq(y, parabola_y(p0, x)), mode='inline'))\n",
        "ax.plot(X1, Y1, color='g', label=sympy.latex(sympy.pi/6, mode='inline'))\n",
        "ax.axhline(y=-p0/2, color='m', linestyle='--')\n",
        "ax.plot(directrixX1, directrixY1, color='g', linestyle='--')\n",
        "\n",
        "# Подписи\n",
        "ax.spines['right'].set_color('none') # Правая сторона рамки стала бесцветной, но не исчезла!\n",
        "ax.spines['top'].set_color('none')\n",
        "ax.spines['bottom'].set_position(('data', 0)) # Нижняя сторона рамки переместилась в начало координат\n",
        "ax.spines['left'].set_position(('data', 0))\n",
        "ax.legend(loc='best')\n",
        "ax.set_xlabel('x')\n",
        "ax.set_ylabel('y')"
      ]
    },
    {
      "cell_type": "code",
      "execution_count": null,
      "metadata": {
        "id": "of5IYjCgFyiv"
      },
      "outputs": [],
      "source": []
    }
  ],
  "metadata": {
    "kernelspec": {
      "display_name": "Python 3",
      "language": "python",
      "name": "python3"
    },
    "language_info": {
      "codemirror_mode": {
        "name": "ipython",
        "version": 3
      },
      "file_extension": ".py",
      "mimetype": "text/x-python",
      "name": "python",
      "nbconvert_exporter": "python",
      "pygments_lexer": "ipython3",
      "version": "3.8.1"
    },
    "colab": {
      "provenance": []
    }
  },
  "nbformat": 4,
  "nbformat_minor": 0
}